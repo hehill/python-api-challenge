{
 "cells": [
  {
   "cell_type": "markdown",
   "source": [
    "# WeatherPy\n",
    "----\n",
    "\n",
    "#### Note\n",
    "* Instructions have been included for each segment. You do not have to follow them exactly, but they are included to help you think through the steps."
   ],
   "metadata": {}
  },
  {
   "cell_type": "code",
   "execution_count": 80,
   "source": [
    "# Dependencies and Setup\r\n",
    "import matplotlib.pyplot as plt\r\n",
    "import pandas as pd\r\n",
    "import numpy as np\r\n",
    "import requests\r\n",
    "import time\r\n",
    "from scipy.stats import linregress\r\n",
    "import json\r\n",
    "\r\n",
    "# Import API key\r\n",
    "from api_keys import weather_api_key\r\n",
    "\r\n",
    "# Incorporated citipy to determine city based on latitude and longitude\r\n",
    "from citipy import citipy\r\n",
    "\r\n",
    "# Output File (CSV)\r\n",
    "output_data_file = \"../output_data/cities.csv\"\r\n",
    "\r\n",
    "# Range of latitudes and longitudes\r\n",
    "lat_range = (-90, 90)\r\n",
    "lng_range = (-180, 180)"
   ],
   "outputs": [],
   "metadata": {
    "scrolled": true
   }
  },
  {
   "cell_type": "markdown",
   "source": [
    "## Generate Cities List"
   ],
   "metadata": {}
  },
  {
   "cell_type": "code",
   "execution_count": 81,
   "source": [
    "# List for holding lat_lngs and cities\r\n",
    "lat_lngs = []\r\n",
    "cities = []\r\n",
    "\r\n",
    "# Create a set of random lat and lng combinations\r\n",
    "lats = np.random.uniform(lat_range[0], lat_range[1], size=1500)\r\n",
    "lngs = np.random.uniform(lng_range[0], lng_range[1], size=1500)\r\n",
    "lat_lngs = zip(lats, lngs)\r\n",
    "\r\n",
    "# Identify nearest city for each lat, lng combination\r\n",
    "for lat_lng in lat_lngs:\r\n",
    "    city = citipy.nearest_city(lat_lng[0], lat_lng[1]).city_name\r\n",
    "    \r\n",
    "    # If the city is unique, then add it to a our cities list\r\n",
    "    if city not in cities:\r\n",
    "        cities.append(city)\r\n",
    "\r\n",
    "# Print the city count to confirm sufficient count\r\n",
    "len(cities)"
   ],
   "outputs": [
    {
     "output_type": "execute_result",
     "data": {
      "text/plain": [
       "615"
      ]
     },
     "metadata": {},
     "execution_count": 81
    }
   ],
   "metadata": {}
  },
  {
   "cell_type": "markdown",
   "source": [
    "### Perform API Calls\n",
    "* Perform a weather check on each city using a series of successive API calls.\n",
    "* Include a print log of each city as it'sbeing processed (with the city number and city name).\n"
   ],
   "metadata": {}
  },
  {
   "cell_type": "code",
   "execution_count": 82,
   "source": [
    "# Review weather API output\r\n",
    "url = \"http://api.openweathermap.org/data/2.5/weather?\"\r\n",
    "city = \"Cleveland, Ohio\"\r\n",
    "units = \"imperial\"\r\n",
    "\r\n",
    "query_url = f\"{url}appid={weather_api_key}&q={city}&units={units}\"\r\n",
    "\r\n",
    "weather_response = requests.get(query_url)\r\n",
    "weather_json = weather_response.json()\r\n",
    "print(json.dumps(weather_json, indent = 4, sort_keys = True))"
   ],
   "outputs": [
    {
     "output_type": "stream",
     "name": "stdout",
     "text": [
      "{\n",
      "    \"base\": \"stations\",\n",
      "    \"clouds\": {\n",
      "        \"all\": 75\n",
      "    },\n",
      "    \"cod\": 200,\n",
      "    \"coord\": {\n",
      "        \"lat\": 41.4995,\n",
      "        \"lon\": -81.6954\n",
      "    },\n",
      "    \"dt\": 1631581837,\n",
      "    \"id\": 5150529,\n",
      "    \"main\": {\n",
      "        \"feels_like\": 75.56,\n",
      "        \"humidity\": 85,\n",
      "        \"pressure\": 1017,\n",
      "        \"temp\": 74.43,\n",
      "        \"temp_max\": 77.22,\n",
      "        \"temp_min\": 69.03\n",
      "    },\n",
      "    \"name\": \"Cleveland\",\n",
      "    \"sys\": {\n",
      "        \"country\": \"US\",\n",
      "        \"id\": 3455,\n",
      "        \"sunrise\": 1631531125,\n",
      "        \"sunset\": 1631576404,\n",
      "        \"type\": 1\n",
      "    },\n",
      "    \"timezone\": -14400,\n",
      "    \"visibility\": 10000,\n",
      "    \"weather\": [\n",
      "        {\n",
      "            \"description\": \"broken clouds\",\n",
      "            \"icon\": \"04n\",\n",
      "            \"id\": 803,\n",
      "            \"main\": \"Clouds\"\n",
      "        }\n",
      "    ],\n",
      "    \"wind\": {\n",
      "        \"deg\": 70,\n",
      "        \"speed\": 5.75\n",
      "    }\n",
      "}\n"
     ]
    }
   ],
   "metadata": {}
  },
  {
   "cell_type": "code",
   "execution_count": 83,
   "source": [
    "max_temps = []\r\n",
    "humidities = []\r\n",
    "clouds = []\r\n",
    "wind_speeds = []\r\n",
    "\r\n",
    "dates = []\r\n",
    "lats = []\r\n",
    "lngs = []\r\n",
    "cities_found = []\r\n",
    "countries = []\r\n",
    "\r\n",
    "count = 0\r\n",
    "set_count = 1\r\n",
    "\r\n",
    "print(\"Beginning Data Retrieval\")\r\n",
    "print(\"---------------------------\")\r\n",
    "for city in cities:\r\n",
    "    try:\r\n",
    "        query_url = f\"{url}appid={weather_api_key}&q={city}&units={units}\"\r\n",
    "        response = requests.get(query_url).json()\r\n",
    "        max_temps.append(response['main']['temp_max'])\r\n",
    "        humidities.append(response['main']['humidity'])\r\n",
    "        clouds.append(response['clouds']['all'])\r\n",
    "        wind_speeds.append(response['wind']['speed'])\r\n",
    "        dates.append(response['dt'])\r\n",
    "        lats.append(response['coord']['lat'])\r\n",
    "        lngs.append(response['coord']['lon'])\r\n",
    "        countries.append(response['sys']['country'])\r\n",
    "        if count == 50:\r\n",
    "            count = 1\r\n",
    "            set_count += 1\r\n",
    "            cities_found.append(city)\r\n",
    "        else:\r\n",
    "            count +=1\r\n",
    "            cities_found.append(city)\r\n",
    "        print(f\"Processing Record {count} of Set {set_count} | {city}\")\r\n",
    "    except:\r\n",
    "        print(f\"{city} not found...\")\r\n",
    "\r\n",
    "print(\"---------------------------\")\r\n",
    "print(\"Data Retrieval Complete\")\r\n",
    "print(\"---------------------------\")"
   ],
   "outputs": [
    {
     "output_type": "stream",
     "name": "stdout",
     "text": [
      "Beginning Data Retrieval\n",
      "---------------------------\n",
      "Processing Record 1 of Set 1 | mataura\n",
      "Processing Record 2 of Set 1 | ushuaia\n",
      "Processing Record 3 of Set 1 | rudnogorsk\n",
      "Processing Record 4 of Set 1 | hilo\n",
      "Processing Record 5 of Set 1 | makaryev\n",
      "Processing Record 6 of Set 1 | saint-pierre\n",
      "phan rang not found...\n",
      "Processing Record 7 of Set 1 | bluff\n",
      "Processing Record 8 of Set 1 | punta arenas\n",
      "Processing Record 9 of Set 1 | qaanaaq\n",
      "Processing Record 10 of Set 1 | caravelas\n",
      "Processing Record 11 of Set 1 | saryozek\n",
      "Processing Record 12 of Set 1 | acarau\n",
      "Processing Record 13 of Set 1 | kapaa\n",
      "Processing Record 14 of Set 1 | tasiilaq\n",
      "skalistyy not found...\n",
      "Processing Record 15 of Set 1 | saint anthony\n",
      "Processing Record 16 of Set 1 | bela\n",
      "Processing Record 17 of Set 1 | albany\n",
      "Processing Record 18 of Set 1 | la crosse\n",
      "Processing Record 19 of Set 1 | ust-maya\n",
      "Processing Record 20 of Set 1 | jamestown\n",
      "Processing Record 21 of Set 1 | pacific grove\n",
      "Processing Record 22 of Set 1 | valley station\n",
      "Processing Record 23 of Set 1 | borascu\n",
      "Processing Record 24 of Set 1 | nakamura\n",
      "Processing Record 25 of Set 1 | rikitea\n",
      "Processing Record 26 of Set 1 | pevek\n",
      "Processing Record 27 of Set 1 | warrnambool\n",
      "Processing Record 28 of Set 1 | stornoway\n",
      "Processing Record 29 of Set 1 | kurilsk\n",
      "marcona not found...\n",
      "Processing Record 30 of Set 1 | muros\n",
      "Processing Record 31 of Set 1 | liverpool\n",
      "Processing Record 32 of Set 1 | cascais\n",
      "Processing Record 33 of Set 1 | port elizabeth\n",
      "Processing Record 34 of Set 1 | isangel\n",
      "Processing Record 35 of Set 1 | saint-denis\n",
      "Processing Record 36 of Set 1 | vaini\n",
      "Processing Record 37 of Set 1 | quatre cocos\n",
      "Processing Record 38 of Set 1 | alugan\n",
      "Processing Record 39 of Set 1 | cape town\n",
      "Processing Record 40 of Set 1 | ponta do sol\n",
      "Processing Record 41 of Set 1 | port alfred\n",
      "Processing Record 42 of Set 1 | laguna\n",
      "Processing Record 43 of Set 1 | severnyy\n",
      "Processing Record 44 of Set 1 | carnarvon\n",
      "taolanaro not found...\n",
      "Processing Record 45 of Set 1 | hermanus\n",
      "Processing Record 46 of Set 1 | nanortalik\n",
      "Processing Record 47 of Set 1 | chkalovskoye\n",
      "Processing Record 48 of Set 1 | victoria\n",
      "Processing Record 49 of Set 1 | oktyabrskoye\n",
      "Processing Record 50 of Set 1 | khuzdar\n",
      "tillabery not found...\n",
      "Processing Record 1 of Set 2 | upernavik\n",
      "Processing Record 2 of Set 2 | kawalu\n",
      "belushya guba not found...\n",
      "Processing Record 3 of Set 2 | hithadhoo\n",
      "Processing Record 4 of Set 2 | komsomolskiy\n",
      "Processing Record 5 of Set 2 | almaznyy\n",
      "Processing Record 6 of Set 2 | sorland\n",
      "Processing Record 7 of Set 2 | atuona\n",
      "Processing Record 8 of Set 2 | nelson bay\n",
      "Processing Record 9 of Set 2 | new norfolk\n",
      "Processing Record 10 of Set 2 | hami\n",
      "sentyabrskiy not found...\n",
      "Processing Record 11 of Set 2 | arraial do cabo\n",
      "Processing Record 12 of Set 2 | zhanakorgan\n",
      "Processing Record 13 of Set 2 | bambous virieux\n",
      "Processing Record 14 of Set 2 | carballo\n",
      "Processing Record 15 of Set 2 | booue\n",
      "Processing Record 16 of Set 2 | kodiak\n",
      "bolungarvik not found...\n",
      "Processing Record 17 of Set 2 | ribeira grande\n",
      "Processing Record 18 of Set 2 | sao joao da barra\n",
      "louisbourg not found...\n",
      "Processing Record 19 of Set 2 | mar del plata\n",
      "Processing Record 20 of Set 2 | avarua\n",
      "Processing Record 21 of Set 2 | mahebourg\n",
      "Processing Record 22 of Set 2 | ambilobe\n",
      "Processing Record 23 of Set 2 | puerto ayora\n",
      "Processing Record 24 of Set 2 | yining\n",
      "Processing Record 25 of Set 2 | gat\n",
      "Processing Record 26 of Set 2 | dingle\n",
      "Processing Record 27 of Set 2 | gazojak\n",
      "Processing Record 28 of Set 2 | cabo san lucas\n",
      "Processing Record 29 of Set 2 | barrow\n",
      "Processing Record 30 of Set 2 | bisira\n",
      "Processing Record 31 of Set 2 | busselton\n",
      "Processing Record 32 of Set 2 | prince george\n",
      "Processing Record 33 of Set 2 | hasaki\n",
      "Processing Record 34 of Set 2 | ligatne\n",
      "illoqqortoormiut not found...\n",
      "Processing Record 35 of Set 2 | dunedin\n",
      "Processing Record 36 of Set 2 | chebenki\n",
      "Processing Record 37 of Set 2 | iqaluit\n",
      "Processing Record 38 of Set 2 | malabo\n",
      "Processing Record 39 of Set 2 | sahbuz\n",
      "Processing Record 40 of Set 2 | chibuto\n",
      "Processing Record 41 of Set 2 | pramanta\n",
      "Processing Record 42 of Set 2 | atherton\n",
      "Processing Record 43 of Set 2 | lompoc\n",
      "Processing Record 44 of Set 2 | barcelos\n",
      "Processing Record 45 of Set 2 | byron bay\n",
      "Processing Record 46 of Set 2 | lebu\n",
      "Processing Record 47 of Set 2 | cayenne\n",
      "Processing Record 48 of Set 2 | nikolskoye\n",
      "Processing Record 49 of Set 2 | khash\n",
      "attawapiskat not found...\n",
      "Processing Record 50 of Set 2 | makakilo city\n",
      "Processing Record 1 of Set 3 | ust-ilimsk\n",
      "Processing Record 2 of Set 3 | kon tum\n",
      "Processing Record 3 of Set 3 | tuktoyaktuk\n",
      "Processing Record 4 of Set 3 | homer\n",
      "Processing Record 5 of Set 3 | qaqortoq\n",
      "Processing Record 6 of Set 3 | zhangjiakou\n",
      "Processing Record 7 of Set 3 | southbridge\n",
      "saleaula not found...\n",
      "Processing Record 8 of Set 3 | yellowknife\n",
      "Processing Record 9 of Set 3 | inuvik\n",
      "Processing Record 10 of Set 3 | saskylakh\n",
      "Processing Record 11 of Set 3 | saint-philippe\n",
      "gilgil not found...\n",
      "Processing Record 12 of Set 3 | yulara\n",
      "Processing Record 13 of Set 3 | grants pass\n",
      "Processing Record 14 of Set 3 | sao jose da coroa grande\n",
      "Processing Record 15 of Set 3 | mantua\n",
      "Processing Record 16 of Set 3 | sobolevo\n",
      "Processing Record 17 of Set 3 | guanambi\n",
      "Processing Record 18 of Set 3 | severo-kurilsk\n",
      "Processing Record 19 of Set 3 | naigarhi\n",
      "Processing Record 20 of Set 3 | kayes\n",
      "Processing Record 21 of Set 3 | touros\n",
      "Processing Record 22 of Set 3 | cadillac\n",
      "Processing Record 23 of Set 3 | sitka\n",
      "Processing Record 24 of Set 3 | zhigansk\n",
      "Processing Record 25 of Set 3 | chokurdakh\n",
      "Processing Record 26 of Set 3 | batagay\n",
      "Processing Record 27 of Set 3 | tiksi\n",
      "Processing Record 28 of Set 3 | monroe\n",
      "Processing Record 29 of Set 3 | hobart\n",
      "Processing Record 30 of Set 3 | hovd\n",
      "Processing Record 31 of Set 3 | thompson\n",
      "Processing Record 32 of Set 3 | butaritari\n",
      "Processing Record 33 of Set 3 | georgetown\n",
      "Processing Record 34 of Set 3 | merauke\n",
      "samalaeulu not found...\n",
      "Processing Record 35 of Set 3 | mount gambier\n",
      "Processing Record 36 of Set 3 | port macquarie\n",
      "Processing Record 37 of Set 3 | sabha\n",
      "Processing Record 38 of Set 3 | kahului\n",
      "Processing Record 39 of Set 3 | cidreira\n",
      "Processing Record 40 of Set 3 | tapiramuta\n",
      "Processing Record 41 of Set 3 | charleston\n",
      "Processing Record 42 of Set 3 | gamba\n",
      "Processing Record 43 of Set 3 | galveston\n",
      "Processing Record 44 of Set 3 | coihueco\n",
      "Processing Record 45 of Set 3 | deputatskiy\n",
      "Processing Record 46 of Set 3 | dikson\n",
      "Processing Record 47 of Set 3 | la macarena\n",
      "Processing Record 48 of Set 3 | cherskiy\n",
      "Processing Record 49 of Set 3 | chuy\n",
      "Processing Record 50 of Set 3 | bredasdorp\n",
      "Processing Record 1 of Set 4 | saint george\n",
      "grand river south east not found...\n",
      "Processing Record 2 of Set 4 | saldanha\n",
      "Processing Record 3 of Set 4 | natchez\n",
      "Processing Record 4 of Set 4 | mandalgovi\n",
      "Processing Record 5 of Set 4 | surat thani\n",
      "Processing Record 6 of Set 4 | castro\n",
      "Processing Record 7 of Set 4 | flinders\n",
      "Processing Record 8 of Set 4 | olocuilta\n",
      "Processing Record 9 of Set 4 | mumford\n",
      "Processing Record 10 of Set 4 | khatanga\n",
      "Processing Record 11 of Set 4 | riyadh\n",
      "Processing Record 12 of Set 4 | swan river\n",
      "Processing Record 13 of Set 4 | lavrentiya\n",
      "Processing Record 14 of Set 4 | tabou\n",
      "maloshuyka not found...\n",
      "Processing Record 15 of Set 4 | san juan bautista\n",
      "Processing Record 16 of Set 4 | manuk mangkaw\n",
      "Processing Record 17 of Set 4 | avera\n",
      "Processing Record 18 of Set 4 | high level\n",
      "Processing Record 19 of Set 4 | seoul\n",
      "Processing Record 20 of Set 4 | sinop\n",
      "Processing Record 21 of Set 4 | longyearbyen\n",
      "Processing Record 22 of Set 4 | narsaq\n",
      "Processing Record 23 of Set 4 | moose factory\n",
      "Processing Record 24 of Set 4 | pisco\n",
      "Processing Record 25 of Set 4 | sinnamary\n",
      "amderma not found...\n",
      "Processing Record 26 of Set 4 | berlevag\n",
      "Processing Record 27 of Set 4 | meulaboh\n",
      "meyungs not found...\n",
      "Processing Record 28 of Set 4 | bahia de caraquez\n",
      "Processing Record 29 of Set 4 | vao\n",
      "Processing Record 30 of Set 4 | norman wells\n",
      "Processing Record 31 of Set 4 | namtsy\n",
      "Processing Record 32 of Set 4 | qinzhou\n",
      "Processing Record 33 of Set 4 | francisco sa\n",
      "Processing Record 34 of Set 4 | maniago\n",
      "Processing Record 35 of Set 4 | pangody\n",
      "Processing Record 36 of Set 4 | luderitz\n",
      "Processing Record 37 of Set 4 | palmeira das missoes\n",
      "Processing Record 38 of Set 4 | codrington\n",
      "Processing Record 39 of Set 4 | bahia blanca\n",
      "Processing Record 40 of Set 4 | shemonaikha\n",
      "Processing Record 41 of Set 4 | bilibino\n",
      "Processing Record 42 of Set 4 | pastores\n",
      "Processing Record 43 of Set 4 | meadow lake\n",
      "barentsburg not found...\n",
      "Processing Record 44 of Set 4 | jackson\n",
      "ambodifototra not found...\n",
      "tarudant not found...\n",
      "talawdi not found...\n",
      "Processing Record 45 of Set 4 | sept-iles\n",
      "Processing Record 46 of Set 4 | ostrovnoy\n",
      "Processing Record 47 of Set 4 | arona\n",
      "Processing Record 48 of Set 4 | haapiti\n",
      "Processing Record 49 of Set 4 | sokoni\n",
      "Processing Record 50 of Set 4 | san patricio\n",
      "Processing Record 1 of Set 5 | kruisfontein\n",
      "Processing Record 2 of Set 5 | rio grande\n",
      "Processing Record 3 of Set 5 | mugan\n",
      "Processing Record 4 of Set 5 | rudbar\n",
      "Processing Record 5 of Set 5 | east london\n",
      "Processing Record 6 of Set 5 | skibbereen\n",
      "Processing Record 7 of Set 5 | kefamenanu\n",
      "Processing Record 8 of Set 5 | northam\n",
      "Processing Record 9 of Set 5 | itagiba\n",
      "Processing Record 10 of Set 5 | paamiut\n",
      "tsihombe not found...\n",
      "Processing Record 11 of Set 5 | nishihara\n",
      "Processing Record 12 of Set 5 | ukiah\n",
      "Processing Record 13 of Set 5 | esperance\n",
      "Processing Record 14 of Set 5 | aksu\n",
      "Processing Record 15 of Set 5 | sooke\n",
      "Processing Record 16 of Set 5 | aguimes\n",
      "Processing Record 17 of Set 5 | bosaso\n",
      "Processing Record 18 of Set 5 | san andres\n",
      "Processing Record 19 of Set 5 | kavaratti\n",
      "Processing Record 20 of Set 5 | puerto escondido\n",
      "Processing Record 21 of Set 5 | san quintin\n",
      "Processing Record 22 of Set 5 | nabire\n",
      "Processing Record 23 of Set 5 | chenghai\n",
      "Processing Record 24 of Set 5 | tuy hoa\n",
      "Processing Record 25 of Set 5 | andros town\n",
      "Processing Record 26 of Set 5 | olovyannaya\n",
      "Processing Record 27 of Set 5 | kiama\n",
      "Processing Record 28 of Set 5 | bengkulu\n",
      "Processing Record 29 of Set 5 | nouadhibou\n",
      "babanusah not found...\n",
      "Processing Record 30 of Set 5 | nemuro\n",
      "rawannawi not found...\n",
      "Processing Record 31 of Set 5 | borogontsy\n",
      "Processing Record 32 of Set 5 | acapulco\n",
      "Processing Record 33 of Set 5 | gaomi\n",
      "samusu not found...\n",
      "Processing Record 34 of Set 5 | itarema\n",
      "Processing Record 35 of Set 5 | jaypur\n",
      "Processing Record 36 of Set 5 | banjar\n",
      "Processing Record 37 of Set 5 | piacabucu\n",
      "Processing Record 38 of Set 5 | naze\n",
      "Processing Record 39 of Set 5 | whitecourt\n",
      "Processing Record 40 of Set 5 | kudahuvadhoo\n",
      "Processing Record 41 of Set 5 | port said\n",
      "Processing Record 42 of Set 5 | guozhen\n",
      "Processing Record 43 of Set 5 | nouakchott\n",
      "Processing Record 44 of Set 5 | katangli\n",
      "Processing Record 45 of Set 5 | campbellton\n",
      "phnum penh not found...\n",
      "Processing Record 46 of Set 5 | morgan city\n",
      "Processing Record 47 of Set 5 | jiayuguan\n",
      "Processing Record 48 of Set 5 | aklavik\n",
      "Processing Record 49 of Set 5 | midland\n",
      "Processing Record 50 of Set 5 | walvis bay\n",
      "Processing Record 1 of Set 6 | provideniya\n",
      "Processing Record 2 of Set 6 | sambava\n",
      "Processing Record 3 of Set 6 | margate\n",
      "Processing Record 4 of Set 6 | loandjili\n",
      "Processing Record 5 of Set 6 | buckingham\n",
      "Processing Record 6 of Set 6 | bac lieu\n",
      "Processing Record 7 of Set 6 | waingapu\n",
      "Processing Record 8 of Set 6 | bereda\n",
      "Processing Record 9 of Set 6 | faanui\n",
      "Processing Record 10 of Set 6 | ola\n",
      "Processing Record 11 of Set 6 | zhangye\n",
      "Processing Record 12 of Set 6 | okhotsk\n",
      "Processing Record 13 of Set 6 | ordynskoye\n",
      "Processing Record 14 of Set 6 | goderich\n",
      "Processing Record 15 of Set 6 | hofn\n",
      "Processing Record 16 of Set 6 | balad\n",
      "Processing Record 17 of Set 6 | tautira\n",
      "Processing Record 18 of Set 6 | torbay\n",
      "Processing Record 19 of Set 6 | rawson\n",
      "Processing Record 20 of Set 6 | fare\n",
      "Processing Record 21 of Set 6 | vostok\n",
      "Processing Record 22 of Set 6 | port-gentil\n",
      "Processing Record 23 of Set 6 | salalah\n",
      "Processing Record 24 of Set 6 | upington\n",
      "Processing Record 25 of Set 6 | azovo\n",
      "Processing Record 26 of Set 6 | bagdarin\n",
      "Processing Record 27 of Set 6 | champerico\n",
      "Processing Record 28 of Set 6 | oudtshoorn\n",
      "Processing Record 29 of Set 6 | grindavik\n",
      "Processing Record 30 of Set 6 | kananga\n",
      "Processing Record 31 of Set 6 | hanyang\n",
      "Processing Record 32 of Set 6 | neiafu\n",
      "Processing Record 33 of Set 6 | seydi\n",
      "Processing Record 34 of Set 6 | dorverden\n",
      "Processing Record 35 of Set 6 | wanning\n",
      "Processing Record 36 of Set 6 | tabuk\n",
      "Processing Record 37 of Set 6 | santa vitoria do palmar\n",
      "Processing Record 38 of Set 6 | kavieng\n",
      "Processing Record 39 of Set 6 | ginir\n",
      "Processing Record 40 of Set 6 | bathsheba\n",
      "Processing Record 41 of Set 6 | sheboygan\n",
      "Processing Record 42 of Set 6 | tukan\n",
      "Processing Record 43 of Set 6 | imbituba\n",
      "lolua not found...\n",
      "Processing Record 44 of Set 6 | klaksvik\n",
      "Processing Record 45 of Set 6 | kiruna\n",
      "Processing Record 46 of Set 6 | maniitsoq\n",
      "Processing Record 47 of Set 6 | ilulissat\n",
      "Processing Record 48 of Set 6 | honningsvag\n",
      "Processing Record 49 of Set 6 | raga\n",
      "Processing Record 50 of Set 6 | rio gallegos\n",
      "Processing Record 1 of Set 7 | lagoa da prata\n",
      "Processing Record 2 of Set 7 | artesia\n",
      "Processing Record 3 of Set 7 | san rafael\n",
      "Processing Record 4 of Set 7 | mareeba\n",
      "Processing Record 5 of Set 7 | kuala kedah\n",
      "Processing Record 6 of Set 7 | talnakh\n",
      "Processing Record 7 of Set 7 | kaitangata\n",
      "Processing Record 8 of Set 7 | labuhan\n",
      "Processing Record 9 of Set 7 | san policarpo\n",
      "Processing Record 10 of Set 7 | bethel\n",
      "Processing Record 11 of Set 7 | qandala\n",
      "Processing Record 12 of Set 7 | ahipara\n",
      "Processing Record 13 of Set 7 | coquimbo\n",
      "Processing Record 14 of Set 7 | vangaindrano\n",
      "Processing Record 15 of Set 7 | niltepec\n",
      "Processing Record 16 of Set 7 | jiangyou\n",
      "Processing Record 17 of Set 7 | gazanjyk\n",
      "Processing Record 18 of Set 7 | novita\n",
      "Processing Record 19 of Set 7 | petropavlovsk-kamchatskiy\n",
      "Processing Record 20 of Set 7 | chapais\n",
      "Processing Record 21 of Set 7 | beringovskiy\n",
      "Processing Record 22 of Set 7 | korla\n",
      "Processing Record 23 of Set 7 | guerrero negro\n",
      "Processing Record 24 of Set 7 | olafsvik\n",
      "Processing Record 25 of Set 7 | ushtobe\n",
      "Processing Record 26 of Set 7 | port blair\n",
      "Processing Record 27 of Set 7 | folldal\n",
      "Processing Record 28 of Set 7 | gujar khan\n",
      "Processing Record 29 of Set 7 | tortoli\n",
      "Processing Record 30 of Set 7 | taltal\n",
      "Processing Record 31 of Set 7 | novo selo\n",
      "Processing Record 32 of Set 7 | souillac\n",
      "Processing Record 33 of Set 7 | chernyshevskiy\n",
      "Processing Record 34 of Set 7 | le vauclin\n",
      "tumannyy not found...\n",
      "Processing Record 35 of Set 7 | ancud\n",
      "Processing Record 36 of Set 7 | pascagoula\n",
      "Processing Record 37 of Set 7 | bandarbeyla\n",
      "Processing Record 38 of Set 7 | quesnel\n",
      "Processing Record 39 of Set 7 | chitral\n",
      "Processing Record 40 of Set 7 | tirumullaivasal\n",
      "Processing Record 41 of Set 7 | campestre\n",
      "Processing Record 42 of Set 7 | kanigoro\n",
      "Processing Record 43 of Set 7 | naranjito\n",
      "Processing Record 44 of Set 7 | nuuk\n",
      "Processing Record 45 of Set 7 | nyurba\n",
      "Processing Record 46 of Set 7 | crestview\n",
      "Processing Record 47 of Set 7 | sistranda\n",
      "Processing Record 48 of Set 7 | tamandare\n",
      "Processing Record 49 of Set 7 | carora\n",
      "Processing Record 50 of Set 7 | tevaitoa\n",
      "galgani not found...\n",
      "Processing Record 1 of Set 8 | slave lake\n",
      "Processing Record 2 of Set 8 | novopokrovka\n",
      "Processing Record 3 of Set 8 | brigantine\n",
      "Processing Record 4 of Set 8 | havelock\n",
      "Processing Record 5 of Set 8 | birjand\n",
      "Processing Record 6 of Set 8 | hervey bay\n",
      "Processing Record 7 of Set 8 | nogliki\n",
      "Processing Record 8 of Set 8 | suixi\n",
      "palabuhanratu not found...\n",
      "Processing Record 9 of Set 8 | husavik\n",
      "nizhneyansk not found...\n",
      "mrirt not found...\n",
      "Processing Record 10 of Set 8 | hudson bay\n",
      "Processing Record 11 of Set 8 | buala\n",
      "Processing Record 12 of Set 8 | mehamn\n",
      "Processing Record 13 of Set 8 | athabasca\n",
      "Processing Record 14 of Set 8 | lorengau\n",
      "Processing Record 15 of Set 8 | joshimath\n",
      "Processing Record 16 of Set 8 | nome\n",
      "Processing Record 17 of Set 8 | anshun\n",
      "Processing Record 18 of Set 8 | jurm\n",
      "Processing Record 19 of Set 8 | gberia fotombu\n",
      "Processing Record 20 of Set 8 | mecca\n",
      "Processing Record 21 of Set 8 | west lafayette\n",
      "Processing Record 22 of Set 8 | nurota\n",
      "Processing Record 23 of Set 8 | grand gaube\n",
      "tabiauea not found...\n",
      "Processing Record 24 of Set 8 | ejido\n",
      "Processing Record 25 of Set 8 | ballina\n",
      "Processing Record 26 of Set 8 | hagere hiywet\n",
      "Processing Record 27 of Set 8 | venado tuerto\n",
      "Processing Record 28 of Set 8 | bokoro\n",
      "Processing Record 29 of Set 8 | srednyaya akhtuba\n",
      "Processing Record 30 of Set 8 | arawa\n",
      "Processing Record 31 of Set 8 | sao filipe\n",
      "Processing Record 32 of Set 8 | lamar\n",
      "Processing Record 33 of Set 8 | bom jesus\n",
      "Processing Record 34 of Set 8 | sulangan\n",
      "Processing Record 35 of Set 8 | nsanje\n",
      "Processing Record 36 of Set 8 | louis trichardt\n",
      "Processing Record 37 of Set 8 | geraldton\n",
      "Processing Record 38 of Set 8 | matadi\n",
      "Processing Record 39 of Set 8 | atambua\n",
      "Processing Record 40 of Set 8 | necochea\n",
      "Processing Record 41 of Set 8 | tomakomai\n",
      "Processing Record 42 of Set 8 | vila franca do campo\n",
      "Processing Record 43 of Set 8 | astaneh-ye ashrafiyeh\n",
      "toliary not found...\n",
      "Processing Record 44 of Set 8 | stryn\n",
      "Processing Record 45 of Set 8 | peniche\n",
      "Processing Record 46 of Set 8 | broken hill\n",
      "Processing Record 47 of Set 8 | atar\n",
      "Processing Record 48 of Set 8 | lulea\n",
      "Processing Record 49 of Set 8 | tessalit\n",
      "khormuj not found...\n",
      "Processing Record 50 of Set 8 | barhiya\n",
      "Processing Record 1 of Set 9 | cetraro\n",
      "Processing Record 2 of Set 9 | porto novo\n",
      "Processing Record 3 of Set 9 | paita\n",
      "Processing Record 4 of Set 9 | diffa\n",
      "Processing Record 5 of Set 9 | alice springs\n",
      "Processing Record 6 of Set 9 | bukachacha\n",
      "karaul not found...\n",
      "Processing Record 7 of Set 9 | puerto ayacucho\n",
      "Processing Record 8 of Set 9 | half moon bay\n",
      "Processing Record 9 of Set 9 | salamiyah\n",
      "safwah not found...\n",
      "Processing Record 10 of Set 9 | sain alto\n",
      "Processing Record 11 of Set 9 | ushibuka\n",
      "Processing Record 12 of Set 9 | hirara\n",
      "Processing Record 13 of Set 9 | faya\n",
      "Processing Record 14 of Set 9 | hambantota\n",
      "Processing Record 15 of Set 9 | lanzhou\n",
      "Processing Record 16 of Set 9 | grosseto\n",
      "duz not found...\n",
      "Processing Record 17 of Set 9 | airai\n",
      "Processing Record 18 of Set 9 | morondava\n",
      "Processing Record 19 of Set 9 | dodoma\n",
      "Processing Record 20 of Set 9 | petrozavodsk\n",
      "Processing Record 21 of Set 9 | uva\n",
      "Processing Record 22 of Set 9 | teguise\n",
      "Processing Record 23 of Set 9 | trelew\n",
      "Processing Record 24 of Set 9 | narva-joesuu\n",
      "Processing Record 25 of Set 9 | razole\n",
      "Processing Record 26 of Set 9 | siirt\n",
      "Processing Record 27 of Set 9 | pemangkat\n",
      "Processing Record 28 of Set 9 | guadalupe y calvo\n",
      "Processing Record 29 of Set 9 | akdepe\n",
      "Processing Record 30 of Set 9 | yerbogachen\n",
      "jahrom not found...\n",
      "Processing Record 31 of Set 9 | umiray\n",
      "Processing Record 32 of Set 9 | wloszczowa\n",
      "Processing Record 33 of Set 9 | juneau\n",
      "Processing Record 34 of Set 9 | namatanai\n",
      "Processing Record 35 of Set 9 | asau\n",
      "Processing Record 36 of Set 9 | laukaa\n",
      "Processing Record 37 of Set 9 | naron\n",
      "Processing Record 38 of Set 9 | panjab\n",
      "Processing Record 39 of Set 9 | westport\n",
      "Processing Record 40 of Set 9 | noumea\n",
      "Processing Record 41 of Set 9 | saint-joseph\n",
      "Processing Record 42 of Set 9 | wonthaggi\n",
      "Processing Record 43 of Set 9 | jalu\n",
      "Processing Record 44 of Set 9 | littau\n",
      "Processing Record 45 of Set 9 | coahuayana\n",
      "Processing Record 46 of Set 9 | heihe\n",
      "Processing Record 47 of Set 9 | kandrian\n",
      "Processing Record 48 of Set 9 | boende\n",
      "Processing Record 49 of Set 9 | lensk\n",
      "Processing Record 50 of Set 9 | alofi\n",
      "Processing Record 1 of Set 10 | khasan\n",
      "Processing Record 2 of Set 10 | paducah\n",
      "Processing Record 3 of Set 10 | bouca\n",
      "Processing Record 4 of Set 10 | shemgang\n",
      "Processing Record 5 of Set 10 | chulym\n",
      "Processing Record 6 of Set 10 | thai binh\n",
      "Processing Record 7 of Set 10 | epe\n",
      "Processing Record 8 of Set 10 | sabang\n",
      "Processing Record 9 of Set 10 | mirnyy\n",
      "Processing Record 10 of Set 10 | doha\n",
      "Processing Record 11 of Set 10 | tra vinh\n",
      "Processing Record 12 of Set 10 | tiznit\n",
      "Processing Record 13 of Set 10 | boa vista\n",
      "Processing Record 14 of Set 10 | pervomayskoye\n",
      "Processing Record 15 of Set 10 | velizh\n",
      "Processing Record 16 of Set 10 | guanay\n",
      "Processing Record 17 of Set 10 | novorudnyy\n",
      "Processing Record 18 of Set 10 | sao miguel do araguaia\n",
      "Processing Record 19 of Set 10 | san luis\n",
      "Processing Record 20 of Set 10 | beloha\n",
      "Processing Record 21 of Set 10 | zirandaro\n",
      "Processing Record 22 of Set 10 | lata\n",
      "Processing Record 23 of Set 10 | thinadhoo\n",
      "higuey not found...\n",
      "Processing Record 24 of Set 10 | te anau\n",
      "Processing Record 25 of Set 10 | tabas\n",
      "Processing Record 26 of Set 10 | port lincoln\n",
      "Processing Record 27 of Set 10 | matara\n",
      "Processing Record 28 of Set 10 | weinan\n",
      "Processing Record 29 of Set 10 | simao\n",
      "Processing Record 30 of Set 10 | ketchikan\n",
      "Processing Record 31 of Set 10 | kota kinabalu\n",
      "Processing Record 32 of Set 10 | preston\n",
      "Processing Record 33 of Set 10 | baft\n",
      "Processing Record 34 of Set 10 | karaton\n",
      "Processing Record 35 of Set 10 | obo\n",
      "Processing Record 36 of Set 10 | hualmay\n",
      "Processing Record 37 of Set 10 | likasi\n",
      "Processing Record 38 of Set 10 | havoysund\n",
      "Processing Record 39 of Set 10 | whithorn\n",
      "Processing Record 40 of Set 10 | iwaki\n",
      "Processing Record 41 of Set 10 | saint-francois\n",
      "Processing Record 42 of Set 10 | mogadishu\n",
      "Processing Record 43 of Set 10 | biak\n",
      "Processing Record 44 of Set 10 | puerto quijarro\n",
      "Processing Record 45 of Set 10 | chumikan\n",
      "Processing Record 46 of Set 10 | drovyanaya\n",
      "Processing Record 47 of Set 10 | janow lubelski\n",
      "Processing Record 48 of Set 10 | kingsville\n",
      "Processing Record 49 of Set 10 | vila velha\n",
      "Processing Record 50 of Set 10 | singaparna\n",
      "Processing Record 1 of Set 11 | betare oya\n",
      "Processing Record 2 of Set 11 | nanpiao\n",
      "Processing Record 3 of Set 11 | poum\n",
      "Processing Record 4 of Set 11 | sakakah\n",
      "Processing Record 5 of Set 11 | santa fe\n",
      "Processing Record 6 of Set 11 | les cayes\n",
      "Processing Record 7 of Set 11 | fuzhou\n",
      "Processing Record 8 of Set 11 | marrakesh\n",
      "Processing Record 9 of Set 11 | williams lake\n",
      "Processing Record 10 of Set 11 | lagoa\n",
      "Processing Record 11 of Set 11 | najran\n",
      "Processing Record 12 of Set 11 | tongliao\n",
      "Processing Record 13 of Set 11 | darnah\n",
      "Processing Record 14 of Set 11 | mount isa\n",
      "Processing Record 15 of Set 11 | cockburn town\n",
      "Processing Record 16 of Set 11 | bang saphan\n",
      "Processing Record 17 of Set 11 | jeremie\n",
      "Processing Record 18 of Set 11 | teahupoo\n",
      "Processing Record 19 of Set 11 | auki\n",
      "Processing Record 20 of Set 11 | viedma\n",
      "Processing Record 21 of Set 11 | taseyevo\n",
      "Processing Record 22 of Set 11 | charters towers\n",
      "Processing Record 23 of Set 11 | fort nelson\n",
      "Processing Record 24 of Set 11 | nueve de julio\n",
      "Processing Record 25 of Set 11 | antofagasta\n",
      "Processing Record 26 of Set 11 | port keats\n",
      "Processing Record 27 of Set 11 | vestmanna\n",
      "Processing Record 28 of Set 11 | bluffton\n",
      "Processing Record 29 of Set 11 | gigmoto\n",
      "Processing Record 30 of Set 11 | port shepstone\n",
      "Processing Record 31 of Set 11 | yatou\n",
      "Processing Record 32 of Set 11 | dongsheng\n",
      "Processing Record 33 of Set 11 | portland\n",
      "Processing Record 34 of Set 11 | piopio\n",
      "maulvi bazar not found...\n",
      "Processing Record 35 of Set 11 | visnes\n",
      "Processing Record 36 of Set 11 | aldan\n",
      "Processing Record 37 of Set 11 | canon city\n",
      "Processing Record 38 of Set 11 | kafue\n",
      "Processing Record 39 of Set 11 | turukhansk\n",
      "Processing Record 40 of Set 11 | dori\n",
      "Processing Record 41 of Set 11 | cam ranh\n",
      "Processing Record 42 of Set 11 | yar-sale\n",
      "Processing Record 43 of Set 11 | aktau\n",
      "Processing Record 44 of Set 11 | vila\n",
      "rolim de moura not found...\n",
      "Processing Record 45 of Set 11 | bucerias\n",
      "Processing Record 46 of Set 11 | kangaatsiaq\n",
      "Processing Record 47 of Set 11 | kununurra\n",
      "Processing Record 48 of Set 11 | sergeyevka\n",
      "Processing Record 49 of Set 11 | kjollefjord\n",
      "warqla not found...\n",
      "Processing Record 50 of Set 11 | arlit\n",
      "Processing Record 1 of Set 12 | maamba\n",
      "Processing Record 2 of Set 12 | san cristobal\n",
      "Processing Record 3 of Set 12 | almeirim\n",
      "Processing Record 4 of Set 12 | bataipora\n",
      "Processing Record 5 of Set 12 | puerto asis\n",
      "Processing Record 6 of Set 12 | warkworth\n",
      "Processing Record 7 of Set 12 | normandin\n",
      "Processing Record 8 of Set 12 | nhamunda\n",
      "Processing Record 9 of Set 12 | maceio\n",
      "Processing Record 10 of Set 12 | portobelo\n",
      "Processing Record 11 of Set 12 | santa rosa\n",
      "Processing Record 12 of Set 12 | broome\n",
      "Processing Record 13 of Set 12 | boguchany\n",
      "Processing Record 14 of Set 12 | maumere\n",
      "Processing Record 15 of Set 12 | solwezi\n",
      "Processing Record 16 of Set 12 | palanga\n",
      "halalo not found...\n",
      "Processing Record 17 of Set 12 | vanavara\n",
      "Processing Record 18 of Set 12 | ritchie\n",
      "Processing Record 19 of Set 12 | wernberg\n",
      "Processing Record 20 of Set 12 | havre-saint-pierre\n",
      "---------------------------\n",
      "Data Retrieval Complete\n",
      "---------------------------\n"
     ]
    }
   ],
   "metadata": {}
  },
  {
   "cell_type": "markdown",
   "source": [
    "### Convert Raw Data to DataFrame\n",
    "* Export the city data into a .csv.\n",
    "* Display the DataFrame"
   ],
   "metadata": {}
  },
  {
   "cell_type": "code",
   "execution_count": 84,
   "source": [
    "print(len(cities_found))\r\n",
    "print(len(countries))\r\n",
    "print(len(lats))\r\n",
    "print(len(lngs))\r\n",
    "print(len(max_temps))\r\n",
    "print(len(humidities))\r\n",
    "print(len(clouds))\r\n",
    "print(len(wind_speeds))\r\n",
    "print(len(dates))"
   ],
   "outputs": [
    {
     "output_type": "stream",
     "name": "stdout",
     "text": [
      "570\n",
      "570\n",
      "570\n",
      "570\n",
      "570\n",
      "570\n",
      "570\n",
      "570\n",
      "570\n"
     ]
    }
   ],
   "metadata": {}
  },
  {
   "cell_type": "code",
   "execution_count": 85,
   "source": [
    "weather_dict = {\r\n",
    "    \"City\": cities_found,\r\n",
    "    \"Country\": countries,\r\n",
    "    \"Latitude\": lats,\r\n",
    "    \"Longitude\": lngs,\r\n",
    "    \"Max Temp\": max_temps,\r\n",
    "    \"Humidity\": humidities,\r\n",
    "    \"Cloudiness\": clouds,\r\n",
    "    \"Wind Speed\": wind_speeds,\r\n",
    "    \"Date\": dates\r\n",
    "}"
   ],
   "outputs": [],
   "metadata": {}
  },
  {
   "cell_type": "code",
   "execution_count": 86,
   "source": [
    "weather_df = pd.DataFrame(weather_dict)\r\n",
    "weather_df.head()"
   ],
   "outputs": [
    {
     "output_type": "execute_result",
     "data": {
      "text/html": [
       "<div>\n",
       "<style scoped>\n",
       "    .dataframe tbody tr th:only-of-type {\n",
       "        vertical-align: middle;\n",
       "    }\n",
       "\n",
       "    .dataframe tbody tr th {\n",
       "        vertical-align: top;\n",
       "    }\n",
       "\n",
       "    .dataframe thead th {\n",
       "        text-align: right;\n",
       "    }\n",
       "</style>\n",
       "<table border=\"1\" class=\"dataframe\">\n",
       "  <thead>\n",
       "    <tr style=\"text-align: right;\">\n",
       "      <th></th>\n",
       "      <th>City</th>\n",
       "      <th>Country</th>\n",
       "      <th>Latitude</th>\n",
       "      <th>Longitude</th>\n",
       "      <th>Max Temp</th>\n",
       "      <th>Humidity</th>\n",
       "      <th>Cloudiness</th>\n",
       "      <th>Wind Speed</th>\n",
       "      <th>Date</th>\n",
       "    </tr>\n",
       "  </thead>\n",
       "  <tbody>\n",
       "    <tr>\n",
       "      <th>0</th>\n",
       "      <td>mataura</td>\n",
       "      <td>NZ</td>\n",
       "      <td>-46.1927</td>\n",
       "      <td>168.8643</td>\n",
       "      <td>45.48</td>\n",
       "      <td>73</td>\n",
       "      <td>94</td>\n",
       "      <td>0.65</td>\n",
       "      <td>1631581970</td>\n",
       "    </tr>\n",
       "    <tr>\n",
       "      <th>1</th>\n",
       "      <td>ushuaia</td>\n",
       "      <td>AR</td>\n",
       "      <td>-54.8000</td>\n",
       "      <td>-68.3000</td>\n",
       "      <td>40.66</td>\n",
       "      <td>81</td>\n",
       "      <td>40</td>\n",
       "      <td>14.97</td>\n",
       "      <td>1631581889</td>\n",
       "    </tr>\n",
       "    <tr>\n",
       "      <th>2</th>\n",
       "      <td>rudnogorsk</td>\n",
       "      <td>RU</td>\n",
       "      <td>57.2639</td>\n",
       "      <td>103.7519</td>\n",
       "      <td>42.44</td>\n",
       "      <td>82</td>\n",
       "      <td>100</td>\n",
       "      <td>0.96</td>\n",
       "      <td>1631581971</td>\n",
       "    </tr>\n",
       "    <tr>\n",
       "      <th>3</th>\n",
       "      <td>hilo</td>\n",
       "      <td>US</td>\n",
       "      <td>19.7297</td>\n",
       "      <td>-155.0900</td>\n",
       "      <td>83.93</td>\n",
       "      <td>71</td>\n",
       "      <td>40</td>\n",
       "      <td>10.36</td>\n",
       "      <td>1631581856</td>\n",
       "    </tr>\n",
       "    <tr>\n",
       "      <th>4</th>\n",
       "      <td>makaryev</td>\n",
       "      <td>RU</td>\n",
       "      <td>57.8797</td>\n",
       "      <td>43.8069</td>\n",
       "      <td>56.30</td>\n",
       "      <td>93</td>\n",
       "      <td>100</td>\n",
       "      <td>11.88</td>\n",
       "      <td>1631581971</td>\n",
       "    </tr>\n",
       "  </tbody>\n",
       "</table>\n",
       "</div>"
      ],
      "text/plain": [
       "         City Country  Latitude  Longitude  Max Temp  Humidity  Cloudiness  \\\n",
       "0     mataura      NZ  -46.1927   168.8643     45.48        73          94   \n",
       "1     ushuaia      AR  -54.8000   -68.3000     40.66        81          40   \n",
       "2  rudnogorsk      RU   57.2639   103.7519     42.44        82         100   \n",
       "3        hilo      US   19.7297  -155.0900     83.93        71          40   \n",
       "4    makaryev      RU   57.8797    43.8069     56.30        93         100   \n",
       "\n",
       "   Wind Speed        Date  \n",
       "0        0.65  1631581970  \n",
       "1       14.97  1631581889  \n",
       "2        0.96  1631581971  \n",
       "3       10.36  1631581856  \n",
       "4       11.88  1631581971  "
      ]
     },
     "metadata": {},
     "execution_count": 86
    }
   ],
   "metadata": {}
  },
  {
   "cell_type": "code",
   "execution_count": 87,
   "source": [
    "weather_df.describe()"
   ],
   "outputs": [
    {
     "output_type": "execute_result",
     "data": {
      "text/html": [
       "<div>\n",
       "<style scoped>\n",
       "    .dataframe tbody tr th:only-of-type {\n",
       "        vertical-align: middle;\n",
       "    }\n",
       "\n",
       "    .dataframe tbody tr th {\n",
       "        vertical-align: top;\n",
       "    }\n",
       "\n",
       "    .dataframe thead th {\n",
       "        text-align: right;\n",
       "    }\n",
       "</style>\n",
       "<table border=\"1\" class=\"dataframe\">\n",
       "  <thead>\n",
       "    <tr style=\"text-align: right;\">\n",
       "      <th></th>\n",
       "      <th>Latitude</th>\n",
       "      <th>Longitude</th>\n",
       "      <th>Max Temp</th>\n",
       "      <th>Humidity</th>\n",
       "      <th>Cloudiness</th>\n",
       "      <th>Wind Speed</th>\n",
       "      <th>Date</th>\n",
       "    </tr>\n",
       "  </thead>\n",
       "  <tbody>\n",
       "    <tr>\n",
       "      <th>count</th>\n",
       "      <td>570.000000</td>\n",
       "      <td>570.000000</td>\n",
       "      <td>570.000000</td>\n",
       "      <td>570.000000</td>\n",
       "      <td>570.000000</td>\n",
       "      <td>570.000000</td>\n",
       "      <td>5.700000e+02</td>\n",
       "    </tr>\n",
       "    <tr>\n",
       "      <th>mean</th>\n",
       "      <td>20.285446</td>\n",
       "      <td>18.414949</td>\n",
       "      <td>66.180123</td>\n",
       "      <td>70.305263</td>\n",
       "      <td>52.756140</td>\n",
       "      <td>7.453789</td>\n",
       "      <td>1.631582e+09</td>\n",
       "    </tr>\n",
       "    <tr>\n",
       "      <th>std</th>\n",
       "      <td>33.032359</td>\n",
       "      <td>90.942759</td>\n",
       "      <td>14.313901</td>\n",
       "      <td>20.428145</td>\n",
       "      <td>41.264314</td>\n",
       "      <td>5.468790</td>\n",
       "      <td>7.616664e+01</td>\n",
       "    </tr>\n",
       "    <tr>\n",
       "      <th>min</th>\n",
       "      <td>-54.800000</td>\n",
       "      <td>-175.200000</td>\n",
       "      <td>21.360000</td>\n",
       "      <td>10.000000</td>\n",
       "      <td>0.000000</td>\n",
       "      <td>0.000000</td>\n",
       "      <td>1.631581e+09</td>\n",
       "    </tr>\n",
       "    <tr>\n",
       "      <th>25%</th>\n",
       "      <td>-7.942925</td>\n",
       "      <td>-62.196500</td>\n",
       "      <td>55.205000</td>\n",
       "      <td>60.000000</td>\n",
       "      <td>6.000000</td>\n",
       "      <td>3.440000</td>\n",
       "      <td>1.631582e+09</td>\n",
       "    </tr>\n",
       "    <tr>\n",
       "      <th>50%</th>\n",
       "      <td>26.142100</td>\n",
       "      <td>23.082200</td>\n",
       "      <td>67.550000</td>\n",
       "      <td>75.000000</td>\n",
       "      <td>55.000000</td>\n",
       "      <td>6.040000</td>\n",
       "      <td>1.631582e+09</td>\n",
       "    </tr>\n",
       "    <tr>\n",
       "      <th>75%</th>\n",
       "      <td>46.943325</td>\n",
       "      <td>103.479400</td>\n",
       "      <td>78.030000</td>\n",
       "      <td>85.000000</td>\n",
       "      <td>100.000000</td>\n",
       "      <td>10.540000</td>\n",
       "      <td>1.631582e+09</td>\n",
       "    </tr>\n",
       "    <tr>\n",
       "      <th>max</th>\n",
       "      <td>78.218600</td>\n",
       "      <td>179.316700</td>\n",
       "      <td>99.630000</td>\n",
       "      <td>100.000000</td>\n",
       "      <td>100.000000</td>\n",
       "      <td>30.760000</td>\n",
       "      <td>1.631582e+09</td>\n",
       "    </tr>\n",
       "  </tbody>\n",
       "</table>\n",
       "</div>"
      ],
      "text/plain": [
       "         Latitude   Longitude    Max Temp    Humidity  Cloudiness  Wind Speed  \\\n",
       "count  570.000000  570.000000  570.000000  570.000000  570.000000  570.000000   \n",
       "mean    20.285446   18.414949   66.180123   70.305263   52.756140    7.453789   \n",
       "std     33.032359   90.942759   14.313901   20.428145   41.264314    5.468790   \n",
       "min    -54.800000 -175.200000   21.360000   10.000000    0.000000    0.000000   \n",
       "25%     -7.942925  -62.196500   55.205000   60.000000    6.000000    3.440000   \n",
       "50%     26.142100   23.082200   67.550000   75.000000   55.000000    6.040000   \n",
       "75%     46.943325  103.479400   78.030000   85.000000  100.000000   10.540000   \n",
       "max     78.218600  179.316700   99.630000  100.000000  100.000000   30.760000   \n",
       "\n",
       "               Date  \n",
       "count  5.700000e+02  \n",
       "mean   1.631582e+09  \n",
       "std    7.616664e+01  \n",
       "min    1.631581e+09  \n",
       "25%    1.631582e+09  \n",
       "50%    1.631582e+09  \n",
       "75%    1.631582e+09  \n",
       "max    1.631582e+09  "
      ]
     },
     "metadata": {},
     "execution_count": 87
    }
   ],
   "metadata": {}
  },
  {
   "cell_type": "code",
   "execution_count": 105,
   "source": [
    "weather_df.to_csv(output_data_file, index = False)"
   ],
   "outputs": [],
   "metadata": {}
  },
  {
   "cell_type": "markdown",
   "source": [
    "## Inspect the data and remove the cities where the humidity > 100%.\n",
    "----\n",
    "Skip this step if there are no cities that have humidity > 100%. "
   ],
   "metadata": {}
  },
  {
   "cell_type": "code",
   "execution_count": 89,
   "source": [
    "high_humid = weather_df.loc[weather_df[\"Humidity\"] > 100]\r\n",
    "len(high_humid)"
   ],
   "outputs": [
    {
     "output_type": "execute_result",
     "data": {
      "text/plain": [
       "0"
      ]
     },
     "metadata": {},
     "execution_count": 89
    }
   ],
   "metadata": {}
  },
  {
   "cell_type": "code",
   "execution_count": 90,
   "source": [
    "max_humid = max(weather_df[\"Humidity\"])\r\n",
    "max_humid"
   ],
   "outputs": [
    {
     "output_type": "execute_result",
     "data": {
      "text/plain": [
       "100"
      ]
     },
     "metadata": {},
     "execution_count": 90
    }
   ],
   "metadata": {}
  },
  {
   "cell_type": "markdown",
   "source": [
    "## Plotting the Data\n",
    "* Use proper labeling of the plots using plot titles (including date of analysis) and axes labels.\n",
    "* Save the plotted figures as .pngs."
   ],
   "metadata": {}
  },
  {
   "cell_type": "markdown",
   "source": [
    "## Latitude vs. Temperature Plot"
   ],
   "metadata": {}
  },
  {
   "cell_type": "code",
   "execution_count": 91,
   "source": [
    "plt.scatter(weather_df[\"Latitude\"], weather_df[\"Max Temp\"], edgecolors = \"black\", facecolors = \"skyblue\", zorder = 3)\r\n",
    "plt.title(\"City Latitude vs. Max Temperature\")\r\n",
    "plt.xlabel(\"Latitude\")\r\n",
    "plt.ylabel(\"Max Temperature (F)\")\r\n",
    "plt.grid (which = \"major\", axis = \"both\", linestyle = \"-\", color = \"lightgrey\", zorder = -1)\r\n",
    "plt.savefig(\"Figures/latvtemp1.png\")\r\n",
    "plt.show()"
   ],
   "outputs": [
    {
     "output_type": "display_data",
     "data": {
      "image/png": "[encoded data removed]",
      "text/plain": [
       "<Figure size 432x288 with 1 Axes>"
      ]
     },
     "metadata": {
      "needs_background": "light"
     }
    }
   ],
   "metadata": {
    "scrolled": true
   }
  },
  {
   "cell_type": "code",
   "execution_count": 92,
   "source": [
    "import plotly.express as px\r\n",
    "\r\n",
    "fig = px.scatter(weather_df, x = \"Longitude\", y = \"Latitude\", color = \"Max Temp\", size = \"Cloudiness\", hover_data = ['City', 'Country'])\r\n",
    "print(\"World Map Weather\")\r\n",
    "fig.show()"
   ],
   "outputs": [
    {
     "output_type": "stream",
     "name": "stdout",
     "text": [
      "World Map Weather\n"
     ]
    },
    {
     "output_type": "display_data",
     "data": {
      "application/vnd.plotly.v1+json": {
       "config": {
        "plotlyServerURL": "https://plot.ly"
       },
       "data": [
        {
         "customdata": [
          [
           "mataura",
           "NZ"
          ],
          [
           "ushuaia",
           "AR"
          ],
          [
           "rudnogorsk",
           "RU"
          ],
          [
           "hilo",
           "US"
          ],
          [
           "makaryev",
           "RU"
          ],
          [
           "saint-pierre",
           "RE"
          ],
          [
           "bluff",
           "NZ"
          ],
          [
           "punta arenas",
           "CL"
          ],
          [
           "qaanaaq",
           "GL"
          ],
          [
           "caravelas",
           "BR"
          ],
          [
           "saryozek",
           "KZ"
          ],
          [
           "acarau",
           "BR"
          ],
          [
           "kapaa",
           "US"
          ],
          [
           "tasiilaq",
           "GL"
          ],
          [
           "saint anthony",
           "US"
          ],
          [
           "bela",
           "IN"
          ],
          [
           "albany",
           "US"
          ],
          [
           "la crosse",
           "US"
          ],
          [
           "ust-maya",
           "RU"
          ],
          [
           "jamestown",
           "US"
          ],
          [
           "pacific grove",
           "US"
          ],
          [
           "valley station",
           "US"
          ],
          [
           "borascu",
           "RO"
          ],
          [
           "nakamura",
           "JP"
          ],
          [
           "rikitea",
           "PF"
          ],
          [
           "pevek",
           "RU"
          ],
          [
           "warrnambool",
           "AU"
          ],
          [
           "stornoway",
           "GB"
          ],
          [
           "kurilsk",
           "RU"
          ],
          [
           "muros",
           "ES"
          ],
          [
           "liverpool",
           "GB"
          ],
          [
           "cascais",
           "PT"
          ],
          [
           "port elizabeth",
           "ZA"
          ],
          [
           "isangel",
           "VU"
          ],
          [
           "saint-denis",
           "FR"
          ],
          [
           "vaini",
           "TO"
          ],
          [
           "quatre cocos",
           "MU"
          ],
          [
           "alugan",
           "PH"
          ],
          [
           "cape town",
           "ZA"
          ],
          [
           "ponta do sol",
           "PT"
          ],
          [
           "port alfred",
           "ZA"
          ],
          [
           "laguna",
           "US"
          ],
          [
           "severnyy",
           "RU"
          ],
          [
           "carnarvon",
           "AU"
          ],
          [
           "hermanus",
           "ZA"
          ],
          [
           "nanortalik",
           "GL"
          ],
          [
           "chkalovskoye",
           "RU"
          ],
          [
           "victoria",
           "HK"
          ],
          [
           "oktyabrskoye",
           "RU"
          ],
          [
           "khuzdar",
           "PK"
          ],
          [
           "upernavik",
           "GL"
          ],
          [
           "kawalu",
           "ID"
          ],
          [
           "hithadhoo",
           "MV"
          ],
          [
           "komsomolskiy",
           "UZ"
          ],
          [
           "almaznyy",
           "RU"
          ],
          [
           "sorland",
           "NO"
          ],
          [
           "atuona",
           "PF"
          ],
          [
           "nelson bay",
           "AU"
          ],
          [
           "new norfolk",
           "AU"
          ],
          [
           "hami",
           "CN"
          ],
          [
           "arraial do cabo",
           "BR"
          ],
          [
           "zhanakorgan",
           "KZ"
          ],
          [
           "bambous virieux",
           "MU"
          ],
          [
           "carballo",
           "ES"
          ],
          [
           "booue",
           "GA"
          ],
          [
           "kodiak",
           "US"
          ],
          [
           "ribeira grande",
           "PT"
          ],
          [
           "sao joao da barra",
           "BR"
          ],
          [
           "mar del plata",
           "AR"
          ],
          [
           "avarua",
           "CK"
          ],
          [
           "mahebourg",
           "MU"
          ],
          [
           "ambilobe",
           "MG"
          ],
          [
           "puerto ayora",
           "EC"
          ],
          [
           "yining",
           "CN"
          ],
          [
           "gat",
           "IL"
          ],
          [
           "dingle",
           "PH"
          ],
          [
           "gazojak",
           "TM"
          ],
          [
           "cabo san lucas",
           "MX"
          ],
          [
           "barrow",
           "US"
          ],
          [
           "bisira",
           "PA"
          ],
          [
           "busselton",
           "AU"
          ],
          [
           "prince george",
           "CA"
          ],
          [
           "hasaki",
           "JP"
          ],
          [
           "ligatne",
           "LV"
          ],
          [
           "dunedin",
           "NZ"
          ],
          [
           "chebenki",
           "RU"
          ],
          [
           "iqaluit",
           "CA"
          ],
          [
           "malabo",
           "GQ"
          ],
          [
           "sahbuz",
           "AZ"
          ],
          [
           "chibuto",
           "MZ"
          ],
          [
           "pramanta",
           "GR"
          ],
          [
           "atherton",
           "GB"
          ],
          [
           "lompoc",
           "US"
          ],
          [
           "barcelos",
           "PT"
          ],
          [
           "byron bay",
           "AU"
          ],
          [
           "lebu",
           "CL"
          ],
          [
           "cayenne",
           "GF"
          ],
          [
           "nikolskoye",
           "RU"
          ],
          [
           "khash",
           "IR"
          ],
          [
           "makakilo city",
           "US"
          ],
          [
           "ust-ilimsk",
           "RU"
          ],
          [
           "kon tum",
           "VN"
          ],
          [
           "tuktoyaktuk",
           "CA"
          ],
          [
           "homer",
           "US"
          ],
          [
           "qaqortoq",
           "GL"
          ],
          [
           "zhangjiakou",
           "CN"
          ],
          [
           "southbridge",
           "US"
          ],
          [
           "yellowknife",
           "CA"
          ],
          [
           "inuvik",
           "CA"
          ],
          [
           "saskylakh",
           "RU"
          ],
          [
           "saint-philippe",
           "RE"
          ],
          [
           "yulara",
           "AU"
          ],
          [
           "grants pass",
           "US"
          ],
          [
           "sao jose da coroa grande",
           "BR"
          ],
          [
           "mantua",
           "IT"
          ],
          [
           "sobolevo",
           "RU"
          ],
          [
           "guanambi",
           "BR"
          ],
          [
           "severo-kurilsk",
           "RU"
          ],
          [
           "naigarhi",
           "IN"
          ],
          [
           "kayes",
           "ML"
          ],
          [
           "touros",
           "BR"
          ],
          [
           "cadillac",
           "US"
          ],
          [
           "sitka",
           "US"
          ],
          [
           "zhigansk",
           "RU"
          ],
          [
           "chokurdakh",
           "RU"
          ],
          [
           "batagay",
           "RU"
          ],
          [
           "tiksi",
           "RU"
          ],
          [
           "monroe",
           "US"
          ],
          [
           "hobart",
           "AU"
          ],
          [
           "hovd",
           "MN"
          ],
          [
           "thompson",
           "CA"
          ],
          [
           "butaritari",
           "KI"
          ],
          [
           "georgetown",
           "MY"
          ],
          [
           "merauke",
           "ID"
          ],
          [
           "mount gambier",
           "AU"
          ],
          [
           "port macquarie",
           "AU"
          ],
          [
           "sabha",
           "LY"
          ],
          [
           "kahului",
           "US"
          ],
          [
           "cidreira",
           "BR"
          ],
          [
           "tapiramuta",
           "BR"
          ],
          [
           "charleston",
           "US"
          ],
          [
           "gamba",
           "GA"
          ],
          [
           "galveston",
           "US"
          ],
          [
           "coihueco",
           "CL"
          ],
          [
           "deputatskiy",
           "RU"
          ],
          [
           "dikson",
           "RU"
          ],
          [
           "la macarena",
           "CO"
          ],
          [
           "cherskiy",
           "RU"
          ],
          [
           "chuy",
           "UY"
          ],
          [
           "bredasdorp",
           "ZA"
          ],
          [
           "saint george",
           "US"
          ],
          [
           "saldanha",
           "ZA"
          ],
          [
           "natchez",
           "US"
          ],
          [
           "mandalgovi",
           "MN"
          ],
          [
           "surat thani",
           "TH"
          ],
          [
           "castro",
           "BR"
          ],
          [
           "flinders",
           "AU"
          ],
          [
           "olocuilta",
           "SV"
          ],
          [
           "mumford",
           "GH"
          ],
          [
           "khatanga",
           "RU"
          ],
          [
           "riyadh",
           "SA"
          ],
          [
           "swan river",
           "CA"
          ],
          [
           "lavrentiya",
           "RU"
          ],
          [
           "tabou",
           "CI"
          ],
          [
           "san juan bautista",
           "PE"
          ],
          [
           "manuk mangkaw",
           "PH"
          ],
          [
           "avera",
           "US"
          ],
          [
           "high level",
           "CA"
          ],
          [
           "seoul",
           "KR"
          ],
          [
           "sinop",
           "TR"
          ],
          [
           "longyearbyen",
           "SJ"
          ],
          [
           "narsaq",
           "GL"
          ],
          [
           "moose factory",
           "CA"
          ],
          [
           "pisco",
           "PE"
          ],
          [
           "sinnamary",
           "GF"
          ],
          [
           "berlevag",
           "NO"
          ],
          [
           "meulaboh",
           "ID"
          ],
          [
           "bahia de caraquez",
           "EC"
          ],
          [
           "vao",
           "NC"
          ],
          [
           "norman wells",
           "CA"
          ],
          [
           "namtsy",
           "RU"
          ],
          [
           "qinzhou",
           "CN"
          ],
          [
           "francisco sa",
           "BR"
          ],
          [
           "maniago",
           "IT"
          ],
          [
           "pangody",
           "RU"
          ],
          [
           "luderitz",
           "NA"
          ],
          [
           "palmeira das missoes",
           "BR"
          ],
          [
           "codrington",
           "AU"
          ],
          [
           "bahia blanca",
           "AR"
          ],
          [
           "shemonaikha",
           "KZ"
          ],
          [
           "bilibino",
           "RU"
          ],
          [
           "pastores",
           "GT"
          ],
          [
           "meadow lake",
           "US"
          ],
          [
           "jackson",
           "US"
          ],
          [
           "sept-iles",
           "CA"
          ],
          [
           "ostrovnoy",
           "RU"
          ],
          [
           "arona",
           "ES"
          ],
          [
           "haapiti",
           "PF"
          ],
          [
           "sokoni",
           "TZ"
          ],
          [
           "san patricio",
           "US"
          ],
          [
           "kruisfontein",
           "ZA"
          ],
          [
           "rio grande",
           "BR"
          ],
          [
           "mugan",
           "CN"
          ],
          [
           "rudbar",
           "AF"
          ],
          [
           "east london",
           "ZA"
          ],
          [
           "skibbereen",
           "IE"
          ],
          [
           "kefamenanu",
           "ID"
          ],
          [
           "northam",
           "GB"
          ],
          [
           "itagiba",
           "BR"
          ],
          [
           "paamiut",
           "GL"
          ],
          [
           "nishihara",
           "JP"
          ],
          [
           "ukiah",
           "US"
          ],
          [
           "esperance",
           "AU"
          ],
          [
           "aksu",
           "CN"
          ],
          [
           "sooke",
           "CA"
          ],
          [
           "aguimes",
           "ES"
          ],
          [
           "bosaso",
           "SO"
          ],
          [
           "san andres",
           "CO"
          ],
          [
           "kavaratti",
           "IN"
          ],
          [
           "puerto escondido",
           "MX"
          ],
          [
           "san quintin",
           "MX"
          ],
          [
           "nabire",
           "ID"
          ],
          [
           "chenghai",
           "CN"
          ],
          [
           "tuy hoa",
           "VN"
          ],
          [
           "andros town",
           "BS"
          ],
          [
           "olovyannaya",
           "RU"
          ],
          [
           "kiama",
           "AU"
          ],
          [
           "bengkulu",
           "ID"
          ],
          [
           "nouadhibou",
           "MR"
          ],
          [
           "nemuro",
           "JP"
          ],
          [
           "borogontsy",
           "RU"
          ],
          [
           "acapulco",
           "MX"
          ],
          [
           "gaomi",
           "CN"
          ],
          [
           "itarema",
           "BR"
          ],
          [
           "jaypur",
           "IN"
          ],
          [
           "banjar",
           "ID"
          ],
          [
           "piacabucu",
           "BR"
          ],
          [
           "naze",
           "JP"
          ],
          [
           "whitecourt",
           "CA"
          ],
          [
           "kudahuvadhoo",
           "MV"
          ],
          [
           "port said",
           "EG"
          ],
          [
           "guozhen",
           "CN"
          ],
          [
           "nouakchott",
           "MR"
          ],
          [
           "katangli",
           "RU"
          ],
          [
           "campbellton",
           "CA"
          ],
          [
           "morgan city",
           "US"
          ],
          [
           "jiayuguan",
           "CN"
          ],
          [
           "aklavik",
           "CA"
          ],
          [
           "midland",
           "US"
          ],
          [
           "walvis bay",
           "NA"
          ],
          [
           "provideniya",
           "RU"
          ],
          [
           "sambava",
           "MG"
          ],
          [
           "margate",
           "GB"
          ],
          [
           "loandjili",
           "CG"
          ],
          [
           "buckingham",
           "GB"
          ],
          [
           "bac lieu",
           "VN"
          ],
          [
           "waingapu",
           "ID"
          ],
          [
           "bereda",
           "ES"
          ],
          [
           "faanui",
           "PF"
          ],
          [
           "ola",
           "RU"
          ],
          [
           "zhangye",
           "CN"
          ],
          [
           "okhotsk",
           "RU"
          ],
          [
           "ordynskoye",
           "RU"
          ],
          [
           "goderich",
           "CA"
          ],
          [
           "hofn",
           "IS"
          ],
          [
           "balad",
           "IQ"
          ],
          [
           "tautira",
           "PF"
          ],
          [
           "torbay",
           "CA"
          ],
          [
           "rawson",
           "AR"
          ],
          [
           "fare",
           "PF"
          ],
          [
           "vostok",
           "RU"
          ],
          [
           "port-gentil",
           "GA"
          ],
          [
           "salalah",
           "OM"
          ],
          [
           "upington",
           "ZA"
          ],
          [
           "azovo",
           "RU"
          ],
          [
           "bagdarin",
           "RU"
          ],
          [
           "champerico",
           "GT"
          ],
          [
           "oudtshoorn",
           "ZA"
          ],
          [
           "grindavik",
           "IS"
          ],
          [
           "kananga",
           "CD"
          ],
          [
           "hanyang",
           "CN"
          ],
          [
           "neiafu",
           "TO"
          ],
          [
           "seydi",
           "TM"
          ],
          [
           "dorverden",
           "DE"
          ],
          [
           "wanning",
           "CN"
          ],
          [
           "tabuk",
           "PH"
          ],
          [
           "santa vitoria do palmar",
           "BR"
          ],
          [
           "kavieng",
           "PG"
          ],
          [
           "ginir",
           "ET"
          ],
          [
           "bathsheba",
           "BB"
          ],
          [
           "sheboygan",
           "US"
          ],
          [
           "tukan",
           "RU"
          ],
          [
           "imbituba",
           "BR"
          ],
          [
           "klaksvik",
           "FO"
          ],
          [
           "kiruna",
           "SE"
          ],
          [
           "maniitsoq",
           "GL"
          ],
          [
           "ilulissat",
           "GL"
          ],
          [
           "honningsvag",
           "NO"
          ],
          [
           "raga",
           "SS"
          ],
          [
           "rio gallegos",
           "AR"
          ],
          [
           "lagoa da prata",
           "BR"
          ],
          [
           "artesia",
           "US"
          ],
          [
           "san rafael",
           "AR"
          ],
          [
           "mareeba",
           "AU"
          ],
          [
           "kuala kedah",
           "MY"
          ],
          [
           "talnakh",
           "RU"
          ],
          [
           "kaitangata",
           "NZ"
          ],
          [
           "labuhan",
           "ID"
          ],
          [
           "san policarpo",
           "PH"
          ],
          [
           "bethel",
           "US"
          ],
          [
           "qandala",
           "SO"
          ],
          [
           "ahipara",
           "NZ"
          ],
          [
           "coquimbo",
           "CL"
          ],
          [
           "vangaindrano",
           "MG"
          ],
          [
           "niltepec",
           "MX"
          ],
          [
           "jiangyou",
           "CN"
          ],
          [
           "gazanjyk",
           "TM"
          ],
          [
           "novita",
           "CO"
          ],
          [
           "petropavlovsk-kamchatskiy",
           "RU"
          ],
          [
           "chapais",
           "CA"
          ],
          [
           "beringovskiy",
           "RU"
          ],
          [
           "korla",
           "CN"
          ],
          [
           "guerrero negro",
           "MX"
          ],
          [
           "olafsvik",
           "IS"
          ],
          [
           "ushtobe",
           "KZ"
          ],
          [
           "port blair",
           "IN"
          ],
          [
           "folldal",
           "NO"
          ],
          [
           "gujar khan",
           "PK"
          ],
          [
           "tortoli",
           "IT"
          ],
          [
           "taltal",
           "CL"
          ],
          [
           "novo selo",
           "MK"
          ],
          [
           "souillac",
           "MU"
          ],
          [
           "chernyshevskiy",
           "RU"
          ],
          [
           "le vauclin",
           "MQ"
          ],
          [
           "ancud",
           "CL"
          ],
          [
           "pascagoula",
           "US"
          ],
          [
           "bandarbeyla",
           "SO"
          ],
          [
           "quesnel",
           "CA"
          ],
          [
           "chitral",
           "PK"
          ],
          [
           "tirumullaivasal",
           "IN"
          ],
          [
           "campestre",
           "BR"
          ],
          [
           "kanigoro",
           "ID"
          ],
          [
           "naranjito",
           "EC"
          ],
          [
           "nuuk",
           "GL"
          ],
          [
           "nyurba",
           "RU"
          ],
          [
           "crestview",
           "US"
          ],
          [
           "sistranda",
           "NO"
          ],
          [
           "tamandare",
           "BR"
          ],
          [
           "carora",
           "VE"
          ],
          [
           "tevaitoa",
           "PF"
          ],
          [
           "slave lake",
           "CA"
          ],
          [
           "novopokrovka",
           "UA"
          ],
          [
           "brigantine",
           "US"
          ],
          [
           "havelock",
           "US"
          ],
          [
           "birjand",
           "IR"
          ],
          [
           "hervey bay",
           "AU"
          ],
          [
           "nogliki",
           "RU"
          ],
          [
           "suixi",
           "CN"
          ],
          [
           "husavik",
           "IS"
          ],
          [
           "hudson bay",
           "CA"
          ],
          [
           "buala",
           "SB"
          ],
          [
           "mehamn",
           "NO"
          ],
          [
           "athabasca",
           "CA"
          ],
          [
           "lorengau",
           "PG"
          ],
          [
           "joshimath",
           "IN"
          ],
          [
           "nome",
           "US"
          ],
          [
           "anshun",
           "CN"
          ],
          [
           "jurm",
           "AF"
          ],
          [
           "gberia fotombu",
           "SL"
          ],
          [
           "mecca",
           "SA"
          ],
          [
           "west lafayette",
           "US"
          ],
          [
           "nurota",
           "UZ"
          ],
          [
           "grand gaube",
           "MU"
          ],
          [
           "ejido",
           "VE"
          ],
          [
           "ballina",
           "AU"
          ],
          [
           "hagere hiywet",
           "ET"
          ],
          [
           "venado tuerto",
           "AR"
          ],
          [
           "bokoro",
           "TD"
          ],
          [
           "srednyaya akhtuba",
           "RU"
          ],
          [
           "arawa",
           "PG"
          ],
          [
           "sao filipe",
           "CV"
          ],
          [
           "lamar",
           "US"
          ],
          [
           "bom jesus",
           "BR"
          ],
          [
           "sulangan",
           "PH"
          ],
          [
           "nsanje",
           "MW"
          ],
          [
           "louis trichardt",
           "ZA"
          ],
          [
           "geraldton",
           "AU"
          ],
          [
           "matadi",
           "CD"
          ],
          [
           "atambua",
           "ID"
          ],
          [
           "necochea",
           "AR"
          ],
          [
           "tomakomai",
           "JP"
          ],
          [
           "vila franca do campo",
           "PT"
          ],
          [
           "astaneh-ye ashrafiyeh",
           "IR"
          ],
          [
           "stryn",
           "NO"
          ],
          [
           "peniche",
           "PT"
          ],
          [
           "broken hill",
           "AU"
          ],
          [
           "atar",
           "MR"
          ],
          [
           "lulea",
           "SE"
          ],
          [
           "tessalit",
           "ML"
          ],
          [
           "barhiya",
           "IN"
          ],
          [
           "cetraro",
           "IT"
          ],
          [
           "porto novo",
           "BJ"
          ],
          [
           "paita",
           "PE"
          ],
          [
           "diffa",
           "NE"
          ],
          [
           "alice springs",
           "AU"
          ],
          [
           "bukachacha",
           "RU"
          ],
          [
           "puerto ayacucho",
           "VE"
          ],
          [
           "half moon bay",
           "US"
          ],
          [
           "salamiyah",
           "SY"
          ],
          [
           "sain alto",
           "MX"
          ],
          [
           "ushibuka",
           "JP"
          ],
          [
           "hirara",
           "JP"
          ],
          [
           "faya",
           "SA"
          ],
          [
           "hambantota",
           "LK"
          ],
          [
           "lanzhou",
           "CN"
          ],
          [
           "grosseto",
           "IT"
          ],
          [
           "airai",
           "TL"
          ],
          [
           "morondava",
           "MG"
          ],
          [
           "dodoma",
           "TZ"
          ],
          [
           "petrozavodsk",
           "RU"
          ],
          [
           "uva",
           "RU"
          ],
          [
           "teguise",
           "ES"
          ],
          [
           "trelew",
           "AR"
          ],
          [
           "narva-joesuu",
           "EE"
          ],
          [
           "razole",
           "IN"
          ],
          [
           "siirt",
           "TR"
          ],
          [
           "pemangkat",
           "ID"
          ],
          [
           "guadalupe y calvo",
           "MX"
          ],
          [
           "akdepe",
           "TM"
          ],
          [
           "yerbogachen",
           "RU"
          ],
          [
           "umiray",
           "PH"
          ],
          [
           "wloszczowa",
           "PL"
          ],
          [
           "juneau",
           "US"
          ],
          [
           "namatanai",
           "PG"
          ],
          [
           "asau",
           "RO"
          ],
          [
           "laukaa",
           "RU"
          ],
          [
           "naron",
           "ES"
          ],
          [
           "panjab",
           "AF"
          ],
          [
           "westport",
           "US"
          ],
          [
           "noumea",
           "NC"
          ],
          [
           "saint-joseph",
           "RE"
          ],
          [
           "wonthaggi",
           "AU"
          ],
          [
           "jalu",
           "LY"
          ],
          [
           "littau",
           "CH"
          ],
          [
           "coahuayana",
           "MX"
          ],
          [
           "heihe",
           "CN"
          ],
          [
           "kandrian",
           "PG"
          ],
          [
           "boende",
           "CD"
          ],
          [
           "lensk",
           "RU"
          ],
          [
           "alofi",
           "NU"
          ],
          [
           "khasan",
           "RU"
          ],
          [
           "paducah",
           "US"
          ],
          [
           "bouca",
           "CF"
          ],
          [
           "shemgang",
           "BT"
          ],
          [
           "chulym",
           "RU"
          ],
          [
           "thai binh",
           "VN"
          ],
          [
           "epe",
           "NG"
          ],
          [
           "sabang",
           "ID"
          ],
          [
           "mirnyy",
           "RU"
          ],
          [
           "doha",
           "QA"
          ],
          [
           "tra vinh",
           "VN"
          ],
          [
           "tiznit",
           "MA"
          ],
          [
           "boa vista",
           "BR"
          ],
          [
           "pervomayskoye",
           "RU"
          ],
          [
           "velizh",
           "RU"
          ],
          [
           "guanay",
           "BO"
          ],
          [
           "novorudnyy",
           "RU"
          ],
          [
           "sao miguel do araguaia",
           "BR"
          ],
          [
           "san luis",
           "AR"
          ],
          [
           "beloha",
           "MG"
          ],
          [
           "zirandaro",
           "MX"
          ],
          [
           "lata",
           "PT"
          ],
          [
           "thinadhoo",
           "MV"
          ],
          [
           "te anau",
           "NZ"
          ],
          [
           "tabas",
           "IR"
          ],
          [
           "port lincoln",
           "AU"
          ],
          [
           "matara",
           "LK"
          ],
          [
           "weinan",
           "CN"
          ],
          [
           "simao",
           "CN"
          ],
          [
           "ketchikan",
           "US"
          ],
          [
           "kota kinabalu",
           "MY"
          ],
          [
           "preston",
           "GB"
          ],
          [
           "baft",
           "IR"
          ],
          [
           "karaton",
           "ID"
          ],
          [
           "obo",
           "CF"
          ],
          [
           "hualmay",
           "PE"
          ],
          [
           "likasi",
           "CD"
          ],
          [
           "havoysund",
           "NO"
          ],
          [
           "whithorn",
           "JM"
          ],
          [
           "iwaki",
           "JP"
          ],
          [
           "saint-francois",
           "FR"
          ],
          [
           "mogadishu",
           "SO"
          ],
          [
           "biak",
           "ID"
          ],
          [
           "puerto quijarro",
           "BO"
          ],
          [
           "chumikan",
           "RU"
          ],
          [
           "drovyanaya",
           "RU"
          ],
          [
           "janow lubelski",
           "PL"
          ],
          [
           "kingsville",
           "US"
          ],
          [
           "vila velha",
           "BR"
          ],
          [
           "singaparna",
           "ID"
          ],
          [
           "betare oya",
           "CM"
          ],
          [
           "nanpiao",
           "CN"
          ],
          [
           "poum",
           "NC"
          ],
          [
           "sakakah",
           "SA"
          ],
          [
           "santa fe",
           "AR"
          ],
          [
           "les cayes",
           "HT"
          ],
          [
           "fuzhou",
           "CN"
          ],
          [
           "marrakesh",
           "MA"
          ],
          [
           "williams lake",
           "CA"
          ],
          [
           "lagoa",
           "PT"
          ],
          [
           "najran",
           "SA"
          ],
          [
           "tongliao",
           "CN"
          ],
          [
           "darnah",
           "LY"
          ],
          [
           "mount isa",
           "AU"
          ],
          [
           "cockburn town",
           "TC"
          ],
          [
           "bang saphan",
           "TH"
          ],
          [
           "jeremie",
           "HT"
          ],
          [
           "teahupoo",
           "PF"
          ],
          [
           "auki",
           "SB"
          ],
          [
           "viedma",
           "AR"
          ],
          [
           "taseyevo",
           "RU"
          ],
          [
           "charters towers",
           "AU"
          ],
          [
           "fort nelson",
           "CA"
          ],
          [
           "nueve de julio",
           "AR"
          ],
          [
           "antofagasta",
           "CL"
          ],
          [
           "port keats",
           "AU"
          ],
          [
           "vestmanna",
           "FO"
          ],
          [
           "bluffton",
           "US"
          ],
          [
           "gigmoto",
           "PH"
          ],
          [
           "port shepstone",
           "ZA"
          ],
          [
           "yatou",
           "CN"
          ],
          [
           "dongsheng",
           "CN"
          ],
          [
           "portland",
           "US"
          ],
          [
           "piopio",
           "NZ"
          ],
          [
           "visnes",
           "NO"
          ],
          [
           "aldan",
           "RU"
          ],
          [
           "canon city",
           "US"
          ],
          [
           "kafue",
           "ZM"
          ],
          [
           "turukhansk",
           "RU"
          ],
          [
           "dori",
           "BF"
          ],
          [
           "cam ranh",
           "VN"
          ],
          [
           "yar-sale",
           "RU"
          ],
          [
           "aktau",
           "KZ"
          ],
          [
           "vila",
           "PT"
          ],
          [
           "bucerias",
           "MX"
          ],
          [
           "kangaatsiaq",
           "GL"
          ],
          [
           "kununurra",
           "AU"
          ],
          [
           "sergeyevka",
           "KZ"
          ],
          [
           "kjollefjord",
           "NO"
          ],
          [
           "arlit",
           "NE"
          ],
          [
           "maamba",
           "ZM"
          ],
          [
           "san cristobal",
           "VE"
          ],
          [
           "almeirim",
           "BR"
          ],
          [
           "bataipora",
           "BR"
          ],
          [
           "puerto asis",
           "CO"
          ],
          [
           "warkworth",
           "NZ"
          ],
          [
           "normandin",
           "CA"
          ],
          [
           "nhamunda",
           "BR"
          ],
          [
           "maceio",
           "BR"
          ],
          [
           "portobelo",
           "PA"
          ],
          [
           "santa rosa",
           "PH"
          ],
          [
           "broome",
           "US"
          ],
          [
           "boguchany",
           "RU"
          ],
          [
           "maumere",
           "ID"
          ],
          [
           "solwezi",
           "ZM"
          ],
          [
           "palanga",
           "LT"
          ],
          [
           "vanavara",
           "RU"
          ],
          [
           "ritchie",
           "ZA"
          ],
          [
           "wernberg",
           "AT"
          ],
          [
           "havre-saint-pierre",
           "CA"
          ]
         ],
         "hovertemplate": "Longitude=%{x}<br>Latitude=%{y}<br>Cloudiness=%{marker.size}<br>City=%{customdata[0]}<br>Country=%{customdata[1]}<br>Max Temp=%{marker.color}<extra></extra>",
         "legendgroup": "",
         "marker": {
          "color": [
           45.48,
           40.66,
           42.44,
           83.93,
           56.3,
           67.64,
           45.81,
           44.71,
           21.36,
           73.94,
           54.59,
           78.87,
           87.78,
           41.16,
           71.22,
           79.2,
           64.02,
           69.73,
           59.34,
           66.07,
           85.98,
           80.92,
           62.47,
           67.5,
           74.1,
           35.06,
           52.81,
           53.92,
           55.8,
           67.98,
           60.69,
           70.95,
           56.1,
           79.48,
           68.11,
           80.76,
           71.1,
           85.24,
           53.89,
           72.72,
           64.94,
           97.47,
           59.04,
           66.56,
           53.8,
           38.07,
           54.45,
           89.96,
           51.94,
           78.84,
           33.42,
           77.52,
           83.57,
           62.02,
           53.74,
           47.68,
           77.56,
           59.29,
           53.74,
           70.16,
           71.85,
           63.01,
           71.22,
           66.9,
           71.82,
           51.03,
           70.97,
           73.78,
           51.82,
           78.85,
           71.26,
           67.93,
           67.55,
           79.63,
           79.39,
           82.78,
           64.42,
           86.5,
           39.22,
           60.76,
           58.05,
           66.25,
           75.6,
           45.25,
           43.77,
           42.55,
           34.34,
           77.86,
           60.4,
           62.76,
           55.2,
           59.9,
           80.74,
           66.92,
           73.06,
           45.79,
           82.09,
           49.89,
           66.04,
           88.12,
           46.13,
           76.8,
           46.74,
           53.49,
           37.9,
           67.5,
           66.56,
           55.92,
           54.28,
           45.41,
           67.55,
           67.84,
           84.61,
           74.88,
           70.72,
           51.06,
           80.65,
           49.62,
           75.49,
           76.64,
           76.1,
           60.8,
           55.29,
           47.93,
           47.44,
           55.24,
           44.78,
           64.47,
           54.1,
           54.34,
           50.16,
           82.33,
           79.9,
           82.74,
           52.07,
           58.89,
           78.69,
           86.02,
           66.33,
           64.42,
           79.02,
           76.08,
           75.31,
           45.34,
           52.29,
           40.21,
           75.9,
           46.67,
           56.3,
           53.28,
           99.63,
           54.18,
           77.22,
           57.02,
           79.92,
           70.03,
           58.21,
           75.42,
           75.52,
           45.9,
           77.14,
           59.58,
           44.38,
           77.11,
           56.17,
           83.19,
           77.72,
           62.44,
           77.41,
           59.43,
           30.04,
           37.62,
           44.02,
           61.02,
           77.59,
           42.4,
           76.59,
           71.78,
           71.31,
           58.08,
           53.71,
           83.8,
           78.84,
           65.14,
           41.9,
           52.36,
           67.48,
           53.08,
           51.35,
           42.62,
           35.94,
           65.1,
           89.08,
           83.16,
           57.25,
           41.83,
           69.82,
           80.33,
           75.87,
           79.52,
           53.89,
           61.95,
           56.95,
           71.22,
           65.17,
           58.8,
           84.79,
           60.1,
           66.65,
           36.81,
           85.66,
           94.12,
           58.28,
           66.15,
           66.18,
           72.23,
           91.74,
           78.82,
           81.32,
           79.63,
           73,
           79.97,
           86.92,
           82.78,
           80.56,
           56.82,
           55,
           74.82,
           72.97,
           59.09,
           58.17,
           78.62,
           75.42,
           78.75,
           71.87,
           82.26,
           74.08,
           76.12,
           59.88,
           82.87,
           78.67,
           72.43,
           84.13,
           55.22,
           56.52,
           82.04,
           60.78,
           53.62,
           86.67,
           54.09,
           46.51,
           68.5,
           64.11,
           74.89,
           60.28,
           78.17,
           84.2,
           62.35,
           78.73,
           53.56,
           58.91,
           60.82,
           41.36,
           60.91,
           50.38,
           81.34,
           80.62,
           59.58,
           50.74,
           77.94,
           58.19,
           76.89,
           80.69,
           58.62,
           33.55,
           49.8,
           83.35,
           52.72,
           46.9,
           72.48,
           68.65,
           83.08,
           66.13,
           54.37,
           83.07,
           82.63,
           57.38,
           84.27,
           60.49,
           82,
           65.52,
           51.98,
           69.69,
           52.72,
           36.52,
           34.79,
           30.22,
           43.74,
           69.03,
           48.25,
           75.72,
           98.08,
           49.78,
           86.43,
           81.18,
           43.11,
           43.86,
           82.74,
           85.24,
           75.78,
           88.38,
           59.4,
           55.13,
           67.23,
           76.53,
           71.31,
           71.85,
           73.58,
           52.39,
           46.18,
           35.78,
           67.82,
           74.86,
           46.65,
           54.54,
           82.31,
           39.81,
           78.64,
           70.83,
           61.02,
           64.17,
           71.37,
           48.72,
           78.85,
           44.42,
           80.65,
           77.43,
           67.78,
           67.23,
           81.84,
           70.9,
           80.42,
           76.42,
           36.21,
           55.17,
           80.96,
           50.9,
           74.55,
           81.97,
           78.46,
           58.62,
           59.38,
           80.8,
           78.94,
           62.2,
           77.04,
           55.44,
           75.65,
           47.61,
           58.86,
           85.28,
           41.94,
           59.16,
           80.46,
           67.14,
           50.07,
           69.75,
           53.96,
           68.9,
           84.29,
           77.29,
           60.89,
           71.38,
           65.93,
           67.78,
           58.17,
           53.76,
           74.82,
           58.66,
           88.81,
           79.43,
           81.52,
           80.53,
           83.39,
           73.36,
           61.77,
           57.13,
           76.8,
           84.45,
           47.03,
           64.54,
           68.41,
           68.14,
           50.31,
           71.08,
           57.02,
           94.12,
           44.67,
           93.16,
           78.85,
           64.24,
           72.41,
           64.81,
           77.13,
           67.55,
           54.16,
           73.56,
           90.72,
           68.09,
           67.32,
           75.2,
           83.93,
           61.32,
           79.84,
           65.93,
           70.92,
           75.4,
           71.83,
           62.71,
           40.19,
           56.46,
           70.02,
           51.01,
           50.56,
           80.89,
           68.31,
           75.42,
           56.39,
           62.69,
           47.68,
           84.29,
           58.17,
           57.25,
           84.16,
           59.76,
           46.49,
           68.04,
           44.6,
           80.58,
           84.18,
           66.56,
           59.05,
           74.98,
           62.98,
           78.28,
           52.38,
           84.38,
           71.19,
           54.25,
           82.29,
           67.93,
           79.61,
           68.67,
           62.87,
           40.66,
           84.2,
           73.65,
           82.15,
           49.51,
           89.58,
           79.72,
           75.29,
           84.18,
           63.37,
           48.07,
           77.16,
           52.41,
           85.37,
           44.15,
           69.04,
           74.14,
           66.07,
           84.04,
           42.21,
           75.83,
           55.89,
           77.92,
           73.92,
           69.01,
           54.07,
           80.58,
           60.75,
           62.91,
           71.76,
           66.42,
           61.65,
           67.14,
           41.88,
           78.06,
           70.2,
           62.04,
           76.73,
           78.6,
           94.14,
           59.4,
           53.11,
           60.22,
           78.89,
           75.15,
           76.69,
           65.73,
           67.87,
           75.18,
           77.59,
           63.01,
           79.36,
           88.47,
           73.47,
           65.77,
           69.13,
           74.44,
           68.41,
           76.41,
           76.77,
           83.01,
           79.97,
           80.85,
           75.16,
           86.63,
           46.31,
           44.69,
           85.69,
           63.99,
           51.84,
           58.28,
           89.49,
           50.92,
           78.94,
           85.44,
           62.4,
           75.22,
           64.11,
           76.15,
           62.44,
           52.21,
           54.23,
           83.39,
           66.2,
           39.99,
           79.93,
           84.16,
           42.12,
           64.98,
           56.34,
           78.78,
           36.9,
           89.58,
           49.37,
           42.26,
           92.77,
           68,
           73.58,
           78.67,
           83.1,
           74.37,
           62.49,
           55.71,
           78.55,
           76.44,
           77.86,
           87.12,
           66.7,
           43.92,
           82.96,
           65.79,
           39.15,
           42.04,
           60.01,
           61.5,
           53.96
          ],
          "coloraxis": "coloraxis",
          "size": [
           94,
           40,
           100,
           40,
           100,
           0,
           41,
           75,
           99,
           0,
           73,
           8,
           40,
           86,
           90,
           11,
           27,
           90,
           100,
           90,
           1,
           40,
           2,
           100,
           21,
           100,
           100,
           40,
           14,
           86,
           100,
           91,
           100,
           7,
           0,
           40,
           42,
           53,
           3,
           31,
           100,
           1,
           0,
           0,
           100,
           5,
           100,
           92,
           42,
           0,
           100,
           100,
           8,
           0,
           53,
           66,
           3,
           48,
           9,
           10,
           0,
           4,
           33,
           100,
           73,
           100,
           66,
           4,
           0,
           40,
           24,
           3,
           47,
           2,
           0,
           100,
           0,
           20,
           90,
           100,
           0,
           94,
           100,
           100,
           94,
           30,
           6,
           100,
           0,
           0,
           0,
           100,
           75,
           2,
           0,
           0,
           20,
           14,
           0,
           1,
           100,
           65,
           76,
           90,
           0,
           100,
           36,
           40,
           100,
           100,
           41,
           27,
           1,
           10,
           100,
           100,
           49,
           100,
           60,
           16,
           5,
           75,
           90,
           100,
           94,
           100,
           100,
           75,
           20,
           1,
           90,
           100,
           20,
           99,
           100,
           75,
           0,
           40,
           100,
           3,
           75,
           100,
           100,
           89,
           55,
           18,
           64,
           100,
           17,
           100,
           1,
           0,
           20,
           100,
           100,
           64,
           43,
           20,
           100,
           100,
           2,
           46,
           100,
           94,
           6,
           100,
           0,
           95,
           1,
           92,
           40,
           0,
           100,
           20,
           8,
           100,
           98,
           92,
           2,
           7,
           100,
           100,
           11,
           30,
           100,
           0,
           100,
           100,
           100,
           0,
           100,
           37,
           1,
           1,
           6,
           95,
           20,
           20,
           71,
           100,
           100,
           100,
           100,
           2,
           100,
           100,
           30,
           100,
           14,
           0,
           75,
           1,
           0,
           0,
           78,
           40,
           4,
           20,
           100,
           75,
           0,
           98,
           99,
           87,
           100,
           96,
           71,
           100,
           0,
           1,
           100,
           90,
           0,
           10,
           100,
           44,
           38,
           100,
           35,
           19,
           0,
           9,
           100,
           0,
           93,
           1,
           100,
           95,
           1,
           0,
           90,
           72,
           100,
           64,
           100,
           100,
           46,
           71,
           15,
           5,
           100,
           3,
           96,
           11,
           100,
           0,
           53,
           99,
           0,
           32,
           99,
           97,
           75,
           8,
           23,
           100,
           31,
           100,
           75,
           39,
           100,
           20,
           0,
           16,
           15,
           65,
           32,
           76,
           100,
           92,
           1,
           98,
           100,
           100,
           90,
           0,
           75,
           100,
           100,
           40,
           100,
           1,
           0,
           12,
           100,
           100,
           99,
           88,
           45,
           1,
           6,
           100,
           0,
           89,
           23,
           100,
           0,
           27,
           75,
           100,
           100,
           0,
           0,
           100,
           100,
           100,
           100,
           0,
           82,
           100,
           6,
           24,
           100,
           0,
           94,
           1,
           5,
           20,
           0,
           100,
           94,
           89,
           99,
           0,
           65,
           75,
           100,
           13,
           68,
           55,
           10,
           5,
           1,
           1,
           0,
           0,
           0,
           0,
           2,
           67,
           68,
           100,
           48,
           100,
           99,
           90,
           2,
           0,
           49,
           6,
           1,
           0,
           10,
           19,
           0,
           100,
           22,
           80,
           55,
           70,
           46,
           75,
           5,
           79,
           0,
           0,
           0,
           92,
           18,
           100,
           75,
           40,
           0,
           100,
           36,
           47,
           6,
           90,
           31,
           100,
           33,
           100,
           20,
           99,
           30,
           22,
           6,
           1,
           0,
           94,
           100,
           62,
           83,
           57,
           100,
           72,
           66,
           9,
           33,
           100,
           100,
           0,
           0,
           80,
           100,
           0,
           100,
           98,
           0,
           100,
           12,
           59,
           90,
           66,
           0,
           100,
           100,
           0,
           1,
           40,
           40,
           41,
           0,
           20,
           100,
           99,
           81,
           53,
           64,
           75,
           0,
           1,
           100,
           68,
           100,
           100,
           84,
           93,
           100,
           0,
           82,
           100,
           20,
           6,
           100,
           65,
           0,
           86,
           56,
           16,
           100,
           13,
           11,
           98,
           0,
           31,
           57,
           5,
           100,
           90,
           20,
           100,
           0,
           100,
           98,
           78,
           100,
           100,
           13,
           100,
           0,
           100,
           99,
           75,
           5,
           100,
           100,
           75,
           0,
           100,
           100,
           91,
           12,
           0,
           0,
           3,
           4,
           75,
           40,
           15,
           100,
           6,
           0,
           90,
           94,
           100,
           3,
           74,
           30,
           46,
           20,
           8,
           75,
           5,
           100,
           14,
           90,
           20,
           100,
           6,
           0,
           100,
           20,
           92,
           76,
           20,
           40,
           5,
           100,
           100,
           40,
           100,
           7,
           5,
           90,
           100,
           49,
           100,
           100,
           18,
           4,
           7,
           69,
           1,
           22,
           99,
           100,
           95,
           75,
           100,
           36,
           40,
           5,
           47,
           65,
           100,
           100,
           7,
           100,
           1
          ],
          "sizemode": "area",
          "sizeref": 0.25,
          "symbol": "circle"
         },
         "mode": "markers",
         "name": "",
         "orientation": "v",
         "showlegend": false,
         "type": "scatter",
         "x": [
          168.8643,
          -68.3,
          103.7519,
          -155.09,
          43.8069,
          55.4781,
          168.3333,
          -70.9167,
          -69.3632,
          -39.2481,
          77.9753,
          -40.12,
          -159.319,
          -37.6368,
          -93.218,
          81.9833,
          -73.9662,
          -91.2396,
          134.5333,
          -79.2353,
          -121.9166,
          -85.8702,
          23.2833,
          132.9333,
          -134.9692,
          170.3133,
          142.4833,
          -6.3865,
          147.8833,
          -9.0603,
          -2.9779,
          -9.4215,
          25.5701,
          169.2667,
          2.3333,
          -175.2,
          57.7625,
          125.4808,
          18.4232,
          -17.1,
          26.891,
          -121.4238,
          36.5532,
          113.6333,
          19.2345,
          -45.2371,
          133.0436,
          114.1577,
          44.7417,
          66.6434,
          -56.1549,
          108.2082,
          73.0833,
          71.7189,
          40.045,
          12.6934,
          -139.0333,
          152.15,
          147.0587,
          93.45,
          -42.0278,
          67.2495,
          57.7575,
          -8.691,
          11.9385,
          -152.4072,
          -28.7,
          -41.0511,
          -57.5575,
          -159.775,
          57.7,
          49.05,
          -90.3518,
          114.5636,
          34.7642,
          122.6711,
          61.4036,
          -109.9124,
          -156.7887,
          -81.7115,
          115.3333,
          -122.753,
          140.8333,
          25.0406,
          170.5036,
          55.7077,
          -68.5145,
          8.7833,
          45.5739,
          33.5306,
          21.1014,
          -2.4935,
          -120.4579,
          -8.6151,
          153.6167,
          -73.65,
          -52.3333,
          30.7861,
          61.2158,
          -158.0858,
          102.6619,
          108,
          -133.0374,
          -151.5483,
          -46.0333,
          114.8794,
          -72.0334,
          -114.3525,
          -133.7218,
          114.0833,
          55.7679,
          130.9889,
          -123.3284,
          -35.1478,
          10.7833,
          31.8996,
          -42.7814,
          156.125,
          81.7833,
          -11,
          -35.4608,
          -85.4012,
          -135.33,
          123.3711,
          147.9167,
          134.6333,
          128.8694,
          -77.6831,
          147.3294,
          91.6419,
          -97.8558,
          172.7902,
          100.3354,
          140.3333,
          140.7667,
          152.9167,
          14.4283,
          -156.47,
          -50.2056,
          -40.7914,
          -79.9309,
          10,
          -94.9669,
          -71.8333,
          139.9,
          80.5464,
          -73.7849,
          161.3,
          -53.4616,
          20.0403,
          -113.5841,
          17.9442,
          -91.4032,
          106.2708,
          99.25,
          -50.0119,
          150.8552,
          -89.1172,
          -0.759,
          102.5,
          46.7219,
          -101.2676,
          -171,
          -7.3528,
          -75.7358,
          119.85,
          -82.5271,
          -117.136,
          126.9778,
          34.8709,
          15.6401,
          -46.05,
          -80.6094,
          -76.2167,
          -52.95,
          29.0864,
          96.1285,
          -80.4167,
          167.4833,
          -126.8329,
          129.6658,
          108.6167,
          -43.4883,
          12.7078,
          74.4859,
          15.1594,
          -53.3136,
          141.9667,
          -62.2724,
          81.9056,
          166.4372,
          -90.7547,
          -106.5436,
          -122.8345,
          -66.3821,
          39.5131,
          -16.681,
          -149.8667,
          39.55,
          -97.5169,
          24.7314,
          -52.0986,
          101.3842,
          62.6,
          27.9116,
          -9.2667,
          124.4781,
          -4.2167,
          -39.8428,
          -49.6678,
          127.7558,
          -123.2078,
          121.9,
          80.2644,
          -123.7276,
          -15.4461,
          49.1816,
          -81.7006,
          72.642,
          -97.0667,
          -115.95,
          135.4833,
          116.768,
          109.3,
          -77.7667,
          115.5667,
          150.8667,
          102.2655,
          -17.0347,
          145.575,
          131.1683,
          -99.8901,
          119.7528,
          -39.9167,
          82.5833,
          114.9675,
          -36.4344,
          129.4833,
          -115.6855,
          72.8944,
          32.2841,
          107.359,
          -15.9785,
          143.2326,
          -66.6727,
          -91.2068,
          98.3,
          -135.0107,
          -102.0779,
          14.5053,
          -173.3,
          50.1667,
          1.3862,
          11.8578,
          -0.9878,
          105.7244,
          120.2641,
          -7.5406,
          -151.75,
          151.2833,
          100.4517,
          143.3,
          81.8994,
          -81.7165,
          -15.2082,
          44.1453,
          -149.15,
          -52.7314,
          -65.1023,
          -151.0167,
          135.8833,
          8.7815,
          54.0924,
          21.2561,
          73.0237,
          113.6,
          -91.9167,
          22.2014,
          -22.4338,
          22.4178,
          105.5126,
          -173.9833,
          62.9137,
          9.2333,
          110.3967,
          121.4443,
          -53.3681,
          150.7967,
          40.7,
          -59.5167,
          -87.9334,
          57.4552,
          -48.6703,
          -6.589,
          20.2251,
          -52.9,
          -51.1,
          25.9704,
          25.678,
          -69.2181,
          -45.5436,
          -118.0831,
          -68.3301,
          145.4333,
          100.3,
          88.3972,
          169.8464,
          112.2051,
          125.5072,
          -73.414,
          49.8728,
          173.1667,
          -71.3436,
          47.6,
          -94.6167,
          104.7167,
          55.5154,
          -76.6053,
          158.6483,
          -74.8492,
          179.3167,
          86.1469,
          -114.0611,
          -23.7142,
          77.9838,
          92.75,
          9.9968,
          73.3026,
          9.6572,
          -70.4833,
          22.8811,
          57.5167,
          112.4714,
          -60.8388,
          -73.8203,
          -88.5561,
          50.8122,
          -122.5029,
          71.7858,
          79.8333,
          -46.2464,
          112.219,
          -79.4833,
          -51.7216,
          118.3319,
          -86.5705,
          8.834,
          -35.1047,
          -70.0827,
          -151.5,
          -114.769,
          36.5477,
          -74.3646,
          -76.9013,
          59.2211,
          152.8535,
          143.1667,
          116.7747,
          -17.3389,
          -102.3842,
          159.5921,
          27.8492,
          -113.2854,
          147.2712,
          79.5667,
          -165.4064,
          105.9333,
          70.8342,
          -11.1667,
          39.8261,
          -86.9081,
          65.6886,
          57.6608,
          -71.2375,
          153.5667,
          37.85,
          -61.9688,
          17.0568,
          44.8667,
          155.5367,
          -24.4956,
          -95.5836,
          -44.3586,
          123.7228,
          35.262,
          29.9032,
          114.6,
          13.45,
          124.8925,
          -58.7368,
          141.6033,
          -25.4333,
          49.9444,
          6.7226,
          -9.3811,
          141.4333,
          -13.0499,
          22.1547,
          1.0114,
          86.0333,
          15.9416,
          2.6036,
          -81.1144,
          12.6113,
          133.8833,
          116.9167,
          -67.6236,
          -122.4286,
          37.0532,
          -103.25,
          130.0228,
          125.2833,
          42.4509,
          81.1185,
          103.7922,
          11.25,
          125.4092,
          44.2833,
          35.7395,
          34.3469,
          52.1852,
          -13.564,
          -65.3051,
          28.0408,
          81.8333,
          41.9403,
          108.9667,
          -106.9667,
          59.3788,
          108.0108,
          121.4111,
          19.9659,
          -134.4197,
          152.4333,
          26.4,
          29.8453,
          -8.1528,
          67.0233,
          -73.3579,
          166.4572,
          55.6167,
          145.5913,
          21.5482,
          8.2627,
          -103.6833,
          127.4902,
          149.55,
          20.8667,
          114.9278,
          -169.9187,
          130.6434,
          -88.6001,
          18.2733,
          90.6579,
          80.9572,
          106.3333,
          3.9834,
          95.3214,
          113.9611,
          51.5333,
          106.3453,
          -9.5,
          -60.6733,
          46.7102,
          31.1967,
          -67.8797,
          58.1873,
          -50.1628,
          -66.3356,
          45.05,
          -100.9833,
          -8.3327,
          72.9333,
          167.7167,
          56.9244,
          135.8667,
          80.5353,
          109.5089,
          100.9748,
          -131.6461,
          116.0724,
          -2.7167,
          56.6057,
          106.1045,
          26.4869,
          -77.6139,
          26.7333,
          24.6622,
          -78.0378,
          140.8833,
          3.9054,
          45.3438,
          122.8766,
          -57.7667,
          135.315,
          113.0333,
          22.4104,
          -97.8561,
          -40.2925,
          108.111,
          14.0833,
          120.7479,
          164.0167,
          40.2064,
          -60.7,
          -73.75,
          119.3061,
          -8.0083,
          -122.1445,
          -27.9833,
          44.1277,
          122.2653,
          22.6367,
          139.5,
          -71.1419,
          99.5117,
          -74.1167,
          -149.2667,
          160.7034,
          -62.9967,
          94.8978,
          146.2667,
          -122.7002,
          -60.8831,
          -70.4,
          129.55,
          -7.1664,
          -80.8604,
          124.39,
          30.455,
          122.3833,
          109.9776,
          -122.6762,
          175.0167,
          5.2242,
          125.3894,
          -105.2424,
          28.1814,
          87.9833,
          -0.0345,
          109.1591,
          70.8333,
          51.2,
          -8.1588,
          -105.3333,
          -53.4641,
          128.7333,
          67.4158,
          27.3465,
          7.3853,
          27.15,
          -72.225,
          -52.5817,
          -53.2711,
          -76.5007,
          174.6667,
          -72.5321,
          -56.7131,
          -35.7353,
          -79.65,
          121.1114,
          -75.833,
          97.4531,
          122.2111,
          26.3894,
          21.0686,
          102.2797,
          24.6028,
          13.9607,
          -63.5986
         ],
         "xaxis": "x",
         "y": [
          -46.1927,
          -54.8,
          57.2639,
          19.7297,
          57.8797,
          -21.3393,
          -46.6,
          -53.15,
          77.484,
          -17.7125,
          44.3583,
          -2.8856,
          22.0752,
          65.6145,
          45.0205,
          25.9333,
          42.6001,
          43.8014,
          60.4167,
          42.097,
          36.6177,
          38.1112,
          44.7,
          32.9833,
          -23.1203,
          69.7008,
          -38.3833,
          58.2093,
          45.2333,
          42.7762,
          53.4106,
          38.6979,
          -33.918,
          -19.55,
          48.9167,
          -21.2,
          -20.2078,
          12.2188,
          -33.9258,
          32.6667,
          -33.5906,
          38.421,
          50.677,
          -24.8667,
          -34.4187,
          60.1432,
          44.8392,
          22.2855,
          43.0645,
          27.7384,
          72.7868,
          -7.3817,
          -0.6,
          40.4272,
          48.0448,
          67.667,
          -9.8,
          -32.7167,
          -42.7826,
          42.8,
          -22.9661,
          43.9098,
          -20.3428,
          43.213,
          -0.0921,
          57.79,
          38.5167,
          -21.6403,
          -38.0023,
          -21.2078,
          -20.4081,
          -13.2,
          -0.7393,
          29.0361,
          31.61,
          10.9995,
          41.1875,
          22.8909,
          71.2906,
          8.5196,
          -33.65,
          53.9166,
          35.7333,
          57.2343,
          -45.8742,
          51.9337,
          63.7506,
          3.75,
          39.4072,
          -24.6867,
          39.5231,
          53.5237,
          34.6391,
          41.5388,
          -28.65,
          -37.6167,
          4.9333,
          59.7035,
          28.2211,
          21.3469,
          58.0006,
          14.35,
          69.4541,
          59.6425,
          60.7167,
          40.81,
          42.0751,
          62.456,
          68.3499,
          71.9167,
          -21.3585,
          -25.2406,
          42.439,
          -8.8978,
          45.1667,
          54.4299,
          -14.2233,
          50.6789,
          24.7833,
          14,
          -5.1989,
          44.2519,
          57.0531,
          66.7697,
          70.6333,
          67.6333,
          71.6872,
          43.1501,
          -42.8794,
          48.0056,
          55.7435,
          3.0707,
          5.4112,
          -8.4667,
          -37.8333,
          -31.4333,
          27.0377,
          20.8947,
          -30.1811,
          -11.8472,
          32.7766,
          -2.65,
          29.3669,
          -36.6167,
          69.3,
          73.5069,
          2.1837,
          68.75,
          -33.6971,
          -34.5322,
          37.1041,
          -33.0117,
          31.5604,
          45.7625,
          9.1667,
          -24.7911,
          -34.5833,
          13.5697,
          5.2618,
          71.9667,
          24.6877,
          52.1058,
          65.5833,
          4.423,
          -14.0108,
          4.8,
          33.194,
          58.5169,
          37.5683,
          41.7711,
          78.2186,
          60.9167,
          51.2585,
          -13.7,
          5.3833,
          70.8578,
          4.1363,
          -0.6,
          -22.6667,
          65.282,
          62.7161,
          21.95,
          -16.4758,
          46.1706,
          65.85,
          -26.6481,
          -27.8994,
          -38.2667,
          -38.7196,
          50.6328,
          68.0546,
          14.5967,
          34.8014,
          42.4165,
          50.2001,
          68.0531,
          28.0996,
          -17.5667,
          -6.4333,
          28.017,
          -34.0033,
          -32.035,
          35.9404,
          30.15,
          -33.0153,
          51.55,
          -9.4467,
          51.0333,
          -14.2836,
          61.994,
          26.1842,
          39.1502,
          -33.8667,
          41.1231,
          48.3746,
          27.9054,
          11.2842,
          12.5847,
          10.5669,
          15.85,
          30.4833,
          -3.3667,
          23.4632,
          13.0833,
          24.7,
          50.95,
          -34.6833,
          -3.8004,
          20.931,
          43.3236,
          62.6683,
          16.8634,
          36.3833,
          -2.9248,
          18.85,
          -8.19,
          -10.4056,
          28.3667,
          54.1502,
          2.6708,
          31.2565,
          34.3659,
          18.0858,
          51.7102,
          48.0075,
          29.6994,
          39.8167,
          68.2191,
          31.9974,
          -22.9575,
          64.3833,
          -14.2667,
          51.3813,
          -4.7561,
          51.9997,
          9.285,
          -9.6567,
          43.2686,
          -16.4833,
          59.5833,
          38.9342,
          59.3833,
          54.3656,
          43.7501,
          64.2539,
          34.0164,
          -17.7333,
          47.6666,
          -43.3002,
          -16.7,
          46.4856,
          -0.7193,
          17.0151,
          -28.4478,
          54.6997,
          54.4333,
          14.3,
          -33.5907,
          63.8424,
          -5.8958,
          32.1371,
          -18.65,
          39.4816,
          52.85,
          18.8003,
          17.4189,
          -33.5189,
          -2.5744,
          7.1333,
          13.2167,
          43.7333,
          53.8409,
          -28.24,
          62.2266,
          67.8557,
          65.4167,
          69.2167,
          70.9821,
          8.4596,
          -51.6226,
          -20.0225,
          33.8658,
          -34.6177,
          -17,
          6.1,
          69.4865,
          -46.2817,
          -6.8844,
          12.1791,
          41.3712,
          11.472,
          -35.1667,
          -29.9533,
          -23.35,
          16.5667,
          31.7667,
          39.2446,
          4.9551,
          53.0452,
          49.7834,
          63.05,
          41.7597,
          27.9769,
          64.8945,
          45.2514,
          11.6667,
          62.1325,
          33.2558,
          39.9256,
          -25.4,
          41.4139,
          -20.5167,
          63.0128,
          14.5452,
          -41.8697,
          30.3658,
          9.4942,
          52.9999,
          35.8462,
          11.2333,
          -21.7111,
          -8.13,
          -2.2167,
          64.1835,
          63.2842,
          30.7621,
          63.7256,
          -8.7597,
          10.1755,
          -16.7833,
          55.2834,
          49.8425,
          39.4101,
          34.8791,
          32.8663,
          -25.2986,
          51.8333,
          33.8907,
          66.0449,
          52.85,
          -8.145,
          71.0357,
          54.7169,
          -2.0226,
          30.5667,
          64.5011,
          26.25,
          36.8648,
          9.8833,
          21.4267,
          40.4259,
          40.5614,
          -20.0064,
          8.5514,
          -28.8667,
          8.9833,
          -33.7456,
          12.3807,
          48.7089,
          -6.2132,
          14.8961,
          33.6668,
          -9.0744,
          11.1373,
          -16.92,
          -23.0439,
          -28.7667,
          -5.8167,
          -9.1061,
          -38.5473,
          42.6369,
          37.7167,
          37.2596,
          61.9045,
          39.3558,
          -31.95,
          20.5169,
          65.5842,
          20.1986,
          25.2833,
          39.5166,
          6.4965,
          -5.0892,
          13.3154,
          -23.7,
          52.9833,
          5.6639,
          37.4636,
          35.0113,
          23.5833,
          32.1906,
          24.8,
          18.3851,
          6.1241,
          36.0564,
          42.8333,
          -8.9266,
          -20.2833,
          -6.1722,
          61.7849,
          56.9908,
          29.0605,
          -43.249,
          59.4589,
          16.4833,
          37.9326,
          1.1667,
          26.1,
          42.0551,
          61.2767,
          15.2206,
          50.8526,
          58.3019,
          -3.6667,
          46.4333,
          58.7372,
          43.5167,
          34.388,
          41.1415,
          -22.2763,
          -21.3667,
          -38.6044,
          29.0331,
          47.05,
          18.7333,
          50.2441,
          -6.2167,
          -0.2167,
          60.7253,
          -19.0595,
          42.4308,
          37.0834,
          6.5105,
          27.2169,
          55.0997,
          20.45,
          6.5841,
          5.8933,
          62.5353,
          25.2867,
          9.9347,
          29.5833,
          2.8197,
          43.919,
          55.6056,
          -15.4975,
          51.5026,
          -13.275,
          -33.295,
          -25.1667,
          18.45,
          40.1629,
          0.5333,
          -45.4167,
          33.5959,
          -34.7333,
          5.9485,
          34.5036,
          22.7886,
          55.3422,
          5.9749,
          53.7667,
          29.234,
          -6.3424,
          5.3998,
          -11.0964,
          -10.9814,
          70.9963,
          18.2604,
          37.05,
          46.4154,
          2.0371,
          -0.9131,
          -17.7833,
          54.7183,
          51.5833,
          50.707,
          27.5159,
          -20.3297,
          -7.3515,
          5.6,
          41.0982,
          -20.2333,
          29.9697,
          -31.6333,
          18.2,
          26.0614,
          31.6315,
          52.1415,
          39.05,
          17.4924,
          43.6125,
          32.767,
          -20.7333,
          21.4612,
          11.2126,
          18.65,
          -17.8333,
          -8.7676,
          -40.8135,
          57.2169,
          -20.1,
          58.8053,
          -35.4444,
          -23.65,
          -14.25,
          62.1564,
          32.2371,
          13.7796,
          -30.7414,
          37.15,
          39.8161,
          45.5234,
          -38.4667,
          59.3556,
          58.6031,
          38.441,
          -15.7691,
          65.8167,
          14.0354,
          11.9214,
          66.8333,
          43.65,
          42.0304,
          20.75,
          68.3065,
          -15.7667,
          53.88,
          70.9457,
          18.7369,
          -17.3667,
          7.7669,
          -1.5233,
          -22.2953,
          0.5133,
          -36.4,
          48.8333,
          -2.1861,
          -9.6658,
          9.55,
          14.3122,
          42.2506,
          58.3814,
          -8.6199,
          -12.1688,
          55.9175,
          60.34,
          -29.038,
          46.6233,
          50.2334
         ],
         "yaxis": "y"
        }
       ],
       "layout": {
        "coloraxis": {
         "colorbar": {
          "title": {
           "text": "Max Temp"
          }
         },
         "colorscale": [
          [
           0,
           "#0d0887"
          ],
          [
           0.1111111111111111,
           "#46039f"
          ],
          [
           0.2222222222222222,
           "#7201a8"
          ],
          [
           0.3333333333333333,
           "#9c179e"
          ],
          [
           0.4444444444444444,
           "#bd3786"
          ],
          [
           0.5555555555555556,
           "#d8576b"
          ],
          [
           0.6666666666666666,
           "#ed7953"
          ],
          [
           0.7777777777777778,
           "#fb9f3a"
          ],
          [
           0.8888888888888888,
           "#fdca26"
          ],
          [
           1,
           "#f0f921"
          ]
         ]
        },
        "legend": {
         "itemsizing": "constant",
         "tracegroupgap": 0
        },
        "margin": {
         "t": 60
        },
        "template": {
         "data": {
          "bar": [
           {
            "error_x": {
             "color": "#2a3f5f"
            },
            "error_y": {
             "color": "#2a3f5f"
            },
            "marker": {
             "line": {
              "color": "#E5ECF6",
              "width": 0.5
             },
             "pattern": {
              "fillmode": "overlay",
              "size": 10,
              "solidity": 0.2
             }
            },
            "type": "bar"
           }
          ],
          "barpolar": [
           {
            "marker": {
             "line": {
              "color": "#E5ECF6",
              "width": 0.5
             },
             "pattern": {
              "fillmode": "overlay",
              "size": 10,
              "solidity": 0.2
             }
            },
            "type": "barpolar"
           }
          ],
          "carpet": [
           {
            "aaxis": {
             "endlinecolor": "#2a3f5f",
             "gridcolor": "white",
             "linecolor": "white",
             "minorgridcolor": "white",
             "startlinecolor": "#2a3f5f"
            },
            "baxis": {
             "endlinecolor": "#2a3f5f",
             "gridcolor": "white",
             "linecolor": "white",
             "minorgridcolor": "white",
             "startlinecolor": "#2a3f5f"
            },
            "type": "carpet"
           }
          ],
          "choropleth": [
           {
            "colorbar": {
             "outlinewidth": 0,
             "ticks": ""
            },
            "type": "choropleth"
           }
          ],
          "contour": [
           {
            "colorbar": {
             "outlinewidth": 0,
             "ticks": ""
            },
            "colorscale": [
             [
              0,
              "#0d0887"
             ],
             [
              0.1111111111111111,
              "#46039f"
             ],
             [
              0.2222222222222222,
              "#7201a8"
             ],
             [
              0.3333333333333333,
              "#9c179e"
             ],
             [
              0.4444444444444444,
              "#bd3786"
             ],
             [
              0.5555555555555556,
              "#d8576b"
             ],
             [
              0.6666666666666666,
              "#ed7953"
             ],
             [
              0.7777777777777778,
              "#fb9f3a"
             ],
             [
              0.8888888888888888,
              "#fdca26"
             ],
             [
              1,
              "#f0f921"
             ]
            ],
            "type": "contour"
           }
          ],
          "contourcarpet": [
           {
            "colorbar": {
             "outlinewidth": 0,
             "ticks": ""
            },
            "type": "contourcarpet"
           }
          ],
          "heatmap": [
           {
            "colorbar": {
             "outlinewidth": 0,
             "ticks": ""
            },
            "colorscale": [
             [
              0,
              "#0d0887"
             ],
             [
              0.1111111111111111,
              "#46039f"
             ],
             [
              0.2222222222222222,
              "#7201a8"
             ],
             [
              0.3333333333333333,
              "#9c179e"
             ],
             [
              0.4444444444444444,
              "#bd3786"
             ],
             [
              0.5555555555555556,
              "#d8576b"
             ],
             [
              0.6666666666666666,
              "#ed7953"
             ],
             [
              0.7777777777777778,
              "#fb9f3a"
             ],
             [
              0.8888888888888888,
              "#fdca26"
             ],
             [
              1,
              "#f0f921"
             ]
            ],
            "type": "heatmap"
           }
          ],
          "heatmapgl": [
           {
            "colorbar": {
             "outlinewidth": 0,
             "ticks": ""
            },
            "colorscale": [
             [
              0,
              "#0d0887"
             ],
             [
              0.1111111111111111,
              "#46039f"
             ],
             [
              0.2222222222222222,
              "#7201a8"
             ],
             [
              0.3333333333333333,
              "#9c179e"
             ],
             [
              0.4444444444444444,
              "#bd3786"
             ],
             [
              0.5555555555555556,
              "#d8576b"
             ],
             [
              0.6666666666666666,
              "#ed7953"
             ],
             [
              0.7777777777777778,
              "#fb9f3a"
             ],
             [
              0.8888888888888888,
              "#fdca26"
             ],
             [
              1,
              "#f0f921"
             ]
            ],
            "type": "heatmapgl"
           }
          ],
          "histogram": [
           {
            "marker": {
             "pattern": {
              "fillmode": "overlay",
              "size": 10,
              "solidity": 0.2
             }
            },
            "type": "histogram"
           }
          ],
          "histogram2d": [
           {
            "colorbar": {
             "outlinewidth": 0,
             "ticks": ""
            },
            "colorscale": [
             [
              0,
              "#0d0887"
             ],
             [
              0.1111111111111111,
              "#46039f"
             ],
             [
              0.2222222222222222,
              "#7201a8"
             ],
             [
              0.3333333333333333,
              "#9c179e"
             ],
             [
              0.4444444444444444,
              "#bd3786"
             ],
             [
              0.5555555555555556,
              "#d8576b"
             ],
             [
              0.6666666666666666,
              "#ed7953"
             ],
             [
              0.7777777777777778,
              "#fb9f3a"
             ],
             [
              0.8888888888888888,
              "#fdca26"
             ],
             [
              1,
              "#f0f921"
             ]
            ],
            "type": "histogram2d"
           }
          ],
          "histogram2dcontour": [
           {
            "colorbar": {
             "outlinewidth": 0,
             "ticks": ""
            },
            "colorscale": [
             [
              0,
              "#0d0887"
             ],
             [
              0.1111111111111111,
              "#46039f"
             ],
             [
              0.2222222222222222,
              "#7201a8"
             ],
             [
              0.3333333333333333,
              "#9c179e"
             ],
             [
              0.4444444444444444,
              "#bd3786"
             ],
             [
              0.5555555555555556,
              "#d8576b"
             ],
             [
              0.6666666666666666,
              "#ed7953"
             ],
             [
              0.7777777777777778,
              "#fb9f3a"
             ],
             [
              0.8888888888888888,
              "#fdca26"
             ],
             [
              1,
              "#f0f921"
             ]
            ],
            "type": "histogram2dcontour"
           }
          ],
          "mesh3d": [
           {
            "colorbar": {
             "outlinewidth": 0,
             "ticks": ""
            },
            "type": "mesh3d"
           }
          ],
          "parcoords": [
           {
            "line": {
             "colorbar": {
              "outlinewidth": 0,
              "ticks": ""
             }
            },
            "type": "parcoords"
           }
          ],
          "pie": [
           {
            "automargin": true,
            "type": "pie"
           }
          ],
          "scatter": [
           {
            "marker": {
             "colorbar": {
              "outlinewidth": 0,
              "ticks": ""
             }
            },
            "type": "scatter"
           }
          ],
          "scatter3d": [
           {
            "line": {
             "colorbar": {
              "outlinewidth": 0,
              "ticks": ""
             }
            },
            "marker": {
             "colorbar": {
              "outlinewidth": 0,
              "ticks": ""
             }
            },
            "type": "scatter3d"
           }
          ],
          "scattercarpet": [
           {
            "marker": {
             "colorbar": {
              "outlinewidth": 0,
              "ticks": ""
             }
            },
            "type": "scattercarpet"
           }
          ],
          "scattergeo": [
           {
            "marker": {
             "colorbar": {
              "outlinewidth": 0,
              "ticks": ""
             }
            },
            "type": "scattergeo"
           }
          ],
          "scattergl": [
           {
            "marker": {
             "colorbar": {
              "outlinewidth": 0,
              "ticks": ""
             }
            },
            "type": "scattergl"
           }
          ],
          "scattermapbox": [
           {
            "marker": {
             "colorbar": {
              "outlinewidth": 0,
              "ticks": ""
             }
            },
            "type": "scattermapbox"
           }
          ],
          "scatterpolar": [
           {
            "marker": {
             "colorbar": {
              "outlinewidth": 0,
              "ticks": ""
             }
            },
            "type": "scatterpolar"
           }
          ],
          "scatterpolargl": [
           {
            "marker": {
             "colorbar": {
              "outlinewidth": 0,
              "ticks": ""
             }
            },
            "type": "scatterpolargl"
           }
          ],
          "scatterternary": [
           {
            "marker": {
             "colorbar": {
              "outlinewidth": 0,
              "ticks": ""
             }
            },
            "type": "scatterternary"
           }
          ],
          "surface": [
           {
            "colorbar": {
             "outlinewidth": 0,
             "ticks": ""
            },
            "colorscale": [
             [
              0,
              "#0d0887"
             ],
             [
              0.1111111111111111,
              "#46039f"
             ],
             [
              0.2222222222222222,
              "#7201a8"
             ],
             [
              0.3333333333333333,
              "#9c179e"
             ],
             [
              0.4444444444444444,
              "#bd3786"
             ],
             [
              0.5555555555555556,
              "#d8576b"
             ],
             [
              0.6666666666666666,
              "#ed7953"
             ],
             [
              0.7777777777777778,
              "#fb9f3a"
             ],
             [
              0.8888888888888888,
              "#fdca26"
             ],
             [
              1,
              "#f0f921"
             ]
            ],
            "type": "surface"
           }
          ],
          "table": [
           {
            "cells": {
             "fill": {
              "color": "#EBF0F8"
             },
             "line": {
              "color": "white"
             }
            },
            "header": {
             "fill": {
              "color": "#C8D4E3"
             },
             "line": {
              "color": "white"
             }
            },
            "type": "table"
           }
          ]
         },
         "layout": {
          "annotationdefaults": {
           "arrowcolor": "#2a3f5f",
           "arrowhead": 0,
           "arrowwidth": 1
          },
          "autotypenumbers": "strict",
          "coloraxis": {
           "colorbar": {
            "outlinewidth": 0,
            "ticks": ""
           }
          },
          "colorscale": {
           "diverging": [
            [
             0,
             "#8e0152"
            ],
            [
             0.1,
             "#c51b7d"
            ],
            [
             0.2,
             "#de77ae"
            ],
            [
             0.3,
             "#f1b6da"
            ],
            [
             0.4,
             "#fde0ef"
            ],
            [
             0.5,
             "#f7f7f7"
            ],
            [
             0.6,
             "#e6f5d0"
            ],
            [
             0.7,
             "#b8e186"
            ],
            [
             0.8,
             "#7fbc41"
            ],
            [
             0.9,
             "#4d9221"
            ],
            [
             1,
             "#276419"
            ]
           ],
           "sequential": [
            [
             0,
             "#0d0887"
            ],
            [
             0.1111111111111111,
             "#46039f"
            ],
            [
             0.2222222222222222,
             "#7201a8"
            ],
            [
             0.3333333333333333,
             "#9c179e"
            ],
            [
             0.4444444444444444,
             "#bd3786"
            ],
            [
             0.5555555555555556,
             "#d8576b"
            ],
            [
             0.6666666666666666,
             "#ed7953"
            ],
            [
             0.7777777777777778,
             "#fb9f3a"
            ],
            [
             0.8888888888888888,
             "#fdca26"
            ],
            [
             1,
             "#f0f921"
            ]
           ],
           "sequentialminus": [
            [
             0,
             "#0d0887"
            ],
            [
             0.1111111111111111,
             "#46039f"
            ],
            [
             0.2222222222222222,
             "#7201a8"
            ],
            [
             0.3333333333333333,
             "#9c179e"
            ],
            [
             0.4444444444444444,
             "#bd3786"
            ],
            [
             0.5555555555555556,
             "#d8576b"
            ],
            [
             0.6666666666666666,
             "#ed7953"
            ],
            [
             0.7777777777777778,
             "#fb9f3a"
            ],
            [
             0.8888888888888888,
             "#fdca26"
            ],
            [
             1,
             "#f0f921"
            ]
           ]
          },
          "colorway": [
           "#636efa",
           "#EF553B",
           "#00cc96",
           "#ab63fa",
           "#FFA15A",
           "#19d3f3",
           "#FF6692",
           "#B6E880",
           "#FF97FF",
           "#FECB52"
          ],
          "font": {
           "color": "#2a3f5f"
          },
          "geo": {
           "bgcolor": "white",
           "lakecolor": "white",
           "landcolor": "#E5ECF6",
           "showlakes": true,
           "showland": true,
           "subunitcolor": "white"
          },
          "hoverlabel": {
           "align": "left"
          },
          "hovermode": "closest",
          "mapbox": {
           "style": "light"
          },
          "paper_bgcolor": "white",
          "plot_bgcolor": "#E5ECF6",
          "polar": {
           "angularaxis": {
            "gridcolor": "white",
            "linecolor": "white",
            "ticks": ""
           },
           "bgcolor": "#E5ECF6",
           "radialaxis": {
            "gridcolor": "white",
            "linecolor": "white",
            "ticks": ""
           }
          },
          "scene": {
           "xaxis": {
            "backgroundcolor": "#E5ECF6",
            "gridcolor": "white",
            "gridwidth": 2,
            "linecolor": "white",
            "showbackground": true,
            "ticks": "",
            "zerolinecolor": "white"
           },
           "yaxis": {
            "backgroundcolor": "#E5ECF6",
            "gridcolor": "white",
            "gridwidth": 2,
            "linecolor": "white",
            "showbackground": true,
            "ticks": "",
            "zerolinecolor": "white"
           },
           "zaxis": {
            "backgroundcolor": "#E5ECF6",
            "gridcolor": "white",
            "gridwidth": 2,
            "linecolor": "white",
            "showbackground": true,
            "ticks": "",
            "zerolinecolor": "white"
           }
          },
          "shapedefaults": {
           "line": {
            "color": "#2a3f5f"
           }
          },
          "ternary": {
           "aaxis": {
            "gridcolor": "white",
            "linecolor": "white",
            "ticks": ""
           },
           "baxis": {
            "gridcolor": "white",
            "linecolor": "white",
            "ticks": ""
           },
           "bgcolor": "#E5ECF6",
           "caxis": {
            "gridcolor": "white",
            "linecolor": "white",
            "ticks": ""
           }
          },
          "title": {
           "x": 0.05
          },
          "xaxis": {
           "automargin": true,
           "gridcolor": "white",
           "linecolor": "white",
           "ticks": "",
           "title": {
            "standoff": 15
           },
           "zerolinecolor": "white",
           "zerolinewidth": 2
          },
          "yaxis": {
           "automargin": true,
           "gridcolor": "white",
           "linecolor": "white",
           "ticks": "",
           "title": {
            "standoff": 15
           },
           "zerolinecolor": "white",
           "zerolinewidth": 2
          }
         }
        },
        "xaxis": {
         "anchor": "y",
         "domain": [
          0,
          1
         ],
         "title": {
          "text": "Longitude"
         }
        },
        "yaxis": {
         "anchor": "x",
         "domain": [
          0,
          1
         ],
         "title": {
          "text": "Latitude"
         }
        }
       }
      }
     },
     "metadata": {}
    }
   ],
   "metadata": {}
  },
  {
   "cell_type": "markdown",
   "source": [
    "Temperatures are generally highest between 0 and 20 latitude (corresponding to the equator and just north of the equator)."
   ],
   "metadata": {}
  },
  {
   "cell_type": "markdown",
   "source": [
    "## Latitude vs. Humidity Plot"
   ],
   "metadata": {}
  },
  {
   "cell_type": "code",
   "execution_count": 93,
   "source": [
    "plt.scatter(weather_df[\"Latitude\"], weather_df[\"Humidity\"], edgecolors = \"black\", facecolors = \"skyblue\", zorder = 3)\r\n",
    "plt.title(\"City Latitude vs. Humidity\")\r\n",
    "plt.xlabel(\"Latitude\")\r\n",
    "plt.ylabel(\"% Humidity\")\r\n",
    "plt.grid (which = \"major\", axis = \"both\", linestyle = \"-\", color = \"lightgrey\", zorder = -1)\r\n",
    "plt.savefig(\"Figures/latvhumid1.png\")\r\n",
    "plt.show()"
   ],
   "outputs": [
    {
     "output_type": "display_data",
     "data": {
      "image/png": "[encoded data removed]",
      "text/plain": [
       "<Figure size 432x288 with 1 Axes>"
      ]
     },
     "metadata": {
      "needs_background": "light"
     }
    }
   ],
   "metadata": {}
  },
  {
   "cell_type": "markdown",
   "source": [
    "Humidity is randomly distributed across the globe, with most cities having a percent humidity between 60 and 100%."
   ],
   "metadata": {}
  },
  {
   "cell_type": "markdown",
   "source": [
    "## Latitude vs. Cloudiness Plot"
   ],
   "metadata": {}
  },
  {
   "cell_type": "code",
   "execution_count": 94,
   "source": [
    "plt.scatter(weather_df[\"Latitude\"], weather_df[\"Cloudiness\"], edgecolors = \"black\", facecolors = \"skyblue\", zorder = 3)\r\n",
    "plt.title(\"City Latitude vs. Cloudiness\")\r\n",
    "plt.xlabel(\"Latitude\")\r\n",
    "plt.ylabel(\"% Cloudiness\")\r\n",
    "plt.grid (which = \"major\", axis = \"both\", linestyle = \"-\", color = \"lightgrey\", zorder = -1)\r\n",
    "plt.savefig(\"Figures/latvclouds.png\")\r\n",
    "plt.show()"
   ],
   "outputs": [
    {
     "output_type": "display_data",
     "data": {
      "image/png": "[encoded data removed]",
      "text/plain": [
       "<Figure size 432x288 with 1 Axes>"
      ]
     },
     "metadata": {
      "needs_background": "light"
     }
    }
   ],
   "metadata": {}
  },
  {
   "cell_type": "markdown",
   "source": [
    "Cloudiness is randomly distributed across the globe, with clusters of cities having either 100% coverage or 0% clouds."
   ],
   "metadata": {}
  },
  {
   "cell_type": "markdown",
   "source": [
    "## Latitude vs. Wind Speed Plot"
   ],
   "metadata": {}
  },
  {
   "cell_type": "code",
   "execution_count": 95,
   "source": [
    "plt.scatter(weather_df[\"Latitude\"], weather_df[\"Wind Speed\"], edgecolors = \"black\", facecolors = \"skyblue\", zorder = 3)\r\n",
    "plt.title(\"City Latitude vs. Wind Speed\")\r\n",
    "plt.xlabel(\"Latitude\")\r\n",
    "plt.ylabel(\"Wind Speed (mph)\")\r\n",
    "plt.grid (which = \"major\", axis = \"both\", linestyle = \"-\", color = \"lightgrey\", zorder = -1)\r\n",
    "plt.savefig(\"Figures/latvwind1.png\")\r\n",
    "plt.show()"
   ],
   "outputs": [
    {
     "output_type": "display_data",
     "data": {
      "image/png": "[encoded data removed]",
      "text/plain": [
       "<Figure size 432x288 with 1 Axes>"
      ]
     },
     "metadata": {
      "needs_background": "light"
     }
    }
   ],
   "metadata": {}
  },
  {
   "cell_type": "markdown",
   "source": [
    "Wind speed is randomly distributed across the globe, with most cities experiencing winds between 0 and 10 mph."
   ],
   "metadata": {}
  },
  {
   "cell_type": "markdown",
   "source": [
    "## Linear Regression"
   ],
   "metadata": {}
  },
  {
   "cell_type": "code",
   "execution_count": 96,
   "source": [
    "northern_df = weather_df.loc[pd.to_numeric(weather_df[\"Latitude\"]).astype(float) > 0, :]\r\n",
    "southern_df = weather_df.loc[pd.to_numeric(weather_df[\"Latitude\"]).astype(float) < 0, :]"
   ],
   "outputs": [],
   "metadata": {}
  },
  {
   "cell_type": "markdown",
   "source": [
    "####  Northern Hemisphere - Max Temp vs. Latitude Linear Regression"
   ],
   "metadata": {}
  },
  {
   "cell_type": "code",
   "execution_count": 97,
   "source": [
    "x_values = pd.to_numeric(northern_df['Latitude']).astype(float)\r\n",
    "y_values = pd.to_numeric(northern_df['Max Temp']).astype(float)\r\n",
    "(slopen, interceptn, rvaluen, pvaluen, stderrn) = linregress(x_values, y_values)\r\n",
    "rsqn = round(rvaluen**2,2)\r\n",
    "regress_values = x_values * slopen + interceptn\r\n",
    "line_eqn = \"y =\" + str(round(slopen,2)) + \"x + \" + str(round(interceptn,2))\r\n",
    "print(f\"Regression line equation is: {line_eqn}.\")\r\n",
    "plt.scatter(x_values,y_values)\r\n",
    "plt.plot(x_values,regress_values, \"r-\")\r\n",
    "plt.annotate(line_eqn,(0,30),fontsize=12,color=\"red\")\r\n",
    "plt.xlabel('Latitude')\r\n",
    "plt.ylabel('Max Temp (F)')\r\n",
    "plt.title('Northern Hemisphere - Max Temp vs. Latitude Linear Regression')\r\n",
    "print(f\"The r-squared is: {rsqn}\")"
   ],
   "outputs": [
    {
     "output_type": "stream",
     "name": "stdout",
     "text": [
      "Regression line equation is: y =-0.62x + 89.36.\n",
      "The r-squared is: 0.65\n"
     ]
    },
    {
     "output_type": "display_data",
     "data": {
      "image/png": "[encoded data removed]",
      "text/plain": [
       "<Figure size 432x288 with 1 Axes>"
      ]
     },
     "metadata": {
      "needs_background": "light"
     }
    }
   ],
   "metadata": {}
  },
  {
   "cell_type": "markdown",
   "source": [
    "####  Southern Hemisphere - Max Temp vs. Latitude Linear Regression"
   ],
   "metadata": {}
  },
  {
   "cell_type": "code",
   "execution_count": 98,
   "source": [
    "x_values = pd.to_numeric(southern_df['Latitude']).astype(float)\r\n",
    "y_values = pd.to_numeric(southern_df['Max Temp']).astype(float)\r\n",
    "(slopes, intercepts, rvalues, pvalues, stderrs) = linregress(x_values, y_values)\r\n",
    "rsqs = round(rvalues**2,2)\r\n",
    "regress_values = x_values * slopes + intercepts\r\n",
    "line_eq = \"y =\" + str(round(slopes,2)) + \"x + \" + str(round(intercepts,2))\r\n",
    "print(f\"Regression line equation is: {line_eq}.\")\r\n",
    "plt.scatter(x_values,y_values)\r\n",
    "plt.plot(x_values,regress_values, \"r-\")\r\n",
    "plt.annotate(line_eq,(-50,90),fontsize=12,color=\"red\")\r\n",
    "plt.xlabel('Latitude')\r\n",
    "plt.ylabel('Max Temp (F)')\r\n",
    "plt.title('Southern Hemisphere - Max Temp vs. Latitude Linear Regression')\r\n",
    "print(f\"The r-squared is: {rsqs}\")"
   ],
   "outputs": [
    {
     "output_type": "stream",
     "name": "stdout",
     "text": [
      "Regression line equation is: y =0.75x + 84.12.\n",
      "The r-squared is: 0.64\n"
     ]
    },
    {
     "output_type": "display_data",
     "data": {
      "image/png": "[encoded data removed]",
      "text/plain": [
       "<Figure size 432x288 with 1 Axes>"
      ]
     },
     "metadata": {
      "needs_background": "light"
     }
    }
   ],
   "metadata": {}
  },
  {
   "cell_type": "markdown",
   "source": [
    "In the Northern Hemisphere, there is a moderate ($R^{2}$ = 0.62), negative ($m$ = -0.63) correlation between latitude and temperature; generally, as you move from the north pole towards the equator, temperature rises. <br>\r\n",
    "<br>\r\n",
    "Conversely, in the Southern Hemisphere, there is a moderate ($R^{2}$ = 0.52), positive ($m$ = 0.75) correlation between latitude and temperature; generally, as you move from the equator towards the south pole, temperature falls."
   ],
   "metadata": {}
  },
  {
   "cell_type": "markdown",
   "source": [
    "####  Northern Hemisphere - Humidity (%) vs. Latitude Linear Regression"
   ],
   "metadata": {}
  },
  {
   "cell_type": "code",
   "execution_count": 99,
   "source": [
    "x_values = pd.to_numeric(northern_df['Latitude']).astype(float)\r\n",
    "y_values = pd.to_numeric(northern_df['Humidity']).astype(float)\r\n",
    "(slopen, interceptn, rvaluen, pvaluen, stderrn) = linregress(x_values, y_values)\r\n",
    "rsqn = round(rvaluen**2,2)\r\n",
    "regress_values = x_values * slopen + interceptn\r\n",
    "line_eqn = \"y =\" + str(round(slopen,2)) + \"x + \" + str(round(interceptn,2))\r\n",
    "print(f\"Regression line equation is: {line_eqn}.\")\r\n",
    "plt.scatter(x_values,y_values)\r\n",
    "plt.plot(x_values,regress_values, \"r-\")\r\n",
    "plt.annotate(line_eqn,(50,13),fontsize=12,color=\"red\")\r\n",
    "plt.xlabel('Latitude')\r\n",
    "plt.ylabel('% Humidity')\r\n",
    "plt.title('Northern Hemisphere - Humidity vs. Latitude Linear Regression')\r\n",
    "print(f\"The r-squared is: {rsqn}\")"
   ],
   "outputs": [
    {
     "output_type": "stream",
     "name": "stdout",
     "text": [
      "Regression line equation is: y =-0.1x + 74.97.\n",
      "The r-squared is: 0.01\n"
     ]
    },
    {
     "output_type": "display_data",
     "data": {
      "image/png": "[encoded data removed]",
      "text/plain": [
       "<Figure size 432x288 with 1 Axes>"
      ]
     },
     "metadata": {
      "needs_background": "light"
     }
    }
   ],
   "metadata": {}
  },
  {
   "cell_type": "markdown",
   "source": [
    "####  Southern Hemisphere - Humidity (%) vs. Latitude Linear Regression"
   ],
   "metadata": {}
  },
  {
   "cell_type": "code",
   "execution_count": 100,
   "source": [
    "x_values = pd.to_numeric(southern_df['Latitude']).astype(float)\r\n",
    "y_values = pd.to_numeric(southern_df['Humidity']).astype(float)\r\n",
    "(slopes, intercepts, rvalues, pvalues, stderrs) = linregress(x_values, y_values)\r\n",
    "rsqs = round(rvalues**2,2)\r\n",
    "regress_values = x_values * slopes + intercepts\r\n",
    "line_eq = \"y =\" + str(round(slopes,2)) + \"x + \" + str(round(intercepts,2))\r\n",
    "print(f\"Regression line equation is: {line_eq}.\")\r\n",
    "plt.scatter(x_values,y_values)\r\n",
    "plt.plot(x_values,regress_values, \"r-\")\r\n",
    "plt.annotate(line_eq,(-55,20),fontsize=12,color=\"red\")\r\n",
    "plt.xlabel('Latitude')\r\n",
    "plt.ylabel('% Humidity')\r\n",
    "plt.title('Southern Hemisphere - Humidity vs. Latitude Linear Regression')\r\n",
    "print(f\"The r-squared is: {rsqs}\")"
   ],
   "outputs": [
    {
     "output_type": "stream",
     "name": "stdout",
     "text": [
      "Regression line equation is: y =0.21x + 72.68.\n",
      "The r-squared is: 0.02\n"
     ]
    },
    {
     "output_type": "display_data",
     "data": {
      "image/png": "[encoded data removed]",
      "text/plain": [
       "<Figure size 432x288 with 1 Axes>"
      ]
     },
     "metadata": {
      "needs_background": "light"
     }
    }
   ],
   "metadata": {}
  },
  {
   "cell_type": "markdown",
   "source": [
    "In both the Northern and Southern Hemisphere, there no correlation between latitude and humidity ($R^{2}$ = 0 and 0.01, respectively). "
   ],
   "metadata": {}
  },
  {
   "cell_type": "markdown",
   "source": [
    "####  Northern Hemisphere - Cloudiness (%) vs. Latitude Linear Regression"
   ],
   "metadata": {}
  },
  {
   "cell_type": "code",
   "execution_count": 101,
   "source": [
    "x_values = pd.to_numeric(northern_df['Latitude']).astype(float)\r\n",
    "y_values = pd.to_numeric(northern_df['Cloudiness']).astype(float)\r\n",
    "(slopen, interceptn, rvaluen, pvaluen, stderrn) = linregress(x_values, y_values)\r\n",
    "rsqn = round(rvaluen**2,2)\r\n",
    "regress_values = x_values * slopen + interceptn\r\n",
    "line_eqn = \"y =\" + str(round(slopen,2)) + \"x + \" + str(round(interceptn,2))\r\n",
    "print(f\"Regression line equation is: {line_eqn}.\")\r\n",
    "plt.scatter(x_values,y_values)\r\n",
    "plt.plot(x_values,regress_values, \"r-\")\r\n",
    "plt.annotate(line_eqn,(50,13),fontsize=12,color=\"red\")\r\n",
    "plt.xlabel('Latitude')\r\n",
    "plt.ylabel('% Cloudiness')\r\n",
    "plt.title('Northern Hemisphere - Cloudiness vs. Latitude Linear Regression')\r\n",
    "print(f\"The r-squared is: {rsqn}\")"
   ],
   "outputs": [
    {
     "output_type": "stream",
     "name": "stdout",
     "text": [
      "Regression line equation is: y =0.28x + 44.18.\n",
      "The r-squared is: 0.02\n"
     ]
    },
    {
     "output_type": "display_data",
     "data": {
      "image/png": "[encoded data removed]",
      "text/plain": [
       "<Figure size 432x288 with 1 Axes>"
      ]
     },
     "metadata": {
      "needs_background": "light"
     }
    }
   ],
   "metadata": {}
  },
  {
   "cell_type": "markdown",
   "source": [
    "####  Southern Hemisphere - Cloudiness (%) vs. Latitude Linear Regression"
   ],
   "metadata": {}
  },
  {
   "cell_type": "code",
   "execution_count": 102,
   "source": [
    "x_values = pd.to_numeric(southern_df['Latitude']).astype(float)\r\n",
    "y_values = pd.to_numeric(southern_df['Cloudiness']).astype(float)\r\n",
    "(slopes, intercepts, rvalues, pvalues, stderrs) = linregress(x_values, y_values)\r\n",
    "rsqs = round(rvalues**2,2)\r\n",
    "regress_values = x_values * slopes + intercepts\r\n",
    "line_eq = \"y =\" + str(round(slopes,2)) + \"x + \" + str(round(intercepts,2))\r\n",
    "print(f\"Regression line equation is: {line_eq}.\")\r\n",
    "plt.scatter(x_values,y_values)\r\n",
    "plt.plot(x_values,regress_values, \"r-\")\r\n",
    "plt.annotate(line_eq,(-55,20),fontsize=12,color=\"red\")\r\n",
    "plt.xlabel('Latitude')\r\n",
    "plt.ylabel('% Cloudiness')\r\n",
    "plt.title('Southern Hemisphere - Cloudiness vs. Latitude Linear Regression')\r\n",
    "print(f\"The r-squared is: {rsqs}\")"
   ],
   "outputs": [
    {
     "output_type": "stream",
     "name": "stdout",
     "text": [
      "Regression line equation is: y =0.09x + 49.48.\n",
      "The r-squared is: 0.0\n"
     ]
    },
    {
     "output_type": "display_data",
     "data": {
      "image/png": "[encoded data removed]",
      "text/plain": [
       "<Figure size 432x288 with 1 Axes>"
      ]
     },
     "metadata": {
      "needs_background": "light"
     }
    }
   ],
   "metadata": {}
  },
  {
   "cell_type": "markdown",
   "source": [
    "In both the Northern and Southern Hemisphere, there no correlation between latitude and cloudiness ($R^{2}$ = 0 and 0.01, respectively). "
   ],
   "metadata": {}
  },
  {
   "cell_type": "markdown",
   "source": [
    "####  Northern Hemisphere - Wind Speed (mph) vs. Latitude Linear Regression"
   ],
   "metadata": {}
  },
  {
   "cell_type": "code",
   "execution_count": 103,
   "source": [
    "x_values = pd.to_numeric(northern_df['Latitude']).astype(float)\r\n",
    "y_values = pd.to_numeric(northern_df['Wind Speed']).astype(float)\r\n",
    "(slopen, interceptn, rvaluen, pvaluen, stderrn) = linregress(x_values, y_values)\r\n",
    "rsqn = round(rvaluen**2,2)\r\n",
    "regress_values = x_values * slopen + interceptn\r\n",
    "line_eqn = \"y =\" + str(round(slopen,2)) + \"x + \" + str(round(interceptn,2))\r\n",
    "print(f\"Regression line equation is: {line_eqn}.\")\r\n",
    "plt.scatter(x_values,y_values)\r\n",
    "plt.plot(x_values,regress_values, \"r-\")\r\n",
    "plt.annotate(line_eqn,(50,13),fontsize=12,color=\"red\")\r\n",
    "plt.xlabel('Latitude')\r\n",
    "plt.ylabel('Wind Speed (mph)')\r\n",
    "plt.title('Northern Hemisphere - Wind Speed vs. Latitude Linear Regression')\r\n",
    "print(f\"The r-squared is: {rsqn}\")"
   ],
   "outputs": [
    {
     "output_type": "stream",
     "name": "stdout",
     "text": [
      "Regression line equation is: y =0.04x + 5.51.\n",
      "The r-squared is: 0.02\n"
     ]
    },
    {
     "output_type": "display_data",
     "data": {
      "image/png": "[encoded data removed]",
      "text/plain": [
       "<Figure size 432x288 with 1 Axes>"
      ]
     },
     "metadata": {
      "needs_background": "light"
     }
    }
   ],
   "metadata": {}
  },
  {
   "cell_type": "markdown",
   "source": [
    "####  Southern Hemisphere - Wind Speed (mph) vs. Latitude Linear Regression"
   ],
   "metadata": {}
  },
  {
   "cell_type": "code",
   "execution_count": 104,
   "source": [
    "x_values = pd.to_numeric(southern_df['Latitude']).astype(float)\r\n",
    "y_values = pd.to_numeric(southern_df['Wind Speed']).astype(float)\r\n",
    "(slopes, intercepts, rvalues, pvalues, stderrs) = linregress(x_values, y_values)\r\n",
    "rsqs = round(rvalues**2,2)\r\n",
    "regress_values = x_values * slopes + intercepts\r\n",
    "line_eq = \"y =\" + str(round(slopes,2)) + \"x + \" + str(round(intercepts,2))\r\n",
    "print(f\"Regression line equation is: {line_eq}.\")\r\n",
    "plt.scatter(x_values,y_values)\r\n",
    "plt.plot(x_values,regress_values, \"r-\")\r\n",
    "plt.annotate(line_eq,(-55,20),fontsize=12,color=\"red\")\r\n",
    "plt.xlabel('Latitude')\r\n",
    "plt.ylabel('Wind Speed (mph)')\r\n",
    "plt.title('Southern Hemisphere - Wind Speed vs. Latitude Linear Regression')\r\n",
    "print(f\"The r-squared is: {rsqs}\")"
   ],
   "outputs": [
    {
     "output_type": "stream",
     "name": "stdout",
     "text": [
      "Regression line equation is: y =-0.03x + 7.62.\n",
      "The r-squared is: 0.01\n"
     ]
    },
    {
     "output_type": "display_data",
     "data": {
      "image/png": "[encoded data removed]",
      "text/plain": [
       "<Figure size 432x288 with 1 Axes>"
      ]
     },
     "metadata": {
      "needs_background": "light"
     }
    }
   ],
   "metadata": {}
  },
  {
   "cell_type": "markdown",
   "source": [
    "In both the Northern and Southern Hemisphere, there no correlation between latitude and wind speed ($R^{2}$ = 0 and 0.01, respectively). "
   ],
   "metadata": {}
  },
  {
   "cell_type": "markdown",
   "source": [
    "## Analysis and observations\r\n",
    "1. As expected, of the weather metrics assessed, latitude has the greatest determining effect on temperature.\r\n",
    "2. Wind speed, humidity, and cloudiness had no observable correlation with latitude.\r\n",
    "3. The hottest temperatures are found close to the equator."
   ],
   "metadata": {}
  }
 ],
 "metadata": {
  "anaconda-cloud": {},
  "kernel_info": {
   "name": "python3"
  },
  "kernelspec": {
   "name": "python3",
   "display_name": "Python 3.8.8 64-bit ('base': conda)"
  },
  "language_info": {
   "codemirror_mode": {
    "name": "ipython",
    "version": 3
   },
   "file_extension": ".py",
   "mimetype": "text/x-python",
   "name": "python",
   "nbconvert_exporter": "python",
   "pygments_lexer": "ipython3",
   "version": "3.8.8"
  },
  "latex_envs": {
   "LaTeX_envs_menu_present": true,
   "autoclose": false,
   "autocomplete": true,
   "bibliofile": "biblio.bib",
   "cite_by": "apalike",
   "current_citInitial": 1,
   "eqLabelWithNumbers": true,
   "eqNumInitial": 1,
   "hotkeys": {
    "equation": "Ctrl-E",
    "itemize": "Ctrl-I"
   },
   "labels_anchors": false,
   "latex_user_defs": false,
   "report_style_numbering": false,
   "user_envs_cfg": false
  },
  "nteract": {
   "version": "0.12.3"
  },
  "interpreter": {
   "hash": "a8894775e8aeee242aa6e141c386e0510b6f2108a9b3d20c3f118f8cb925642c"
  }
 },
 "nbformat": 4,
 "nbformat_minor": 2
}