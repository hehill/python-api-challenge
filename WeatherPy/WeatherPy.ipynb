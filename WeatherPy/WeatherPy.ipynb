{
 "cells": [
  {
   "cell_type": "markdown",
   "source": [
    "# WeatherPy\n",
    "----\n",
    "\n",
    "#### Note\n",
    "* Instructions have been included for each segment. You do not have to follow them exactly, but they are included to help you think through the steps."
   ],
   "metadata": {}
  },
  {
   "cell_type": "code",
   "execution_count": 1,
   "source": [
    "# Dependencies and Setup\r\n",
    "import matplotlib.pyplot as plt\r\n",
    "import pandas as pd\r\n",
    "import numpy as np\r\n",
    "import requests\r\n",
    "import time\r\n",
    "from scipy.stats import linregress\r\n",
    "import json\r\n",
    "\r\n",
    "# Import API key\r\n",
    "from api_keys import weather_api_key\r\n",
    "\r\n",
    "# Incorporated citipy to determine city based on latitude and longitude\r\n",
    "from citipy import citipy\r\n",
    "\r\n",
    "# Output File (CSV)\r\n",
    "output_data_file = \"../output_data/cities.csv\"\r\n",
    "\r\n",
    "# Range of latitudes and longitudes\r\n",
    "lat_range = (-90, 90)\r\n",
    "lng_range = (-180, 180)"
   ],
   "outputs": [],
   "metadata": {
    "scrolled": true
   }
  },
  {
   "cell_type": "markdown",
   "source": [
    "## Generate Cities List"
   ],
   "metadata": {}
  },
  {
   "cell_type": "code",
   "execution_count": 2,
   "source": [
    "# List for holding lat_lngs and cities\r\n",
    "lat_lngs = []\r\n",
    "cities = []\r\n",
    "\r\n",
    "# Create a set of random lat and lng combinations\r\n",
    "lats = np.random.uniform(lat_range[0], lat_range[1], size=1500)\r\n",
    "lngs = np.random.uniform(lng_range[0], lng_range[1], size=1500)\r\n",
    "lat_lngs = zip(lats, lngs)\r\n",
    "\r\n",
    "# Identify nearest city for each lat, lng combination\r\n",
    "for lat_lng in lat_lngs:\r\n",
    "    city = citipy.nearest_city(lat_lng[0], lat_lng[1]).city_name\r\n",
    "    \r\n",
    "    # If the city is unique, then add it to a our cities list\r\n",
    "    if city not in cities:\r\n",
    "        cities.append(city)\r\n",
    "\r\n",
    "# Print the city count to confirm sufficient count\r\n",
    "len(cities)"
   ],
   "outputs": [
    {
     "output_type": "execute_result",
     "data": {
      "text/plain": [
       "607"
      ]
     },
     "metadata": {},
     "execution_count": 2
    }
   ],
   "metadata": {}
  },
  {
   "cell_type": "markdown",
   "source": [
    "### Perform API Calls\n",
    "* Perform a weather check on each city using a series of successive API calls.\n",
    "* Include a print log of each city as it'sbeing processed (with the city number and city name).\n"
   ],
   "metadata": {}
  },
  {
   "cell_type": "code",
   "execution_count": 3,
   "source": [
    "# Review weather API output\r\n",
    "url = \"http://api.openweathermap.org/data/2.5/weather?\"\r\n",
    "city = \"Cleveland, Ohio\"\r\n",
    "units = \"imperial\"\r\n",
    "\r\n",
    "query_url = f\"{url}appid={weather_api_key}&q={city}&units={units}\"\r\n",
    "\r\n",
    "weather_response = requests.get(query_url)\r\n",
    "weather_json = weather_response.json()\r\n",
    "print(json.dumps(weather_json, indent = 4, sort_keys = True))"
   ],
   "outputs": [
    {
     "output_type": "stream",
     "name": "stdout",
     "text": [
      "{\n",
      "    \"base\": \"stations\",\n",
      "    \"clouds\": {\n",
      "        \"all\": 19\n",
      "    },\n",
      "    \"cod\": 200,\n",
      "    \"coord\": {\n",
      "        \"lat\": 41.4995,\n",
      "        \"lon\": -81.6954\n",
      "    },\n",
      "    \"dt\": 1631584702,\n",
      "    \"id\": 5150529,\n",
      "    \"main\": {\n",
      "        \"feels_like\": 75.13,\n",
      "        \"humidity\": 86,\n",
      "        \"pressure\": 1016,\n",
      "        \"temp\": 73.99,\n",
      "        \"temp_max\": 77.09,\n",
      "        \"temp_min\": 68.22\n",
      "    },\n",
      "    \"name\": \"Cleveland\",\n",
      "    \"sys\": {\n",
      "        \"country\": \"US\",\n",
      "        \"id\": 2016542,\n",
      "        \"sunrise\": 1631531125,\n",
      "        \"sunset\": 1631576404,\n",
      "        \"type\": 2\n",
      "    },\n",
      "    \"timezone\": -14400,\n",
      "    \"visibility\": 10000,\n",
      "    \"weather\": [\n",
      "        {\n",
      "            \"description\": \"few clouds\",\n",
      "            \"icon\": \"02n\",\n",
      "            \"id\": 801,\n",
      "            \"main\": \"Clouds\"\n",
      "        }\n",
      "    ],\n",
      "    \"wind\": {\n",
      "        \"deg\": 208,\n",
      "        \"gust\": 17.94,\n",
      "        \"speed\": 7.31\n",
      "    }\n",
      "}\n"
     ]
    }
   ],
   "metadata": {}
  },
  {
   "cell_type": "code",
   "execution_count": 4,
   "source": [
    "max_temps = []\r\n",
    "humidities = []\r\n",
    "clouds = []\r\n",
    "wind_speeds = []\r\n",
    "\r\n",
    "dates = []\r\n",
    "lats = []\r\n",
    "lngs = []\r\n",
    "cities_found = []\r\n",
    "countries = []\r\n",
    "\r\n",
    "count = 0\r\n",
    "set_count = 1\r\n",
    "\r\n",
    "print(\"Beginning Data Retrieval\")\r\n",
    "print(\"---------------------------\")\r\n",
    "for city in cities:\r\n",
    "    try:\r\n",
    "        query_url = f\"{url}appid={weather_api_key}&q={city}&units={units}\"\r\n",
    "        response = requests.get(query_url).json()\r\n",
    "        max_temps.append(response['main']['temp_max'])\r\n",
    "        humidities.append(response['main']['humidity'])\r\n",
    "        clouds.append(response['clouds']['all'])\r\n",
    "        wind_speeds.append(response['wind']['speed'])\r\n",
    "        dates.append(response['dt'])\r\n",
    "        lats.append(response['coord']['lat'])\r\n",
    "        lngs.append(response['coord']['lon'])\r\n",
    "        countries.append(response['sys']['country'])\r\n",
    "        if count == 50:\r\n",
    "            count = 1\r\n",
    "            set_count += 1\r\n",
    "            cities_found.append(city)\r\n",
    "        else:\r\n",
    "            count +=1\r\n",
    "            cities_found.append(city)\r\n",
    "        print(f\"Processing Record {count} of Set {set_count} | {city}\")\r\n",
    "    except:\r\n",
    "        print(f\"{city} not found...\")\r\n",
    "\r\n",
    "print(\"---------------------------\")\r\n",
    "print(\"Data Retrieval Complete\")\r\n",
    "print(\"---------------------------\")"
   ],
   "outputs": [
    {
     "output_type": "stream",
     "name": "stdout",
     "text": [
      "Beginning Data Retrieval\n",
      "---------------------------\n",
      "Processing Record 1 of Set 1 | sur\n",
      "Processing Record 2 of Set 1 | masunga\n",
      "Processing Record 3 of Set 1 | ancud\n",
      "Processing Record 4 of Set 1 | lebu\n",
      "Processing Record 5 of Set 1 | ipubi\n",
      "Processing Record 6 of Set 1 | port lincoln\n",
      "taolanaro not found...\n",
      "Processing Record 7 of Set 1 | waingapu\n",
      "belushya guba not found...\n",
      "Processing Record 8 of Set 1 | naze\n",
      "Processing Record 9 of Set 1 | vao\n",
      "Processing Record 10 of Set 1 | tuktoyaktuk\n",
      "Processing Record 11 of Set 1 | busselton\n",
      "attawapiskat not found...\n",
      "Processing Record 12 of Set 1 | santa ana\n",
      "Processing Record 13 of Set 1 | provideniya\n",
      "Processing Record 14 of Set 1 | tsumeb\n",
      "Processing Record 15 of Set 1 | chokurdakh\n",
      "Processing Record 16 of Set 1 | igrim\n",
      "Processing Record 17 of Set 1 | atuona\n",
      "Processing Record 18 of Set 1 | ushuaia\n",
      "Processing Record 19 of Set 1 | lagoa\n",
      "Processing Record 20 of Set 1 | jamestown\n",
      "Processing Record 21 of Set 1 | kaitangata\n",
      "Processing Record 22 of Set 1 | rikitea\n",
      "Processing Record 23 of Set 1 | castro\n",
      "Processing Record 24 of Set 1 | mataura\n",
      "Processing Record 25 of Set 1 | clyde river\n",
      "Processing Record 26 of Set 1 | pacific grove\n",
      "Processing Record 27 of Set 1 | cap malheureux\n",
      "Processing Record 28 of Set 1 | fairbanks\n",
      "barentsburg not found...\n",
      "Processing Record 29 of Set 1 | general pico\n",
      "Processing Record 30 of Set 1 | antalaha\n",
      "Processing Record 31 of Set 1 | barrow\n",
      "chiguiri arriba not found...\n",
      "Processing Record 32 of Set 1 | durban\n",
      "Processing Record 33 of Set 1 | ketchikan\n",
      "vaitupu not found...\n",
      "Processing Record 34 of Set 1 | alihe\n",
      "Processing Record 35 of Set 1 | kviteseid\n",
      "Processing Record 36 of Set 1 | qasigiannguit\n",
      "Processing Record 37 of Set 1 | byron bay\n",
      "Processing Record 38 of Set 1 | husavik\n",
      "Processing Record 39 of Set 1 | hithadhoo\n",
      "Processing Record 40 of Set 1 | herat\n",
      "Processing Record 41 of Set 1 | mar del plata\n",
      "Processing Record 42 of Set 1 | cherskiy\n",
      "Processing Record 43 of Set 1 | hasaki\n",
      "Processing Record 44 of Set 1 | haines junction\n",
      "Processing Record 45 of Set 1 | mahebourg\n",
      "Processing Record 46 of Set 1 | vangaindrano\n",
      "Processing Record 47 of Set 1 | bambous virieux\n",
      "Processing Record 48 of Set 1 | khatanga\n",
      "illoqqortoormiut not found...\n",
      "Processing Record 49 of Set 1 | port alfred\n",
      "Processing Record 50 of Set 1 | hobart\n",
      "yirol not found...\n",
      "mys shmidta not found...\n",
      "Processing Record 1 of Set 2 | batemans bay\n",
      "Processing Record 2 of Set 2 | skibbereen\n",
      "Processing Record 3 of Set 2 | butaritari\n",
      "Processing Record 4 of Set 2 | albany\n",
      "Processing Record 5 of Set 2 | dzaoudzi\n",
      "Processing Record 6 of Set 2 | alice springs\n",
      "Processing Record 7 of Set 2 | aldan\n",
      "Processing Record 8 of Set 2 | alofi\n",
      "Processing Record 9 of Set 2 | komsomolskiy\n",
      "Processing Record 10 of Set 2 | vaini\n",
      "Processing Record 11 of Set 2 | hermanus\n",
      "Processing Record 12 of Set 2 | huaraz\n",
      "Processing Record 13 of Set 2 | karagay\n",
      "Processing Record 14 of Set 2 | leningradskiy\n",
      "Processing Record 15 of Set 2 | lasa\n",
      "Processing Record 16 of Set 2 | ribeira grande\n",
      "tsihombe not found...\n",
      "Processing Record 17 of Set 2 | kapaa\n",
      "Processing Record 18 of Set 2 | bluff\n",
      "Processing Record 19 of Set 2 | phangnga\n",
      "Processing Record 20 of Set 2 | mareeba\n",
      "Processing Record 21 of Set 2 | victoria\n",
      "Processing Record 22 of Set 2 | olafsvik\n",
      "Processing Record 23 of Set 2 | ugoofaaru\n",
      "Processing Record 24 of Set 2 | saint-philippe\n",
      "Processing Record 25 of Set 2 | avarua\n",
      "Processing Record 26 of Set 2 | punta arenas\n",
      "Processing Record 27 of Set 2 | oussouye\n",
      "Processing Record 28 of Set 2 | hamadan\n",
      "Processing Record 29 of Set 2 | gunjur\n",
      "Processing Record 30 of Set 2 | esperance\n",
      "Processing Record 31 of Set 2 | lunglei\n",
      "Processing Record 32 of Set 2 | dikson\n",
      "Processing Record 33 of Set 2 | bethel\n",
      "Processing Record 34 of Set 2 | yar-sale\n",
      "Processing Record 35 of Set 2 | meulaboh\n",
      "Processing Record 36 of Set 2 | katobu\n",
      "Processing Record 37 of Set 2 | tabou\n",
      "Processing Record 38 of Set 2 | hami\n",
      "Processing Record 39 of Set 2 | garowe\n",
      "Processing Record 40 of Set 2 | teknaf\n",
      "Processing Record 41 of Set 2 | carnarvon\n",
      "Processing Record 42 of Set 2 | sao felix do xingu\n",
      "Processing Record 43 of Set 2 | raga\n",
      "Processing Record 44 of Set 2 | arkhangelskoye\n",
      "Processing Record 45 of Set 2 | chara\n",
      "Processing Record 46 of Set 2 | taoudenni\n",
      "Processing Record 47 of Set 2 | inta\n",
      "Processing Record 48 of Set 2 | warren\n",
      "Processing Record 49 of Set 2 | port hawkesbury\n",
      "yomitan not found...\n",
      "Processing Record 50 of Set 2 | kyaikkami\n",
      "Processing Record 1 of Set 3 | arraial do cabo\n",
      "Processing Record 2 of Set 3 | antropovo\n",
      "Processing Record 3 of Set 3 | ilulissat\n",
      "Processing Record 4 of Set 3 | marzuq\n",
      "Processing Record 5 of Set 3 | dibulla\n",
      "Processing Record 6 of Set 3 | mokhsogollokh\n",
      "Processing Record 7 of Set 3 | howard springs\n",
      "sentyabrskiy not found...\n",
      "Processing Record 8 of Set 3 | saskylakh\n",
      "Processing Record 9 of Set 3 | oranjemund\n",
      "Processing Record 10 of Set 3 | juneau\n",
      "Processing Record 11 of Set 3 | bredasdorp\n",
      "Processing Record 12 of Set 3 | qaanaaq\n",
      "Processing Record 13 of Set 3 | harper\n",
      "umzimvubu not found...\n",
      "Processing Record 14 of Set 3 | lake city\n",
      "Processing Record 15 of Set 3 | kajaani\n",
      "Processing Record 16 of Set 3 | yellowknife\n",
      "Processing Record 17 of Set 3 | touros\n",
      "Processing Record 18 of Set 3 | huaicheng\n",
      "Processing Record 19 of Set 3 | ixtapa\n",
      "Processing Record 20 of Set 3 | salalah\n",
      "Processing Record 21 of Set 3 | parana\n",
      "Processing Record 22 of Set 3 | krasnouralsk\n",
      "Processing Record 23 of Set 3 | hilo\n",
      "Processing Record 24 of Set 3 | bengkulu\n",
      "Processing Record 25 of Set 3 | torbay\n",
      "tabiauea not found...\n",
      "Processing Record 26 of Set 3 | sikonge\n",
      "Processing Record 27 of Set 3 | preobrazheniye\n",
      "ruatoria not found...\n",
      "Processing Record 28 of Set 3 | pisco\n",
      "Processing Record 29 of Set 3 | porto santo\n",
      "Processing Record 30 of Set 3 | ishigaki\n",
      "Processing Record 31 of Set 3 | longyearbyen\n",
      "Processing Record 32 of Set 3 | port elizabeth\n",
      "Processing Record 33 of Set 3 | tasiilaq\n",
      "Processing Record 34 of Set 3 | srednekolymsk\n",
      "Processing Record 35 of Set 3 | manzanillo\n",
      "Processing Record 36 of Set 3 | ostrovnoy\n",
      "Processing Record 37 of Set 3 | palana\n",
      "grand centre not found...\n",
      "Processing Record 38 of Set 3 | dokka\n",
      "Processing Record 39 of Set 3 | faanui\n",
      "Processing Record 40 of Set 3 | rocha\n",
      "Processing Record 41 of Set 3 | brockville\n",
      "Processing Record 42 of Set 3 | yulara\n",
      "Processing Record 43 of Set 3 | norman wells\n",
      "kollumerland not found...\n",
      "Processing Record 44 of Set 3 | iqaluit\n",
      "Processing Record 45 of Set 3 | chapais\n",
      "Processing Record 46 of Set 3 | obo\n",
      "Processing Record 47 of Set 3 | georgetown\n",
      "Processing Record 48 of Set 3 | saint anthony\n",
      "Processing Record 49 of Set 3 | cabo san lucas\n",
      "Processing Record 50 of Set 3 | bilibino\n",
      "Processing Record 1 of Set 4 | luganville\n",
      "Processing Record 2 of Set 4 | pennagaram\n",
      "tsienyane not found...\n",
      "Processing Record 3 of Set 4 | encruzilhada do sul\n",
      "Processing Record 4 of Set 4 | portland\n",
      "Processing Record 5 of Set 4 | ozernovskiy\n",
      "Processing Record 6 of Set 4 | te anau\n",
      "Processing Record 7 of Set 4 | mahendragarh\n",
      "Processing Record 8 of Set 4 | alta floresta\n",
      "karaul not found...\n",
      "Processing Record 9 of Set 4 | suntar\n",
      "Processing Record 10 of Set 4 | praia\n",
      "Processing Record 11 of Set 4 | kaeo\n",
      "Processing Record 12 of Set 4 | new norfolk\n",
      "Processing Record 13 of Set 4 | lorengau\n",
      "Processing Record 14 of Set 4 | tibagi\n",
      "Processing Record 15 of Set 4 | cape town\n",
      "Processing Record 16 of Set 4 | kadoma\n",
      "Processing Record 17 of Set 4 | saint george\n",
      "Processing Record 18 of Set 4 | omboue\n",
      "Processing Record 19 of Set 4 | bayburt\n",
      "Processing Record 20 of Set 4 | todos santos\n",
      "Processing Record 21 of Set 4 | banyo\n",
      "Processing Record 22 of Set 4 | najran\n",
      "Processing Record 23 of Set 4 | talara\n",
      "Processing Record 24 of Set 4 | vanimo\n",
      "Processing Record 25 of Set 4 | omaruru\n",
      "Processing Record 26 of Set 4 | buba\n",
      "Processing Record 27 of Set 4 | grafelfing\n",
      "mahaicony not found...\n",
      "Processing Record 28 of Set 4 | el alto\n",
      "krasnoyarsk-66 not found...\n",
      "Processing Record 29 of Set 4 | jiazi\n",
      "Processing Record 30 of Set 4 | nikolskoye\n",
      "Processing Record 31 of Set 4 | kismayo\n",
      "Processing Record 32 of Set 4 | atar\n",
      "Processing Record 33 of Set 4 | ewa beach\n",
      "Processing Record 34 of Set 4 | kangaatsiaq\n",
      "Processing Record 35 of Set 4 | lahad datu\n",
      "Processing Record 36 of Set 4 | las vegas\n",
      "Processing Record 37 of Set 4 | vestmannaeyjar\n",
      "Processing Record 38 of Set 4 | holland\n",
      "Processing Record 39 of Set 4 | zhigansk\n",
      "Processing Record 40 of Set 4 | road town\n",
      "Processing Record 41 of Set 4 | prince rupert\n",
      "wulanhaote not found...\n",
      "balimo not found...\n",
      "Processing Record 42 of Set 4 | copiapo\n",
      "Processing Record 43 of Set 4 | east london\n",
      "Processing Record 44 of Set 4 | viedma\n",
      "nizhneyansk not found...\n",
      "Processing Record 45 of Set 4 | pirapemas\n",
      "Processing Record 46 of Set 4 | oktyabrskoye\n",
      "Processing Record 47 of Set 4 | biltine\n",
      "Processing Record 48 of Set 4 | grand gaube\n",
      "Processing Record 49 of Set 4 | umm kaddadah\n",
      "geresk not found...\n",
      "Processing Record 50 of Set 4 | marienburg\n",
      "Processing Record 1 of Set 5 | maniitsoq\n",
      "Processing Record 2 of Set 5 | quatre cocos\n",
      "Processing Record 3 of Set 5 | kameyama\n",
      "Processing Record 4 of Set 5 | kahului\n",
      "Processing Record 5 of Set 5 | kalinagar\n",
      "Processing Record 6 of Set 5 | abu samrah\n",
      "Processing Record 7 of Set 5 | san patricio\n",
      "Processing Record 8 of Set 5 | port moresby\n",
      "Processing Record 9 of Set 5 | torgau\n",
      "Processing Record 10 of Set 5 | kruisfontein\n",
      "Processing Record 11 of Set 5 | thompson\n",
      "Processing Record 12 of Set 5 | kalmunai\n",
      "Processing Record 13 of Set 5 | dublin\n",
      "Processing Record 14 of Set 5 | dingle\n",
      "Processing Record 15 of Set 5 | the valley\n",
      "Processing Record 16 of Set 5 | itarema\n",
      "Processing Record 17 of Set 5 | shadrinsk\n",
      "Processing Record 18 of Set 5 | rovnoye\n",
      "Processing Record 19 of Set 5 | necochea\n",
      "Processing Record 20 of Set 5 | tiksi\n",
      "Processing Record 21 of Set 5 | kaiu\n",
      "Processing Record 22 of Set 5 | cascais\n",
      "Processing Record 23 of Set 5 | newport\n",
      "Processing Record 24 of Set 5 | itoman\n",
      "Processing Record 25 of Set 5 | ponta do sol\n",
      "Processing Record 26 of Set 5 | severo-kurilsk\n",
      "Processing Record 27 of Set 5 | baghmara\n",
      "Processing Record 28 of Set 5 | kodiak\n",
      "Processing Record 29 of Set 5 | kavieng\n",
      "Processing Record 30 of Set 5 | seydi\n",
      "Processing Record 31 of Set 5 | cairns\n",
      "Processing Record 32 of Set 5 | nanortalik\n",
      "Processing Record 33 of Set 5 | portarlington\n",
      "Processing Record 34 of Set 5 | salinopolis\n",
      "rungata not found...\n",
      "Processing Record 35 of Set 5 | sitka\n",
      "Processing Record 36 of Set 5 | ponta delgada\n",
      "Processing Record 37 of Set 5 | talcahuano\n",
      "Processing Record 38 of Set 5 | donskoye\n",
      "Processing Record 39 of Set 5 | garmsar\n",
      "Processing Record 40 of Set 5 | upernavik\n",
      "Processing Record 41 of Set 5 | graaff-reinet\n",
      "Processing Record 42 of Set 5 | diffa\n",
      "Processing Record 43 of Set 5 | cristalina\n",
      "Processing Record 44 of Set 5 | lexington park\n",
      "Processing Record 45 of Set 5 | shitanjing\n",
      "Processing Record 46 of Set 5 | narsaq\n",
      "Processing Record 47 of Set 5 | bogorodskoye\n",
      "Processing Record 48 of Set 5 | asekeyevo\n",
      "Processing Record 49 of Set 5 | yinchuan\n",
      "Processing Record 50 of Set 5 | shizunai\n",
      "Processing Record 1 of Set 6 | jackson\n",
      "Processing Record 2 of Set 6 | springbok\n",
      "Processing Record 3 of Set 6 | oriximina\n",
      "Processing Record 4 of Set 6 | imeni poliny osipenko\n",
      "Processing Record 5 of Set 6 | acari\n",
      "Processing Record 6 of Set 6 | anadyr\n",
      "Processing Record 7 of Set 6 | ukiah\n",
      "Processing Record 8 of Set 6 | tessalit\n",
      "Processing Record 9 of Set 6 | goderich\n",
      "Processing Record 10 of Set 6 | awjilah\n",
      "amderma not found...\n",
      "Processing Record 11 of Set 6 | fortuna\n",
      "Processing Record 12 of Set 6 | lakes entrance\n",
      "samusu not found...\n",
      "Processing Record 13 of Set 6 | priladozhskiy\n",
      "Processing Record 14 of Set 6 | opuwo\n",
      "Processing Record 15 of Set 6 | kemijarvi\n",
      "Processing Record 16 of Set 6 | sabratah\n",
      "Processing Record 17 of Set 6 | port blair\n",
      "Processing Record 18 of Set 6 | port hedland\n",
      "Processing Record 19 of Set 6 | carauari\n",
      "Processing Record 20 of Set 6 | celestun\n",
      "Processing Record 21 of Set 6 | katsuura\n",
      "Processing Record 22 of Set 6 | gloucester\n",
      "Processing Record 23 of Set 6 | bucak\n",
      "Processing Record 24 of Set 6 | verkhnyaya inta\n",
      "Processing Record 25 of Set 6 | uaua\n",
      "Processing Record 26 of Set 6 | cidreira\n",
      "Processing Record 27 of Set 6 | aragarcas\n",
      "grand river south east not found...\n",
      "Processing Record 28 of Set 6 | manzanares\n",
      "Processing Record 29 of Set 6 | tartagal\n",
      "Processing Record 30 of Set 6 | evensk\n",
      "Processing Record 31 of Set 6 | amalapuram\n",
      "Processing Record 32 of Set 6 | ca mau\n",
      "Processing Record 33 of Set 6 | yumen\n",
      "Processing Record 34 of Set 6 | znamenskoye\n",
      "Processing Record 35 of Set 6 | davila\n",
      "Processing Record 36 of Set 6 | rio gallegos\n",
      "Processing Record 37 of Set 6 | emerald\n",
      "Processing Record 38 of Set 6 | bathsheba\n",
      "Processing Record 39 of Set 6 | broome\n",
      "Processing Record 40 of Set 6 | karratha\n",
      "Processing Record 41 of Set 6 | bako\n",
      "Processing Record 42 of Set 6 | luderitz\n",
      "Processing Record 43 of Set 6 | bonfim\n",
      "Processing Record 44 of Set 6 | general roca\n",
      "Processing Record 45 of Set 6 | kailua\n",
      "Processing Record 46 of Set 6 | gaogou\n",
      "Processing Record 47 of Set 6 | cayenne\n",
      "Processing Record 48 of Set 6 | itaituba\n",
      "Processing Record 49 of Set 6 | pierre\n",
      "Processing Record 50 of Set 6 | kasongo\n",
      "Processing Record 1 of Set 7 | domodossola\n",
      "Processing Record 2 of Set 7 | inhambane\n",
      "Processing Record 3 of Set 7 | airai\n",
      "Processing Record 4 of Set 7 | pyu\n",
      "Processing Record 5 of Set 7 | great yarmouth\n",
      "Processing Record 6 of Set 7 | coquimbo\n",
      "Processing Record 7 of Set 7 | alamogordo\n",
      "Processing Record 8 of Set 7 | belozerskoye\n",
      "Processing Record 9 of Set 7 | puerto ayora\n",
      "Processing Record 10 of Set 7 | vung tau\n",
      "Processing Record 11 of Set 7 | oktyabrskiy\n",
      "Processing Record 12 of Set 7 | porto empedocle\n",
      "Processing Record 13 of Set 7 | giovinazzo\n",
      "Processing Record 14 of Set 7 | geraldton\n",
      "Processing Record 15 of Set 7 | guaraniacu\n",
      "Processing Record 16 of Set 7 | krasnodar\n",
      "Processing Record 17 of Set 7 | mecca\n",
      "marcona not found...\n",
      "Processing Record 18 of Set 7 | tuatapere\n",
      "Processing Record 19 of Set 7 | buckeye\n",
      "palabuhanratu not found...\n",
      "Processing Record 20 of Set 7 | vidalia\n",
      "Processing Record 21 of Set 7 | superior\n",
      "Processing Record 22 of Set 7 | svencionys\n",
      "Processing Record 23 of Set 7 | zyryanovsk\n",
      "Processing Record 24 of Set 7 | auki\n",
      "Processing Record 25 of Set 7 | lexington\n",
      "Processing Record 26 of Set 7 | bowen\n",
      "Processing Record 27 of Set 7 | ruteng\n",
      "lushunkou not found...\n",
      "Processing Record 28 of Set 7 | nome\n",
      "Processing Record 29 of Set 7 | channel-port aux basques\n",
      "Processing Record 30 of Set 7 | hofn\n",
      "Processing Record 31 of Set 7 | ahipara\n",
      "Processing Record 32 of Set 7 | klaksvik\n",
      "Processing Record 33 of Set 7 | palmer\n",
      "Processing Record 34 of Set 7 | sidi ali\n",
      "Processing Record 35 of Set 7 | chuy\n",
      "Processing Record 36 of Set 7 | shenkursk\n",
      "samalaeulu not found...\n",
      "milingimbi not found...\n",
      "Processing Record 37 of Set 7 | boa vista\n",
      "zacoalco not found...\n",
      "tumannyy not found...\n",
      "Processing Record 38 of Set 7 | namatanai\n",
      "Processing Record 39 of Set 7 | los llanos de aridane\n",
      "Processing Record 40 of Set 7 | nara\n",
      "Processing Record 41 of Set 7 | ambanja\n",
      "Processing Record 42 of Set 7 | nuuk\n",
      "karamea not found...\n",
      "Processing Record 43 of Set 7 | atasu\n",
      "Processing Record 44 of Set 7 | pontes e lacerda\n",
      "Processing Record 45 of Set 7 | vardo\n",
      "Processing Record 46 of Set 7 | huarmey\n",
      "Processing Record 47 of Set 7 | cape coast\n",
      "Processing Record 48 of Set 7 | muravlenko\n",
      "Processing Record 49 of Set 7 | chor\n",
      "Processing Record 50 of Set 7 | pamekasan\n",
      "Processing Record 1 of Set 8 | araguaina\n",
      "Processing Record 2 of Set 8 | miri\n",
      "louisbourg not found...\n",
      "Processing Record 3 of Set 8 | raudeberg\n",
      "Processing Record 4 of Set 8 | berlevag\n",
      "Processing Record 5 of Set 8 | muros\n",
      "Processing Record 6 of Set 8 | cowra\n",
      "Processing Record 7 of Set 8 | madimba\n",
      "Processing Record 8 of Set 8 | beyneu\n",
      "Processing Record 9 of Set 8 | boquim\n",
      "Processing Record 10 of Set 8 | barra patuca\n",
      "Processing Record 11 of Set 8 | beipiao\n",
      "Processing Record 12 of Set 8 | campina grande do sul\n",
      "labutta not found...\n",
      "Processing Record 13 of Set 8 | sao joao da barra\n",
      "Processing Record 14 of Set 8 | henties bay\n",
      "Processing Record 15 of Set 8 | tiznit\n",
      "Processing Record 16 of Set 8 | hailar\n",
      "Processing Record 17 of Set 8 | devils lake\n",
      "Processing Record 18 of Set 8 | bay roberts\n",
      "Processing Record 19 of Set 8 | siparia\n",
      "Processing Record 20 of Set 8 | saldanha\n",
      "Processing Record 21 of Set 8 | mbengwi\n",
      "Processing Record 22 of Set 8 | mpika\n",
      "Processing Record 23 of Set 8 | gat\n",
      "Processing Record 24 of Set 8 | gondal\n",
      "Processing Record 25 of Set 8 | eirunepe\n",
      "Processing Record 26 of Set 8 | morogoro\n",
      "Processing Record 27 of Set 8 | tadine\n",
      "Processing Record 28 of Set 8 | sao bras de alportel\n",
      "Processing Record 29 of Set 8 | kamenka\n",
      "Processing Record 30 of Set 8 | texarkana\n",
      "Processing Record 31 of Set 8 | fomboni\n",
      "Processing Record 32 of Set 8 | hervey bay\n",
      "Processing Record 33 of Set 8 | luxor\n",
      "Processing Record 34 of Set 8 | dargaville\n",
      "Processing Record 35 of Set 8 | kuantan\n",
      "Processing Record 36 of Set 8 | rio grande\n",
      "Processing Record 37 of Set 8 | shenjiamen\n",
      "Processing Record 38 of Set 8 | bandarbeyla\n",
      "Processing Record 39 of Set 8 | melfi\n",
      "Processing Record 40 of Set 8 | saint-joseph\n",
      "Processing Record 41 of Set 8 | victor harbor\n",
      "Processing Record 42 of Set 8 | mucurapo\n",
      "Processing Record 43 of Set 8 | yatou\n",
      "Processing Record 44 of Set 8 | gao\n",
      "Processing Record 45 of Set 8 | penzance\n",
      "Processing Record 46 of Set 8 | aklavik\n",
      "Processing Record 47 of Set 8 | antofagasta\n",
      "Processing Record 48 of Set 8 | mineros\n",
      "Processing Record 49 of Set 8 | dir\n",
      "Processing Record 50 of Set 8 | teluk nibung\n",
      "Processing Record 1 of Set 9 | cochrane\n",
      "Processing Record 2 of Set 9 | sorong\n",
      "saleilua not found...\n",
      "Processing Record 3 of Set 9 | saint-georges\n",
      "Processing Record 4 of Set 9 | cankuzo\n",
      "Processing Record 5 of Set 9 | temiscaming\n",
      "Processing Record 6 of Set 9 | wasilla\n",
      "khonuu not found...\n",
      "kegalla not found...\n",
      "Processing Record 7 of Set 9 | tongchuan\n",
      "Processing Record 8 of Set 9 | morondava\n",
      "Processing Record 9 of Set 9 | valguarnera caropepe\n",
      "Processing Record 10 of Set 9 | wageningen\n",
      "tidore not found...\n",
      "Processing Record 11 of Set 9 | caldwell\n",
      "Processing Record 12 of Set 9 | kushmurun\n",
      "Processing Record 13 of Set 9 | mehamn\n",
      "Processing Record 14 of Set 9 | bentiu\n",
      "Processing Record 15 of Set 9 | mayo\n",
      "karamay not found...\n",
      "Processing Record 16 of Set 9 | chunskiy\n",
      "Processing Record 17 of Set 9 | gouyave\n",
      "Processing Record 18 of Set 9 | varhaug\n",
      "Processing Record 19 of Set 9 | bardsir\n",
      "Processing Record 20 of Set 9 | moranbah\n",
      "Processing Record 21 of Set 9 | puerto del rosario\n",
      "Processing Record 22 of Set 9 | moundsville\n",
      "Processing Record 23 of Set 9 | suamico\n",
      "Processing Record 24 of Set 9 | moba\n",
      "Processing Record 25 of Set 9 | shihezi\n",
      "Processing Record 26 of Set 9 | nerekhta\n",
      "Processing Record 27 of Set 9 | flinders\n",
      "Processing Record 28 of Set 9 | hargeysa\n",
      "Processing Record 29 of Set 9 | korla\n",
      "Processing Record 30 of Set 9 | santa marta\n",
      "Processing Record 31 of Set 9 | omsukchan\n",
      "Processing Record 32 of Set 9 | ufimskiy\n",
      "mentok not found...\n",
      "Processing Record 33 of Set 9 | jinxiang\n",
      "Processing Record 34 of Set 9 | turukhansk\n",
      "Processing Record 35 of Set 9 | dukat\n",
      "barbar not found...\n",
      "Processing Record 36 of Set 9 | riverton\n",
      "Processing Record 37 of Set 9 | lata\n",
      "Processing Record 38 of Set 9 | hobyo\n",
      "Processing Record 39 of Set 9 | tautira\n",
      "Processing Record 40 of Set 9 | verdun\n",
      "Processing Record 41 of Set 9 | penticton\n",
      "Processing Record 42 of Set 9 | erzin\n",
      "Processing Record 43 of Set 9 | sola\n",
      "Processing Record 44 of Set 9 | bilma\n",
      "Processing Record 45 of Set 9 | oranjestad\n",
      "Processing Record 46 of Set 9 | porto novo\n",
      "Processing Record 47 of Set 9 | nemuro\n",
      "Processing Record 48 of Set 9 | havoysund\n",
      "Processing Record 49 of Set 9 | tuy hoa\n",
      "Processing Record 50 of Set 9 | chacarita\n",
      "Processing Record 1 of Set 10 | parrita\n",
      "Processing Record 2 of Set 10 | asilah\n",
      "Processing Record 3 of Set 10 | santona\n",
      "Processing Record 4 of Set 10 | adamovka\n",
      "Processing Record 5 of Set 10 | mahanoro\n",
      "kazalinsk not found...\n",
      "Processing Record 6 of Set 10 | vostok\n",
      "Processing Record 7 of Set 10 | kapuskasing\n",
      "buqayq not found...\n",
      "Processing Record 8 of Set 10 | adamas\n",
      "Processing Record 9 of Set 10 | puno\n",
      "umm durman not found...\n",
      "Processing Record 10 of Set 10 | port-cartier\n",
      "Processing Record 11 of Set 10 | moose factory\n",
      "Processing Record 12 of Set 10 | sao desiderio\n",
      "Processing Record 13 of Set 10 | pacifica\n",
      "Processing Record 14 of Set 10 | ambilobe\n",
      "Processing Record 15 of Set 10 | youghal\n",
      "Processing Record 16 of Set 10 | bansi\n",
      "Processing Record 17 of Set 10 | persianovskiy\n",
      "karauzyak not found...\n",
      "Processing Record 18 of Set 10 | araouane\n",
      "Processing Record 19 of Set 10 | borba\n",
      "sataua not found...\n",
      "Processing Record 20 of Set 10 | kapoeta\n",
      "Processing Record 21 of Set 10 | san isidro\n",
      "Processing Record 22 of Set 10 | homer\n",
      "Processing Record 23 of Set 10 | rio cuarto\n",
      "kamenskoye not found...\n",
      "Processing Record 24 of Set 10 | smithers\n",
      "yanan not found...\n",
      "Processing Record 25 of Set 10 | port shepstone\n",
      "Processing Record 26 of Set 10 | borovskoy\n",
      "Processing Record 27 of Set 10 | colares\n",
      "Processing Record 28 of Set 10 | cocoa\n",
      "Processing Record 29 of Set 10 | mayumba\n",
      "Processing Record 30 of Set 10 | tall kayf\n",
      "Processing Record 31 of Set 10 | puerto escondido\n",
      "Processing Record 32 of Set 10 | ornskoldsvik\n",
      "Processing Record 33 of Set 10 | aykhal\n",
      "Processing Record 34 of Set 10 | key west\n",
      "Processing Record 35 of Set 10 | tokur\n",
      "Processing Record 36 of Set 10 | katherine\n",
      "Processing Record 37 of Set 10 | sao bento do sul\n",
      "Processing Record 38 of Set 10 | namibe\n",
      "Processing Record 39 of Set 10 | townsville\n",
      "Processing Record 40 of Set 10 | bereda\n",
      "Processing Record 41 of Set 10 | bambanglipuro\n",
      "Processing Record 42 of Set 10 | ilam\n",
      "Processing Record 43 of Set 10 | gwadar\n",
      "Processing Record 44 of Set 10 | beloha\n",
      "Processing Record 45 of Set 10 | marrakesh\n",
      "Processing Record 46 of Set 10 | xining\n",
      "Processing Record 47 of Set 10 | tutoia\n",
      "Processing Record 48 of Set 10 | tonantins\n",
      "Processing Record 49 of Set 10 | dzhebariki-khaya\n",
      "Processing Record 50 of Set 10 | sistranda\n",
      "Processing Record 1 of Set 11 | macenta\n",
      "Processing Record 2 of Set 11 | kusadak\n",
      "Processing Record 3 of Set 11 | abbeville\n",
      "Processing Record 4 of Set 11 | waipawa\n",
      "phrai bung not found...\n",
      "Processing Record 5 of Set 11 | banda aceh\n",
      "Processing Record 6 of Set 11 | bluefield\n",
      "Processing Record 7 of Set 11 | sao filipe\n",
      "Processing Record 8 of Set 11 | reconquista\n",
      "Processing Record 9 of Set 11 | bastrop\n",
      "Processing Record 10 of Set 11 | saint stephen\n",
      "Processing Record 11 of Set 11 | blagoveshchenka\n",
      "Processing Record 12 of Set 11 | san policarpo\n",
      "Processing Record 13 of Set 11 | ullal\n",
      "Processing Record 14 of Set 11 | huaiyin\n",
      "Processing Record 15 of Set 11 | grootfontein\n",
      "Processing Record 16 of Set 11 | togur\n",
      "Processing Record 17 of Set 11 | port augusta\n",
      "Processing Record 18 of Set 11 | dutlwe\n",
      "Processing Record 19 of Set 11 | trofors\n",
      "Processing Record 20 of Set 11 | rorvik\n",
      "Processing Record 21 of Set 11 | romitan\n",
      "Processing Record 22 of Set 11 | novikovo\n",
      "Processing Record 23 of Set 11 | tumpat\n",
      "Processing Record 24 of Set 11 | sinnamary\n",
      "Processing Record 25 of Set 11 | faya\n",
      "Processing Record 26 of Set 11 | vila velha\n",
      "Processing Record 27 of Set 11 | chino valley\n",
      "Processing Record 28 of Set 11 | makakilo city\n",
      "Processing Record 29 of Set 11 | cockburn town\n",
      "Processing Record 30 of Set 11 | buraydah\n",
      "mrirt not found...\n",
      "Processing Record 31 of Set 11 | souillac\n",
      "Processing Record 32 of Set 11 | dudinka\n",
      "Processing Record 33 of Set 11 | college\n",
      "Processing Record 34 of Set 11 | washington\n",
      "Processing Record 35 of Set 11 | adrar\n",
      "Processing Record 36 of Set 11 | nauchnyy gorodok\n",
      "Processing Record 37 of Set 11 | doha\n",
      "Processing Record 38 of Set 11 | assen\n",
      "Processing Record 39 of Set 11 | walvis bay\n",
      "Processing Record 40 of Set 11 | kimbe\n",
      "yuzhno-yeniseyskiy not found...\n",
      "Processing Record 41 of Set 11 | gardelegen\n",
      "Processing Record 42 of Set 11 | lauderhill\n",
      "Processing Record 43 of Set 11 | lavrentiya\n",
      "Processing Record 44 of Set 11 | imbituba\n",
      "Processing Record 45 of Set 11 | labytnangi\n",
      "Processing Record 46 of Set 11 | bonthe\n",
      "Processing Record 47 of Set 11 | cuenca\n",
      "Processing Record 48 of Set 11 | talnakh\n",
      "Processing Record 49 of Set 11 | aulum\n",
      "Processing Record 50 of Set 11 | windhoek\n",
      "Processing Record 1 of Set 12 | marfino\n",
      "---------------------------\n",
      "Data Retrieval Complete\n",
      "---------------------------\n"
     ]
    }
   ],
   "metadata": {}
  },
  {
   "cell_type": "markdown",
   "source": [
    "### Convert Raw Data to DataFrame\n",
    "* Export the city data into a .csv.\n",
    "* Display the DataFrame"
   ],
   "metadata": {}
  },
  {
   "cell_type": "code",
   "execution_count": 5,
   "source": [
    "print(len(cities_found))\r\n",
    "print(len(countries))\r\n",
    "print(len(lats))\r\n",
    "print(len(lngs))\r\n",
    "print(len(max_temps))\r\n",
    "print(len(humidities))\r\n",
    "print(len(clouds))\r\n",
    "print(len(wind_speeds))\r\n",
    "print(len(dates))"
   ],
   "outputs": [
    {
     "output_type": "stream",
     "name": "stdout",
     "text": [
      "551\n",
      "551\n",
      "551\n",
      "551\n",
      "551\n",
      "551\n",
      "551\n",
      "551\n",
      "551\n"
     ]
    }
   ],
   "metadata": {}
  },
  {
   "cell_type": "code",
   "execution_count": 6,
   "source": [
    "weather_dict = {\r\n",
    "    \"City\": cities_found,\r\n",
    "    \"Country\": countries,\r\n",
    "    \"Latitude\": lats,\r\n",
    "    \"Longitude\": lngs,\r\n",
    "    \"Max Temp\": max_temps,\r\n",
    "    \"Humidity\": humidities,\r\n",
    "    \"Cloudiness\": clouds,\r\n",
    "    \"Wind Speed\": wind_speeds,\r\n",
    "    \"Date\": dates\r\n",
    "}"
   ],
   "outputs": [],
   "metadata": {}
  },
  {
   "cell_type": "code",
   "execution_count": 7,
   "source": [
    "weather_df = pd.DataFrame(weather_dict)\r\n",
    "weather_df.head()"
   ],
   "outputs": [
    {
     "output_type": "execute_result",
     "data": {
      "text/html": [
       "<div>\n",
       "<style scoped>\n",
       "    .dataframe tbody tr th:only-of-type {\n",
       "        vertical-align: middle;\n",
       "    }\n",
       "\n",
       "    .dataframe tbody tr th {\n",
       "        vertical-align: top;\n",
       "    }\n",
       "\n",
       "    .dataframe thead th {\n",
       "        text-align: right;\n",
       "    }\n",
       "</style>\n",
       "<table border=\"1\" class=\"dataframe\">\n",
       "  <thead>\n",
       "    <tr style=\"text-align: right;\">\n",
       "      <th></th>\n",
       "      <th>City</th>\n",
       "      <th>Country</th>\n",
       "      <th>Latitude</th>\n",
       "      <th>Longitude</th>\n",
       "      <th>Max Temp</th>\n",
       "      <th>Humidity</th>\n",
       "      <th>Cloudiness</th>\n",
       "      <th>Wind Speed</th>\n",
       "      <th>Date</th>\n",
       "    </tr>\n",
       "  </thead>\n",
       "  <tbody>\n",
       "    <tr>\n",
       "      <th>0</th>\n",
       "      <td>sur</td>\n",
       "      <td>OM</td>\n",
       "      <td>22.5667</td>\n",
       "      <td>59.5289</td>\n",
       "      <td>85.86</td>\n",
       "      <td>53</td>\n",
       "      <td>100</td>\n",
       "      <td>4.79</td>\n",
       "      <td>1631584793</td>\n",
       "    </tr>\n",
       "    <tr>\n",
       "      <th>1</th>\n",
       "      <td>masunga</td>\n",
       "      <td>BW</td>\n",
       "      <td>-20.6246</td>\n",
       "      <td>27.4488</td>\n",
       "      <td>61.68</td>\n",
       "      <td>39</td>\n",
       "      <td>49</td>\n",
       "      <td>7.07</td>\n",
       "      <td>1631584793</td>\n",
       "    </tr>\n",
       "    <tr>\n",
       "      <th>2</th>\n",
       "      <td>ancud</td>\n",
       "      <td>CL</td>\n",
       "      <td>-41.8697</td>\n",
       "      <td>-73.8203</td>\n",
       "      <td>43.43</td>\n",
       "      <td>81</td>\n",
       "      <td>87</td>\n",
       "      <td>7.65</td>\n",
       "      <td>1631584794</td>\n",
       "    </tr>\n",
       "    <tr>\n",
       "      <th>3</th>\n",
       "      <td>lebu</td>\n",
       "      <td>CL</td>\n",
       "      <td>-37.6167</td>\n",
       "      <td>-73.6500</td>\n",
       "      <td>45.28</td>\n",
       "      <td>75</td>\n",
       "      <td>0</td>\n",
       "      <td>8.32</td>\n",
       "      <td>1631584794</td>\n",
       "    </tr>\n",
       "    <tr>\n",
       "      <th>4</th>\n",
       "      <td>ipubi</td>\n",
       "      <td>BR</td>\n",
       "      <td>-7.6519</td>\n",
       "      <td>-40.1489</td>\n",
       "      <td>72.73</td>\n",
       "      <td>60</td>\n",
       "      <td>11</td>\n",
       "      <td>6.31</td>\n",
       "      <td>1631584794</td>\n",
       "    </tr>\n",
       "  </tbody>\n",
       "</table>\n",
       "</div>"
      ],
      "text/plain": [
       "      City Country  Latitude  Longitude  Max Temp  Humidity  Cloudiness  \\\n",
       "0      sur      OM   22.5667    59.5289     85.86        53         100   \n",
       "1  masunga      BW  -20.6246    27.4488     61.68        39          49   \n",
       "2    ancud      CL  -41.8697   -73.8203     43.43        81          87   \n",
       "3     lebu      CL  -37.6167   -73.6500     45.28        75           0   \n",
       "4    ipubi      BR   -7.6519   -40.1489     72.73        60          11   \n",
       "\n",
       "   Wind Speed        Date  \n",
       "0        4.79  1631584793  \n",
       "1        7.07  1631584793  \n",
       "2        7.65  1631584794  \n",
       "3        8.32  1631584794  \n",
       "4        6.31  1631584794  "
      ]
     },
     "metadata": {},
     "execution_count": 7
    }
   ],
   "metadata": {}
  },
  {
   "cell_type": "code",
   "execution_count": 8,
   "source": [
    "weather_df.describe()"
   ],
   "outputs": [
    {
     "output_type": "execute_result",
     "data": {
      "text/html": [
       "<div>\n",
       "<style scoped>\n",
       "    .dataframe tbody tr th:only-of-type {\n",
       "        vertical-align: middle;\n",
       "    }\n",
       "\n",
       "    .dataframe tbody tr th {\n",
       "        vertical-align: top;\n",
       "    }\n",
       "\n",
       "    .dataframe thead th {\n",
       "        text-align: right;\n",
       "    }\n",
       "</style>\n",
       "<table border=\"1\" class=\"dataframe\">\n",
       "  <thead>\n",
       "    <tr style=\"text-align: right;\">\n",
       "      <th></th>\n",
       "      <th>Latitude</th>\n",
       "      <th>Longitude</th>\n",
       "      <th>Max Temp</th>\n",
       "      <th>Humidity</th>\n",
       "      <th>Cloudiness</th>\n",
       "      <th>Wind Speed</th>\n",
       "      <th>Date</th>\n",
       "    </tr>\n",
       "  </thead>\n",
       "  <tbody>\n",
       "    <tr>\n",
       "      <th>count</th>\n",
       "      <td>551.000000</td>\n",
       "      <td>551.000000</td>\n",
       "      <td>551.000000</td>\n",
       "      <td>551.000000</td>\n",
       "      <td>551.000000</td>\n",
       "      <td>551.000000</td>\n",
       "      <td>5.510000e+02</td>\n",
       "    </tr>\n",
       "    <tr>\n",
       "      <th>mean</th>\n",
       "      <td>20.030509</td>\n",
       "      <td>15.065176</td>\n",
       "      <td>65.804192</td>\n",
       "      <td>71.520871</td>\n",
       "      <td>54.484574</td>\n",
       "      <td>7.626770</td>\n",
       "      <td>1.631585e+09</td>\n",
       "    </tr>\n",
       "    <tr>\n",
       "      <th>std</th>\n",
       "      <td>33.585950</td>\n",
       "      <td>88.202604</td>\n",
       "      <td>14.816087</td>\n",
       "      <td>20.065326</td>\n",
       "      <td>40.720056</td>\n",
       "      <td>5.455478</td>\n",
       "      <td>7.540354e+01</td>\n",
       "    </tr>\n",
       "    <tr>\n",
       "      <th>min</th>\n",
       "      <td>-54.800000</td>\n",
       "      <td>-175.200000</td>\n",
       "      <td>20.460000</td>\n",
       "      <td>8.000000</td>\n",
       "      <td>0.000000</td>\n",
       "      <td>0.000000</td>\n",
       "      <td>1.631584e+09</td>\n",
       "    </tr>\n",
       "    <tr>\n",
       "      <th>25%</th>\n",
       "      <td>-9.488200</td>\n",
       "      <td>-59.621950</td>\n",
       "      <td>54.475000</td>\n",
       "      <td>61.000000</td>\n",
       "      <td>10.000000</td>\n",
       "      <td>3.625000</td>\n",
       "      <td>1.631585e+09</td>\n",
       "    </tr>\n",
       "    <tr>\n",
       "      <th>50%</th>\n",
       "      <td>23.795000</td>\n",
       "      <td>17.944200</td>\n",
       "      <td>67.550000</td>\n",
       "      <td>76.000000</td>\n",
       "      <td>60.000000</td>\n",
       "      <td>6.240000</td>\n",
       "      <td>1.631585e+09</td>\n",
       "    </tr>\n",
       "    <tr>\n",
       "      <th>75%</th>\n",
       "      <td>49.333450</td>\n",
       "      <td>85.152600</td>\n",
       "      <td>77.920000</td>\n",
       "      <td>87.000000</td>\n",
       "      <td>99.000000</td>\n",
       "      <td>10.360000</td>\n",
       "      <td>1.631585e+09</td>\n",
       "    </tr>\n",
       "    <tr>\n",
       "      <th>max</th>\n",
       "      <td>78.218600</td>\n",
       "      <td>178.416700</td>\n",
       "      <td>104.450000</td>\n",
       "      <td>100.000000</td>\n",
       "      <td>100.000000</td>\n",
       "      <td>35.840000</td>\n",
       "      <td>1.631585e+09</td>\n",
       "    </tr>\n",
       "  </tbody>\n",
       "</table>\n",
       "</div>"
      ],
      "text/plain": [
       "         Latitude   Longitude    Max Temp    Humidity  Cloudiness  Wind Speed  \\\n",
       "count  551.000000  551.000000  551.000000  551.000000  551.000000  551.000000   \n",
       "mean    20.030509   15.065176   65.804192   71.520871   54.484574    7.626770   \n",
       "std     33.585950   88.202604   14.816087   20.065326   40.720056    5.455478   \n",
       "min    -54.800000 -175.200000   20.460000    8.000000    0.000000    0.000000   \n",
       "25%     -9.488200  -59.621950   54.475000   61.000000   10.000000    3.625000   \n",
       "50%     23.795000   17.944200   67.550000   76.000000   60.000000    6.240000   \n",
       "75%     49.333450   85.152600   77.920000   87.000000   99.000000   10.360000   \n",
       "max     78.218600  178.416700  104.450000  100.000000  100.000000   35.840000   \n",
       "\n",
       "               Date  \n",
       "count  5.510000e+02  \n",
       "mean   1.631585e+09  \n",
       "std    7.540354e+01  \n",
       "min    1.631584e+09  \n",
       "25%    1.631585e+09  \n",
       "50%    1.631585e+09  \n",
       "75%    1.631585e+09  \n",
       "max    1.631585e+09  "
      ]
     },
     "metadata": {},
     "execution_count": 8
    }
   ],
   "metadata": {}
  },
  {
   "cell_type": "code",
   "execution_count": 9,
   "source": [
    "weather_df.to_csv(output_data_file, index = False)"
   ],
   "outputs": [],
   "metadata": {}
  },
  {
   "cell_type": "markdown",
   "source": [
    "## Inspect the data and remove the cities where the humidity > 100%.\n",
    "----\n",
    "Skip this step if there are no cities that have humidity > 100%. "
   ],
   "metadata": {}
  },
  {
   "cell_type": "code",
   "execution_count": 10,
   "source": [
    "high_humid = weather_df.loc[weather_df[\"Humidity\"] > 100]\r\n",
    "len(high_humid)"
   ],
   "outputs": [
    {
     "output_type": "execute_result",
     "data": {
      "text/plain": [
       "0"
      ]
     },
     "metadata": {},
     "execution_count": 10
    }
   ],
   "metadata": {}
  },
  {
   "cell_type": "code",
   "execution_count": 11,
   "source": [
    "max_humid = max(weather_df[\"Humidity\"])\r\n",
    "max_humid"
   ],
   "outputs": [
    {
     "output_type": "execute_result",
     "data": {
      "text/plain": [
       "100"
      ]
     },
     "metadata": {},
     "execution_count": 11
    }
   ],
   "metadata": {}
  },
  {
   "cell_type": "markdown",
   "source": [
    "## Plotting the Data\n",
    "* Use proper labeling of the plots using plot titles (including date of analysis) and axes labels.\n",
    "* Save the plotted figures as .pngs."
   ],
   "metadata": {}
  },
  {
   "cell_type": "markdown",
   "source": [
    "## Latitude vs. Temperature Plot"
   ],
   "metadata": {}
  },
  {
   "cell_type": "code",
   "execution_count": 12,
   "source": [
    "plt.scatter(weather_df[\"Latitude\"], weather_df[\"Max Temp\"], edgecolors = \"black\", facecolors = \"skyblue\", zorder = 3)\r\n",
    "plt.title(\"City Latitude vs. Max Temperature\")\r\n",
    "plt.xlabel(\"Latitude\")\r\n",
    "plt.ylabel(\"Max Temperature (F)\")\r\n",
    "plt.grid (which = \"major\", axis = \"both\", linestyle = \"-\", color = \"lightgrey\", zorder = -1)\r\n",
    "plt.savefig(\"Figures/latvtemp1.png\")\r\n",
    "plt.show()"
   ],
   "outputs": [
    {
     "output_type": "display_data",
     "data": {
      "image/png": "[encoded data removed]",
      "text/plain": [
       "<Figure size 432x288 with 1 Axes>"
      ]
     },
     "metadata": {
      "needs_background": "light"
     }
    }
   ],
   "metadata": {
    "scrolled": true
   }
  },
  {
   "cell_type": "code",
   "execution_count": 13,
   "source": [
    "import plotly.express as px\r\n",
    "\r\n",
    "fig = px.scatter(weather_df, x = \"Longitude\", y = \"Latitude\", color = \"Max Temp\", size = \"Cloudiness\", hover_data = ['City', 'Country'])\r\n",
    "print(\"World Map Weather\")\r\n",
    "fig.show()"
   ],
   "outputs": [
    {
     "output_type": "stream",
     "name": "stdout",
     "text": [
      "World Map Weather\n"
     ]
    },
    {
     "output_type": "display_data",
     "data": {
      "application/vnd.plotly.v1+json": {
       "config": {
        "plotlyServerURL": "https://plot.ly"
       },
       "data": [
        {
         "customdata": [
          [
           "sur",
           "OM"
          ],
          [
           "masunga",
           "BW"
          ],
          [
           "ancud",
           "CL"
          ],
          [
           "lebu",
           "CL"
          ],
          [
           "ipubi",
           "BR"
          ],
          [
           "port lincoln",
           "AU"
          ],
          [
           "waingapu",
           "ID"
          ],
          [
           "naze",
           "JP"
          ],
          [
           "vao",
           "NC"
          ],
          [
           "tuktoyaktuk",
           "CA"
          ],
          [
           "busselton",
           "AU"
          ],
          [
           "santa ana",
           "US"
          ],
          [
           "provideniya",
           "RU"
          ],
          [
           "tsumeb",
           "NA"
          ],
          [
           "chokurdakh",
           "RU"
          ],
          [
           "igrim",
           "RU"
          ],
          [
           "atuona",
           "PF"
          ],
          [
           "ushuaia",
           "AR"
          ],
          [
           "lagoa",
           "PT"
          ],
          [
           "jamestown",
           "US"
          ],
          [
           "kaitangata",
           "NZ"
          ],
          [
           "rikitea",
           "PF"
          ],
          [
           "castro",
           "BR"
          ],
          [
           "mataura",
           "NZ"
          ],
          [
           "clyde river",
           "CA"
          ],
          [
           "pacific grove",
           "US"
          ],
          [
           "cap malheureux",
           "MU"
          ],
          [
           "fairbanks",
           "US"
          ],
          [
           "general pico",
           "AR"
          ],
          [
           "antalaha",
           "MG"
          ],
          [
           "barrow",
           "US"
          ],
          [
           "durban",
           "ZA"
          ],
          [
           "ketchikan",
           "US"
          ],
          [
           "alihe",
           "CN"
          ],
          [
           "kviteseid",
           "NO"
          ],
          [
           "qasigiannguit",
           "GL"
          ],
          [
           "byron bay",
           "AU"
          ],
          [
           "husavik",
           "IS"
          ],
          [
           "hithadhoo",
           "MV"
          ],
          [
           "herat",
           "AF"
          ],
          [
           "mar del plata",
           "AR"
          ],
          [
           "cherskiy",
           "RU"
          ],
          [
           "hasaki",
           "JP"
          ],
          [
           "haines junction",
           "CA"
          ],
          [
           "mahebourg",
           "MU"
          ],
          [
           "vangaindrano",
           "MG"
          ],
          [
           "bambous virieux",
           "MU"
          ],
          [
           "khatanga",
           "RU"
          ],
          [
           "port alfred",
           "ZA"
          ],
          [
           "hobart",
           "AU"
          ],
          [
           "batemans bay",
           "AU"
          ],
          [
           "skibbereen",
           "IE"
          ],
          [
           "butaritari",
           "KI"
          ],
          [
           "albany",
           "US"
          ],
          [
           "dzaoudzi",
           "YT"
          ],
          [
           "alice springs",
           "AU"
          ],
          [
           "aldan",
           "RU"
          ],
          [
           "alofi",
           "NU"
          ],
          [
           "komsomolskiy",
           "UZ"
          ],
          [
           "vaini",
           "TO"
          ],
          [
           "hermanus",
           "ZA"
          ],
          [
           "huaraz",
           "PE"
          ],
          [
           "karagay",
           "RU"
          ],
          [
           "leningradskiy",
           "RU"
          ],
          [
           "lasa",
           "IT"
          ],
          [
           "ribeira grande",
           "PT"
          ],
          [
           "kapaa",
           "US"
          ],
          [
           "bluff",
           "NZ"
          ],
          [
           "phangnga",
           "TH"
          ],
          [
           "mareeba",
           "AU"
          ],
          [
           "victoria",
           "HK"
          ],
          [
           "olafsvik",
           "IS"
          ],
          [
           "ugoofaaru",
           "MV"
          ],
          [
           "saint-philippe",
           "RE"
          ],
          [
           "avarua",
           "CK"
          ],
          [
           "punta arenas",
           "CL"
          ],
          [
           "oussouye",
           "SN"
          ],
          [
           "hamadan",
           "IR"
          ],
          [
           "gunjur",
           "GM"
          ],
          [
           "esperance",
           "AU"
          ],
          [
           "lunglei",
           "IN"
          ],
          [
           "dikson",
           "RU"
          ],
          [
           "bethel",
           "US"
          ],
          [
           "yar-sale",
           "RU"
          ],
          [
           "meulaboh",
           "ID"
          ],
          [
           "katobu",
           "ID"
          ],
          [
           "tabou",
           "CI"
          ],
          [
           "hami",
           "CN"
          ],
          [
           "garowe",
           "SO"
          ],
          [
           "teknaf",
           "BD"
          ],
          [
           "carnarvon",
           "AU"
          ],
          [
           "sao felix do xingu",
           "BR"
          ],
          [
           "raga",
           "SS"
          ],
          [
           "arkhangelskoye",
           "RU"
          ],
          [
           "chara",
           "RU"
          ],
          [
           "taoudenni",
           "ML"
          ],
          [
           "inta",
           "RU"
          ],
          [
           "warren",
           "US"
          ],
          [
           "port hawkesbury",
           "CA"
          ],
          [
           "kyaikkami",
           "MM"
          ],
          [
           "arraial do cabo",
           "BR"
          ],
          [
           "antropovo",
           "RU"
          ],
          [
           "ilulissat",
           "GL"
          ],
          [
           "marzuq",
           "YE"
          ],
          [
           "dibulla",
           "CO"
          ],
          [
           "mokhsogollokh",
           "RU"
          ],
          [
           "howard springs",
           "AU"
          ],
          [
           "saskylakh",
           "RU"
          ],
          [
           "oranjemund",
           "NA"
          ],
          [
           "juneau",
           "US"
          ],
          [
           "bredasdorp",
           "ZA"
          ],
          [
           "qaanaaq",
           "GL"
          ],
          [
           "harper",
           "LR"
          ],
          [
           "lake city",
           "US"
          ],
          [
           "kajaani",
           "FI"
          ],
          [
           "yellowknife",
           "CA"
          ],
          [
           "touros",
           "BR"
          ],
          [
           "huaicheng",
           "CN"
          ],
          [
           "ixtapa",
           "MX"
          ],
          [
           "salalah",
           "OM"
          ],
          [
           "parana",
           "AR"
          ],
          [
           "krasnouralsk",
           "RU"
          ],
          [
           "hilo",
           "US"
          ],
          [
           "bengkulu",
           "ID"
          ],
          [
           "torbay",
           "CA"
          ],
          [
           "sikonge",
           "TZ"
          ],
          [
           "preobrazheniye",
           "RU"
          ],
          [
           "pisco",
           "PE"
          ],
          [
           "porto santo",
           "PT"
          ],
          [
           "ishigaki",
           "JP"
          ],
          [
           "longyearbyen",
           "SJ"
          ],
          [
           "port elizabeth",
           "ZA"
          ],
          [
           "tasiilaq",
           "GL"
          ],
          [
           "srednekolymsk",
           "RU"
          ],
          [
           "manzanillo",
           "CU"
          ],
          [
           "ostrovnoy",
           "RU"
          ],
          [
           "palana",
           "RU"
          ],
          [
           "dokka",
           "NO"
          ],
          [
           "faanui",
           "PF"
          ],
          [
           "rocha",
           "UY"
          ],
          [
           "brockville",
           "CA"
          ],
          [
           "yulara",
           "AU"
          ],
          [
           "norman wells",
           "CA"
          ],
          [
           "iqaluit",
           "CA"
          ],
          [
           "chapais",
           "CA"
          ],
          [
           "obo",
           "CF"
          ],
          [
           "georgetown",
           "MY"
          ],
          [
           "saint anthony",
           "US"
          ],
          [
           "cabo san lucas",
           "MX"
          ],
          [
           "bilibino",
           "RU"
          ],
          [
           "luganville",
           "VU"
          ],
          [
           "pennagaram",
           "IN"
          ],
          [
           "encruzilhada do sul",
           "BR"
          ],
          [
           "portland",
           "US"
          ],
          [
           "ozernovskiy",
           "RU"
          ],
          [
           "te anau",
           "NZ"
          ],
          [
           "mahendragarh",
           "IN"
          ],
          [
           "alta floresta",
           "BR"
          ],
          [
           "suntar",
           "RU"
          ],
          [
           "praia",
           "CV"
          ],
          [
           "kaeo",
           "NZ"
          ],
          [
           "new norfolk",
           "AU"
          ],
          [
           "lorengau",
           "PG"
          ],
          [
           "tibagi",
           "BR"
          ],
          [
           "cape town",
           "ZA"
          ],
          [
           "kadoma",
           "JP"
          ],
          [
           "saint george",
           "US"
          ],
          [
           "omboue",
           "GA"
          ],
          [
           "bayburt",
           "TR"
          ],
          [
           "todos santos",
           "MX"
          ],
          [
           "banyo",
           "CM"
          ],
          [
           "najran",
           "SA"
          ],
          [
           "talara",
           "PE"
          ],
          [
           "vanimo",
           "PG"
          ],
          [
           "omaruru",
           "NA"
          ],
          [
           "buba",
           "GW"
          ],
          [
           "grafelfing",
           "DE"
          ],
          [
           "el alto",
           "PE"
          ],
          [
           "jiazi",
           "CN"
          ],
          [
           "nikolskoye",
           "RU"
          ],
          [
           "kismayo",
           "SO"
          ],
          [
           "atar",
           "MR"
          ],
          [
           "ewa beach",
           "US"
          ],
          [
           "kangaatsiaq",
           "GL"
          ],
          [
           "lahad datu",
           "MY"
          ],
          [
           "las vegas",
           "US"
          ],
          [
           "vestmannaeyjar",
           "IS"
          ],
          [
           "holland",
           "US"
          ],
          [
           "zhigansk",
           "RU"
          ],
          [
           "road town",
           "VG"
          ],
          [
           "prince rupert",
           "CA"
          ],
          [
           "copiapo",
           "CL"
          ],
          [
           "east london",
           "ZA"
          ],
          [
           "viedma",
           "AR"
          ],
          [
           "pirapemas",
           "BR"
          ],
          [
           "oktyabrskoye",
           "RU"
          ],
          [
           "biltine",
           "TD"
          ],
          [
           "grand gaube",
           "MU"
          ],
          [
           "umm kaddadah",
           "SD"
          ],
          [
           "marienburg",
           "PL"
          ],
          [
           "maniitsoq",
           "GL"
          ],
          [
           "quatre cocos",
           "MU"
          ],
          [
           "kameyama",
           "JP"
          ],
          [
           "kahului",
           "US"
          ],
          [
           "kalinagar",
           "IN"
          ],
          [
           "abu samrah",
           "SY"
          ],
          [
           "san patricio",
           "US"
          ],
          [
           "port moresby",
           "PG"
          ],
          [
           "torgau",
           "DE"
          ],
          [
           "kruisfontein",
           "ZA"
          ],
          [
           "thompson",
           "CA"
          ],
          [
           "kalmunai",
           "LK"
          ],
          [
           "dublin",
           "US"
          ],
          [
           "dingle",
           "PH"
          ],
          [
           "the valley",
           "AI"
          ],
          [
           "itarema",
           "BR"
          ],
          [
           "shadrinsk",
           "RU"
          ],
          [
           "rovnoye",
           "RU"
          ],
          [
           "necochea",
           "AR"
          ],
          [
           "tiksi",
           "RU"
          ],
          [
           "kaiu",
           "EE"
          ],
          [
           "cascais",
           "PT"
          ],
          [
           "newport",
           "GB"
          ],
          [
           "itoman",
           "JP"
          ],
          [
           "ponta do sol",
           "PT"
          ],
          [
           "severo-kurilsk",
           "RU"
          ],
          [
           "baghmara",
           "IN"
          ],
          [
           "kodiak",
           "US"
          ],
          [
           "kavieng",
           "PG"
          ],
          [
           "seydi",
           "TM"
          ],
          [
           "cairns",
           "AU"
          ],
          [
           "nanortalik",
           "GL"
          ],
          [
           "portarlington",
           "IE"
          ],
          [
           "salinopolis",
           "BR"
          ],
          [
           "sitka",
           "US"
          ],
          [
           "ponta delgada",
           "PT"
          ],
          [
           "talcahuano",
           "CL"
          ],
          [
           "donskoye",
           "RU"
          ],
          [
           "garmsar",
           "IR"
          ],
          [
           "upernavik",
           "GL"
          ],
          [
           "graaff-reinet",
           "ZA"
          ],
          [
           "diffa",
           "NE"
          ],
          [
           "cristalina",
           "BR"
          ],
          [
           "lexington park",
           "US"
          ],
          [
           "shitanjing",
           "CN"
          ],
          [
           "narsaq",
           "GL"
          ],
          [
           "bogorodskoye",
           "RU"
          ],
          [
           "asekeyevo",
           "RU"
          ],
          [
           "yinchuan",
           "CN"
          ],
          [
           "shizunai",
           "JP"
          ],
          [
           "jackson",
           "US"
          ],
          [
           "springbok",
           "ZA"
          ],
          [
           "oriximina",
           "BR"
          ],
          [
           "imeni poliny osipenko",
           "RU"
          ],
          [
           "acari",
           "PE"
          ],
          [
           "anadyr",
           "RU"
          ],
          [
           "ukiah",
           "US"
          ],
          [
           "tessalit",
           "ML"
          ],
          [
           "goderich",
           "CA"
          ],
          [
           "awjilah",
           "LY"
          ],
          [
           "fortuna",
           "US"
          ],
          [
           "lakes entrance",
           "AU"
          ],
          [
           "priladozhskiy",
           "RU"
          ],
          [
           "opuwo",
           "NA"
          ],
          [
           "kemijarvi",
           "FI"
          ],
          [
           "sabratah",
           "LY"
          ],
          [
           "port blair",
           "IN"
          ],
          [
           "port hedland",
           "AU"
          ],
          [
           "carauari",
           "BR"
          ],
          [
           "celestun",
           "MX"
          ],
          [
           "katsuura",
           "JP"
          ],
          [
           "gloucester",
           "GB"
          ],
          [
           "bucak",
           "TR"
          ],
          [
           "verkhnyaya inta",
           "RU"
          ],
          [
           "uaua",
           "BR"
          ],
          [
           "cidreira",
           "BR"
          ],
          [
           "aragarcas",
           "BR"
          ],
          [
           "manzanares",
           "ES"
          ],
          [
           "tartagal",
           "AR"
          ],
          [
           "evensk",
           "RU"
          ],
          [
           "amalapuram",
           "IN"
          ],
          [
           "ca mau",
           "VN"
          ],
          [
           "yumen",
           "CN"
          ],
          [
           "znamenskoye",
           "RU"
          ],
          [
           "davila",
           "PH"
          ],
          [
           "rio gallegos",
           "AR"
          ],
          [
           "emerald",
           "AU"
          ],
          [
           "bathsheba",
           "BB"
          ],
          [
           "broome",
           "US"
          ],
          [
           "karratha",
           "AU"
          ],
          [
           "bako",
           "ET"
          ],
          [
           "luderitz",
           "NA"
          ],
          [
           "bonfim",
           "BR"
          ],
          [
           "general roca",
           "AR"
          ],
          [
           "kailua",
           "US"
          ],
          [
           "gaogou",
           "CN"
          ],
          [
           "cayenne",
           "GF"
          ],
          [
           "itaituba",
           "BR"
          ],
          [
           "pierre",
           "US"
          ],
          [
           "kasongo",
           "CD"
          ],
          [
           "domodossola",
           "IT"
          ],
          [
           "inhambane",
           "MZ"
          ],
          [
           "airai",
           "TL"
          ],
          [
           "pyu",
           "MM"
          ],
          [
           "great yarmouth",
           "GB"
          ],
          [
           "coquimbo",
           "CL"
          ],
          [
           "alamogordo",
           "US"
          ],
          [
           "belozerskoye",
           "RU"
          ],
          [
           "puerto ayora",
           "EC"
          ],
          [
           "vung tau",
           "VN"
          ],
          [
           "oktyabrskiy",
           "RU"
          ],
          [
           "porto empedocle",
           "IT"
          ],
          [
           "giovinazzo",
           "IT"
          ],
          [
           "geraldton",
           "AU"
          ],
          [
           "guaraniacu",
           "BR"
          ],
          [
           "krasnodar",
           "RU"
          ],
          [
           "mecca",
           "SA"
          ],
          [
           "tuatapere",
           "NZ"
          ],
          [
           "buckeye",
           "US"
          ],
          [
           "vidalia",
           "US"
          ],
          [
           "superior",
           "US"
          ],
          [
           "svencionys",
           "LT"
          ],
          [
           "zyryanovsk",
           "KZ"
          ],
          [
           "auki",
           "SB"
          ],
          [
           "lexington",
           "US"
          ],
          [
           "bowen",
           "AU"
          ],
          [
           "ruteng",
           "ID"
          ],
          [
           "nome",
           "US"
          ],
          [
           "channel-port aux basques",
           "CA"
          ],
          [
           "hofn",
           "IS"
          ],
          [
           "ahipara",
           "NZ"
          ],
          [
           "klaksvik",
           "FO"
          ],
          [
           "palmer",
           "US"
          ],
          [
           "sidi ali",
           "DZ"
          ],
          [
           "chuy",
           "UY"
          ],
          [
           "shenkursk",
           "RU"
          ],
          [
           "boa vista",
           "BR"
          ],
          [
           "namatanai",
           "PG"
          ],
          [
           "los llanos de aridane",
           "ES"
          ],
          [
           "nara",
           "JP"
          ],
          [
           "ambanja",
           "MG"
          ],
          [
           "nuuk",
           "GL"
          ],
          [
           "atasu",
           "KZ"
          ],
          [
           "pontes e lacerda",
           "BR"
          ],
          [
           "vardo",
           "NO"
          ],
          [
           "huarmey",
           "PE"
          ],
          [
           "cape coast",
           "GH"
          ],
          [
           "muravlenko",
           "RU"
          ],
          [
           "chor",
           "PK"
          ],
          [
           "pamekasan",
           "ID"
          ],
          [
           "araguaina",
           "BR"
          ],
          [
           "miri",
           "MY"
          ],
          [
           "raudeberg",
           "NO"
          ],
          [
           "berlevag",
           "NO"
          ],
          [
           "muros",
           "ES"
          ],
          [
           "cowra",
           "AU"
          ],
          [
           "madimba",
           "TZ"
          ],
          [
           "beyneu",
           "KZ"
          ],
          [
           "boquim",
           "BR"
          ],
          [
           "barra patuca",
           "HN"
          ],
          [
           "beipiao",
           "CN"
          ],
          [
           "campina grande do sul",
           "BR"
          ],
          [
           "sao joao da barra",
           "BR"
          ],
          [
           "henties bay",
           "NA"
          ],
          [
           "tiznit",
           "MA"
          ],
          [
           "hailar",
           "CN"
          ],
          [
           "devils lake",
           "US"
          ],
          [
           "bay roberts",
           "CA"
          ],
          [
           "siparia",
           "TT"
          ],
          [
           "saldanha",
           "ZA"
          ],
          [
           "mbengwi",
           "CM"
          ],
          [
           "mpika",
           "ZM"
          ],
          [
           "gat",
           "IL"
          ],
          [
           "gondal",
           "IN"
          ],
          [
           "eirunepe",
           "BR"
          ],
          [
           "morogoro",
           "TZ"
          ],
          [
           "tadine",
           "NC"
          ],
          [
           "sao bras de alportel",
           "PT"
          ],
          [
           "kamenka",
           "RU"
          ],
          [
           "texarkana",
           "US"
          ],
          [
           "fomboni",
           "KM"
          ],
          [
           "hervey bay",
           "AU"
          ],
          [
           "luxor",
           "EG"
          ],
          [
           "dargaville",
           "NZ"
          ],
          [
           "kuantan",
           "MY"
          ],
          [
           "rio grande",
           "BR"
          ],
          [
           "shenjiamen",
           "CN"
          ],
          [
           "bandarbeyla",
           "SO"
          ],
          [
           "melfi",
           "IT"
          ],
          [
           "saint-joseph",
           "RE"
          ],
          [
           "victor harbor",
           "AU"
          ],
          [
           "mucurapo",
           "TT"
          ],
          [
           "yatou",
           "CN"
          ],
          [
           "gao",
           "ML"
          ],
          [
           "penzance",
           "GB"
          ],
          [
           "aklavik",
           "CA"
          ],
          [
           "antofagasta",
           "CL"
          ],
          [
           "mineros",
           "BO"
          ],
          [
           "dir",
           "PK"
          ],
          [
           "teluk nibung",
           "ID"
          ],
          [
           "cochrane",
           "CA"
          ],
          [
           "sorong",
           "ID"
          ],
          [
           "saint-georges",
           "GD"
          ],
          [
           "cankuzo",
           "BI"
          ],
          [
           "temiscaming",
           "CA"
          ],
          [
           "wasilla",
           "US"
          ],
          [
           "tongchuan",
           "CN"
          ],
          [
           "morondava",
           "MG"
          ],
          [
           "valguarnera caropepe",
           "IT"
          ],
          [
           "wageningen",
           "NL"
          ],
          [
           "caldwell",
           "US"
          ],
          [
           "kushmurun",
           "KZ"
          ],
          [
           "mehamn",
           "NO"
          ],
          [
           "bentiu",
           "SS"
          ],
          [
           "mayo",
           "US"
          ],
          [
           "chunskiy",
           "RU"
          ],
          [
           "gouyave",
           "GD"
          ],
          [
           "varhaug",
           "NO"
          ],
          [
           "bardsir",
           "IR"
          ],
          [
           "moranbah",
           "AU"
          ],
          [
           "puerto del rosario",
           "ES"
          ],
          [
           "moundsville",
           "US"
          ],
          [
           "suamico",
           "US"
          ],
          [
           "moba",
           "CN"
          ],
          [
           "shihezi",
           "CN"
          ],
          [
           "nerekhta",
           "RU"
          ],
          [
           "flinders",
           "AU"
          ],
          [
           "hargeysa",
           "SO"
          ],
          [
           "korla",
           "CN"
          ],
          [
           "santa marta",
           "CO"
          ],
          [
           "omsukchan",
           "RU"
          ],
          [
           "ufimskiy",
           "RU"
          ],
          [
           "jinxiang",
           "CN"
          ],
          [
           "turukhansk",
           "RU"
          ],
          [
           "dukat",
           "RU"
          ],
          [
           "riverton",
           "US"
          ],
          [
           "lata",
           "PT"
          ],
          [
           "hobyo",
           "SO"
          ],
          [
           "tautira",
           "PF"
          ],
          [
           "verdun",
           "FR"
          ],
          [
           "penticton",
           "CA"
          ],
          [
           "erzin",
           "TR"
          ],
          [
           "sola",
           "VU"
          ],
          [
           "bilma",
           "NE"
          ],
          [
           "oranjestad",
           "AW"
          ],
          [
           "porto novo",
           "BJ"
          ],
          [
           "nemuro",
           "JP"
          ],
          [
           "havoysund",
           "NO"
          ],
          [
           "tuy hoa",
           "VN"
          ],
          [
           "chacarita",
           "CR"
          ],
          [
           "parrita",
           "CR"
          ],
          [
           "asilah",
           "MA"
          ],
          [
           "santona",
           "ES"
          ],
          [
           "adamovka",
           "RU"
          ],
          [
           "mahanoro",
           "MG"
          ],
          [
           "vostok",
           "RU"
          ],
          [
           "kapuskasing",
           "CA"
          ],
          [
           "adamas",
           "GR"
          ],
          [
           "puno",
           "PE"
          ],
          [
           "port-cartier",
           "CA"
          ],
          [
           "moose factory",
           "CA"
          ],
          [
           "sao desiderio",
           "BR"
          ],
          [
           "pacifica",
           "US"
          ],
          [
           "ambilobe",
           "MG"
          ],
          [
           "youghal",
           "IE"
          ],
          [
           "bansi",
           "IN"
          ],
          [
           "persianovskiy",
           "RU"
          ],
          [
           "araouane",
           "ML"
          ],
          [
           "borba",
           "BR"
          ],
          [
           "kapoeta",
           "SS"
          ],
          [
           "san isidro",
           "PE"
          ],
          [
           "homer",
           "US"
          ],
          [
           "rio cuarto",
           "AR"
          ],
          [
           "smithers",
           "CA"
          ],
          [
           "port shepstone",
           "ZA"
          ],
          [
           "borovskoy",
           "KZ"
          ],
          [
           "colares",
           "PT"
          ],
          [
           "cocoa",
           "US"
          ],
          [
           "mayumba",
           "GA"
          ],
          [
           "tall kayf",
           "TR"
          ],
          [
           "puerto escondido",
           "MX"
          ],
          [
           "ornskoldsvik",
           "SE"
          ],
          [
           "aykhal",
           "RU"
          ],
          [
           "key west",
           "US"
          ],
          [
           "tokur",
           "RU"
          ],
          [
           "katherine",
           "AU"
          ],
          [
           "sao bento do sul",
           "BR"
          ],
          [
           "namibe",
           "AO"
          ],
          [
           "townsville",
           "AU"
          ],
          [
           "bereda",
           "ES"
          ],
          [
           "bambanglipuro",
           "ID"
          ],
          [
           "ilam",
           "NP"
          ],
          [
           "gwadar",
           "PK"
          ],
          [
           "beloha",
           "MG"
          ],
          [
           "marrakesh",
           "MA"
          ],
          [
           "xining",
           "CN"
          ],
          [
           "tutoia",
           "BR"
          ],
          [
           "tonantins",
           "BR"
          ],
          [
           "dzhebariki-khaya",
           "RU"
          ],
          [
           "sistranda",
           "NO"
          ],
          [
           "macenta",
           "GN"
          ],
          [
           "kusadak",
           "RS"
          ],
          [
           "abbeville",
           "FR"
          ],
          [
           "waipawa",
           "NZ"
          ],
          [
           "banda aceh",
           "ID"
          ],
          [
           "bluefield",
           "US"
          ],
          [
           "sao filipe",
           "CV"
          ],
          [
           "reconquista",
           "AR"
          ],
          [
           "bastrop",
           "US"
          ],
          [
           "saint stephen",
           "GB"
          ],
          [
           "blagoveshchenka",
           "RU"
          ],
          [
           "san policarpo",
           "PH"
          ],
          [
           "ullal",
           "IN"
          ],
          [
           "huaiyin",
           "CN"
          ],
          [
           "grootfontein",
           "NA"
          ],
          [
           "togur",
           "RU"
          ],
          [
           "port augusta",
           "AU"
          ],
          [
           "dutlwe",
           "BW"
          ],
          [
           "trofors",
           "NO"
          ],
          [
           "rorvik",
           "NO"
          ],
          [
           "romitan",
           "UZ"
          ],
          [
           "novikovo",
           "RU"
          ],
          [
           "tumpat",
           "MY"
          ],
          [
           "sinnamary",
           "GF"
          ],
          [
           "faya",
           "SA"
          ],
          [
           "vila velha",
           "BR"
          ],
          [
           "chino valley",
           "US"
          ],
          [
           "makakilo city",
           "US"
          ],
          [
           "cockburn town",
           "TC"
          ],
          [
           "buraydah",
           "SA"
          ],
          [
           "souillac",
           "MU"
          ],
          [
           "dudinka",
           "RU"
          ],
          [
           "college",
           "US"
          ],
          [
           "washington",
           "US"
          ],
          [
           "adrar",
           "MR"
          ],
          [
           "nauchnyy gorodok",
           "RU"
          ],
          [
           "doha",
           "QA"
          ],
          [
           "assen",
           "NL"
          ],
          [
           "walvis bay",
           "NA"
          ],
          [
           "kimbe",
           "PG"
          ],
          [
           "gardelegen",
           "DE"
          ],
          [
           "lauderhill",
           "US"
          ],
          [
           "lavrentiya",
           "RU"
          ],
          [
           "imbituba",
           "BR"
          ],
          [
           "labytnangi",
           "RU"
          ],
          [
           "bonthe",
           "SL"
          ],
          [
           "cuenca",
           "EC"
          ],
          [
           "talnakh",
           "RU"
          ],
          [
           "aulum",
           "DK"
          ],
          [
           "windhoek",
           "NA"
          ],
          [
           "marfino",
           "RU"
          ]
         ],
         "hovertemplate": "Longitude=%{x}<br>Latitude=%{y}<br>Cloudiness=%{marker.size}<br>City=%{customdata[0]}<br>Country=%{customdata[1]}<br>Max Temp=%{marker.color}<extra></extra>",
         "legendgroup": "",
         "marker": {
          "color": [
           85.86,
           61.68,
           43.43,
           45.28,
           72.73,
           56.64,
           85.84,
           77.92,
           71.37,
           44.6,
           61.05,
           92.79,
           48.31,
           58.55,
           48.83,
           32.54,
           77.52,
           40.66,
           68.86,
           66.07,
           44.58,
           74.26,
           69.66,
           45.48,
           31.08,
           72.86,
           72.09,
           59,
           48.6,
           67.44,
           37.22,
           67.01,
           51.73,
           56.07,
           49.21,
           20.46,
           69.75,
           47.23,
           83.7,
           61.7,
           49.69,
           48.2,
           77.4,
           47.14,
           70.25,
           66.06,
           70.21,
           48.74,
           64.42,
           55.26,
           61.2,
           60.6,
           82.72,
           63.41,
           75.09,
           71.15,
           55.98,
           78.03,
           61.52,
           74.79,
           52.81,
           54.32,
           51.35,
           32.22,
           58.03,
           70.54,
           80.11,
           46.8,
           84.24,
           91.44,
           87.85,
           47.48,
           81.95,
           67.55,
           78.85,
           44.71,
           74.41,
           61.83,
           75.11,
           61.34,
           71.8,
           40.53,
           75.56,
           42.53,
           79.72,
           85.42,
           76.57,
           73.11,
           75.65,
           77.83,
           68.07,
           75.63,
           68.79,
           47.66,
           54.86,
           98.08,
           32.38,
           77.18,
           61.59,
           80.22,
           71.87,
           51.24,
           30.22,
           82.96,
           79.27,
           52.54,
           88.99,
           46.22,
           52.21,
           54.84,
           52.29,
           22.32,
           77.36,
           79,
           39.25,
           54.12,
           76.69,
           89.13,
           76.23,
           78.08,
           63.57,
           39.92,
           80.28,
           75.58,
           58.57,
           68.43,
           64.08,
           61.02,
           71.98,
           83.8,
           30.04,
           61.09,
           41.16,
           58.15,
           76.21,
           42.24,
           45.61,
           52.07,
           78.08,
           57.92,
           61.14,
           77.99,
           55.33,
           33.87,
           46.18,
           66.6,
           82.33,
           70.66,
           83.52,
           36.36,
           81.34,
           74.1,
           60.67,
           72.55,
           52.34,
           43.95,
           81.23,
           77.22,
           57.54,
           80.35,
           59.97,
           54.91,
           81.64,
           70.92,
           53.89,
           69.78,
           94.95,
           75.72,
           51.15,
           82,
           64.49,
           73.96,
           64.22,
           86.79,
           59.56,
           74.84,
           56.89,
           62.56,
           88.05,
           49.89,
           76.24,
           91.85,
           84.02,
           36.9,
           82.65,
           99.03,
           49.44,
           69.42,
           50.11,
           83.19,
           52.86,
           61.99,
           65.16,
           46.62,
           77.5,
           50.14,
           78.62,
           72,
           81.14,
           57.85,
           34.57,
           71.71,
           72.07,
           83.97,
           81.75,
           68.65,
           78.89,
           82.92,
           55.92,
           53.89,
           51.96,
           82.87,
           79.75,
           84.94,
           82.26,
           78.62,
           49.87,
           62.2,
           48.04,
           45.18,
           51.39,
           70.47,
           59.86,
           87.82,
           72.72,
           49.78,
           75.79,
           50.61,
           84.36,
           66.2,
           96.06,
           37.78,
           59.02,
           79.52,
           52.86,
           68.72,
           47.32,
           66.33,
           80.6,
           32.65,
           52.92,
           76.68,
           70.9,
           76.82,
           62.69,
           35.82,
           49.08,
           55.92,
           65.03,
           63.9,
           76.15,
           39.6,
           76.26,
           58.64,
           63.79,
           39.7,
           87.64,
           92.48,
           60.91,
           74.57,
           59.99,
           54.16,
           49.66,
           64.06,
           35.13,
           76.37,
           82.62,
           78.85,
           76.42,
           80.87,
           75.31,
           59.97,
           64.92,
           31.82,
           72.23,
           66.34,
           82.09,
           70.66,
           71.26,
           55.26,
           80.98,
           80.19,
           63.21,
           35.8,
           85.6,
           43.59,
           76.26,
           82.11,
           65.7,
           78.73,
           67.17,
           51.78,
           77.04,
           50.52,
           84.07,
           77.74,
           82.09,
           73.65,
           61.86,
           70.95,
           69.4,
           68.92,
           78.33,
           77.58,
           58.95,
           54.63,
           78.15,
           46.56,
           67.55,
           80.24,
           58.28,
           63.25,
           73.81,
           64.13,
           72.73,
           56.62,
           82.38,
           46.81,
           104.45,
           75.27,
           62.71,
           43.75,
           43.38,
           87.15,
           74.98,
           77.27,
           73.76,
           49.15,
           57.2,
           50.45,
           59.77,
           52.72,
           65.17,
           73.69,
           56.17,
           50.2,
           85.98,
           84.65,
           71.35,
           69.08,
           68.77,
           36.21,
           50.22,
           84.04,
           43.41,
           62.19,
           75.54,
           41.72,
           90.54,
           85.26,
           82.15,
           81.43,
           49.19,
           42.44,
           68.23,
           60.28,
           70.79,
           68.25,
           69.12,
           79.9,
           68.7,
           69.1,
           73.6,
           53.85,
           78.89,
           57.87,
           58.98,
           59.32,
           79.79,
           53.94,
           63.16,
           60.21,
           78.4,
           75.67,
           76.24,
           63.88,
           76.33,
           68.68,
           59.29,
           80.82,
           77.36,
           78.04,
           85.23,
           61.65,
           79.38,
           61.95,
           76.6,
           78.15,
           68.23,
           66.56,
           57.72,
           79.97,
           75.94,
           86.95,
           58.21,
           52.75,
           58.69,
           90.61,
           68.5,
           79.95,
           58.91,
           82.53,
           80.98,
           63.5,
           56.68,
           52.48,
           72.7,
           71.15,
           67.32,
           58.95,
           75.81,
           55.27,
           41.74,
           70.27,
           79.41,
           48.42,
           81.46,
           51.89,
           61.07,
           82.45,
           74.95,
           73.35,
           65.17,
           59.41,
           67.42,
           51.69,
           56.25,
           70.63,
           70.63,
           82.98,
           50.81,
           53.58,
           85.55,
           39.9,
           48.27,
           79.16,
           66.04,
           76.57,
           80.62,
           59.41,
           76.41,
           74.12,
           79.79,
           88.68,
           84.15,
           72.39,
           59.63,
           41.88,
           85.26,
           76.69,
           83.98,
           71.56,
           75.51,
           52.59,
           65.12,
           59.56,
           47.8,
           71.02,
           49.78,
           54.75,
           42.53,
           74.1,
           79.34,
           67.6,
           60.03,
           81.79,
           54.12,
           95.49,
           79.99,
           73.04,
           61.02,
           52.81,
           41.83,
           53.91,
           62.04,
           52.5,
           70.29,
           82,
           75.65,
           64.74,
           79.63,
           40.15,
           49.69,
           84.2,
           58.12,
           91.72,
           60.26,
           63.12,
           81.48,
           62.35,
           82.08,
           72.59,
           78.84,
           69.13,
           73.47,
           57.54,
           79.2,
           74.82,
           61.72,
           50.9,
           68.81,
           63.75,
           62.56,
           50.45,
           83.79,
           69.84,
           79.23,
           68.85,
           78.48,
           59.83,
           50.54,
           85.66,
           79.75,
           78.22,
           63.07,
           40.1,
           65.71,
           59.5,
           43.95,
           49.89,
           58.95,
           58.28,
           81.16,
           77.92,
           66.78,
           73.24,
           86.31,
           82.62,
           82.98,
           78.08,
           71.98,
           43.88,
           58.28,
           69.93,
           91.63,
           41.86,
           89.58,
           53.98,
           54.09,
           92.68,
           57.97,
           83.01,
           43.92,
           67.17,
           38.37,
           77.76,
           51.4,
           44.08,
           58.64,
           57.11,
           58.28
          ],
          "coloraxis": "coloraxis",
          "size": [
           100,
           49,
           87,
           0,
           11,
           55,
           62,
           100,
           5,
           75,
           0,
           0,
           90,
           0,
           95,
           11,
           3,
           40,
           10,
           98,
           99,
           43,
           67,
           93,
           13,
           35,
           37,
           75,
           100,
           37,
           100,
           15,
           100,
           99,
           100,
           10,
           0,
           4,
           14,
           0,
           5,
           100,
           100,
           13,
           31,
           66,
           46,
           100,
           100,
           20,
           90,
           100,
           100,
           45,
           0,
           20,
           28,
           6,
           0,
           19,
           99,
           46,
           100,
           43,
           65,
           69,
           28,
           45,
           83,
           11,
           94,
           100,
           95,
           40,
           75,
           75,
           100,
           0,
           100,
           0,
           100,
           18,
           79,
           100,
           91,
           53,
           91,
           10,
           17,
           100,
           0,
           12,
           100,
           100,
           7,
           0,
           85,
           1,
           0,
           100,
           3,
           56,
           75,
           99,
           97,
           100,
           13,
           100,
           4,
           99,
           100,
           99,
           99,
           1,
           90,
           40,
           5,
           42,
           100,
           83,
           37,
           100,
           37,
           100,
           59,
           96,
           88,
           3,
           20,
           99,
           40,
           90,
           84,
           94,
           26,
           96,
           0,
           100,
           13,
           99,
           44,
           19,
           6,
           8,
           100,
           99,
           20,
           90,
           12,
           100,
           35,
           100,
           100,
           3,
           100,
           94,
           25,
           73,
           29,
           78,
           100,
           12,
           100,
           70,
           0,
           100,
           1,
           100,
           8,
           12,
           100,
           99,
           45,
           76,
           0,
           100,
           54,
           24,
           36,
           12,
           54,
           15,
           2,
           100,
           99,
           0,
           100,
           99,
           100,
           100,
           100,
           0,
           100,
           69,
           18,
           21,
           88,
           43,
           100,
           99,
           0,
           68,
           100,
           22,
           55,
           0,
           100,
           89,
           58,
           100,
           75,
           39,
           1,
           97,
           100,
           10,
           100,
           100,
           100,
           100,
           100,
           96,
           100,
           75,
           29,
           100,
           100,
           100,
           82,
           0,
           11,
           4,
           100,
           0,
           69,
           40,
           0,
           37,
           0,
           100,
           100,
           95,
           85,
           1,
           100,
           0,
           100,
           71,
           100,
           100,
           0,
           0,
           98,
           0,
           69,
           40,
           0,
           19,
           14,
           0,
           1,
           73,
           3,
           0,
           100,
           0,
           100,
           3,
           56,
           92,
           100,
           100,
           47,
           81,
           3,
           100,
           26,
           100,
           4,
           20,
           100,
           100,
           96,
           7,
           99,
           97,
           3,
           94,
           98,
           0,
           82,
           0,
           24,
           0,
           5,
           26,
           0,
           94,
           0,
           12,
           47,
           0,
           50,
           100,
           100,
           0,
           1,
           100,
           46,
           78,
           65,
           0,
           0,
           0,
           94,
           31,
           10,
           80,
           0,
           1,
           75,
           100,
           2,
           41,
           0,
           12,
           77,
           100,
           29,
           99,
           100,
           100,
           35,
           100,
           32,
           100,
           20,
           80,
           0,
           100,
           6,
           0,
           0,
           20,
           100,
           88,
           100,
           100,
           8,
           60,
           0,
           91,
           100,
           100,
           69,
           3,
           94,
           72,
           44,
           70,
           69,
           86,
           4,
           10,
           100,
           3,
           90,
           43,
           5,
           0,
           100,
           81,
           0,
           100,
           19,
           45,
           18,
           75,
           81,
           40,
           9,
           0,
           1,
           97,
           100,
           100,
           100,
           8,
           3,
           38,
           100,
           14,
           0,
           85,
           100,
           98,
           100,
           8,
           0,
           100,
           67,
           95,
           93,
           62,
           62,
           100,
           62,
           7,
           1,
           20,
           1,
           45,
           100,
           100,
           1,
           57,
           97,
           20,
           0,
           18,
           59,
           11,
           90,
           100,
           15,
           93,
           70,
           5,
           3,
           100,
           35,
           100,
           29,
           100,
           46,
           1,
           39,
           69,
           54,
           100,
           23,
           0,
           12,
           32,
           20,
           100,
           4,
           100,
           94,
           100,
           100,
           100,
           100,
           6,
           30,
           92,
           100,
           10,
           9,
           3,
           91,
           23,
           20,
           5,
           96,
           72,
           0,
           13,
           42,
           72,
           84,
           96,
           100,
           100,
           3,
           53,
           96,
           1,
           99,
           0,
           75,
           56,
           100,
           75,
           13,
           40,
           9,
           35,
           0,
           71,
           100,
           60,
           60,
           35,
           75,
           100,
           6,
           7,
           100,
           100,
           99,
           29,
           100,
           100,
           98,
           1,
           52,
           8,
           100,
           100,
           22,
           62,
           75,
           98,
           0,
           100,
           10,
           0,
           95,
           100,
           0,
           11,
           100,
           8,
           91,
           0,
           20,
           13,
           97,
           5,
           75,
           89,
           100,
           7,
           42,
           0,
           0,
           90,
           0,
           93,
           3,
           20,
           100,
           100,
           100,
           89,
           18,
           100,
           96,
           0,
           75
          ],
          "sizemode": "area",
          "sizeref": 0.25,
          "symbol": "circle"
         },
         "mode": "markers",
         "name": "",
         "orientation": "v",
         "showlegend": false,
         "type": "scatter",
         "x": [
          59.5289,
          27.4488,
          -73.8203,
          -73.65,
          -40.1489,
          135.8667,
          120.2641,
          129.4833,
          167.4833,
          -133.0374,
          115.3333,
          -117.8678,
          -173.3,
          17.7167,
          147.9167,
          64.4162,
          -139.0333,
          -68.3,
          -27.9833,
          -79.2353,
          169.8464,
          -134.9692,
          -50.0119,
          168.8643,
          -68.5914,
          -121.9166,
          57.6142,
          -147.7164,
          -63.7568,
          50.2788,
          -156.7887,
          31.0292,
          -131.6461,
          123.7167,
          8.4927,
          -51.1922,
          153.6167,
          -17.3389,
          73.0833,
          62,
          -57.5575,
          161.3,
          140.8333,
          -137.5108,
          57.7,
          47.6,
          57.7575,
          102.5,
          26.891,
          147.3294,
          150.1833,
          -9.2667,
          172.7902,
          -73.9662,
          45.2699,
          133.8833,
          125.3894,
          -169.9187,
          71.7189,
          -175.2,
          19.2345,
          -77.5333,
          54.9368,
          178.4167,
          10.7002,
          -28.7,
          -159.319,
          168.3333,
          98.5298,
          145.4333,
          114.1577,
          -23.7142,
          73,
          55.7679,
          -159.775,
          -70.9167,
          -16.5469,
          48.5146,
          -16.7339,
          121.9,
          92.7333,
          80.5464,
          -73.414,
          70.8333,
          96.1285,
          122.5276,
          -7.3528,
          93.45,
          48.4845,
          92.3058,
          113.6333,
          -51.995,
          25.678,
          35.3287,
          118.2631,
          -3.9836,
          60.1659,
          -84.1666,
          -61.3485,
          97.5675,
          -42.0278,
          43.0066,
          -51.1,
          46.4667,
          -73.3091,
          128.9203,
          131.047,
          114.0833,
          16.4333,
          -134.4197,
          20.0403,
          -69.3632,
          -7.7169,
          -82.6393,
          27.7285,
          -114.3525,
          -35.4608,
          112.1931,
          -105.2,
          54.0924,
          -60.5238,
          60.0407,
          -155.09,
          102.2655,
          -52.7314,
          32.7667,
          133.9064,
          -76.2167,
          -16.3415,
          124.1572,
          15.6401,
          25.5701,
          -37.6368,
          153.6833,
          -77.1167,
          39.5131,
          159.9667,
          10.0618,
          -151.75,
          -54.3333,
          -75.6826,
          130.9889,
          -126.8329,
          -68.5145,
          -74.8492,
          26.4869,
          100.3354,
          -93.218,
          -109.9124,
          166.4372,
          167.1667,
          77.9,
          -52.5219,
          -122.6762,
          156.5167,
          167.7167,
          76.15,
          -56.0861,
          117.6319,
          -23.5087,
          173.7833,
          147.0587,
          147.2712,
          -50.4136,
          18.4232,
          135.5833,
          -113.5841,
          9.2618,
          40.2278,
          -110.2167,
          11.8167,
          44.1277,
          -81.2719,
          141.3028,
          15.9333,
          -15,
          11.4294,
          -81.2147,
          116.067,
          30.7861,
          42.5454,
          -13.0499,
          -158.0072,
          -53.4641,
          118.327,
          -115.1372,
          -20.2734,
          -86.1089,
          123.3711,
          -64.6167,
          -130.3201,
          -70.3333,
          27.9116,
          -62.9967,
          -44.2233,
          44.7417,
          20.9167,
          57.6608,
          26.6876,
          19.0266,
          -52.9,
          57.7625,
          136.45,
          -156.47,
          80.1,
          37.1841,
          -97.5169,
          147.1797,
          13,
          24.7314,
          -97.8558,
          81.8167,
          -121.9358,
          122.6711,
          -63.0578,
          -39.9167,
          63.6335,
          46.0509,
          -58.7368,
          128.8694,
          25.0551,
          -9.4215,
          -2.9984,
          127.6694,
          -17.1,
          156.125,
          86.2085,
          -152.4072,
          150.7967,
          62.9137,
          145.7667,
          -45.2371,
          -7.1911,
          -47.3561,
          -135.33,
          -25.6667,
          -73.1167,
          41.9741,
          52.3409,
          -56.1549,
          24.5308,
          12.6113,
          -47.6136,
          -76.4538,
          106.3439,
          -46.05,
          37.8833,
          52.7972,
          106.2731,
          142.3669,
          -122.8345,
          17.8865,
          -55.8661,
          136.4853,
          -74.6158,
          177.4833,
          -123.2078,
          1.0114,
          -81.7165,
          21.2869,
          -124.1573,
          147.981,
          31.4833,
          13.84,
          27.4306,
          12.4885,
          92.75,
          118.5667,
          -66.8958,
          -90.4,
          140.3,
          -2.2431,
          30.595,
          60.3094,
          -39.4817,
          -50.2056,
          -52.2508,
          -3.3699,
          -63.8013,
          159.2333,
          82.0167,
          105.15,
          97.2,
          73.8282,
          120.5763,
          -69.2181,
          148.1667,
          -59.5167,
          -75.833,
          116.8463,
          36.5667,
          15.1594,
          -59.95,
          -67.5833,
          -157.7394,
          119.1886,
          -52.3333,
          -55.9836,
          -100.351,
          26.6667,
          8.2931,
          35.3833,
          125.4092,
          96.4333,
          1.7305,
          -71.3436,
          -105.9603,
          65.5842,
          -90.3518,
          107.0843,
          53.471,
          13.5264,
          16.6674,
          114.6,
          -52.8781,
          40,
          39.8261,
          167.6833,
          -112.5838,
          -82.4135,
          -92.1041,
          26.1667,
          84.2719,
          160.7034,
          -84.4777,
          148.2333,
          120.4721,
          -165.4064,
          -59.1367,
          -15.2082,
          173.1667,
          -6.589,
          -72.3287,
          0.4206,
          -53.4616,
          42.896,
          -60.6733,
          152.4333,
          -17.9182,
          135.8049,
          48.45,
          -51.7216,
          71.6433,
          -59.3353,
          31.1107,
          -78.1522,
          -1.2466,
          74.523,
          69.7667,
          113.4746,
          -48.2072,
          114.0089,
          5.1352,
          29.0864,
          -9.0603,
          148.6833,
          40.3333,
          55.2,
          -37.6206,
          -84.2833,
          120.7792,
          -49.0553,
          -41.0511,
          14.2845,
          -9.5,
          119.7,
          -98.8651,
          -53.2648,
          -61.5,
          17.9442,
          10,
          31.4529,
          34.7642,
          70.8,
          -69.8736,
          37.6667,
          167.8833,
          -7.8875,
          42.7678,
          -94.0477,
          43.7425,
          152.8535,
          32.6421,
          173.8833,
          103.326,
          -52.0986,
          122.298,
          50.8122,
          15.6514,
          55.6167,
          138.6167,
          -61.5333,
          122.3833,
          1.637,
          -5.5371,
          -135.0107,
          -70.4,
          -63.2333,
          71.8756,
          99.8164,
          -114.4687,
          131.25,
          -61.7485,
          30.5833,
          -79.0971,
          -149.4394,
          109.0897,
          44.2833,
          14.3888,
          5.6667,
          -116.6874,
          64.6311,
          27.8492,
          29.8333,
          -76.5119,
          99.6342,
          -61.7296,
          5.6457,
          56.5743,
          148.0466,
          -13.8627,
          -80.7431,
          -88.0393,
          105.0179,
          86.0333,
          40.5747,
          150.8552,
          44.065,
          86.1469,
          -74.199,
          155.8,
          58.0517,
          120.6062,
          87.9833,
          155.55,
          -111.9391,
          -8.3327,
          48.5268,
          -149.15,
          5.3333,
          -119.5858,
          36.2,
          167.55,
          12.9164,
          -70.027,
          2.6036,
          145.575,
          24.6622,
          109.3,
          -84.7723,
          -84.3225,
          -6.0348,
          -3.4576,
          59.9396,
          48.8,
          135.8833,
          -82.4331,
          24.4333,
          -70.0333,
          -66.8654,
          -80.6094,
          -44.9733,
          -122.4869,
          49.05,
          -7.8506,
          82.9333,
          40.1075,
          -3.5265,
          -59.5939,
          33.5903,
          -77.05,
          -151.5483,
          -64.3499,
          -127.1743,
          30.455,
          64.15,
          -9.4469,
          -80.742,
          10.6554,
          41.0667,
          -97.0667,
          18.7153,
          111.5,
          -81.7826,
          132.9,
          132.2667,
          -49.3786,
          12.1522,
          146.8,
          -7.5406,
          110.2833,
          87.9167,
          62.3254,
          45.05,
          -8.0083,
          101.7667,
          -42.2744,
          -67.8022,
          135.8,
          8.834,
          -9.471,
          20.8033,
          1.8333,
          175.5153,
          95.3222,
          -81.2223,
          -24.4956,
          -59.65,
          -91.8724,
          -4.9,
          79.8667,
          125.5072,
          74.85,
          119.0192,
          18.1167,
          82.8265,
          137.7667,
          23.9,
          13.4063,
          11.2373,
          64.3814,
          37.8879,
          102.171,
          -52.95,
          42.4509,
          -40.2925,
          -112.4538,
          -158.0858,
          -71.1419,
          43.975,
          57.5167,
          86.1778,
          -147.8028,
          -120.5015,
          -10.0711,
          83.521,
          51.5333,
          6.5625,
          14.5053,
          150.1429,
          11.3952,
          -80.2134,
          -171,
          -48.6703,
          66.4183,
          -12.505,
          -78.9833,
          88.3972,
          8.787,
          17.0832,
          37.3822
         ],
         "xaxis": "x",
         "y": [
          22.5667,
          -20.6246,
          -41.8697,
          -37.6167,
          -7.6519,
          -34.7333,
          -9.6567,
          28.3667,
          -22.6667,
          69.4541,
          -33.65,
          33.7456,
          64.3833,
          -19.2333,
          70.6333,
          63.1906,
          -9.8,
          -54.8,
          39.05,
          42.097,
          -46.2817,
          -23.1203,
          -24.7911,
          -46.1927,
          70.4692,
          36.6177,
          -19.9842,
          64.8378,
          -35.6566,
          -14.9003,
          71.2906,
          -29.8579,
          55.3422,
          50.5667,
          59.4022,
          68.8193,
          -28.65,
          66.0449,
          -0.6,
          34.5,
          -38.0023,
          68.75,
          35.7333,
          60.7522,
          -20.4081,
          -23.35,
          -20.3428,
          71.9667,
          -33.5906,
          -42.8794,
          -35.7167,
          51.55,
          3.0707,
          42.6001,
          -12.7887,
          -23.7,
          58.6031,
          -19.0595,
          40.4272,
          -21.2,
          -34.4187,
          -9.5333,
          58.2667,
          69.3833,
          46.6166,
          38.5167,
          22.0752,
          -46.6,
          8.4509,
          -17,
          22.2855,
          64.8945,
          5.6667,
          -21.3585,
          -21.2078,
          -53.15,
          12.485,
          34.7992,
          13.2019,
          -33.8667,
          22.8833,
          73.5069,
          41.3712,
          66.8333,
          4.1363,
          -4.9408,
          4.423,
          42.8,
          8.4054,
          20.8624,
          -24.8667,
          -6.6447,
          8.4596,
          55.8549,
          56.9064,
          22.6783,
          66.0317,
          39.4334,
          45.6169,
          16.08,
          -22.9661,
          58.3988,
          69.2167,
          14.4,
          11.2725,
          61.4681,
          -12.497,
          71.9167,
          -28.55,
          58.3019,
          -34.5322,
          77.484,
          4.375,
          30.1897,
          64.2273,
          62.456,
          -5.1989,
          23.9051,
          20.7,
          17.0151,
          -31.732,
          58.3638,
          19.7297,
          -3.8004,
          47.6666,
          -5.6333,
          42.9019,
          -13.7,
          33.072,
          24.3448,
          78.2186,
          -33.918,
          65.6145,
          67.45,
          20.3433,
          68.0531,
          59.1167,
          60.84,
          -16.4833,
          -34.4833,
          44.5834,
          -25.2406,
          65.282,
          63.7506,
          49.7834,
          5.3998,
          5.4112,
          45.0205,
          22.8909,
          68.0546,
          -15.5333,
          12.1333,
          -30.5439,
          45.5234,
          51.5,
          -45.4167,
          28.2833,
          -9.8756,
          62.1444,
          14.9215,
          -35.1,
          -42.7826,
          -2.0226,
          -24.5094,
          -33.9258,
          34.7333,
          37.1041,
          -1.5746,
          40.2589,
          23.45,
          6.75,
          17.4924,
          -4.5772,
          -2.6741,
          -21.4333,
          11.5833,
          48.1188,
          -4.2714,
          22.8779,
          59.7035,
          -0.3582,
          20.5169,
          21.3156,
          68.3065,
          5.0268,
          36.175,
          63.4427,
          42.7875,
          66.7697,
          18.4167,
          54.3161,
          -27.3667,
          -33.0153,
          -40.8135,
          -3.7267,
          43.0645,
          14.5333,
          -20.0064,
          13.6017,
          54.0359,
          65.4167,
          -20.2078,
          34.85,
          20.8947,
          28.6167,
          35.3029,
          28.017,
          -9.4431,
          51.5667,
          -34.0033,
          55.7435,
          7.4167,
          37.7021,
          10.9995,
          18.217,
          -2.9248,
          56.0852,
          50.7765,
          -38.5473,
          71.6872,
          59.0129,
          38.6979,
          51.5877,
          26.1247,
          32.6667,
          50.6789,
          23.795,
          57.79,
          -2.5744,
          39.4816,
          -16.9167,
          60.1432,
          53.1622,
          -0.6136,
          57.0531,
          37.7333,
          -36.7167,
          45.4552,
          35.2182,
          72.7868,
          -32.2522,
          13.3154,
          -16.7686,
          38.2668,
          39.2342,
          60.9167,
          56.55,
          53.5742,
          38.4681,
          42.3339,
          42.4165,
          -29.6643,
          -1.7656,
          52.4201,
          -15.4311,
          64.75,
          39.1502,
          20.1986,
          43.7501,
          29.1081,
          40.5982,
          -37.8811,
          59.85,
          -18.0607,
          66.7131,
          32.7933,
          11.6667,
          -20.3167,
          -4.8828,
          20.8667,
          35.1333,
          51.8657,
          37.4592,
          65.9811,
          -9.8414,
          -30.1811,
          -15.8975,
          38.9991,
          -22.5164,
          61.95,
          16.5833,
          9.1769,
          40.2833,
          57.1281,
          18.4726,
          -51.6226,
          -23.5333,
          13.2167,
          42.2506,
          -20.7377,
          5.7833,
          -26.6481,
          3.0833,
          -39.0333,
          21.4022,
          34.0175,
          4.9333,
          -4.2761,
          44.3683,
          -4.45,
          46.1165,
          -23.865,
          -8.9266,
          18.4833,
          52.6083,
          -29.9533,
          32.8995,
          55.8214,
          -0.7393,
          10.346,
          54.4815,
          37.2934,
          41.1864,
          -28.7667,
          -25.1008,
          45,
          21.4267,
          -46.1333,
          33.3703,
          32.2177,
          46.7208,
          55.15,
          49.7386,
          -8.7676,
          37.9887,
          -20.0167,
          -8.6136,
          64.5011,
          47.5702,
          64.2539,
          -35.1667,
          62.2266,
          42.1584,
          36.0998,
          -33.6971,
          62.1091,
          2.8197,
          -3.6667,
          28.6585,
          34.6851,
          -13.6833,
          64.1835,
          48.6814,
          -15.2261,
          70.3705,
          -10.0681,
          5.1053,
          63.7898,
          25.5167,
          -7.1568,
          -7.1911,
          4.4148,
          61.9875,
          70.8578,
          42.7762,
          -33.8333,
          -10.4,
          45.3167,
          -11.1469,
          15.8,
          41.7919,
          -25.3056,
          -21.6403,
          -22.116,
          29.5833,
          49.2,
          48.1128,
          47.5999,
          10.1333,
          -33.0117,
          6.0167,
          -11.8343,
          31.61,
          21.9667,
          -6.6603,
          -6.8167,
          -21.55,
          37.1531,
          51.3223,
          33.4251,
          -12.28,
          -25.2986,
          25.6989,
          -35.9333,
          3.8077,
          -32.035,
          29.9576,
          9.4942,
          40.9965,
          -21.3667,
          -35.5667,
          10.6667,
          37.15,
          16.6362,
          50.1186,
          68.2191,
          -23.65,
          -17.1167,
          35.2058,
          3.001,
          51.1834,
          -0.8833,
          12.0564,
          -3.1333,
          46.7212,
          61.5814,
          35.0806,
          -20.2833,
          37.4955,
          51.9667,
          43.6629,
          52.4503,
          71.0357,
          9.2333,
          38.8876,
          56.0815,
          12.1646,
          58.6147,
          29.9227,
          -22.0016,
          28.5004,
          39.9203,
          44.6319,
          33.2288,
          44.3,
          57.4588,
          -34.5833,
          9.56,
          41.7597,
          11.2408,
          62.5333,
          56.7084,
          27.4327,
          65.8167,
          62.55,
          40.5219,
          40.1629,
          5.3505,
          -17.7333,
          49.25,
          49.4806,
          36.9559,
          -13.8833,
          18.6853,
          12.524,
          6.4965,
          43.3236,
          70.9963,
          13.0833,
          9.9829,
          9.5201,
          35.465,
          43.4439,
          51.5223,
          -19.9,
          46.4856,
          49.4169,
          36.7333,
          -15.8333,
          50.0334,
          51.2585,
          -12.3633,
          37.6138,
          -13.2,
          51.95,
          27.1833,
          47.5137,
          18.9048,
          -4.3878,
          4.7717,
          -12.1167,
          59.6425,
          -33.1307,
          54.7804,
          -30.7414,
          53.8,
          38.7992,
          28.3861,
          -3.432,
          37.0833,
          15.85,
          63.2909,
          66,
          24.5557,
          53.1333,
          -14.4667,
          -26.2503,
          -15.1961,
          -19.25,
          43.2686,
          -7.95,
          26.9167,
          25.1216,
          -25.1667,
          31.6315,
          36.6167,
          -2.7619,
          -2.8731,
          62.2167,
          63.7256,
          8.5435,
          44.3997,
          50.1,
          -41.4122,
          5.5577,
          37.2698,
          14.8961,
          -29.15,
          32.7562,
          50.3333,
          52.8333,
          12.1791,
          12.8,
          33.5886,
          -19.5667,
          58.3631,
          -32.5,
          -23.9833,
          65.5333,
          64.8621,
          39.9343,
          51.1537,
          6.1978,
          5.3833,
          18.3851,
          -20.3297,
          34.7575,
          21.3469,
          21.4612,
          26.326,
          -20.5167,
          69.4058,
          64.8569,
          47.5001,
          20.5022,
          53.4203,
          25.2867,
          52.9967,
          -22.9575,
          -5.5502,
          52.5252,
          26.1404,
          65.5833,
          -28.24,
          66.6572,
          7.5264,
          -2.8833,
          69.4865,
          56.2649,
          -22.5594,
          55.7028
         ],
         "yaxis": "y"
        }
       ],
       "layout": {
        "coloraxis": {
         "colorbar": {
          "title": {
           "text": "Max Temp"
          }
         },
         "colorscale": [
          [
           0,
           "#0d0887"
          ],
          [
           0.1111111111111111,
           "#46039f"
          ],
          [
           0.2222222222222222,
           "#7201a8"
          ],
          [
           0.3333333333333333,
           "#9c179e"
          ],
          [
           0.4444444444444444,
           "#bd3786"
          ],
          [
           0.5555555555555556,
           "#d8576b"
          ],
          [
           0.6666666666666666,
           "#ed7953"
          ],
          [
           0.7777777777777778,
           "#fb9f3a"
          ],
          [
           0.8888888888888888,
           "#fdca26"
          ],
          [
           1,
           "#f0f921"
          ]
         ]
        },
        "legend": {
         "itemsizing": "constant",
         "tracegroupgap": 0
        },
        "margin": {
         "t": 60
        },
        "template": {
         "data": {
          "bar": [
           {
            "error_x": {
             "color": "#2a3f5f"
            },
            "error_y": {
             "color": "#2a3f5f"
            },
            "marker": {
             "line": {
              "color": "#E5ECF6",
              "width": 0.5
             },
             "pattern": {
              "fillmode": "overlay",
              "size": 10,
              "solidity": 0.2
             }
            },
            "type": "bar"
           }
          ],
          "barpolar": [
           {
            "marker": {
             "line": {
              "color": "#E5ECF6",
              "width": 0.5
             },
             "pattern": {
              "fillmode": "overlay",
              "size": 10,
              "solidity": 0.2
             }
            },
            "type": "barpolar"
           }
          ],
          "carpet": [
           {
            "aaxis": {
             "endlinecolor": "#2a3f5f",
             "gridcolor": "white",
             "linecolor": "white",
             "minorgridcolor": "white",
             "startlinecolor": "#2a3f5f"
            },
            "baxis": {
             "endlinecolor": "#2a3f5f",
             "gridcolor": "white",
             "linecolor": "white",
             "minorgridcolor": "white",
             "startlinecolor": "#2a3f5f"
            },
            "type": "carpet"
           }
          ],
          "choropleth": [
           {
            "colorbar": {
             "outlinewidth": 0,
             "ticks": ""
            },
            "type": "choropleth"
           }
          ],
          "contour": [
           {
            "colorbar": {
             "outlinewidth": 0,
             "ticks": ""
            },
            "colorscale": [
             [
              0,
              "#0d0887"
             ],
             [
              0.1111111111111111,
              "#46039f"
             ],
             [
              0.2222222222222222,
              "#7201a8"
             ],
             [
              0.3333333333333333,
              "#9c179e"
             ],
             [
              0.4444444444444444,
              "#bd3786"
             ],
             [
              0.5555555555555556,
              "#d8576b"
             ],
             [
              0.6666666666666666,
              "#ed7953"
             ],
             [
              0.7777777777777778,
              "#fb9f3a"
             ],
             [
              0.8888888888888888,
              "#fdca26"
             ],
             [
              1,
              "#f0f921"
             ]
            ],
            "type": "contour"
           }
          ],
          "contourcarpet": [
           {
            "colorbar": {
             "outlinewidth": 0,
             "ticks": ""
            },
            "type": "contourcarpet"
           }
          ],
          "heatmap": [
           {
            "colorbar": {
             "outlinewidth": 0,
             "ticks": ""
            },
            "colorscale": [
             [
              0,
              "#0d0887"
             ],
             [
              0.1111111111111111,
              "#46039f"
             ],
             [
              0.2222222222222222,
              "#7201a8"
             ],
             [
              0.3333333333333333,
              "#9c179e"
             ],
             [
              0.4444444444444444,
              "#bd3786"
             ],
             [
              0.5555555555555556,
              "#d8576b"
             ],
             [
              0.6666666666666666,
              "#ed7953"
             ],
             [
              0.7777777777777778,
              "#fb9f3a"
             ],
             [
              0.8888888888888888,
              "#fdca26"
             ],
             [
              1,
              "#f0f921"
             ]
            ],
            "type": "heatmap"
           }
          ],
          "heatmapgl": [
           {
            "colorbar": {
             "outlinewidth": 0,
             "ticks": ""
            },
            "colorscale": [
             [
              0,
              "#0d0887"
             ],
             [
              0.1111111111111111,
              "#46039f"
             ],
             [
              0.2222222222222222,
              "#7201a8"
             ],
             [
              0.3333333333333333,
              "#9c179e"
             ],
             [
              0.4444444444444444,
              "#bd3786"
             ],
             [
              0.5555555555555556,
              "#d8576b"
             ],
             [
              0.6666666666666666,
              "#ed7953"
             ],
             [
              0.7777777777777778,
              "#fb9f3a"
             ],
             [
              0.8888888888888888,
              "#fdca26"
             ],
             [
              1,
              "#f0f921"
             ]
            ],
            "type": "heatmapgl"
           }
          ],
          "histogram": [
           {
            "marker": {
             "pattern": {
              "fillmode": "overlay",
              "size": 10,
              "solidity": 0.2
             }
            },
            "type": "histogram"
           }
          ],
          "histogram2d": [
           {
            "colorbar": {
             "outlinewidth": 0,
             "ticks": ""
            },
            "colorscale": [
             [
              0,
              "#0d0887"
             ],
             [
              0.1111111111111111,
              "#46039f"
             ],
             [
              0.2222222222222222,
              "#7201a8"
             ],
             [
              0.3333333333333333,
              "#9c179e"
             ],
             [
              0.4444444444444444,
              "#bd3786"
             ],
             [
              0.5555555555555556,
              "#d8576b"
             ],
             [
              0.6666666666666666,
              "#ed7953"
             ],
             [
              0.7777777777777778,
              "#fb9f3a"
             ],
             [
              0.8888888888888888,
              "#fdca26"
             ],
             [
              1,
              "#f0f921"
             ]
            ],
            "type": "histogram2d"
           }
          ],
          "histogram2dcontour": [
           {
            "colorbar": {
             "outlinewidth": 0,
             "ticks": ""
            },
            "colorscale": [
             [
              0,
              "#0d0887"
             ],
             [
              0.1111111111111111,
              "#46039f"
             ],
             [
              0.2222222222222222,
              "#7201a8"
             ],
             [
              0.3333333333333333,
              "#9c179e"
             ],
             [
              0.4444444444444444,
              "#bd3786"
             ],
             [
              0.5555555555555556,
              "#d8576b"
             ],
             [
              0.6666666666666666,
              "#ed7953"
             ],
             [
              0.7777777777777778,
              "#fb9f3a"
             ],
             [
              0.8888888888888888,
              "#fdca26"
             ],
             [
              1,
              "#f0f921"
             ]
            ],
            "type": "histogram2dcontour"
           }
          ],
          "mesh3d": [
           {
            "colorbar": {
             "outlinewidth": 0,
             "ticks": ""
            },
            "type": "mesh3d"
           }
          ],
          "parcoords": [
           {
            "line": {
             "colorbar": {
              "outlinewidth": 0,
              "ticks": ""
             }
            },
            "type": "parcoords"
           }
          ],
          "pie": [
           {
            "automargin": true,
            "type": "pie"
           }
          ],
          "scatter": [
           {
            "marker": {
             "colorbar": {
              "outlinewidth": 0,
              "ticks": ""
             }
            },
            "type": "scatter"
           }
          ],
          "scatter3d": [
           {
            "line": {
             "colorbar": {
              "outlinewidth": 0,
              "ticks": ""
             }
            },
            "marker": {
             "colorbar": {
              "outlinewidth": 0,
              "ticks": ""
             }
            },
            "type": "scatter3d"
           }
          ],
          "scattercarpet": [
           {
            "marker": {
             "colorbar": {
              "outlinewidth": 0,
              "ticks": ""
             }
            },
            "type": "scattercarpet"
           }
          ],
          "scattergeo": [
           {
            "marker": {
             "colorbar": {
              "outlinewidth": 0,
              "ticks": ""
             }
            },
            "type": "scattergeo"
           }
          ],
          "scattergl": [
           {
            "marker": {
             "colorbar": {
              "outlinewidth": 0,
              "ticks": ""
             }
            },
            "type": "scattergl"
           }
          ],
          "scattermapbox": [
           {
            "marker": {
             "colorbar": {
              "outlinewidth": 0,
              "ticks": ""
             }
            },
            "type": "scattermapbox"
           }
          ],
          "scatterpolar": [
           {
            "marker": {
             "colorbar": {
              "outlinewidth": 0,
              "ticks": ""
             }
            },
            "type": "scatterpolar"
           }
          ],
          "scatterpolargl": [
           {
            "marker": {
             "colorbar": {
              "outlinewidth": 0,
              "ticks": ""
             }
            },
            "type": "scatterpolargl"
           }
          ],
          "scatterternary": [
           {
            "marker": {
             "colorbar": {
              "outlinewidth": 0,
              "ticks": ""
             }
            },
            "type": "scatterternary"
           }
          ],
          "surface": [
           {
            "colorbar": {
             "outlinewidth": 0,
             "ticks": ""
            },
            "colorscale": [
             [
              0,
              "#0d0887"
             ],
             [
              0.1111111111111111,
              "#46039f"
             ],
             [
              0.2222222222222222,
              "#7201a8"
             ],
             [
              0.3333333333333333,
              "#9c179e"
             ],
             [
              0.4444444444444444,
              "#bd3786"
             ],
             [
              0.5555555555555556,
              "#d8576b"
             ],
             [
              0.6666666666666666,
              "#ed7953"
             ],
             [
              0.7777777777777778,
              "#fb9f3a"
             ],
             [
              0.8888888888888888,
              "#fdca26"
             ],
             [
              1,
              "#f0f921"
             ]
            ],
            "type": "surface"
           }
          ],
          "table": [
           {
            "cells": {
             "fill": {
              "color": "#EBF0F8"
             },
             "line": {
              "color": "white"
             }
            },
            "header": {
             "fill": {
              "color": "#C8D4E3"
             },
             "line": {
              "color": "white"
             }
            },
            "type": "table"
           }
          ]
         },
         "layout": {
          "annotationdefaults": {
           "arrowcolor": "#2a3f5f",
           "arrowhead": 0,
           "arrowwidth": 1
          },
          "autotypenumbers": "strict",
          "coloraxis": {
           "colorbar": {
            "outlinewidth": 0,
            "ticks": ""
           }
          },
          "colorscale": {
           "diverging": [
            [
             0,
             "#8e0152"
            ],
            [
             0.1,
             "#c51b7d"
            ],
            [
             0.2,
             "#de77ae"
            ],
            [
             0.3,
             "#f1b6da"
            ],
            [
             0.4,
             "#fde0ef"
            ],
            [
             0.5,
             "#f7f7f7"
            ],
            [
             0.6,
             "#e6f5d0"
            ],
            [
             0.7,
             "#b8e186"
            ],
            [
             0.8,
             "#7fbc41"
            ],
            [
             0.9,
             "#4d9221"
            ],
            [
             1,
             "#276419"
            ]
           ],
           "sequential": [
            [
             0,
             "#0d0887"
            ],
            [
             0.1111111111111111,
             "#46039f"
            ],
            [
             0.2222222222222222,
             "#7201a8"
            ],
            [
             0.3333333333333333,
             "#9c179e"
            ],
            [
             0.4444444444444444,
             "#bd3786"
            ],
            [
             0.5555555555555556,
             "#d8576b"
            ],
            [
             0.6666666666666666,
             "#ed7953"
            ],
            [
             0.7777777777777778,
             "#fb9f3a"
            ],
            [
             0.8888888888888888,
             "#fdca26"
            ],
            [
             1,
             "#f0f921"
            ]
           ],
           "sequentialminus": [
            [
             0,
             "#0d0887"
            ],
            [
             0.1111111111111111,
             "#46039f"
            ],
            [
             0.2222222222222222,
             "#7201a8"
            ],
            [
             0.3333333333333333,
             "#9c179e"
            ],
            [
             0.4444444444444444,
             "#bd3786"
            ],
            [
             0.5555555555555556,
             "#d8576b"
            ],
            [
             0.6666666666666666,
             "#ed7953"
            ],
            [
             0.7777777777777778,
             "#fb9f3a"
            ],
            [
             0.8888888888888888,
             "#fdca26"
            ],
            [
             1,
             "#f0f921"
            ]
           ]
          },
          "colorway": [
           "#636efa",
           "#EF553B",
           "#00cc96",
           "#ab63fa",
           "#FFA15A",
           "#19d3f3",
           "#FF6692",
           "#B6E880",
           "#FF97FF",
           "#FECB52"
          ],
          "font": {
           "color": "#2a3f5f"
          },
          "geo": {
           "bgcolor": "white",
           "lakecolor": "white",
           "landcolor": "#E5ECF6",
           "showlakes": true,
           "showland": true,
           "subunitcolor": "white"
          },
          "hoverlabel": {
           "align": "left"
          },
          "hovermode": "closest",
          "mapbox": {
           "style": "light"
          },
          "paper_bgcolor": "white",
          "plot_bgcolor": "#E5ECF6",
          "polar": {
           "angularaxis": {
            "gridcolor": "white",
            "linecolor": "white",
            "ticks": ""
           },
           "bgcolor": "#E5ECF6",
           "radialaxis": {
            "gridcolor": "white",
            "linecolor": "white",
            "ticks": ""
           }
          },
          "scene": {
           "xaxis": {
            "backgroundcolor": "#E5ECF6",
            "gridcolor": "white",
            "gridwidth": 2,
            "linecolor": "white",
            "showbackground": true,
            "ticks": "",
            "zerolinecolor": "white"
           },
           "yaxis": {
            "backgroundcolor": "#E5ECF6",
            "gridcolor": "white",
            "gridwidth": 2,
            "linecolor": "white",
            "showbackground": true,
            "ticks": "",
            "zerolinecolor": "white"
           },
           "zaxis": {
            "backgroundcolor": "#E5ECF6",
            "gridcolor": "white",
            "gridwidth": 2,
            "linecolor": "white",
            "showbackground": true,
            "ticks": "",
            "zerolinecolor": "white"
           }
          },
          "shapedefaults": {
           "line": {
            "color": "#2a3f5f"
           }
          },
          "ternary": {
           "aaxis": {
            "gridcolor": "white",
            "linecolor": "white",
            "ticks": ""
           },
           "baxis": {
            "gridcolor": "white",
            "linecolor": "white",
            "ticks": ""
           },
           "bgcolor": "#E5ECF6",
           "caxis": {
            "gridcolor": "white",
            "linecolor": "white",
            "ticks": ""
           }
          },
          "title": {
           "x": 0.05
          },
          "xaxis": {
           "automargin": true,
           "gridcolor": "white",
           "linecolor": "white",
           "ticks": "",
           "title": {
            "standoff": 15
           },
           "zerolinecolor": "white",
           "zerolinewidth": 2
          },
          "yaxis": {
           "automargin": true,
           "gridcolor": "white",
           "linecolor": "white",
           "ticks": "",
           "title": {
            "standoff": 15
           },
           "zerolinecolor": "white",
           "zerolinewidth": 2
          }
         }
        },
        "xaxis": {
         "anchor": "y",
         "domain": [
          0,
          1
         ],
         "title": {
          "text": "Longitude"
         }
        },
        "yaxis": {
         "anchor": "x",
         "domain": [
          0,
          1
         ],
         "title": {
          "text": "Latitude"
         }
        }
       }
      }
     },
     "metadata": {}
    }
   ],
   "metadata": {}
  },
  {
   "cell_type": "markdown",
   "source": [
    "Temperatures are generally highest between 0 and 20 latitude (corresponding to the equator and just north of the equator)."
   ],
   "metadata": {}
  },
  {
   "cell_type": "markdown",
   "source": [
    "## Latitude vs. Humidity Plot"
   ],
   "metadata": {}
  },
  {
   "cell_type": "code",
   "execution_count": 14,
   "source": [
    "plt.scatter(weather_df[\"Latitude\"], weather_df[\"Humidity\"], edgecolors = \"black\", facecolors = \"skyblue\", zorder = 3)\r\n",
    "plt.title(\"City Latitude vs. Humidity\")\r\n",
    "plt.xlabel(\"Latitude\")\r\n",
    "plt.ylabel(\"% Humidity\")\r\n",
    "plt.grid (which = \"major\", axis = \"both\", linestyle = \"-\", color = \"lightgrey\", zorder = -1)\r\n",
    "plt.savefig(\"Figures/latvhumid1.png\")\r\n",
    "plt.show()"
   ],
   "outputs": [
    {
     "output_type": "display_data",
     "data": {
      "image/png": "[encoded data removed]",
      "text/plain": [
       "<Figure size 432x288 with 1 Axes>"
      ]
     },
     "metadata": {
      "needs_background": "light"
     }
    }
   ],
   "metadata": {}
  },
  {
   "cell_type": "markdown",
   "source": [
    "Humidity is randomly distributed across the globe, with most cities having a percent humidity between 60 and 100%."
   ],
   "metadata": {}
  },
  {
   "cell_type": "markdown",
   "source": [
    "## Latitude vs. Cloudiness Plot"
   ],
   "metadata": {}
  },
  {
   "cell_type": "code",
   "execution_count": 15,
   "source": [
    "plt.scatter(weather_df[\"Latitude\"], weather_df[\"Cloudiness\"], edgecolors = \"black\", facecolors = \"skyblue\", zorder = 3)\r\n",
    "plt.title(\"City Latitude vs. Cloudiness\")\r\n",
    "plt.xlabel(\"Latitude\")\r\n",
    "plt.ylabel(\"% Cloudiness\")\r\n",
    "plt.grid (which = \"major\", axis = \"both\", linestyle = \"-\", color = \"lightgrey\", zorder = -1)\r\n",
    "plt.savefig(\"Figures/latvclouds.png\")\r\n",
    "plt.show()"
   ],
   "outputs": [
    {
     "output_type": "display_data",
     "data": {
      "image/png": "[encoded data removed]",
      "text/plain": [
       "<Figure size 432x288 with 1 Axes>"
      ]
     },
     "metadata": {
      "needs_background": "light"
     }
    }
   ],
   "metadata": {}
  },
  {
   "cell_type": "markdown",
   "source": [
    "Cloudiness is randomly distributed across the globe, with clusters of cities having either 100% coverage or 0% clouds."
   ],
   "metadata": {}
  },
  {
   "cell_type": "markdown",
   "source": [
    "## Latitude vs. Wind Speed Plot"
   ],
   "metadata": {}
  },
  {
   "cell_type": "code",
   "execution_count": 16,
   "source": [
    "plt.scatter(weather_df[\"Latitude\"], weather_df[\"Wind Speed\"], edgecolors = \"black\", facecolors = \"skyblue\", zorder = 3)\r\n",
    "plt.title(\"City Latitude vs. Wind Speed\")\r\n",
    "plt.xlabel(\"Latitude\")\r\n",
    "plt.ylabel(\"Wind Speed (mph)\")\r\n",
    "plt.grid (which = \"major\", axis = \"both\", linestyle = \"-\", color = \"lightgrey\", zorder = -1)\r\n",
    "plt.savefig(\"Figures/latvwind1.png\")\r\n",
    "plt.show()"
   ],
   "outputs": [
    {
     "output_type": "display_data",
     "data": {
      "image/png": "[encoded data removed]",
      "text/plain": [
       "<Figure size 432x288 with 1 Axes>"
      ]
     },
     "metadata": {
      "needs_background": "light"
     }
    }
   ],
   "metadata": {}
  },
  {
   "cell_type": "markdown",
   "source": [
    "Wind speed is randomly distributed across the globe, with most cities experiencing winds between 0 and 10 mph."
   ],
   "metadata": {}
  },
  {
   "cell_type": "markdown",
   "source": [
    "## Linear Regression"
   ],
   "metadata": {}
  },
  {
   "cell_type": "code",
   "execution_count": 17,
   "source": [
    "northern_df = weather_df.loc[pd.to_numeric(weather_df[\"Latitude\"]).astype(float) > 0, :]\r\n",
    "southern_df = weather_df.loc[pd.to_numeric(weather_df[\"Latitude\"]).astype(float) < 0, :]"
   ],
   "outputs": [],
   "metadata": {}
  },
  {
   "cell_type": "markdown",
   "source": [
    "####  Northern Hemisphere - Max Temp vs. Latitude Linear Regression"
   ],
   "metadata": {}
  },
  {
   "cell_type": "code",
   "execution_count": 18,
   "source": [
    "x_values = pd.to_numeric(northern_df['Latitude']).astype(float)\r\n",
    "y_values = pd.to_numeric(northern_df['Max Temp']).astype(float)\r\n",
    "(slopen, interceptn, rvaluen, pvaluen, stderrn) = linregress(x_values, y_values)\r\n",
    "rsqn = round(rvaluen**2,2)\r\n",
    "regress_values = x_values * slopen + interceptn\r\n",
    "line_eqn = \"y =\" + str(round(slopen,2)) + \"x + \" + str(round(interceptn,2))\r\n",
    "print(f\"Regression line equation is: {line_eqn}.\")\r\n",
    "plt.scatter(x_values,y_values)\r\n",
    "plt.plot(x_values,regress_values, \"r-\")\r\n",
    "plt.annotate(line_eqn,(0,30),fontsize=12,color=\"red\")\r\n",
    "plt.xlabel('Latitude')\r\n",
    "plt.ylabel('Max Temp (F)')\r\n",
    "plt.title('Northern Hemisphere - Max Temp vs. Latitude Linear Regression')\r\n",
    "print(f\"The r-squared is: {rsqn}\")\r\n",
    "plt.savefig(\"Figures/latvtemp_northern.png\")"
   ],
   "outputs": [
    {
     "output_type": "stream",
     "name": "stdout",
     "text": [
      "Regression line equation is: y =-0.67x + 91.75.\n",
      "The r-squared is: 0.71\n"
     ]
    },
    {
     "output_type": "display_data",
     "data": {
      "image/png": "[encoded data removed]",
      "text/plain": [
       "<Figure size 432x288 with 1 Axes>"
      ]
     },
     "metadata": {
      "needs_background": "light"
     }
    }
   ],
   "metadata": {}
  },
  {
   "cell_type": "markdown",
   "source": [
    "####  Southern Hemisphere - Max Temp vs. Latitude Linear Regression"
   ],
   "metadata": {}
  },
  {
   "cell_type": "code",
   "execution_count": 19,
   "source": [
    "x_values = pd.to_numeric(southern_df['Latitude']).astype(float)\r\n",
    "y_values = pd.to_numeric(southern_df['Max Temp']).astype(float)\r\n",
    "(slopes, intercepts, rvalues, pvalues, stderrs) = linregress(x_values, y_values)\r\n",
    "rsqs = round(rvalues**2,2)\r\n",
    "regress_values = x_values * slopes + intercepts\r\n",
    "line_eq = \"y =\" + str(round(slopes,2)) + \"x + \" + str(round(intercepts,2))\r\n",
    "print(f\"Regression line equation is: {line_eq}.\")\r\n",
    "plt.scatter(x_values,y_values)\r\n",
    "plt.plot(x_values,regress_values, \"r-\")\r\n",
    "plt.annotate(line_eq,(-50,90),fontsize=12,color=\"red\")\r\n",
    "plt.xlabel('Latitude')\r\n",
    "plt.ylabel('Max Temp (F)')\r\n",
    "plt.title('Southern Hemisphere - Max Temp vs. Latitude Linear Regression')\r\n",
    "print(f\"The r-squared is: {rsqs}\")\r\n",
    "plt.savefig(\"Figures/latvtemp_southern.png\")"
   ],
   "outputs": [
    {
     "output_type": "stream",
     "name": "stdout",
     "text": [
      "Regression line equation is: y =0.69x + 81.95.\n",
      "The r-squared is: 0.52\n"
     ]
    },
    {
     "output_type": "display_data",
     "data": {
      "image/png": "[encoded data removed]",
      "text/plain": [
       "<Figure size 432x288 with 1 Axes>"
      ]
     },
     "metadata": {
      "needs_background": "light"
     }
    }
   ],
   "metadata": {}
  },
  {
   "cell_type": "markdown",
   "source": [
    "In the Northern Hemisphere, there is a moderate ($R^{2}$ = 0.62), negative ($m$ = -0.63) correlation between latitude and temperature; generally, as you move from the north pole towards the equator, temperature rises. <br>\r\n",
    "<br>\r\n",
    "Conversely, in the Southern Hemisphere, there is a moderate ($R^{2}$ = 0.52), positive ($m$ = 0.75) correlation between latitude and temperature; generally, as you move from the equator towards the south pole, temperature falls."
   ],
   "metadata": {}
  },
  {
   "cell_type": "markdown",
   "source": [
    "####  Northern Hemisphere - Humidity (%) vs. Latitude Linear Regression"
   ],
   "metadata": {}
  },
  {
   "cell_type": "code",
   "execution_count": 20,
   "source": [
    "x_values = pd.to_numeric(northern_df['Latitude']).astype(float)\r\n",
    "y_values = pd.to_numeric(northern_df['Humidity']).astype(float)\r\n",
    "(slopen, interceptn, rvaluen, pvaluen, stderrn) = linregress(x_values, y_values)\r\n",
    "rsqn = round(rvaluen**2,2)\r\n",
    "regress_values = x_values * slopen + interceptn\r\n",
    "line_eqn = \"y =\" + str(round(slopen,2)) + \"x + \" + str(round(interceptn,2))\r\n",
    "print(f\"Regression line equation is: {line_eqn}.\")\r\n",
    "plt.scatter(x_values,y_values)\r\n",
    "plt.plot(x_values,regress_values, \"r-\")\r\n",
    "plt.annotate(line_eqn,(50,13),fontsize=12,color=\"red\")\r\n",
    "plt.xlabel('Latitude')\r\n",
    "plt.ylabel('% Humidity')\r\n",
    "plt.title('Northern Hemisphere - Humidity vs. Latitude Linear Regression')\r\n",
    "print(f\"The r-squared is: {rsqn}\")\r\n",
    "plt.savefig(\"Figures/latvhumid_northern.png\")"
   ],
   "outputs": [
    {
     "output_type": "stream",
     "name": "stdout",
     "text": [
      "Regression line equation is: y =0.04x + 71.44.\n",
      "The r-squared is: 0.0\n"
     ]
    },
    {
     "output_type": "display_data",
     "data": {
      "image/png": "[encoded data removed]",
      "text/plain": [
       "<Figure size 432x288 with 1 Axes>"
      ]
     },
     "metadata": {
      "needs_background": "light"
     }
    }
   ],
   "metadata": {}
  },
  {
   "cell_type": "markdown",
   "source": [
    "####  Southern Hemisphere - Humidity (%) vs. Latitude Linear Regression"
   ],
   "metadata": {}
  },
  {
   "cell_type": "code",
   "execution_count": 21,
   "source": [
    "x_values = pd.to_numeric(southern_df['Latitude']).astype(float)\r\n",
    "y_values = pd.to_numeric(southern_df['Humidity']).astype(float)\r\n",
    "(slopes, intercepts, rvalues, pvalues, stderrs) = linregress(x_values, y_values)\r\n",
    "rsqs = round(rvalues**2,2)\r\n",
    "regress_values = x_values * slopes + intercepts\r\n",
    "line_eq = \"y =\" + str(round(slopes,2)) + \"x + \" + str(round(intercepts,2))\r\n",
    "print(f\"Regression line equation is: {line_eq}.\")\r\n",
    "plt.scatter(x_values,y_values)\r\n",
    "plt.plot(x_values,regress_values, \"r-\")\r\n",
    "plt.annotate(line_eq,(-55,20),fontsize=12,color=\"red\")\r\n",
    "plt.xlabel('Latitude')\r\n",
    "plt.ylabel('% Humidity')\r\n",
    "plt.title('Southern Hemisphere - Humidity vs. Latitude Linear Regression')\r\n",
    "print(f\"The r-squared is: {rsqs}\")\r\n",
    "plt.savefig(\"Figures/latvhumid_southern.png\")"
   ],
   "outputs": [
    {
     "output_type": "stream",
     "name": "stdout",
     "text": [
      "Regression line equation is: y =0.09x + 70.24.\n",
      "The r-squared is: 0.0\n"
     ]
    },
    {
     "output_type": "display_data",
     "data": {
      "image/png": "[encoded data removed]",
      "text/plain": [
       "<Figure size 432x288 with 1 Axes>"
      ]
     },
     "metadata": {
      "needs_background": "light"
     }
    }
   ],
   "metadata": {}
  },
  {
   "cell_type": "markdown",
   "source": [
    "In both the Northern and Southern Hemisphere, there no correlation between latitude and humidity ($R^{2}$ = 0 and 0.01, respectively). "
   ],
   "metadata": {}
  },
  {
   "cell_type": "markdown",
   "source": [
    "####  Northern Hemisphere - Cloudiness (%) vs. Latitude Linear Regression"
   ],
   "metadata": {}
  },
  {
   "cell_type": "code",
   "execution_count": 22,
   "source": [
    "x_values = pd.to_numeric(northern_df['Latitude']).astype(float)\r\n",
    "y_values = pd.to_numeric(northern_df['Cloudiness']).astype(float)\r\n",
    "(slopen, interceptn, rvaluen, pvaluen, stderrn) = linregress(x_values, y_values)\r\n",
    "rsqn = round(rvaluen**2,2)\r\n",
    "regress_values = x_values * slopen + interceptn\r\n",
    "line_eqn = \"y =\" + str(round(slopen,2)) + \"x + \" + str(round(interceptn,2))\r\n",
    "print(f\"Regression line equation is: {line_eqn}.\")\r\n",
    "plt.scatter(x_values,y_values)\r\n",
    "plt.plot(x_values,regress_values, \"r-\")\r\n",
    "plt.annotate(line_eqn,(50,13),fontsize=12,color=\"red\")\r\n",
    "plt.xlabel('Latitude')\r\n",
    "plt.ylabel('% Cloudiness')\r\n",
    "plt.title('Northern Hemisphere - Cloudiness vs. Latitude Linear Regression')\r\n",
    "print(f\"The r-squared is: {rsqn}\")\r\n",
    "plt.savefig(\"Figures/latvclouds_northern.png\")"
   ],
   "outputs": [
    {
     "output_type": "stream",
     "name": "stdout",
     "text": [
      "Regression line equation is: y =0.07x + 57.28.\n",
      "The r-squared is: 0.0\n"
     ]
    },
    {
     "output_type": "display_data",
     "data": {
      "image/png": "[encoded data removed]",
      "text/plain": [
       "<Figure size 432x288 with 1 Axes>"
      ]
     },
     "metadata": {
      "needs_background": "light"
     }
    }
   ],
   "metadata": {}
  },
  {
   "cell_type": "markdown",
   "source": [
    "####  Southern Hemisphere - Cloudiness (%) vs. Latitude Linear Regression"
   ],
   "metadata": {}
  },
  {
   "cell_type": "code",
   "execution_count": 23,
   "source": [
    "x_values = pd.to_numeric(southern_df['Latitude']).astype(float)\r\n",
    "y_values = pd.to_numeric(southern_df['Cloudiness']).astype(float)\r\n",
    "(slopes, intercepts, rvalues, pvalues, stderrs) = linregress(x_values, y_values)\r\n",
    "rsqs = round(rvalues**2,2)\r\n",
    "regress_values = x_values * slopes + intercepts\r\n",
    "line_eq = \"y =\" + str(round(slopes,2)) + \"x + \" + str(round(intercepts,2))\r\n",
    "print(f\"Regression line equation is: {line_eq}.\")\r\n",
    "plt.scatter(x_values,y_values)\r\n",
    "plt.plot(x_values,regress_values, \"r-\")\r\n",
    "plt.annotate(line_eq,(-55,20),fontsize=12,color=\"red\")\r\n",
    "plt.xlabel('Latitude')\r\n",
    "plt.ylabel('% Cloudiness')\r\n",
    "plt.title('Southern Hemisphere - Cloudiness vs. Latitude Linear Regression')\r\n",
    "print(f\"The r-squared is: {rsqs}\")\r\n",
    "plt.savefig(\"Figures/latvclouds_southern.png\")"
   ],
   "outputs": [
    {
     "output_type": "stream",
     "name": "stdout",
     "text": [
      "Regression line equation is: y =-0.34x + 35.7.\n",
      "The r-squared is: 0.01\n"
     ]
    },
    {
     "output_type": "display_data",
     "data": {
      "image/png": "[encoded data removed]",
      "text/plain": [
       "<Figure size 432x288 with 1 Axes>"
      ]
     },
     "metadata": {
      "needs_background": "light"
     }
    }
   ],
   "metadata": {}
  },
  {
   "cell_type": "markdown",
   "source": [
    "In both the Northern and Southern Hemisphere, there no correlation between latitude and cloudiness ($R^{2}$ = 0 and 0.01, respectively). "
   ],
   "metadata": {}
  },
  {
   "cell_type": "markdown",
   "source": [
    "####  Northern Hemisphere - Wind Speed (mph) vs. Latitude Linear Regression"
   ],
   "metadata": {}
  },
  {
   "cell_type": "code",
   "execution_count": 24,
   "source": [
    "x_values = pd.to_numeric(northern_df['Latitude']).astype(float)\r\n",
    "y_values = pd.to_numeric(northern_df['Wind Speed']).astype(float)\r\n",
    "(slopen, interceptn, rvaluen, pvaluen, stderrn) = linregress(x_values, y_values)\r\n",
    "rsqn = round(rvaluen**2,2)\r\n",
    "regress_values = x_values * slopen + interceptn\r\n",
    "line_eqn = \"y =\" + str(round(slopen,2)) + \"x + \" + str(round(interceptn,2))\r\n",
    "print(f\"Regression line equation is: {line_eqn}.\")\r\n",
    "plt.scatter(x_values,y_values)\r\n",
    "plt.plot(x_values,regress_values, \"r-\")\r\n",
    "plt.annotate(line_eqn,(50,13),fontsize=12,color=\"red\")\r\n",
    "plt.xlabel('Latitude')\r\n",
    "plt.ylabel('Wind Speed (mph)')\r\n",
    "plt.title('Northern Hemisphere - Wind Speed vs. Latitude Linear Regression')\r\n",
    "print(f\"The r-squared is: {rsqn}\")\r\n",
    "plt.savefig(\"Figures/latvwind_northern.png\")"
   ],
   "outputs": [
    {
     "output_type": "stream",
     "name": "stdout",
     "text": [
      "Regression line equation is: y =0.03x + 6.3.\n",
      "The r-squared is: 0.01\n"
     ]
    },
    {
     "output_type": "display_data",
     "data": {
      "image/png": "[encoded data removed]",
      "text/plain": [
       "<Figure size 432x288 with 1 Axes>"
      ]
     },
     "metadata": {
      "needs_background": "light"
     }
    }
   ],
   "metadata": {}
  },
  {
   "cell_type": "markdown",
   "source": [
    "####  Southern Hemisphere - Wind Speed (mph) vs. Latitude Linear Regression"
   ],
   "metadata": {}
  },
  {
   "cell_type": "code",
   "execution_count": 25,
   "source": [
    "x_values = pd.to_numeric(southern_df['Latitude']).astype(float)\r\n",
    "y_values = pd.to_numeric(southern_df['Wind Speed']).astype(float)\r\n",
    "(slopes, intercepts, rvalues, pvalues, stderrs) = linregress(x_values, y_values)\r\n",
    "rsqs = round(rvalues**2,2)\r\n",
    "regress_values = x_values * slopes + intercepts\r\n",
    "line_eq = \"y =\" + str(round(slopes,2)) + \"x + \" + str(round(intercepts,2))\r\n",
    "print(f\"Regression line equation is: {line_eq}.\")\r\n",
    "plt.scatter(x_values,y_values)\r\n",
    "plt.plot(x_values,regress_values, \"r-\")\r\n",
    "plt.annotate(line_eq,(-55,20),fontsize=12,color=\"red\")\r\n",
    "plt.xlabel('Latitude')\r\n",
    "plt.ylabel('Wind Speed (mph)')\r\n",
    "plt.title('Southern Hemisphere - Wind Speed vs. Latitude Linear Regression')\r\n",
    "print(f\"The r-squared is: {rsqs}\")\r\n",
    "plt.savefig(\"Figures/latvwind_southern.png\")"
   ],
   "outputs": [
    {
     "output_type": "stream",
     "name": "stdout",
     "text": [
      "Regression line equation is: y =-0.03x + 7.1.\n",
      "The r-squared is: 0.01\n"
     ]
    },
    {
     "output_type": "display_data",
     "data": {
      "image/png": "[encoded data removed]",
      "text/plain": [
       "<Figure size 432x288 with 1 Axes>"
      ]
     },
     "metadata": {
      "needs_background": "light"
     }
    }
   ],
   "metadata": {}
  },
  {
   "cell_type": "markdown",
   "source": [
    "In both the Northern and Southern Hemisphere, there no correlation between latitude and wind speed ($R^{2}$ = 0 and 0.01, respectively). "
   ],
   "metadata": {}
  },
  {
   "cell_type": "markdown",
   "source": [
    "## Analysis and observations\r\n",
    "1. As expected, of the weather metrics assessed, latitude has the greatest determining effect on temperature.\r\n",
    "2. Wind speed, humidity, and cloudiness had no observable correlation with latitude.\r\n",
    "3. The hottest temperatures are found close to the equator."
   ],
   "metadata": {}
  }
 ],
 "metadata": {
  "anaconda-cloud": {},
  "kernel_info": {
   "name": "python3"
  },
  "kernelspec": {
   "name": "python3",
   "display_name": "Python 3.8.8 64-bit ('base': conda)"
  },
  "language_info": {
   "codemirror_mode": {
    "name": "ipython",
    "version": 3
   },
   "file_extension": ".py",
   "mimetype": "text/x-python",
   "name": "python",
   "nbconvert_exporter": "python",
   "pygments_lexer": "ipython3",
   "version": "3.8.8"
  },
  "latex_envs": {
   "LaTeX_envs_menu_present": true,
   "autoclose": false,
   "autocomplete": true,
   "bibliofile": "biblio.bib",
   "cite_by": "apalike",
   "current_citInitial": 1,
   "eqLabelWithNumbers": true,
   "eqNumInitial": 1,
   "hotkeys": {
    "equation": "Ctrl-E",
    "itemize": "Ctrl-I"
   },
   "labels_anchors": false,
   "latex_user_defs": false,
   "report_style_numbering": false,
   "user_envs_cfg": false
  },
  "nteract": {
   "version": "0.12.3"
  },
  "interpreter": {
   "hash": "a8894775e8aeee242aa6e141c386e0510b6f2108a9b3d20c3f118f8cb925642c"
  }
 },
 "nbformat": 4,
 "nbformat_minor": 2
}