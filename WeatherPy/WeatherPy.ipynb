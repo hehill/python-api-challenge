{
 "cells": [
  {
   "cell_type": "markdown",
   "source": [
    "# WeatherPy\n",
    "----\n",
    "\n",
    "#### Note\n",
    "* Instructions have been included for each segment. You do not have to follow them exactly, but they are included to help you think through the steps."
   ],
   "metadata": {}
  },
  {
   "cell_type": "code",
   "execution_count": 23,
   "source": [
    "# Dependencies and Setup\r\n",
    "import matplotlib.pyplot as plt\r\n",
    "import pandas as pd\r\n",
    "import numpy as np\r\n",
    "import requests\r\n",
    "import time\r\n",
    "from scipy.stats import linregress\r\n",
    "import json\r\n",
    "\r\n",
    "# Import API key\r\n",
    "from api_keys import weather_api_key\r\n",
    "\r\n",
    "# Incorporated citipy to determine city based on latitude and longitude\r\n",
    "from citipy import citipy\r\n",
    "\r\n",
    "# Output File (CSV)\r\n",
    "output_data_file = \"../output_data/cities.csv\"\r\n",
    "\r\n",
    "# Range of latitudes and longitudes\r\n",
    "lat_range = (-90, 90)\r\n",
    "lng_range = (-180, 180)"
   ],
   "outputs": [],
   "metadata": {
    "scrolled": true
   }
  },
  {
   "cell_type": "markdown",
   "source": [
    "## Generate Cities List"
   ],
   "metadata": {}
  },
  {
   "cell_type": "code",
   "execution_count": 3,
   "source": [
    "# List for holding lat_lngs and cities\r\n",
    "lat_lngs = []\r\n",
    "cities = []\r\n",
    "\r\n",
    "# Create a set of random lat and lng combinations\r\n",
    "lats = np.random.uniform(lat_range[0], lat_range[1], size=1500)\r\n",
    "lngs = np.random.uniform(lng_range[0], lng_range[1], size=1500)\r\n",
    "lat_lngs = zip(lats, lngs)\r\n",
    "\r\n",
    "# Identify nearest city for each lat, lng combination\r\n",
    "for lat_lng in lat_lngs:\r\n",
    "    city = citipy.nearest_city(lat_lng[0], lat_lng[1]).city_name\r\n",
    "    \r\n",
    "    # If the city is unique, then add it to a our cities list\r\n",
    "    if city not in cities:\r\n",
    "        cities.append(city)\r\n",
    "\r\n",
    "# Print the city count to confirm sufficient count\r\n",
    "len(cities)"
   ],
   "outputs": [
    {
     "output_type": "execute_result",
     "data": {
      "text/plain": [
       "616"
      ]
     },
     "metadata": {},
     "execution_count": 3
    }
   ],
   "metadata": {}
  },
  {
   "cell_type": "markdown",
   "source": [
    "### Perform API Calls\n",
    "* Perform a weather check on each city using a series of successive API calls.\n",
    "* Include a print log of each city as it'sbeing processed (with the city number and city name).\n"
   ],
   "metadata": {}
  },
  {
   "cell_type": "code",
   "execution_count": 7,
   "source": [
    "# Review weather API output\r\n",
    "url = \"http://api.openweathermap.org/data/2.5/weather?\"\r\n",
    "city = \"Cleveland, Ohio\"\r\n",
    "units = \"imperial\"\r\n",
    "\r\n",
    "query_url = f\"{url}appid={weather_api_key}&q={city}&units={units}\"\r\n",
    "\r\n",
    "weather_response = requests.get(query_url)\r\n",
    "weather_json = weather_response.json()\r\n",
    "print(json.dumps(weather_json, indent = 4, sort_keys = True))"
   ],
   "outputs": [
    {
     "output_type": "stream",
     "name": "stdout",
     "text": [
      "{\n",
      "    \"base\": \"stations\",\n",
      "    \"clouds\": {\n",
      "        \"all\": 1\n",
      "    },\n",
      "    \"cod\": 200,\n",
      "    \"coord\": {\n",
      "        \"lat\": 41.4995,\n",
      "        \"lon\": -81.6954\n",
      "    },\n",
      "    \"dt\": 1631575006,\n",
      "    \"id\": 5150529,\n",
      "    \"main\": {\n",
      "        \"feels_like\": 77.79,\n",
      "        \"humidity\": 80,\n",
      "        \"pressure\": 1016,\n",
      "        \"temp\": 76.66,\n",
      "        \"temp_max\": 81.95,\n",
      "        \"temp_min\": 71.47\n",
      "    },\n",
      "    \"name\": \"Cleveland\",\n",
      "    \"sys\": {\n",
      "        \"country\": \"US\",\n",
      "        \"id\": 3455,\n",
      "        \"sunrise\": 1631531125,\n",
      "        \"sunset\": 1631576404,\n",
      "        \"type\": 1\n",
      "    },\n",
      "    \"timezone\": -14400,\n",
      "    \"visibility\": 10000,\n",
      "    \"weather\": [\n",
      "        {\n",
      "            \"description\": \"clear sky\",\n",
      "            \"icon\": \"01d\",\n",
      "            \"id\": 800,\n",
      "            \"main\": \"Clear\"\n",
      "        }\n",
      "    ],\n",
      "    \"wind\": {\n",
      "        \"deg\": 130,\n",
      "        \"speed\": 4.61\n",
      "    }\n",
      "}\n"
     ]
    }
   ],
   "metadata": {}
  },
  {
   "cell_type": "code",
   "execution_count": 15,
   "source": [
    "max_temps = []\r\n",
    "humidities = []\r\n",
    "clouds = []\r\n",
    "wind_speeds = []\r\n",
    "\r\n",
    "dates = []\r\n",
    "lats = []\r\n",
    "lngs = []\r\n",
    "cities_found = []\r\n",
    "countries = []\r\n",
    "\r\n",
    "count = 0\r\n",
    "set_count = 1\r\n",
    "\r\n",
    "print(\"Beginning Data Retrieval\")\r\n",
    "print(\"---------------------------\")\r\n",
    "for city in cities:\r\n",
    "    try:\r\n",
    "        query_url = f\"{url}appid={weather_api_key}&q={city}&units={units}\"\r\n",
    "        response = requests.get(query_url).json()\r\n",
    "        max_temps.append(response['main']['temp_max'])\r\n",
    "        humidities.append(response['main']['humidity'])\r\n",
    "        clouds.append(response['clouds']['all'])\r\n",
    "        wind_speeds.append(response['wind']['speed'])\r\n",
    "        dates.append(response['dt'])\r\n",
    "        lats.append(response['coord']['lat'])\r\n",
    "        lngs.append(response['coord']['lon'])\r\n",
    "        countries.append(response['sys']['country'])\r\n",
    "        if count == 50:\r\n",
    "            count = 1\r\n",
    "            set_count += 1\r\n",
    "            cities_found.append(city)\r\n",
    "        else:\r\n",
    "            count +=1\r\n",
    "            cities_found.append(city)\r\n",
    "        print(f\"Processing Record {count} of Set {set_count} | {city}\")\r\n",
    "    except:\r\n",
    "        print(f\"{city} not found...\")\r\n",
    "\r\n",
    "print(\"---------------------------\")\r\n",
    "print(\"Data Retrieval Complete\")\r\n",
    "print(\"---------------------------\")"
   ],
   "outputs": [
    {
     "output_type": "stream",
     "name": "stdout",
     "text": [
      "Beginning Data Retrieval\n",
      "---------------------------\n",
      "Processing Record 1 of Set 1 | lebu\n",
      "Processing Record 2 of Set 1 | kushiro\n",
      "Processing Record 3 of Set 1 | hobart\n",
      "Processing Record 4 of Set 1 | kavieng\n",
      "Processing Record 5 of Set 1 | mataura\n",
      "Processing Record 6 of Set 1 | nizwa\n",
      "Processing Record 7 of Set 1 | bucak\n",
      "Processing Record 8 of Set 1 | cidreira\n",
      "Processing Record 9 of Set 1 | tasiilaq\n",
      "Processing Record 10 of Set 1 | qaanaaq\n",
      "Processing Record 11 of Set 1 | saskylakh\n",
      "Processing Record 12 of Set 1 | ukiah\n",
      "Processing Record 13 of Set 1 | bluff\n",
      "Processing Record 14 of Set 1 | busselton\n",
      "Processing Record 15 of Set 1 | severo-kurilsk\n",
      "Processing Record 16 of Set 1 | padang\n",
      "Processing Record 17 of Set 1 | slave lake\n",
      "Processing Record 18 of Set 1 | kalmunai\n",
      "Processing Record 19 of Set 1 | labytnangi\n",
      "Processing Record 20 of Set 1 | mar del plata\n",
      "Processing Record 21 of Set 1 | beyneu\n",
      "nizhneyansk not found...\n",
      "Processing Record 22 of Set 1 | cape town\n",
      "Processing Record 23 of Set 1 | puerto carreno\n",
      "Processing Record 24 of Set 1 | tricase\n",
      "Processing Record 25 of Set 1 | bac lieu\n",
      "Processing Record 26 of Set 1 | thompson\n",
      "Processing Record 27 of Set 1 | banda aceh\n",
      "Processing Record 28 of Set 1 | vaini\n",
      "Processing Record 29 of Set 1 | santa cruz\n",
      "Processing Record 30 of Set 1 | vigia del fuerte\n",
      "Processing Record 31 of Set 1 | dakar\n",
      "Processing Record 32 of Set 1 | hilo\n",
      "Processing Record 33 of Set 1 | khatanga\n",
      "Processing Record 34 of Set 1 | barrow\n",
      "Processing Record 35 of Set 1 | hermanus\n",
      "Processing Record 36 of Set 1 | port elizabeth\n",
      "Processing Record 37 of Set 1 | mahebourg\n",
      "Processing Record 38 of Set 1 | butaritari\n",
      "Processing Record 39 of Set 1 | ancud\n",
      "Processing Record 40 of Set 1 | harper\n",
      "Processing Record 41 of Set 1 | punta arenas\n",
      "Processing Record 42 of Set 1 | atikokan\n",
      "Processing Record 43 of Set 1 | ushuaia\n",
      "Processing Record 44 of Set 1 | cabo san lucas\n",
      "Processing Record 45 of Set 1 | aviles\n",
      "Processing Record 46 of Set 1 | constitucion\n",
      "Processing Record 47 of Set 1 | cairns\n",
      "Processing Record 48 of Set 1 | rikitea\n",
      "Processing Record 49 of Set 1 | tilichiki\n",
      "Processing Record 50 of Set 1 | codrington\n",
      "Processing Record 1 of Set 2 | leningradskiy\n",
      "Processing Record 2 of Set 2 | iqaluit\n",
      "Processing Record 3 of Set 2 | ferme-neuve\n",
      "Processing Record 4 of Set 2 | blythe\n",
      "Processing Record 5 of Set 2 | cap malheureux\n",
      "Processing Record 6 of Set 2 | vanavara\n",
      "Processing Record 7 of Set 2 | pasighat\n",
      "Processing Record 8 of Set 2 | tiksi\n",
      "Processing Record 9 of Set 2 | provideniya\n",
      "Processing Record 10 of Set 2 | vao\n",
      "Processing Record 11 of Set 2 | bongouanou\n",
      "Processing Record 12 of Set 2 | jamestown\n",
      "Processing Record 13 of Set 2 | airai\n",
      "Processing Record 14 of Set 2 | luorong\n",
      "Processing Record 15 of Set 2 | lakes entrance\n",
      "Processing Record 16 of Set 2 | hithadhoo\n",
      "Processing Record 17 of Set 2 | san quintin\n",
      "tsihombe not found...\n",
      "Processing Record 18 of Set 2 | los llanos de aridane\n",
      "Processing Record 19 of Set 2 | kokkola\n",
      "Processing Record 20 of Set 2 | rio verde de mato grosso\n",
      "mahaicony not found...\n",
      "Processing Record 21 of Set 2 | saint-philippe\n",
      "labutta not found...\n",
      "Processing Record 22 of Set 2 | enshi\n",
      "Processing Record 23 of Set 2 | conakry\n",
      "Processing Record 24 of Set 2 | biak\n",
      "Processing Record 25 of Set 2 | port alfred\n",
      "Processing Record 26 of Set 2 | souillac\n",
      "Processing Record 27 of Set 2 | ponta delgada\n",
      "Processing Record 28 of Set 2 | dikson\n",
      "Processing Record 29 of Set 2 | norman wells\n",
      "Processing Record 30 of Set 2 | talnakh\n",
      "illoqqortoormiut not found...\n",
      "Processing Record 31 of Set 2 | pa sang\n",
      "Processing Record 32 of Set 2 | kosh-agach\n",
      "Processing Record 33 of Set 2 | ponta do sol\n",
      "Processing Record 34 of Set 2 | salta\n",
      "Processing Record 35 of Set 2 | victoria\n",
      "Processing Record 36 of Set 2 | sisimiut\n",
      "Processing Record 37 of Set 2 | klaksvik\n",
      "Processing Record 38 of Set 2 | heinola\n",
      "Processing Record 39 of Set 2 | tuktoyaktuk\n",
      "Processing Record 40 of Set 2 | nanortalik\n",
      "Processing Record 41 of Set 2 | shizunai\n",
      "Processing Record 42 of Set 2 | atuona\n",
      "Processing Record 43 of Set 2 | anadyr\n",
      "Processing Record 44 of Set 2 | lavrentiya\n",
      "Processing Record 45 of Set 2 | nikolskoye\n",
      "Processing Record 46 of Set 2 | kapaa\n",
      "Processing Record 47 of Set 2 | ribeira grande\n",
      "Processing Record 48 of Set 2 | polunochnoye\n",
      "Processing Record 49 of Set 2 | longyearbyen\n",
      "Processing Record 50 of Set 2 | baltiysk\n",
      "bur gabo not found...\n",
      "Processing Record 1 of Set 3 | cherskiy\n",
      "Processing Record 2 of Set 3 | qaqortoq\n",
      "Processing Record 3 of Set 3 | puerto lleras\n",
      "sentyabrskiy not found...\n",
      "Processing Record 4 of Set 3 | tuatapere\n",
      "Processing Record 5 of Set 3 | yellowknife\n",
      "Processing Record 6 of Set 3 | mount gambier\n",
      "Processing Record 7 of Set 3 | comodoro rivadavia\n",
      "Processing Record 8 of Set 3 | seoul\n",
      "Processing Record 9 of Set 3 | mangrol\n",
      "belushya guba not found...\n",
      "Processing Record 10 of Set 3 | kaitangata\n",
      "Processing Record 11 of Set 3 | cheney\n",
      "taolanaro not found...\n",
      "Processing Record 12 of Set 3 | trapani\n",
      "Processing Record 13 of Set 3 | pevek\n",
      "Processing Record 14 of Set 3 | douentza\n",
      "utiroa not found...\n",
      "Processing Record 15 of Set 3 | moron\n",
      "Processing Record 16 of Set 3 | skjervoy\n",
      "Processing Record 17 of Set 3 | necochea\n",
      "Processing Record 18 of Set 3 | tual\n",
      "Processing Record 19 of Set 3 | kiama\n",
      "Processing Record 20 of Set 3 | sokol\n",
      "Processing Record 21 of Set 3 | kutum\n",
      "Processing Record 22 of Set 3 | geraldton\n",
      "Processing Record 23 of Set 3 | champerico\n",
      "Processing Record 24 of Set 3 | torbay\n",
      "Processing Record 25 of Set 3 | luanda\n",
      "Processing Record 26 of Set 3 | fairbanks\n",
      "Processing Record 27 of Set 3 | grand gaube\n",
      "Processing Record 28 of Set 3 | kieta\n",
      "Processing Record 29 of Set 3 | kruisfontein\n",
      "Processing Record 30 of Set 3 | new norfolk\n",
      "Processing Record 31 of Set 3 | bougouni\n",
      "Processing Record 32 of Set 3 | upernavik\n",
      "Processing Record 33 of Set 3 | turayf\n",
      "Processing Record 34 of Set 3 | lata\n",
      "Processing Record 35 of Set 3 | nyurba\n",
      "Processing Record 36 of Set 3 | quatre cocos\n",
      "Processing Record 37 of Set 3 | sao filipe\n",
      "Processing Record 38 of Set 3 | svobodnyy\n",
      "Processing Record 39 of Set 3 | chilca\n",
      "Processing Record 40 of Set 3 | adwa\n",
      "Processing Record 41 of Set 3 | kanigoro\n",
      "Processing Record 42 of Set 3 | albany\n",
      "Processing Record 43 of Set 3 | isangel\n",
      "Processing Record 44 of Set 3 | sai buri\n",
      "Processing Record 45 of Set 3 | nakamura\n",
      "Processing Record 46 of Set 3 | marawi\n",
      "Processing Record 47 of Set 3 | kovur\n",
      "Processing Record 48 of Set 3 | charters towers\n",
      "Processing Record 49 of Set 3 | kirksville\n",
      "Processing Record 50 of Set 3 | bhagalpur\n",
      "Processing Record 1 of Set 4 | puerto ayora\n",
      "Processing Record 2 of Set 4 | goure\n",
      "Processing Record 3 of Set 4 | nishihara\n",
      "Processing Record 4 of Set 4 | chuy\n",
      "Processing Record 5 of Set 4 | pringsewu\n",
      "Processing Record 6 of Set 4 | ubinskoye\n",
      "Processing Record 7 of Set 4 | uyemskiy\n",
      "Processing Record 8 of Set 4 | penzance\n",
      "Processing Record 9 of Set 4 | jacqueville\n",
      "Processing Record 10 of Set 4 | coxim\n",
      "mys shmidta not found...\n",
      "Processing Record 11 of Set 4 | ilulissat\n",
      "Processing Record 12 of Set 4 | makungu\n",
      "Processing Record 13 of Set 4 | marzuq\n",
      "Processing Record 14 of Set 4 | tarko-sale\n",
      "toftir not found...\n",
      "Processing Record 15 of Set 4 | san-pedro\n",
      "Processing Record 16 of Set 4 | xining\n",
      "Processing Record 17 of Set 4 | cerritos\n",
      "Processing Record 18 of Set 4 | saldanha\n",
      "Processing Record 19 of Set 4 | ishim\n",
      "Processing Record 20 of Set 4 | bandarbeyla\n",
      "Processing Record 21 of Set 4 | inuvik\n",
      "Processing Record 22 of Set 4 | fort collins\n",
      "Processing Record 23 of Set 4 | beringovskiy\n",
      "Processing Record 24 of Set 4 | aykhal\n",
      "Processing Record 25 of Set 4 | asau\n",
      "Processing Record 26 of Set 4 | bilibino\n",
      "Processing Record 27 of Set 4 | mutis\n",
      "Processing Record 28 of Set 4 | bambous virieux\n",
      "Processing Record 29 of Set 4 | sitka\n",
      "Processing Record 30 of Set 4 | sorong\n",
      "Processing Record 31 of Set 4 | cockburn town\n",
      "Processing Record 32 of Set 4 | pangnirtung\n",
      "Processing Record 33 of Set 4 | pascagoula\n",
      "Processing Record 34 of Set 4 | salalah\n",
      "Processing Record 35 of Set 4 | lagoa\n",
      "Processing Record 36 of Set 4 | havre-saint-pierre\n",
      "Processing Record 37 of Set 4 | tahta\n",
      "Processing Record 38 of Set 4 | methoni\n",
      "Processing Record 39 of Set 4 | altamira\n",
      "Processing Record 40 of Set 4 | taltal\n",
      "Processing Record 41 of Set 4 | gigmoto\n",
      "nam tha not found...\n",
      "Processing Record 42 of Set 4 | bethel\n",
      "Processing Record 43 of Set 4 | carutapera\n",
      "Processing Record 44 of Set 4 | andenes\n",
      "Processing Record 45 of Set 4 | arbazh\n",
      "Processing Record 46 of Set 4 | abha\n",
      "Processing Record 47 of Set 4 | wilmington\n",
      "Processing Record 48 of Set 4 | candido mota\n",
      "Processing Record 49 of Set 4 | trelleborg\n",
      "Processing Record 50 of Set 4 | clyde river\n",
      "Processing Record 1 of Set 5 | chokurdakh\n",
      "viligili not found...\n",
      "Processing Record 2 of Set 5 | hambantota\n",
      "Processing Record 3 of Set 5 | margate\n",
      "Processing Record 4 of Set 5 | richards bay\n",
      "Processing Record 5 of Set 5 | mitu\n",
      "Processing Record 6 of Set 5 | grindavik\n",
      "Processing Record 7 of Set 5 | taksimo\n",
      "Processing Record 8 of Set 5 | jardim\n",
      "Processing Record 9 of Set 5 | dzhebariki-khaya\n",
      "Processing Record 10 of Set 5 | castro\n",
      "Processing Record 11 of Set 5 | zhaozhou\n",
      "Processing Record 12 of Set 5 | sinazongwe\n",
      "Processing Record 13 of Set 5 | betlitsa\n",
      "Processing Record 14 of Set 5 | aitape\n",
      "Processing Record 15 of Set 5 | livingstonia\n",
      "Processing Record 16 of Set 5 | fortuna\n",
      "Processing Record 17 of Set 5 | saint-joseph\n",
      "Processing Record 18 of Set 5 | vallenar\n",
      "Processing Record 19 of Set 5 | ola\n",
      "Processing Record 20 of Set 5 | kuopio\n",
      "Processing Record 21 of Set 5 | moree\n",
      "Processing Record 22 of Set 5 | hasaki\n",
      "Processing Record 23 of Set 5 | bambanglipuro\n",
      "Processing Record 24 of Set 5 | artyom\n",
      "Processing Record 25 of Set 5 | gulu\n",
      "Processing Record 26 of Set 5 | zabol\n",
      "Processing Record 27 of Set 5 | alcaniz\n",
      "Processing Record 28 of Set 5 | avarua\n",
      "Processing Record 29 of Set 5 | esperance\n",
      "Processing Record 30 of Set 5 | marsh harbour\n",
      "Processing Record 31 of Set 5 | east london\n",
      "Processing Record 32 of Set 5 | kamien pomorski\n",
      "Processing Record 33 of Set 5 | opuwo\n",
      "Processing Record 34 of Set 5 | lubango\n",
      "Processing Record 35 of Set 5 | coquimbo\n",
      "Processing Record 36 of Set 5 | sulangan\n",
      "Processing Record 37 of Set 5 | nemuro\n",
      "Processing Record 38 of Set 5 | vanimo\n",
      "Processing Record 39 of Set 5 | sinnamary\n",
      "Processing Record 40 of Set 5 | sorland\n",
      "Processing Record 41 of Set 5 | carauari\n",
      "Processing Record 42 of Set 5 | saint-georges\n",
      "Processing Record 43 of Set 5 | bengkulu\n",
      "Processing Record 44 of Set 5 | nantucket\n",
      "Processing Record 45 of Set 5 | burnie\n",
      "Processing Record 46 of Set 5 | meadow lake\n",
      "longlac not found...\n",
      "Processing Record 47 of Set 5 | palmer\n",
      "Processing Record 48 of Set 5 | san ramon\n",
      "Processing Record 49 of Set 5 | totness\n",
      "Processing Record 50 of Set 5 | shadrinsk\n",
      "stoyba not found...\n",
      "Processing Record 1 of Set 6 | rawson\n",
      "Processing Record 2 of Set 6 | uruacu\n",
      "Processing Record 3 of Set 6 | uren\n",
      "Processing Record 4 of Set 6 | kristinehamn\n",
      "Processing Record 5 of Set 6 | brae\n",
      "Processing Record 6 of Set 6 | georgetown\n",
      "novotalitsy not found...\n",
      "amderma not found...\n",
      "Processing Record 7 of Set 6 | baruun-urt\n",
      "Processing Record 8 of Set 6 | san cristobal\n",
      "Processing Record 9 of Set 6 | arraial do cabo\n",
      "Processing Record 10 of Set 6 | ostrovnoy\n",
      "Processing Record 11 of Set 6 | hami\n",
      "gurgan not found...\n",
      "Processing Record 12 of Set 6 | northam\n",
      "Processing Record 13 of Set 6 | rietavas\n",
      "Processing Record 14 of Set 6 | waki\n",
      "Processing Record 15 of Set 6 | yar-sale\n",
      "Processing Record 16 of Set 6 | bhabua\n",
      "Processing Record 17 of Set 6 | fengzhen\n",
      "Processing Record 18 of Set 6 | saint-pierre\n",
      "Processing Record 19 of Set 6 | saint george\n",
      "Processing Record 20 of Set 6 | channel-port aux basques\n",
      "Processing Record 21 of Set 6 | yuancheng\n",
      "Processing Record 22 of Set 6 | balotra\n",
      "Processing Record 23 of Set 6 | dire dawa\n",
      "Processing Record 24 of Set 6 | finschhafen\n",
      "Processing Record 25 of Set 6 | flinders\n",
      "Processing Record 26 of Set 6 | goundam\n",
      "Processing Record 27 of Set 6 | kirakira\n",
      "Processing Record 28 of Set 6 | kununurra\n",
      "Processing Record 29 of Set 6 | namibe\n",
      "Processing Record 30 of Set 6 | byron bay\n",
      "Processing Record 31 of Set 6 | xapuri\n",
      "Processing Record 32 of Set 6 | pangai\n",
      "barentsburg not found...\n",
      "Processing Record 33 of Set 6 | acapulco\n",
      "rungata not found...\n",
      "Processing Record 34 of Set 6 | vila velha\n",
      "Processing Record 35 of Set 6 | yulara\n",
      "Processing Record 36 of Set 6 | matara\n",
      "Processing Record 37 of Set 6 | marfino\n",
      "Processing Record 38 of Set 6 | san borja\n",
      "Processing Record 39 of Set 6 | lorengau\n",
      "Processing Record 40 of Set 6 | porbandar\n",
      "Processing Record 41 of Set 6 | leh\n",
      "Processing Record 42 of Set 6 | bara\n",
      "Processing Record 43 of Set 6 | bredasdorp\n",
      "kazalinsk not found...\n",
      "Processing Record 44 of Set 6 | eureka\n",
      "Processing Record 45 of Set 6 | nsanje\n",
      "Processing Record 46 of Set 6 | khandyga\n",
      "tawkar not found...\n",
      "Processing Record 47 of Set 6 | besikduzu\n",
      "Processing Record 48 of Set 6 | samarinda\n",
      "Processing Record 49 of Set 6 | neenah\n",
      "Processing Record 50 of Set 6 | maningrida\n",
      "burkhala not found...\n",
      "warqla not found...\n",
      "Processing Record 1 of Set 7 | zhigansk\n",
      "Processing Record 2 of Set 7 | mahenge\n",
      "Processing Record 3 of Set 7 | rochester\n",
      "Processing Record 4 of Set 7 | komsomolskiy\n",
      "Processing Record 5 of Set 7 | stornoway\n",
      "Processing Record 6 of Set 7 | oranjestad\n",
      "Processing Record 7 of Set 7 | shimoda\n",
      "hunza not found...\n",
      "Processing Record 8 of Set 7 | manokwari\n",
      "Processing Record 9 of Set 7 | ternovka\n",
      "Processing Record 10 of Set 7 | neustrelitz\n",
      "Processing Record 11 of Set 7 | carnarvon\n",
      "Processing Record 12 of Set 7 | noumea\n",
      "Processing Record 13 of Set 7 | itacare\n",
      "Processing Record 14 of Set 7 | kavaratti\n",
      "Processing Record 15 of Set 7 | wanning\n",
      "Processing Record 16 of Set 7 | laizhou\n",
      "Processing Record 17 of Set 7 | lompoc\n",
      "Processing Record 18 of Set 7 | okhotsk\n",
      "Processing Record 19 of Set 7 | suntar\n",
      "Processing Record 20 of Set 7 | praya\n",
      "falealupo not found...\n",
      "Processing Record 21 of Set 7 | ternate\n",
      "Processing Record 22 of Set 7 | narsaq\n",
      "Processing Record 23 of Set 7 | falmouth\n",
      "Processing Record 24 of Set 7 | katherine\n",
      "Processing Record 25 of Set 7 | san pedro\n",
      "Processing Record 26 of Set 7 | vasto\n",
      "Processing Record 27 of Set 7 | aklavik\n",
      "Processing Record 28 of Set 7 | sainte-marie\n",
      "Processing Record 29 of Set 7 | beloha\n",
      "Processing Record 30 of Set 7 | greenville\n",
      "Processing Record 31 of Set 7 | port hueneme\n",
      "Processing Record 32 of Set 7 | soyo\n",
      "Processing Record 33 of Set 7 | mumford\n",
      "Processing Record 34 of Set 7 | viedma\n",
      "Processing Record 35 of Set 7 | sambava\n",
      "vaitupu not found...\n",
      "Processing Record 36 of Set 7 | itoman\n",
      "Processing Record 37 of Set 7 | concordia\n",
      "Processing Record 38 of Set 7 | kodiak\n",
      "Processing Record 39 of Set 7 | college\n",
      "Processing Record 40 of Set 7 | maymyo\n",
      "Processing Record 41 of Set 7 | ubatuba\n",
      "Processing Record 42 of Set 7 | antofagasta\n",
      "Processing Record 43 of Set 7 | kloulklubed\n",
      "Processing Record 44 of Set 7 | paragominas\n",
      "Processing Record 45 of Set 7 | abu samrah\n",
      "Processing Record 46 of Set 7 | chikhli\n",
      "chagda not found...\n",
      "Processing Record 47 of Set 7 | waipawa\n",
      "Processing Record 48 of Set 7 | rudnichnyy\n",
      "momcilgrad not found...\n",
      "tumannyy not found...\n",
      "Processing Record 49 of Set 7 | gannan\n",
      "Processing Record 50 of Set 7 | dunedin\n",
      "Processing Record 1 of Set 8 | samarai\n",
      "toliary not found...\n",
      "Processing Record 2 of Set 8 | plettenberg bay\n",
      "Processing Record 3 of Set 8 | warmbad\n",
      "Processing Record 4 of Set 8 | coihaique\n",
      "Processing Record 5 of Set 8 | ladario\n",
      "Processing Record 6 of Set 8 | amahai\n",
      "Processing Record 7 of Set 8 | gafanha da encarnacao\n",
      "Processing Record 8 of Set 8 | hutchinson\n",
      "Processing Record 9 of Set 8 | port hedland\n",
      "Processing Record 10 of Set 8 | ovalle\n",
      "Processing Record 11 of Set 8 | rio gallegos\n",
      "Processing Record 12 of Set 8 | mayor pablo lagerenza\n",
      "Processing Record 13 of Set 8 | port blair\n",
      "Processing Record 14 of Set 8 | maku\n",
      "Processing Record 15 of Set 8 | manono\n",
      "Processing Record 16 of Set 8 | zhezkazgan\n",
      "Processing Record 17 of Set 8 | naivasha\n",
      "Processing Record 18 of Set 8 | tura\n",
      "Processing Record 19 of Set 8 | castel san giovanni\n",
      "Processing Record 20 of Set 8 | chibuto\n",
      "Processing Record 21 of Set 8 | churapcha\n",
      "Processing Record 22 of Set 8 | sistranda\n",
      "Processing Record 23 of Set 8 | sainte-thecle\n",
      "Processing Record 24 of Set 8 | jamame\n",
      "Processing Record 25 of Set 8 | shubarkuduk\n",
      "Processing Record 26 of Set 8 | roma\n",
      "Processing Record 27 of Set 8 | katsuura\n",
      "Processing Record 28 of Set 8 | paamiut\n",
      "kolimvari not found...\n",
      "artyk not found...\n",
      "Processing Record 29 of Set 8 | strezhevoy\n",
      "Processing Record 30 of Set 8 | mitzic\n",
      "Processing Record 31 of Set 8 | vila franca do campo\n",
      "Processing Record 32 of Set 8 | neuquen\n",
      "Processing Record 33 of Set 8 | nampa\n",
      "Processing Record 34 of Set 8 | tessalit\n",
      "Processing Record 35 of Set 8 | mackenzie\n",
      "Processing Record 36 of Set 8 | bubaque\n",
      "Processing Record 37 of Set 8 | xuddur\n",
      "Processing Record 38 of Set 8 | tazovskiy\n",
      "aflu not found...\n",
      "Processing Record 39 of Set 8 | arica\n",
      "Processing Record 40 of Set 8 | dingle\n",
      "Processing Record 41 of Set 8 | pangody\n",
      "Processing Record 42 of Set 8 | denpasar\n",
      "Processing Record 43 of Set 8 | naze\n",
      "Processing Record 44 of Set 8 | sombrerete\n",
      "Processing Record 45 of Set 8 | zhanaozen\n",
      "cheuskiny not found...\n",
      "Processing Record 46 of Set 8 | alakurtti\n",
      "Processing Record 47 of Set 8 | hofn\n",
      "Processing Record 48 of Set 8 | shache\n",
      "Processing Record 49 of Set 8 | vidim\n",
      "Processing Record 50 of Set 8 | caravelas\n",
      "Processing Record 1 of Set 9 | srednekolymsk\n",
      "Processing Record 2 of Set 9 | kirovskiy\n",
      "Processing Record 3 of Set 9 | havoysund\n",
      "Processing Record 4 of Set 9 | kaspiyskiy\n",
      "Processing Record 5 of Set 9 | tandlianwala\n",
      "Processing Record 6 of Set 9 | pimentel\n",
      "Processing Record 7 of Set 9 | chicama\n",
      "Processing Record 8 of Set 9 | rangpo\n",
      "Processing Record 9 of Set 9 | yabelo\n",
      "Processing Record 10 of Set 9 | ko samui\n",
      "Processing Record 11 of Set 9 | pacifica\n",
      "Processing Record 12 of Set 9 | shingu\n",
      "barawe not found...\n",
      "Processing Record 13 of Set 9 | gorgan\n",
      "Processing Record 14 of Set 9 | irbil\n",
      "Processing Record 15 of Set 9 | ngunguru\n",
      "Processing Record 16 of Set 9 | koslan\n",
      "Processing Record 17 of Set 9 | luebo\n",
      "Processing Record 18 of Set 9 | oistins\n",
      "Processing Record 19 of Set 9 | cayenne\n",
      "Processing Record 20 of Set 9 | gat\n",
      "Processing Record 21 of Set 9 | usinsk\n",
      "Processing Record 22 of Set 9 | valparaiso\n",
      "Processing Record 23 of Set 9 | kilgore\n",
      "Processing Record 24 of Set 9 | pacific grove\n",
      "Processing Record 25 of Set 9 | dolores\n",
      "Processing Record 26 of Set 9 | boa vista\n",
      "Processing Record 27 of Set 9 | bagotville\n",
      "Processing Record 28 of Set 9 | derzhavinsk\n",
      "Processing Record 29 of Set 9 | baikunthpur\n",
      "Processing Record 30 of Set 9 | santo tomas\n",
      "grand centre not found...\n",
      "Processing Record 31 of Set 9 | puerto baquerizo moreno\n",
      "Processing Record 32 of Set 9 | baykalsk\n",
      "Processing Record 33 of Set 9 | faanui\n",
      "Processing Record 34 of Set 9 | plouzane\n",
      "Processing Record 35 of Set 9 | upata\n",
      "Processing Record 36 of Set 9 | alice springs\n",
      "Processing Record 37 of Set 9 | osypenko\n",
      "Processing Record 38 of Set 9 | paredon\n",
      "Processing Record 39 of Set 9 | roald\n",
      "Processing Record 40 of Set 9 | tezu\n",
      "saleaula not found...\n",
      "Processing Record 41 of Set 9 | rantepao\n",
      "Processing Record 42 of Set 9 | henties bay\n",
      "Processing Record 43 of Set 9 | semirom\n",
      "Processing Record 44 of Set 9 | singapore\n",
      "Processing Record 45 of Set 9 | khaniotis\n",
      "Processing Record 46 of Set 9 | sabha\n",
      "Processing Record 47 of Set 9 | mikhaylovka\n",
      "Processing Record 48 of Set 9 | morros\n",
      "Processing Record 49 of Set 9 | buala\n",
      "Processing Record 50 of Set 9 | bosaso\n",
      "Processing Record 1 of Set 10 | ribas do rio pardo\n",
      "Processing Record 2 of Set 10 | asfi\n",
      "galgani not found...\n",
      "Processing Record 3 of Set 10 | salina\n",
      "ikole not found...\n",
      "Processing Record 4 of Set 10 | portland\n",
      "Processing Record 5 of Set 10 | huambo\n",
      "kuche not found...\n",
      "Processing Record 6 of Set 10 | khani\n",
      "meinung not found...\n",
      "Processing Record 7 of Set 10 | blackwater\n",
      "Processing Record 8 of Set 10 | auki\n",
      "palabuhanratu not found...\n",
      "Processing Record 9 of Set 10 | touros\n",
      "Processing Record 10 of Set 10 | varnamo\n",
      "Processing Record 11 of Set 10 | maarianhamina\n",
      "Processing Record 12 of Set 10 | mogadishu\n",
      "Processing Record 13 of Set 10 | mangan\n",
      "Processing Record 14 of Set 10 | zunyi\n",
      "Processing Record 15 of Set 10 | leshukonskoye\n",
      "Processing Record 16 of Set 10 | kidal\n",
      "Processing Record 17 of Set 10 | santa rosa\n",
      "Processing Record 18 of Set 10 | bundaberg\n",
      "Processing Record 19 of Set 10 | guerrero negro\n",
      "Processing Record 20 of Set 10 | jieshi\n",
      "Processing Record 21 of Set 10 | ahar\n",
      "Processing Record 22 of Set 10 | mersing\n",
      "Processing Record 23 of Set 10 | arman\n",
      "Processing Record 24 of Set 10 | primo tapia\n",
      "Processing Record 25 of Set 10 | chumikan\n",
      "Processing Record 26 of Set 10 | hualmay\n",
      "Processing Record 27 of Set 10 | camargo\n",
      "Processing Record 28 of Set 10 | phan thiet\n",
      "Processing Record 29 of Set 10 | sola\n",
      "Processing Record 30 of Set 10 | xiongzhou\n",
      "Processing Record 31 of Set 10 | luderitz\n",
      "Processing Record 32 of Set 10 | lohja\n",
      "paradwip not found...\n",
      "Processing Record 33 of Set 10 | launceston\n",
      "Processing Record 34 of Set 10 | kuching\n",
      "Processing Record 35 of Set 10 | san patricio\n",
      "Processing Record 36 of Set 10 | jafarpur\n",
      "Processing Record 37 of Set 10 | talcahuano\n",
      "Processing Record 38 of Set 10 | ahipara\n",
      "Processing Record 39 of Set 10 | ayer tawar\n",
      "Processing Record 40 of Set 10 | lincoln\n",
      "Processing Record 41 of Set 10 | saint-leu\n",
      "Processing Record 42 of Set 10 | asmar\n",
      "Processing Record 43 of Set 10 | waterloo\n",
      "Processing Record 44 of Set 10 | battle creek\n",
      "Processing Record 45 of Set 10 | lethem\n",
      "Processing Record 46 of Set 10 | salard\n",
      "Processing Record 47 of Set 10 | morwell\n",
      "Processing Record 48 of Set 10 | bemidji\n",
      "Processing Record 49 of Set 10 | sao joao da barra\n",
      "Processing Record 50 of Set 10 | port moresby\n",
      "Processing Record 1 of Set 11 | chenzhou\n",
      "Processing Record 2 of Set 11 | umea\n",
      "Processing Record 3 of Set 11 | rayadrug\n",
      "Processing Record 4 of Set 11 | ulaangom\n",
      "Processing Record 5 of Set 11 | tongchuan\n",
      "Processing Record 6 of Set 11 | cessnock\n",
      "Processing Record 7 of Set 11 | mitoc\n",
      "Processing Record 8 of Set 11 | bakel\n",
      "Processing Record 9 of Set 11 | shuangcheng\n",
      "mutsamudu not found...\n",
      "Processing Record 10 of Set 11 | moses lake\n",
      "Processing Record 11 of Set 11 | asyut\n",
      "choucheng not found...\n",
      "Processing Record 12 of Set 11 | mustafakemalpasa\n",
      "Processing Record 13 of Set 11 | broken hill\n",
      "Processing Record 14 of Set 11 | natal\n",
      "Processing Record 15 of Set 11 | tambovka\n",
      "ust-kamchatsk not found...\n",
      "Processing Record 16 of Set 11 | tigil\n",
      "Processing Record 17 of Set 11 | kumertau\n",
      "Processing Record 18 of Set 11 | robertsport\n",
      "Processing Record 19 of Set 11 | alta floresta\n",
      "Processing Record 20 of Set 11 | pangkalanbuun\n",
      "Processing Record 21 of Set 11 | nawada\n",
      "Processing Record 22 of Set 11 | luoyang\n",
      "buon me thuot not found...\n",
      "Processing Record 23 of Set 11 | acari\n",
      "Processing Record 24 of Set 11 | juarez\n",
      "Processing Record 25 of Set 11 | tanete\n",
      "Processing Record 26 of Set 11 | haines junction\n",
      "Processing Record 27 of Set 11 | tarija\n",
      "Processing Record 28 of Set 11 | providencia\n",
      "mendahara not found...\n",
      "Processing Record 29 of Set 11 | poum\n",
      "ambodifototra not found...\n",
      "Processing Record 30 of Set 11 | kaya\n",
      "Processing Record 31 of Set 11 | linhares\n",
      "Processing Record 32 of Set 11 | rocha\n",
      "Processing Record 33 of Set 11 | cabedelo\n",
      "Processing Record 34 of Set 11 | yarega\n",
      "Processing Record 35 of Set 11 | goreloye\n",
      "Processing Record 36 of Set 11 | fare\n",
      "duz not found...\n",
      "Processing Record 37 of Set 11 | kresttsy\n",
      "Processing Record 38 of Set 11 | mackay\n",
      "Processing Record 39 of Set 11 | birjand\n",
      "Processing Record 40 of Set 11 | atlantis\n",
      "Processing Record 41 of Set 11 | harstad\n",
      "Processing Record 42 of Set 11 | kholmogory\n",
      "Processing Record 43 of Set 11 | skagen\n",
      "Processing Record 44 of Set 11 | kerrville\n",
      "Processing Record 45 of Set 11 | chateaudun\n",
      "Processing Record 46 of Set 11 | palmerston\n",
      "Processing Record 47 of Set 11 | pokhara\n",
      "Processing Record 48 of Set 11 | ketchikan\n",
      "Processing Record 49 of Set 11 | iisalmi\n",
      "Processing Record 50 of Set 11 | naryan-mar\n",
      "Processing Record 1 of Set 12 | vestmannaeyjar\n",
      "Processing Record 2 of Set 12 | mantua\n",
      "kamenskoye not found...\n",
      "Processing Record 3 of Set 12 | manta\n",
      "borlange not found...\n",
      "Processing Record 4 of Set 12 | sernovodsk\n",
      "Processing Record 5 of Set 12 | wick\n",
      "Processing Record 6 of Set 12 | bartica\n",
      "Processing Record 7 of Set 12 | bakchar\n",
      "Processing Record 8 of Set 12 | chiang rai\n",
      "Processing Record 9 of Set 12 | selenduma\n",
      "Processing Record 10 of Set 12 | shahpura\n",
      "Processing Record 11 of Set 12 | lensk\n",
      "Processing Record 12 of Set 12 | chizhou\n",
      "---------------------------\n",
      "Data Retrieval Complete\n",
      "---------------------------\n"
     ]
    }
   ],
   "metadata": {}
  },
  {
   "cell_type": "markdown",
   "source": [
    "### Convert Raw Data to DataFrame\n",
    "* Export the city data into a .csv.\n",
    "* Display the DataFrame"
   ],
   "metadata": {}
  },
  {
   "cell_type": "code",
   "execution_count": 16,
   "source": [
    "print(len(cities_found))\r\n",
    "print(len(countries))\r\n",
    "print(len(lats))\r\n",
    "print(len(lngs))\r\n",
    "print(len(max_temps))\r\n",
    "print(len(humidities))\r\n",
    "print(len(clouds))\r\n",
    "print(len(wind_speeds))\r\n",
    "print(len(dates))"
   ],
   "outputs": [
    {
     "output_type": "stream",
     "name": "stdout",
     "text": [
      "562\n",
      "562\n",
      "562\n",
      "562\n",
      "562\n",
      "562\n",
      "562\n",
      "562\n",
      "562\n"
     ]
    }
   ],
   "metadata": {}
  },
  {
   "cell_type": "code",
   "execution_count": 18,
   "source": [
    "weather_dict = {\r\n",
    "    \"City\": cities_found,\r\n",
    "    \"Country\": countries,\r\n",
    "    \"Latitude\": lats,\r\n",
    "    \"Longitude\": lngs,\r\n",
    "    \"Max Temp\": max_temps,\r\n",
    "    \"Humidity\": humidities,\r\n",
    "    \"Cloudiness\": clouds,\r\n",
    "    \"Wind Speed\": wind_speeds,\r\n",
    "    \"Date\": dates\r\n",
    "}"
   ],
   "outputs": [],
   "metadata": {}
  },
  {
   "cell_type": "code",
   "execution_count": 21,
   "source": [
    "weather_df = pd.DataFrame(weather_dict)\r\n",
    "weather_df.head()"
   ],
   "outputs": [
    {
     "output_type": "execute_result",
     "data": {
      "text/html": [
       "<div>\n",
       "<style scoped>\n",
       "    .dataframe tbody tr th:only-of-type {\n",
       "        vertical-align: middle;\n",
       "    }\n",
       "\n",
       "    .dataframe tbody tr th {\n",
       "        vertical-align: top;\n",
       "    }\n",
       "\n",
       "    .dataframe thead th {\n",
       "        text-align: right;\n",
       "    }\n",
       "</style>\n",
       "<table border=\"1\" class=\"dataframe\">\n",
       "  <thead>\n",
       "    <tr style=\"text-align: right;\">\n",
       "      <th></th>\n",
       "      <th>City</th>\n",
       "      <th>Country</th>\n",
       "      <th>Latitude</th>\n",
       "      <th>Longitude</th>\n",
       "      <th>Max Temp</th>\n",
       "      <th>Humidity</th>\n",
       "      <th>Cloudiness</th>\n",
       "      <th>Wind Speed</th>\n",
       "      <th>Date</th>\n",
       "    </tr>\n",
       "  </thead>\n",
       "  <tbody>\n",
       "    <tr>\n",
       "      <th>0</th>\n",
       "      <td>lebu</td>\n",
       "      <td>CL</td>\n",
       "      <td>-37.6167</td>\n",
       "      <td>-73.6500</td>\n",
       "      <td>46.47</td>\n",
       "      <td>76</td>\n",
       "      <td>1</td>\n",
       "      <td>9.46</td>\n",
       "      <td>1631576906</td>\n",
       "    </tr>\n",
       "    <tr>\n",
       "      <th>1</th>\n",
       "      <td>kushiro</td>\n",
       "      <td>JP</td>\n",
       "      <td>42.9750</td>\n",
       "      <td>144.3747</td>\n",
       "      <td>59.95</td>\n",
       "      <td>55</td>\n",
       "      <td>40</td>\n",
       "      <td>8.05</td>\n",
       "      <td>1631576906</td>\n",
       "    </tr>\n",
       "    <tr>\n",
       "      <th>2</th>\n",
       "      <td>hobart</td>\n",
       "      <td>AU</td>\n",
       "      <td>-42.8794</td>\n",
       "      <td>147.3294</td>\n",
       "      <td>51.26</td>\n",
       "      <td>71</td>\n",
       "      <td>20</td>\n",
       "      <td>1.99</td>\n",
       "      <td>1631576815</td>\n",
       "    </tr>\n",
       "    <tr>\n",
       "      <th>3</th>\n",
       "      <td>kavieng</td>\n",
       "      <td>PG</td>\n",
       "      <td>-2.5744</td>\n",
       "      <td>150.7967</td>\n",
       "      <td>84.36</td>\n",
       "      <td>72</td>\n",
       "      <td>87</td>\n",
       "      <td>15.46</td>\n",
       "      <td>1631576906</td>\n",
       "    </tr>\n",
       "    <tr>\n",
       "      <th>4</th>\n",
       "      <td>mataura</td>\n",
       "      <td>NZ</td>\n",
       "      <td>-46.1927</td>\n",
       "      <td>168.8643</td>\n",
       "      <td>45.48</td>\n",
       "      <td>77</td>\n",
       "      <td>86</td>\n",
       "      <td>0.51</td>\n",
       "      <td>1631576907</td>\n",
       "    </tr>\n",
       "  </tbody>\n",
       "</table>\n",
       "</div>"
      ],
      "text/plain": [
       "      City Country  Latitude  Longitude  Max Temp  Humidity  Cloudiness  \\\n",
       "0     lebu      CL  -37.6167   -73.6500     46.47        76           1   \n",
       "1  kushiro      JP   42.9750   144.3747     59.95        55          40   \n",
       "2   hobart      AU  -42.8794   147.3294     51.26        71          20   \n",
       "3  kavieng      PG   -2.5744   150.7967     84.36        72          87   \n",
       "4  mataura      NZ  -46.1927   168.8643     45.48        77          86   \n",
       "\n",
       "   Wind Speed        Date  \n",
       "0        9.46  1631576906  \n",
       "1        8.05  1631576906  \n",
       "2        1.99  1631576815  \n",
       "3       15.46  1631576906  \n",
       "4        0.51  1631576907  "
      ]
     },
     "metadata": {},
     "execution_count": 21
    }
   ],
   "metadata": {}
  },
  {
   "cell_type": "code",
   "execution_count": 31,
   "source": [
    "weather_df.describe()"
   ],
   "outputs": [
    {
     "output_type": "execute_result",
     "data": {
      "text/html": [
       "<div>\n",
       "<style scoped>\n",
       "    .dataframe tbody tr th:only-of-type {\n",
       "        vertical-align: middle;\n",
       "    }\n",
       "\n",
       "    .dataframe tbody tr th {\n",
       "        vertical-align: top;\n",
       "    }\n",
       "\n",
       "    .dataframe thead th {\n",
       "        text-align: right;\n",
       "    }\n",
       "</style>\n",
       "<table border=\"1\" class=\"dataframe\">\n",
       "  <thead>\n",
       "    <tr style=\"text-align: right;\">\n",
       "      <th></th>\n",
       "      <th>Latitude</th>\n",
       "      <th>Longitude</th>\n",
       "      <th>Max Temp</th>\n",
       "      <th>Humidity</th>\n",
       "      <th>Cloudiness</th>\n",
       "      <th>Wind Speed</th>\n",
       "      <th>Date</th>\n",
       "    </tr>\n",
       "  </thead>\n",
       "  <tbody>\n",
       "    <tr>\n",
       "      <th>count</th>\n",
       "      <td>562.000000</td>\n",
       "      <td>562.000000</td>\n",
       "      <td>562.000000</td>\n",
       "      <td>562.000000</td>\n",
       "      <td>562.000000</td>\n",
       "      <td>562.000000</td>\n",
       "      <td>5.620000e+02</td>\n",
       "    </tr>\n",
       "    <tr>\n",
       "      <th>mean</th>\n",
       "      <td>19.131173</td>\n",
       "      <td>25.380840</td>\n",
       "      <td>66.222900</td>\n",
       "      <td>72.030249</td>\n",
       "      <td>54.537367</td>\n",
       "      <td>7.712651</td>\n",
       "      <td>1.631577e+09</td>\n",
       "    </tr>\n",
       "    <tr>\n",
       "      <th>std</th>\n",
       "      <td>34.065284</td>\n",
       "      <td>89.578768</td>\n",
       "      <td>15.596681</td>\n",
       "      <td>19.501108</td>\n",
       "      <td>38.353634</td>\n",
       "      <td>5.404968</td>\n",
       "      <td>8.694660e+01</td>\n",
       "    </tr>\n",
       "    <tr>\n",
       "      <th>min</th>\n",
       "      <td>-54.800000</td>\n",
       "      <td>-175.200000</td>\n",
       "      <td>19.920000</td>\n",
       "      <td>9.000000</td>\n",
       "      <td>0.000000</td>\n",
       "      <td>0.000000</td>\n",
       "      <td>1.631576e+09</td>\n",
       "    </tr>\n",
       "    <tr>\n",
       "      <th>25%</th>\n",
       "      <td>-9.445800</td>\n",
       "      <td>-56.150700</td>\n",
       "      <td>53.942500</td>\n",
       "      <td>63.000000</td>\n",
       "      <td>14.000000</td>\n",
       "      <td>3.707500</td>\n",
       "      <td>1.631577e+09</td>\n",
       "    </tr>\n",
       "    <tr>\n",
       "      <th>50%</th>\n",
       "      <td>23.091650</td>\n",
       "      <td>30.690550</td>\n",
       "      <td>68.115000</td>\n",
       "      <td>77.000000</td>\n",
       "      <td>62.000000</td>\n",
       "      <td>6.430000</td>\n",
       "      <td>1.631577e+09</td>\n",
       "    </tr>\n",
       "    <tr>\n",
       "      <th>75%</th>\n",
       "      <td>47.769875</td>\n",
       "      <td>106.111550</td>\n",
       "      <td>78.350000</td>\n",
       "      <td>86.000000</td>\n",
       "      <td>92.000000</td>\n",
       "      <td>10.822500</td>\n",
       "      <td>1.631577e+09</td>\n",
       "    </tr>\n",
       "    <tr>\n",
       "      <th>max</th>\n",
       "      <td>78.218600</td>\n",
       "      <td>179.316700</td>\n",
       "      <td>111.650000</td>\n",
       "      <td>100.000000</td>\n",
       "      <td>100.000000</td>\n",
       "      <td>33.870000</td>\n",
       "      <td>1.631577e+09</td>\n",
       "    </tr>\n",
       "  </tbody>\n",
       "</table>\n",
       "</div>"
      ],
      "text/plain": [
       "         Latitude   Longitude    Max Temp    Humidity  Cloudiness  Wind Speed  \\\n",
       "count  562.000000  562.000000  562.000000  562.000000  562.000000  562.000000   \n",
       "mean    19.131173   25.380840   66.222900   72.030249   54.537367    7.712651   \n",
       "std     34.065284   89.578768   15.596681   19.501108   38.353634    5.404968   \n",
       "min    -54.800000 -175.200000   19.920000    9.000000    0.000000    0.000000   \n",
       "25%     -9.445800  -56.150700   53.942500   63.000000   14.000000    3.707500   \n",
       "50%     23.091650   30.690550   68.115000   77.000000   62.000000    6.430000   \n",
       "75%     47.769875  106.111550   78.350000   86.000000   92.000000   10.822500   \n",
       "max     78.218600  179.316700  111.650000  100.000000  100.000000   33.870000   \n",
       "\n",
       "               Date  \n",
       "count  5.620000e+02  \n",
       "mean   1.631577e+09  \n",
       "std    8.694660e+01  \n",
       "min    1.631576e+09  \n",
       "25%    1.631577e+09  \n",
       "50%    1.631577e+09  \n",
       "75%    1.631577e+09  \n",
       "max    1.631577e+09  "
      ]
     },
     "metadata": {},
     "execution_count": 31
    }
   ],
   "metadata": {}
  },
  {
   "cell_type": "code",
   "execution_count": 24,
   "source": [
    "weather_df.to_csv(output_data_file)"
   ],
   "outputs": [],
   "metadata": {}
  },
  {
   "cell_type": "markdown",
   "source": [
    "## Inspect the data and remove the cities where the humidity > 100%.\n",
    "----\n",
    "Skip this step if there are no cities that have humidity > 100%. "
   ],
   "metadata": {}
  },
  {
   "cell_type": "code",
   "execution_count": 28,
   "source": [
    "high_humid = weather_df.loc[weather_df[\"Humidity\"] > 100]\r\n",
    "len(high_humid)"
   ],
   "outputs": [
    {
     "output_type": "execute_result",
     "data": {
      "text/plain": [
       "0"
      ]
     },
     "metadata": {},
     "execution_count": 28
    }
   ],
   "metadata": {}
  },
  {
   "cell_type": "code",
   "execution_count": 30,
   "source": [
    "max_humid = max(weather_df[\"Humidity\"])\r\n",
    "max_humid"
   ],
   "outputs": [
    {
     "output_type": "execute_result",
     "data": {
      "text/plain": [
       "100"
      ]
     },
     "metadata": {},
     "execution_count": 30
    }
   ],
   "metadata": {}
  },
  {
   "cell_type": "markdown",
   "source": [
    "## Plotting the Data\n",
    "* Use proper labeling of the plots using plot titles (including date of analysis) and axes labels.\n",
    "* Save the plotted figures as .pngs."
   ],
   "metadata": {}
  },
  {
   "cell_type": "markdown",
   "source": [
    "## Latitude vs. Temperature Plot"
   ],
   "metadata": {}
  },
  {
   "cell_type": "code",
   "execution_count": 34,
   "source": [
    "plt.scatter(weather_df[\"Latitude\"], weather_df[\"Max Temp\"], edgecolors = \"black\", facecolors = \"skyblue\", zorder = 3)\r\n",
    "plt.title(\"City Latitude vs. Max Temperature\")\r\n",
    "plt.xlabel(\"Latitude\")\r\n",
    "plt.ylabel(\"Max Temperature (F)\")\r\n",
    "plt.grid (which = \"major\", axis = \"both\", linestyle = \"-\", color = \"lightgrey\", zorder = -1)\r\n",
    "plt.savefig(\"Figures/latvtemp1.png\")\r\n",
    "plt.show()"
   ],
   "outputs": [
    {
     "output_type": "display_data",
     "data": {
      "image/png": "[encoded data removed]",
      "text/plain": [
       "<Figure size 432x288 with 1 Axes>"
      ]
     },
     "metadata": {
      "needs_background": "light"
     }
    }
   ],
   "metadata": {
    "scrolled": true
   }
  },
  {
   "cell_type": "code",
   "execution_count": 79,
   "source": [
    "import plotly.express as px\r\n",
    "\r\n",
    "fig = px.scatter(weather_df, x = \"Longitude\", y = \"Latitude\", color = \"Max Temp\", size = \"Cloudiness\", hover_data = ['City', 'Country'])\r\n",
    "print(\"World Map Weather\")\r\n",
    "fig.show()"
   ],
   "outputs": [
    {
     "output_type": "stream",
     "name": "stdout",
     "text": [
      "World Map Weather\n"
     ]
    },
    {
     "output_type": "display_data",
     "data": {
      "application/vnd.plotly.v1+json": {
       "config": {
        "plotlyServerURL": "https://plot.ly"
       },
       "data": [
        {
         "customdata": [
          [
           "lebu",
           "CL"
          ],
          [
           "kushiro",
           "JP"
          ],
          [
           "hobart",
           "AU"
          ],
          [
           "kavieng",
           "PG"
          ],
          [
           "mataura",
           "NZ"
          ],
          [
           "nizwa",
           "OM"
          ],
          [
           "bucak",
           "TR"
          ],
          [
           "cidreira",
           "BR"
          ],
          [
           "tasiilaq",
           "GL"
          ],
          [
           "qaanaaq",
           "GL"
          ],
          [
           "saskylakh",
           "RU"
          ],
          [
           "ukiah",
           "US"
          ],
          [
           "bluff",
           "NZ"
          ],
          [
           "busselton",
           "AU"
          ],
          [
           "severo-kurilsk",
           "RU"
          ],
          [
           "padang",
           "ID"
          ],
          [
           "slave lake",
           "CA"
          ],
          [
           "kalmunai",
           "LK"
          ],
          [
           "labytnangi",
           "RU"
          ],
          [
           "mar del plata",
           "AR"
          ],
          [
           "beyneu",
           "KZ"
          ],
          [
           "cape town",
           "ZA"
          ],
          [
           "puerto carreno",
           "CO"
          ],
          [
           "tricase",
           "IT"
          ],
          [
           "bac lieu",
           "VN"
          ],
          [
           "thompson",
           "CA"
          ],
          [
           "banda aceh",
           "ID"
          ],
          [
           "vaini",
           "TO"
          ],
          [
           "santa cruz",
           "BO"
          ],
          [
           "vigia del fuerte",
           "CO"
          ],
          [
           "dakar",
           "SN"
          ],
          [
           "hilo",
           "US"
          ],
          [
           "khatanga",
           "RU"
          ],
          [
           "barrow",
           "US"
          ],
          [
           "hermanus",
           "ZA"
          ],
          [
           "port elizabeth",
           "ZA"
          ],
          [
           "mahebourg",
           "MU"
          ],
          [
           "butaritari",
           "KI"
          ],
          [
           "ancud",
           "CL"
          ],
          [
           "harper",
           "LR"
          ],
          [
           "punta arenas",
           "CL"
          ],
          [
           "atikokan",
           "CA"
          ],
          [
           "ushuaia",
           "AR"
          ],
          [
           "cabo san lucas",
           "MX"
          ],
          [
           "aviles",
           "ES"
          ],
          [
           "constitucion",
           "CL"
          ],
          [
           "cairns",
           "AU"
          ],
          [
           "rikitea",
           "PF"
          ],
          [
           "tilichiki",
           "RU"
          ],
          [
           "codrington",
           "AU"
          ],
          [
           "leningradskiy",
           "RU"
          ],
          [
           "iqaluit",
           "CA"
          ],
          [
           "ferme-neuve",
           "CA"
          ],
          [
           "blythe",
           "US"
          ],
          [
           "cap malheureux",
           "MU"
          ],
          [
           "vanavara",
           "RU"
          ],
          [
           "pasighat",
           "IN"
          ],
          [
           "tiksi",
           "RU"
          ],
          [
           "provideniya",
           "RU"
          ],
          [
           "vao",
           "NC"
          ],
          [
           "bongouanou",
           "CI"
          ],
          [
           "jamestown",
           "US"
          ],
          [
           "airai",
           "TL"
          ],
          [
           "luorong",
           "CN"
          ],
          [
           "lakes entrance",
           "AU"
          ],
          [
           "hithadhoo",
           "MV"
          ],
          [
           "san quintin",
           "MX"
          ],
          [
           "los llanos de aridane",
           "ES"
          ],
          [
           "kokkola",
           "FI"
          ],
          [
           "rio verde de mato grosso",
           "BR"
          ],
          [
           "saint-philippe",
           "RE"
          ],
          [
           "enshi",
           "CN"
          ],
          [
           "conakry",
           "GN"
          ],
          [
           "biak",
           "ID"
          ],
          [
           "port alfred",
           "ZA"
          ],
          [
           "souillac",
           "MU"
          ],
          [
           "ponta delgada",
           "PT"
          ],
          [
           "dikson",
           "RU"
          ],
          [
           "norman wells",
           "CA"
          ],
          [
           "talnakh",
           "RU"
          ],
          [
           "pa sang",
           "TH"
          ],
          [
           "kosh-agach",
           "RU"
          ],
          [
           "ponta do sol",
           "PT"
          ],
          [
           "salta",
           "AR"
          ],
          [
           "victoria",
           "HK"
          ],
          [
           "sisimiut",
           "GL"
          ],
          [
           "klaksvik",
           "FO"
          ],
          [
           "heinola",
           "FI"
          ],
          [
           "tuktoyaktuk",
           "CA"
          ],
          [
           "nanortalik",
           "GL"
          ],
          [
           "shizunai",
           "JP"
          ],
          [
           "atuona",
           "PF"
          ],
          [
           "anadyr",
           "RU"
          ],
          [
           "lavrentiya",
           "RU"
          ],
          [
           "nikolskoye",
           "RU"
          ],
          [
           "kapaa",
           "US"
          ],
          [
           "ribeira grande",
           "PT"
          ],
          [
           "polunochnoye",
           "RU"
          ],
          [
           "longyearbyen",
           "SJ"
          ],
          [
           "baltiysk",
           "RU"
          ],
          [
           "cherskiy",
           "RU"
          ],
          [
           "qaqortoq",
           "GL"
          ],
          [
           "puerto lleras",
           "CO"
          ],
          [
           "tuatapere",
           "NZ"
          ],
          [
           "yellowknife",
           "CA"
          ],
          [
           "mount gambier",
           "AU"
          ],
          [
           "comodoro rivadavia",
           "AR"
          ],
          [
           "seoul",
           "KR"
          ],
          [
           "mangrol",
           "IN"
          ],
          [
           "kaitangata",
           "NZ"
          ],
          [
           "cheney",
           "US"
          ],
          [
           "trapani",
           "IT"
          ],
          [
           "pevek",
           "RU"
          ],
          [
           "douentza",
           "ML"
          ],
          [
           "moron",
           "AR"
          ],
          [
           "skjervoy",
           "NO"
          ],
          [
           "necochea",
           "AR"
          ],
          [
           "tual",
           "ID"
          ],
          [
           "kiama",
           "AU"
          ],
          [
           "sokol",
           "RU"
          ],
          [
           "kutum",
           "SD"
          ],
          [
           "geraldton",
           "AU"
          ],
          [
           "champerico",
           "GT"
          ],
          [
           "torbay",
           "CA"
          ],
          [
           "luanda",
           "AO"
          ],
          [
           "fairbanks",
           "US"
          ],
          [
           "grand gaube",
           "MU"
          ],
          [
           "kieta",
           "PG"
          ],
          [
           "kruisfontein",
           "ZA"
          ],
          [
           "new norfolk",
           "AU"
          ],
          [
           "bougouni",
           "ML"
          ],
          [
           "upernavik",
           "GL"
          ],
          [
           "turayf",
           "SA"
          ],
          [
           "lata",
           "PT"
          ],
          [
           "nyurba",
           "RU"
          ],
          [
           "quatre cocos",
           "MU"
          ],
          [
           "sao filipe",
           "CV"
          ],
          [
           "svobodnyy",
           "RU"
          ],
          [
           "chilca",
           "PE"
          ],
          [
           "adwa",
           "ET"
          ],
          [
           "kanigoro",
           "ID"
          ],
          [
           "albany",
           "US"
          ],
          [
           "isangel",
           "VU"
          ],
          [
           "sai buri",
           "TH"
          ],
          [
           "nakamura",
           "JP"
          ],
          [
           "marawi",
           "PH"
          ],
          [
           "kovur",
           "IN"
          ],
          [
           "charters towers",
           "AU"
          ],
          [
           "kirksville",
           "US"
          ],
          [
           "bhagalpur",
           "IN"
          ],
          [
           "puerto ayora",
           "EC"
          ],
          [
           "goure",
           "NE"
          ],
          [
           "nishihara",
           "JP"
          ],
          [
           "chuy",
           "UY"
          ],
          [
           "pringsewu",
           "ID"
          ],
          [
           "ubinskoye",
           "RU"
          ],
          [
           "uyemskiy",
           "RU"
          ],
          [
           "penzance",
           "GB"
          ],
          [
           "jacqueville",
           "CI"
          ],
          [
           "coxim",
           "BR"
          ],
          [
           "ilulissat",
           "GL"
          ],
          [
           "makungu",
           "TZ"
          ],
          [
           "marzuq",
           "YE"
          ],
          [
           "tarko-sale",
           "RU"
          ],
          [
           "san-pedro",
           "CI"
          ],
          [
           "xining",
           "CN"
          ],
          [
           "cerritos",
           "US"
          ],
          [
           "saldanha",
           "ZA"
          ],
          [
           "ishim",
           "RU"
          ],
          [
           "bandarbeyla",
           "SO"
          ],
          [
           "inuvik",
           "CA"
          ],
          [
           "fort collins",
           "US"
          ],
          [
           "beringovskiy",
           "RU"
          ],
          [
           "aykhal",
           "RU"
          ],
          [
           "asau",
           "RO"
          ],
          [
           "bilibino",
           "RU"
          ],
          [
           "mutis",
           "CO"
          ],
          [
           "bambous virieux",
           "MU"
          ],
          [
           "sitka",
           "US"
          ],
          [
           "sorong",
           "ID"
          ],
          [
           "cockburn town",
           "TC"
          ],
          [
           "pangnirtung",
           "CA"
          ],
          [
           "pascagoula",
           "US"
          ],
          [
           "salalah",
           "OM"
          ],
          [
           "lagoa",
           "PT"
          ],
          [
           "havre-saint-pierre",
           "CA"
          ],
          [
           "tahta",
           "EG"
          ],
          [
           "methoni",
           "GR"
          ],
          [
           "altamira",
           "BR"
          ],
          [
           "taltal",
           "CL"
          ],
          [
           "gigmoto",
           "PH"
          ],
          [
           "bethel",
           "US"
          ],
          [
           "carutapera",
           "BR"
          ],
          [
           "andenes",
           "NO"
          ],
          [
           "arbazh",
           "RU"
          ],
          [
           "abha",
           "SA"
          ],
          [
           "wilmington",
           "US"
          ],
          [
           "candido mota",
           "BR"
          ],
          [
           "trelleborg",
           "SE"
          ],
          [
           "clyde river",
           "CA"
          ],
          [
           "chokurdakh",
           "RU"
          ],
          [
           "hambantota",
           "LK"
          ],
          [
           "margate",
           "GB"
          ],
          [
           "richards bay",
           "ZA"
          ],
          [
           "mitu",
           "CO"
          ],
          [
           "grindavik",
           "IS"
          ],
          [
           "taksimo",
           "RU"
          ],
          [
           "jardim",
           "BR"
          ],
          [
           "dzhebariki-khaya",
           "RU"
          ],
          [
           "castro",
           "BR"
          ],
          [
           "zhaozhou",
           "CN"
          ],
          [
           "sinazongwe",
           "ZM"
          ],
          [
           "betlitsa",
           "RU"
          ],
          [
           "aitape",
           "PG"
          ],
          [
           "livingstonia",
           "MW"
          ],
          [
           "fortuna",
           "US"
          ],
          [
           "saint-joseph",
           "RE"
          ],
          [
           "vallenar",
           "CL"
          ],
          [
           "ola",
           "RU"
          ],
          [
           "kuopio",
           "FI"
          ],
          [
           "moree",
           "AU"
          ],
          [
           "hasaki",
           "JP"
          ],
          [
           "bambanglipuro",
           "ID"
          ],
          [
           "artyom",
           "AZ"
          ],
          [
           "gulu",
           "UG"
          ],
          [
           "zabol",
           "AF"
          ],
          [
           "alcaniz",
           "ES"
          ],
          [
           "avarua",
           "CK"
          ],
          [
           "esperance",
           "AU"
          ],
          [
           "marsh harbour",
           "BS"
          ],
          [
           "east london",
           "ZA"
          ],
          [
           "kamien pomorski",
           "PL"
          ],
          [
           "opuwo",
           "NA"
          ],
          [
           "lubango",
           "AO"
          ],
          [
           "coquimbo",
           "CL"
          ],
          [
           "sulangan",
           "PH"
          ],
          [
           "nemuro",
           "JP"
          ],
          [
           "vanimo",
           "PG"
          ],
          [
           "sinnamary",
           "GF"
          ],
          [
           "sorland",
           "NO"
          ],
          [
           "carauari",
           "BR"
          ],
          [
           "saint-georges",
           "GD"
          ],
          [
           "bengkulu",
           "ID"
          ],
          [
           "nantucket",
           "US"
          ],
          [
           "burnie",
           "AU"
          ],
          [
           "meadow lake",
           "US"
          ],
          [
           "palmer",
           "US"
          ],
          [
           "san ramon",
           "US"
          ],
          [
           "totness",
           "SR"
          ],
          [
           "shadrinsk",
           "RU"
          ],
          [
           "rawson",
           "AR"
          ],
          [
           "uruacu",
           "BR"
          ],
          [
           "uren",
           "RU"
          ],
          [
           "kristinehamn",
           "SE"
          ],
          [
           "brae",
           "GB"
          ],
          [
           "georgetown",
           "MY"
          ],
          [
           "baruun-urt",
           "MN"
          ],
          [
           "san cristobal",
           "VE"
          ],
          [
           "arraial do cabo",
           "BR"
          ],
          [
           "ostrovnoy",
           "RU"
          ],
          [
           "hami",
           "CN"
          ],
          [
           "northam",
           "GB"
          ],
          [
           "rietavas",
           "LT"
          ],
          [
           "waki",
           "JP"
          ],
          [
           "yar-sale",
           "RU"
          ],
          [
           "bhabua",
           "IN"
          ],
          [
           "fengzhen",
           "CN"
          ],
          [
           "saint-pierre",
           "RE"
          ],
          [
           "saint george",
           "US"
          ],
          [
           "channel-port aux basques",
           "CA"
          ],
          [
           "yuancheng",
           "CN"
          ],
          [
           "balotra",
           "IN"
          ],
          [
           "dire dawa",
           "ET"
          ],
          [
           "finschhafen",
           "PG"
          ],
          [
           "flinders",
           "AU"
          ],
          [
           "goundam",
           "ML"
          ],
          [
           "kirakira",
           "SB"
          ],
          [
           "kununurra",
           "AU"
          ],
          [
           "namibe",
           "AO"
          ],
          [
           "byron bay",
           "AU"
          ],
          [
           "xapuri",
           "BR"
          ],
          [
           "pangai",
           "TO"
          ],
          [
           "acapulco",
           "MX"
          ],
          [
           "vila velha",
           "BR"
          ],
          [
           "yulara",
           "AU"
          ],
          [
           "matara",
           "LK"
          ],
          [
           "marfino",
           "RU"
          ],
          [
           "san borja",
           "BO"
          ],
          [
           "lorengau",
           "PG"
          ],
          [
           "porbandar",
           "IN"
          ],
          [
           "leh",
           "IN"
          ],
          [
           "bara",
           "NG"
          ],
          [
           "bredasdorp",
           "ZA"
          ],
          [
           "eureka",
           "US"
          ],
          [
           "nsanje",
           "MW"
          ],
          [
           "khandyga",
           "RU"
          ],
          [
           "besikduzu",
           "TR"
          ],
          [
           "samarinda",
           "ID"
          ],
          [
           "neenah",
           "US"
          ],
          [
           "maningrida",
           "AU"
          ],
          [
           "zhigansk",
           "RU"
          ],
          [
           "mahenge",
           "TZ"
          ],
          [
           "rochester",
           "US"
          ],
          [
           "komsomolskiy",
           "UZ"
          ],
          [
           "stornoway",
           "GB"
          ],
          [
           "oranjestad",
           "AW"
          ],
          [
           "shimoda",
           "JP"
          ],
          [
           "manokwari",
           "ID"
          ],
          [
           "ternovka",
           "RU"
          ],
          [
           "neustrelitz",
           "DE"
          ],
          [
           "carnarvon",
           "AU"
          ],
          [
           "noumea",
           "NC"
          ],
          [
           "itacare",
           "BR"
          ],
          [
           "kavaratti",
           "IN"
          ],
          [
           "wanning",
           "CN"
          ],
          [
           "laizhou",
           "CN"
          ],
          [
           "lompoc",
           "US"
          ],
          [
           "okhotsk",
           "RU"
          ],
          [
           "suntar",
           "RU"
          ],
          [
           "praya",
           "CV"
          ],
          [
           "ternate",
           "ID"
          ],
          [
           "narsaq",
           "GL"
          ],
          [
           "falmouth",
           "GB"
          ],
          [
           "katherine",
           "AU"
          ],
          [
           "san pedro",
           "PH"
          ],
          [
           "vasto",
           "IT"
          ],
          [
           "aklavik",
           "CA"
          ],
          [
           "sainte-marie",
           "RE"
          ],
          [
           "beloha",
           "MG"
          ],
          [
           "greenville",
           "US"
          ],
          [
           "port hueneme",
           "US"
          ],
          [
           "soyo",
           "AO"
          ],
          [
           "mumford",
           "GH"
          ],
          [
           "viedma",
           "AR"
          ],
          [
           "sambava",
           "MG"
          ],
          [
           "itoman",
           "JP"
          ],
          [
           "concordia",
           "AR"
          ],
          [
           "kodiak",
           "US"
          ],
          [
           "college",
           "US"
          ],
          [
           "maymyo",
           "MM"
          ],
          [
           "ubatuba",
           "BR"
          ],
          [
           "antofagasta",
           "CL"
          ],
          [
           "kloulklubed",
           "PW"
          ],
          [
           "paragominas",
           "BR"
          ],
          [
           "abu samrah",
           "SY"
          ],
          [
           "chikhli",
           "IN"
          ],
          [
           "waipawa",
           "NZ"
          ],
          [
           "rudnichnyy",
           "RU"
          ],
          [
           "gannan",
           "CN"
          ],
          [
           "dunedin",
           "NZ"
          ],
          [
           "samarai",
           "PG"
          ],
          [
           "plettenberg bay",
           "ZA"
          ],
          [
           "warmbad",
           "NA"
          ],
          [
           "coihaique",
           "CL"
          ],
          [
           "ladario",
           "BR"
          ],
          [
           "amahai",
           "ID"
          ],
          [
           "gafanha da encarnacao",
           "PT"
          ],
          [
           "hutchinson",
           "US"
          ],
          [
           "port hedland",
           "AU"
          ],
          [
           "ovalle",
           "CL"
          ],
          [
           "rio gallegos",
           "AR"
          ],
          [
           "mayor pablo lagerenza",
           "PY"
          ],
          [
           "port blair",
           "IN"
          ],
          [
           "maku",
           "IR"
          ],
          [
           "manono",
           "CD"
          ],
          [
           "zhezkazgan",
           "KZ"
          ],
          [
           "naivasha",
           "KE"
          ],
          [
           "tura",
           "IN"
          ],
          [
           "castel san giovanni",
           "IT"
          ],
          [
           "chibuto",
           "MZ"
          ],
          [
           "churapcha",
           "RU"
          ],
          [
           "sistranda",
           "NO"
          ],
          [
           "sainte-thecle",
           "CA"
          ],
          [
           "jamame",
           "SO"
          ],
          [
           "shubarkuduk",
           "KZ"
          ],
          [
           "roma",
           "US"
          ],
          [
           "katsuura",
           "JP"
          ],
          [
           "paamiut",
           "GL"
          ],
          [
           "strezhevoy",
           "RU"
          ],
          [
           "mitzic",
           "GA"
          ],
          [
           "vila franca do campo",
           "PT"
          ],
          [
           "neuquen",
           "AR"
          ],
          [
           "nampa",
           "US"
          ],
          [
           "tessalit",
           "ML"
          ],
          [
           "mackenzie",
           "CA"
          ],
          [
           "bubaque",
           "GW"
          ],
          [
           "xuddur",
           "SO"
          ],
          [
           "tazovskiy",
           "RU"
          ],
          [
           "arica",
           "CL"
          ],
          [
           "dingle",
           "PH"
          ],
          [
           "pangody",
           "RU"
          ],
          [
           "denpasar",
           "ID"
          ],
          [
           "naze",
           "JP"
          ],
          [
           "sombrerete",
           "MX"
          ],
          [
           "zhanaozen",
           "KZ"
          ],
          [
           "alakurtti",
           "RU"
          ],
          [
           "hofn",
           "IS"
          ],
          [
           "shache",
           "CN"
          ],
          [
           "vidim",
           "RU"
          ],
          [
           "caravelas",
           "BR"
          ],
          [
           "srednekolymsk",
           "RU"
          ],
          [
           "kirovskiy",
           "RU"
          ],
          [
           "havoysund",
           "NO"
          ],
          [
           "kaspiyskiy",
           "RU"
          ],
          [
           "tandlianwala",
           "PK"
          ],
          [
           "pimentel",
           "PE"
          ],
          [
           "chicama",
           "PE"
          ],
          [
           "rangpo",
           "IN"
          ],
          [
           "yabelo",
           "ET"
          ],
          [
           "ko samui",
           "TH"
          ],
          [
           "pacifica",
           "US"
          ],
          [
           "shingu",
           "JP"
          ],
          [
           "gorgan",
           "IR"
          ],
          [
           "irbil",
           "IQ"
          ],
          [
           "ngunguru",
           "NZ"
          ],
          [
           "koslan",
           "RU"
          ],
          [
           "luebo",
           "CD"
          ],
          [
           "oistins",
           "BB"
          ],
          [
           "cayenne",
           "GF"
          ],
          [
           "gat",
           "IL"
          ],
          [
           "usinsk",
           "RU"
          ],
          [
           "valparaiso",
           "CL"
          ],
          [
           "kilgore",
           "US"
          ],
          [
           "pacific grove",
           "US"
          ],
          [
           "dolores",
           "AR"
          ],
          [
           "boa vista",
           "BR"
          ],
          [
           "bagotville",
           "AU"
          ],
          [
           "derzhavinsk",
           "KZ"
          ],
          [
           "baikunthpur",
           "IN"
          ],
          [
           "santo tomas",
           "PH"
          ],
          [
           "puerto baquerizo moreno",
           "EC"
          ],
          [
           "baykalsk",
           "RU"
          ],
          [
           "faanui",
           "PF"
          ],
          [
           "plouzane",
           "FR"
          ],
          [
           "upata",
           "VE"
          ],
          [
           "alice springs",
           "AU"
          ],
          [
           "osypenko",
           "UA"
          ],
          [
           "paredon",
           "MX"
          ],
          [
           "roald",
           "NO"
          ],
          [
           "tezu",
           "IN"
          ],
          [
           "rantepao",
           "ID"
          ],
          [
           "henties bay",
           "NA"
          ],
          [
           "semirom",
           "IR"
          ],
          [
           "singapore",
           "SG"
          ],
          [
           "khaniotis",
           "GR"
          ],
          [
           "sabha",
           "LY"
          ],
          [
           "mikhaylovka",
           "RU"
          ],
          [
           "morros",
           "BR"
          ],
          [
           "buala",
           "SB"
          ],
          [
           "bosaso",
           "SO"
          ],
          [
           "ribas do rio pardo",
           "BR"
          ],
          [
           "asfi",
           "MA"
          ],
          [
           "salina",
           "US"
          ],
          [
           "portland",
           "US"
          ],
          [
           "huambo",
           "AO"
          ],
          [
           "khani",
           "GE"
          ],
          [
           "blackwater",
           "AU"
          ],
          [
           "auki",
           "SB"
          ],
          [
           "touros",
           "BR"
          ],
          [
           "varnamo",
           "SE"
          ],
          [
           "maarianhamina",
           "AX"
          ],
          [
           "mogadishu",
           "SO"
          ],
          [
           "mangan",
           "IN"
          ],
          [
           "zunyi",
           "CN"
          ],
          [
           "leshukonskoye",
           "RU"
          ],
          [
           "kidal",
           "ML"
          ],
          [
           "santa rosa",
           "PH"
          ],
          [
           "bundaberg",
           "AU"
          ],
          [
           "guerrero negro",
           "MX"
          ],
          [
           "jieshi",
           "CN"
          ],
          [
           "ahar",
           "IR"
          ],
          [
           "mersing",
           "MY"
          ],
          [
           "arman",
           "RU"
          ],
          [
           "primo tapia",
           "MX"
          ],
          [
           "chumikan",
           "RU"
          ],
          [
           "hualmay",
           "PE"
          ],
          [
           "camargo",
           "MX"
          ],
          [
           "phan thiet",
           "VN"
          ],
          [
           "sola",
           "VU"
          ],
          [
           "xiongzhou",
           "CN"
          ],
          [
           "luderitz",
           "NA"
          ],
          [
           "lohja",
           "FI"
          ],
          [
           "launceston",
           "AU"
          ],
          [
           "kuching",
           "MY"
          ],
          [
           "san patricio",
           "US"
          ],
          [
           "jafarpur",
           "IN"
          ],
          [
           "talcahuano",
           "CL"
          ],
          [
           "ahipara",
           "NZ"
          ],
          [
           "ayer tawar",
           "MY"
          ],
          [
           "lincoln",
           "US"
          ],
          [
           "saint-leu",
           "RE"
          ],
          [
           "asmar",
           "AF"
          ],
          [
           "waterloo",
           "CA"
          ],
          [
           "battle creek",
           "US"
          ],
          [
           "lethem",
           "GY"
          ],
          [
           "salard",
           "RO"
          ],
          [
           "morwell",
           "AU"
          ],
          [
           "bemidji",
           "US"
          ],
          [
           "sao joao da barra",
           "BR"
          ],
          [
           "port moresby",
           "PG"
          ],
          [
           "chenzhou",
           "CN"
          ],
          [
           "umea",
           "SE"
          ],
          [
           "rayadrug",
           "IN"
          ],
          [
           "ulaangom",
           "MN"
          ],
          [
           "tongchuan",
           "CN"
          ],
          [
           "cessnock",
           "AU"
          ],
          [
           "mitoc",
           "RO"
          ],
          [
           "bakel",
           "SN"
          ],
          [
           "shuangcheng",
           "CN"
          ],
          [
           "moses lake",
           "US"
          ],
          [
           "asyut",
           "EG"
          ],
          [
           "mustafakemalpasa",
           "TR"
          ],
          [
           "broken hill",
           "AU"
          ],
          [
           "natal",
           "BR"
          ],
          [
           "tambovka",
           "RU"
          ],
          [
           "tigil",
           "RU"
          ],
          [
           "kumertau",
           "RU"
          ],
          [
           "robertsport",
           "LR"
          ],
          [
           "alta floresta",
           "BR"
          ],
          [
           "pangkalanbuun",
           "ID"
          ],
          [
           "nawada",
           "IN"
          ],
          [
           "luoyang",
           "CN"
          ],
          [
           "acari",
           "PE"
          ],
          [
           "juarez",
           "MX"
          ],
          [
           "tanete",
           "ID"
          ],
          [
           "haines junction",
           "CA"
          ],
          [
           "tarija",
           "BO"
          ],
          [
           "providencia",
           "MX"
          ],
          [
           "poum",
           "NC"
          ],
          [
           "kaya",
           "BF"
          ],
          [
           "linhares",
           "BR"
          ],
          [
           "rocha",
           "UY"
          ],
          [
           "cabedelo",
           "BR"
          ],
          [
           "yarega",
           "RU"
          ],
          [
           "goreloye",
           "RU"
          ],
          [
           "fare",
           "PF"
          ],
          [
           "kresttsy",
           "RU"
          ],
          [
           "mackay",
           "AU"
          ],
          [
           "birjand",
           "IR"
          ],
          [
           "atlantis",
           "ZA"
          ],
          [
           "harstad",
           "NO"
          ],
          [
           "kholmogory",
           "RU"
          ],
          [
           "skagen",
           "DK"
          ],
          [
           "kerrville",
           "US"
          ],
          [
           "chateaudun",
           "FR"
          ],
          [
           "palmerston",
           "AU"
          ],
          [
           "pokhara",
           "NP"
          ],
          [
           "ketchikan",
           "US"
          ],
          [
           "iisalmi",
           "FI"
          ],
          [
           "naryan-mar",
           "RU"
          ],
          [
           "vestmannaeyjar",
           "IS"
          ],
          [
           "mantua",
           "IT"
          ],
          [
           "manta",
           "EC"
          ],
          [
           "sernovodsk",
           "RU"
          ],
          [
           "wick",
           "GB"
          ],
          [
           "bartica",
           "GY"
          ],
          [
           "bakchar",
           "RU"
          ],
          [
           "chiang rai",
           "TH"
          ],
          [
           "selenduma",
           "RU"
          ],
          [
           "shahpura",
           "IN"
          ],
          [
           "lensk",
           "RU"
          ],
          [
           "chizhou",
           "CN"
          ]
         ],
         "hovertemplate": "Longitude=%{x}<br>Latitude=%{y}<br>Cloudiness=%{marker.size}<br>City=%{customdata[0]}<br>Country=%{customdata[1]}<br>Max Temp=%{marker.color}<extra></extra>",
         "legendgroup": "",
         "marker": {
          "color": [
           46.47,
           59.95,
           51.26,
           84.36,
           45.48,
           85.69,
           64.92,
           66.67,
           41.16,
           19.92,
           44.65,
           98.49,
           45.81,
           52.52,
           49.68,
           76.96,
           62.58,
           79,
           38.28,
           55.42,
           69.1,
           54.01,
           78.08,
           65.55,
           77.23,
           50.16,
           79.5,
           80.76,
           86.05,
           74.1,
           84.33,
           83.93,
           44.37,
           41.02,
           52.81,
           59.29,
           71.26,
           82.47,
           45.93,
           77.58,
           44.71,
           61.47,
           40.66,
           86.18,
           67.17,
           48.54,
           83.1,
           74.08,
           46.54,
           51.46,
           30.43,
           35.33,
           56.98,
           111.65,
           71.47,
           39.02,
           76.78,
           44.06,
           46.51,
           70.95,
           71.64,
           65.52,
           70.9,
           81.14,
           50.16,
           83.53,
           74.46,
           73.15,
           46.92,
           89.17,
           69.35,
           69.75,
           78.13,
           75.29,
           64.98,
           71.37,
           70.52,
           40.33,
           59.04,
           42.84,
           74.62,
           30.06,
           72.72,
           75.49,
           87.85,
           34.27,
           52.72,
           42.89,
           44.6,
           37.9,
           60.96,
           77.74,
           34.3,
           44.74,
           49.89,
           87.78,
           71.67,
           28.94,
           30.04,
           58.98,
           45.03,
           37.9,
           75.63,
           45.82,
           54.12,
           49.91,
           57.06,
           71.04,
           80.44,
           43.75,
           75.52,
           71.28,
           34.77,
           79.11,
           62.82,
           42.96,
           46.04,
           80.98,
           55.99,
           47.66,
           75.38,
           46.81,
           83.35,
           59.68,
           73.4,
           62.6,
           71.38,
           84.25,
           53.89,
           50.92,
           74.34,
           33.76,
           71.85,
           67.05,
           52.18,
           71.1,
           79.65,
           55.69,
           63.61,
           59.16,
           77.11,
           66.78,
           82.51,
           77.05,
           67.64,
           67.64,
           83.37,
           82.56,
           82.35,
           78.35,
           67.55,
           76.01,
           83.48,
           56.79,
           72.34,
           38.73,
           48.25,
           60.01,
           76.91,
           89.71,
           30.22,
           56.26,
           83.23,
           42.49,
           75.31,
           56.19,
           103.48,
           51.85,
           38.07,
           77.43,
           52.56,
           85.57,
           35.31,
           46.02,
           60.76,
           35.49,
           77.99,
           71.22,
           55.29,
           81.63,
           76.96,
           34.27,
           82.45,
           80.69,
           69.48,
           55.76,
           86.11,
           62.46,
           83.43,
           60.01,
           83.55,
           76.93,
           78.3,
           44.58,
           57.33,
           66.02,
           80.85,
           84.02,
           60.21,
           34.03,
           46.29,
           79.25,
           64.11,
           63.48,
           75.22,
           48.15,
           49.68,
           91.22,
           57.16,
           69.96,
           59.81,
           71.91,
           52.27,
           83.91,
           62.55,
           66.85,
           68.36,
           62.31,
           52.39,
           44.55,
           51.82,
           73.8,
           78.15,
           71.74,
           63.73,
           63.03,
           75.09,
           78.85,
           49.84,
           83.1,
           65.5,
           57.56,
           66.13,
           61.75,
           58.73,
           83.14,
           59.43,
           83.44,
           77.52,
           47.66,
           78.51,
           82.08,
           73.58,
           71.02,
           50.22,
           92.17,
           71.31,
           97.03,
           79.12,
           48.6,
           50.7,
           84.7,
           55.31,
           44.58,
           53.51,
           77.9,
           55.35,
           67.87,
           73.36,
           41.76,
           67.53,
           61.09,
           44.42,
           69.22,
           42.71,
           78.58,
           63.36,
           69.44,
           101.62,
           57.47,
           61.9,
           85.15,
           71.15,
           83.01,
           56.21,
           91.45,
           84.74,
           80.58,
           64.29,
           71.06,
           92.05,
           80.71,
           78.3,
           75.15,
           60.64,
           77.23,
           59.25,
           88.95,
           81.09,
           80.42,
           52.39,
           73.02,
           54.72,
           67.12,
           74.07,
           56.21,
           73.29,
           78.1,
           66.34,
           82.92,
           47.84,
           59.36,
           68.14,
           62.02,
           53.92,
           84.15,
           77.36,
           82.04,
           63.64,
           57.43,
           53.67,
           80.58,
           76.89,
           81.37,
           82.18,
           73.33,
           89.78,
           59.54,
           51.46,
           81.14,
           80.49,
           38.43,
           59.9,
           86.32,
           84.09,
           57.56,
           52.52,
           69.93,
           69.73,
           82.42,
           99.64,
           73.87,
           75.69,
           46.4,
           68.77,
           84.22,
           62.96,
           51.57,
           62.58,
           67.37,
           83.73,
           58.28,
           84.51,
           79.02,
           69.87,
           72.23,
           49.46,
           48.52,
           55.99,
           43.81,
           81.09,
           54.99,
           55.4,
           44.55,
           93.31,
           81.37,
           68.05,
           91.53,
           69.85,
           55.98,
           46.45,
           98.2,
           81.88,
           64.13,
           77,
           51.96,
           53.65,
           73.54,
           72.57,
           63.07,
           56.93,
           49.89,
           62.64,
           75.02,
           57.06,
           66.34,
           75.24,
           37.38,
           37.38,
           67.44,
           70.21,
           55.29,
           81.25,
           95.81,
           59.22,
           79.66,
           71.2,
           42.44,
           60.35,
           80.87,
           41.9,
           80.26,
           81.52,
           66.78,
           70.57,
           37.63,
           50.68,
           65.88,
           43.39,
           74.14,
           53.71,
           52.36,
           41.88,
           64.54,
           81.37,
           62.89,
           59.54,
           73.4,
           60.76,
           81.61,
           95.94,
           73.9,
           76.96,
           75.02,
           62.17,
           41.68,
           74.48,
           80.69,
           82.09,
           80.4,
           32.54,
           56.84,
           84.16,
           92.16,
           50.77,
           89.58,
           65.64,
           52.56,
           74.05,
           83.32,
           69.01,
           53.29,
           78.4,
           64.49,
           83.19,
           62.15,
           62.24,
           81.36,
           51.17,
           77.05,
           72.18,
           53.85,
           57.67,
           80.55,
           76.42,
           79.5,
           62.82,
           82.36,
           84.85,
           92.57,
           89.96,
           70.99,
           91.53,
           77.38,
           65.28,
           60.37,
           72.36,
           85.93,
           77.9,
           52.11,
           46.26,
           76.91,
           72.91,
           69.84,
           39.4,
           87.96,
           84.85,
           72.21,
           77.59,
           84.65,
           57.6,
           75.11,
           55.69,
           93.4,
           56.3,
           61.97,
           86.81,
           78.85,
           79.7,
           82.13,
           52.83,
           48.47,
           50.81,
           75.42,
           81.32,
           82.38,
           51.48,
           61.02,
           76.95,
           87.13,
           68.83,
           72.54,
           66.25,
           80.65,
           80.11,
           64.38,
           49.05,
           65.14,
           73.83,
           83.62,
           77.79,
           42.91,
           73.24,
           46.36,
           66.76,
           56.34,
           68.09,
           85.1,
           55.08,
           77.68,
           86.18,
           61.25,
           51.51,
           77.65,
           51.91,
           50.97,
           57.38,
           80.26,
           75.76,
           76.55,
           80.89,
           73.6,
           64.45,
           94.64,
           78.35,
           60.75,
           71.51,
           98.85,
           75.16,
           77,
           72.86,
           57.06,
           75.87,
           38.3,
           59.67,
           77.74,
           44.78,
           80.04,
           55.87,
           52.09,
           43.83,
           48.31,
           60.1,
           84.42,
           66.4,
           83.93,
           70.02,
           54.07,
           44.62,
           38.86,
           49.59,
           71.71,
           73.18,
           57.76,
           55.45,
           80.92,
           39.33,
           71.58,
           55.65,
           78.13,
           50.18,
           71.89
          ],
          "coloraxis": "coloraxis",
          "size": [
           1,
           40,
           20,
           87,
           86,
           100,
           39,
           100,
           94,
           31,
           64,
           1,
           87,
           1,
           100,
           100,
           1,
           55,
           100,
           0,
           41,
           0,
           55,
           0,
           100,
           90,
           99,
           40,
           20,
           76,
           20,
           75,
           54,
           90,
           79,
           90,
           75,
           46,
           58,
           99,
           75,
           89,
           40,
           10,
           40,
           13,
           6,
           58,
           30,
           100,
           8,
           75,
           96,
           75,
           71,
           100,
           3,
           100,
           90,
           3,
           89,
           90,
           80,
           66,
           90,
           8,
           0,
           0,
           0,
           32,
           57,
           22,
           99,
           100,
           98,
           75,
           75,
           27,
           20,
           98,
           100,
           0,
           17,
           0,
           94,
           16,
           100,
           11,
           75,
           5,
           90,
           40,
           40,
           100,
           5,
           40,
           51,
           68,
           40,
           94,
           90,
           0,
           0,
           82,
           75,
           90,
           0,
           0,
           100,
           89,
           20,
           0,
           100,
           95,
           16,
           100,
           20,
           49,
           88,
           95,
           78,
           0,
           11,
           90,
           20,
           90,
           73,
           61,
           100,
           12,
           46,
           100,
           0,
           37,
           85,
           56,
           81,
           97,
           38,
           98,
           86,
           58,
           40,
           100,
           100,
           89,
           100,
           32,
           1,
           100,
           66,
           95,
           75,
           61,
           100,
           97,
           90,
           98,
           51,
           21,
           40,
           54,
           55,
           100,
           62,
           100,
           1,
           5,
           59,
           11,
           75,
           1,
           86,
           67,
           8,
           98,
           69,
           75,
           90,
           85,
           75,
           13,
           100,
           75,
           52,
           75,
           0,
           22,
           77,
           79,
           100,
           1,
           10,
           40,
           100,
           0,
           0,
           41,
           61,
           20,
           89,
           86,
           100,
           2,
           62,
           75,
           28,
           34,
           61,
           66,
           35,
           6,
           42,
           99,
           64,
           20,
           41,
           0,
           0,
           75,
           1,
           98,
           96,
           0,
           84,
           0,
           100,
           20,
           0,
           7,
           100,
           6,
           0,
           12,
           0,
           99,
           33,
           100,
           10,
           78,
           58,
           20,
           100,
           1,
           59,
           0,
           20,
           1,
           12,
           98,
           30,
           53,
           86,
           99,
           90,
           40,
           96,
           17,
           0,
           93,
           36,
           100,
           93,
           100,
           100,
           63,
           100,
           0,
           1,
           50,
           92,
           7,
           10,
           100,
           74,
           26,
           34,
           65,
           82,
           9,
           63,
           20,
           98,
           0,
           24,
           74,
           75,
           50,
           97,
           100,
           28,
           98,
           100,
           46,
           44,
           79,
           57,
           100,
           70,
           33,
           100,
           30,
           90,
           0,
           90,
           20,
           100,
           92,
           89,
           49,
           0,
           3,
           3,
           100,
           75,
           0,
           1,
           7,
           64,
           20,
           100,
           0,
           100,
           61,
           20,
           11,
           97,
           75,
           65,
           1,
           90,
           49,
           100,
           54,
           47,
           75,
           91,
           99,
           90,
           14,
           64,
           98,
           99,
           65,
           0,
           100,
           84,
           100,
           71,
           96,
           94,
           100,
           65,
           75,
           95,
           96,
           19,
           1,
           4,
           0,
           75,
           55,
           100,
           0,
           28,
           7,
           38,
           100,
           92,
           0,
           100,
           100,
           96,
           57,
           95,
           1,
           100,
           2,
           100,
           73,
           35,
           0,
           1,
           89,
           90,
           100,
           87,
           100,
           90,
           92,
           100,
           20,
           97,
           86,
           6,
           100,
           70,
           24,
           100,
           0,
           100,
           98,
           100,
           27,
           0,
           0,
           27,
           91,
           73,
           91,
           20,
           100,
           75,
           0,
           76,
           99,
           24,
           40,
           0,
           0,
           10,
           0,
           20,
           1,
           4,
           20,
           12,
           9,
           99,
           95,
           49,
           100,
           8,
           100,
           41,
           5,
           3,
           99,
           100,
           2,
           97,
           3,
           0,
           75,
           69,
           0,
           99,
           16,
           80,
           21,
           54,
           100,
           1,
           20,
           54,
           90,
           2,
           38,
           3,
           48,
           0,
           100,
           95,
           99,
           100,
           55,
           93,
           0,
           4,
           83,
           0,
           100,
           0,
           5,
           2,
           24,
           0,
           100,
           27,
           29,
           0,
           100,
           14,
           40,
           100,
           100,
           20,
           100,
           20,
           1,
           30,
           0,
           40,
           20,
           70,
           63,
           77,
           90,
           0,
           75,
           2,
           43,
           100,
           0,
           5,
           90,
           74,
           88,
           80,
           1,
           0,
           83,
           11,
           75,
           89,
           0,
           99,
           96,
           66,
           96,
           89,
           0,
           62,
           1,
           81,
           98,
           75,
           0,
           9,
           91,
           0,
           66,
           12,
           96,
           70,
           14,
           86,
           3,
           0,
           0,
           100,
           100,
           32,
           90,
           99,
           40,
           100,
           90,
           87,
           100,
           99,
           25,
           90,
           55,
           29,
           57,
           100,
           40,
           100,
           70,
           20,
           76
          ],
          "sizemode": "area",
          "sizeref": 0.25,
          "symbol": "circle"
         },
         "mode": "markers",
         "name": "",
         "orientation": "v",
         "showlegend": false,
         "type": "scatter",
         "x": [
          -73.65,
          144.3747,
          147.3294,
          150.7967,
          168.8643,
          57.5333,
          30.595,
          -50.2056,
          -37.6368,
          -69.3632,
          114.0833,
          -123.2078,
          168.3333,
          115.3333,
          156.125,
          100.3543,
          -114.769,
          81.8167,
          66.4183,
          -57.5575,
          55.2,
          18.4232,
          -67.4859,
          18.3553,
          105.7244,
          -97.8558,
          95.3222,
          -175.2,
          -63.1667,
          -76.8863,
          -17.4441,
          -155.09,
          102.5,
          -156.7887,
          19.2345,
          25.5701,
          57.7,
          172.7902,
          -73.8203,
          -7.7169,
          -70.9167,
          -91.6216,
          -68.3,
          -109.9124,
          -5.9248,
          -72.4167,
          145.7667,
          -134.9692,
          166.1,
          141.9667,
          178.4167,
          -68.5145,
          -75.4493,
          -114.5964,
          57.6142,
          102.2797,
          95.3333,
          128.8694,
          -173.3,
          167.4833,
          -4.1992,
          -79.2353,
          125.4092,
          109.6086,
          147.981,
          73.0833,
          -115.95,
          -17.9182,
          23.1307,
          -54.8442,
          55.7679,
          109.4833,
          -13.6773,
          122.8766,
          26.891,
          57.5167,
          -25.6667,
          80.5464,
          -126.8329,
          88.3972,
          98.9394,
          88.6667,
          -17.1,
          -65.4117,
          114.1577,
          -53.6735,
          -6.589,
          26.0381,
          -133.0374,
          -45.2371,
          142.3669,
          -139.0333,
          177.4833,
          -171,
          30.7861,
          -159.319,
          -28.7,
          60.4153,
          15.6401,
          19.911,
          161.3,
          -46.0333,
          -73.4044,
          167.6833,
          -114.3525,
          140.7667,
          -67.5,
          126.9778,
          70.1167,
          169.8464,
          -117.5758,
          12.6667,
          170.3133,
          -2.9517,
          -58.6198,
          20.9714,
          -58.7368,
          132.75,
          150.8667,
          40.1206,
          24.6667,
          114.6,
          -91.9167,
          -52.7314,
          13.2343,
          -147.7164,
          57.6608,
          155.6333,
          24.7314,
          147.0587,
          -7.479,
          -56.1549,
          38.6637,
          -8.3327,
          118.3319,
          57.7625,
          -24.4956,
          128.1333,
          -76.7372,
          38.8955,
          112.219,
          -73.9662,
          169.2667,
          101.6168,
          132.9333,
          124.2928,
          79.9833,
          146.2667,
          -92.5833,
          87,
          -90.3518,
          10.2704,
          127.7558,
          -53.4616,
          104.9744,
          79.6802,
          40.8524,
          -5.5371,
          -4.4146,
          -54.76,
          -51.1,
          35.2833,
          46.4667,
          77.785,
          -6.6363,
          101.7667,
          -118.0648,
          17.9442,
          69.4902,
          50.8122,
          -133.7218,
          -105.0844,
          179.3167,
          111.5,
          26.4,
          166.4372,
          -77.4044,
          57.7575,
          -135.33,
          131.25,
          -71.1419,
          -65.7125,
          -88.5561,
          54.0924,
          -27.9833,
          -63.5986,
          31.5021,
          21.7049,
          -52.2064,
          -70.4833,
          124.39,
          -73.414,
          -46.02,
          16.1194,
          48.3065,
          42.5053,
          -77.9447,
          -50.3869,
          13.1569,
          -68.5914,
          147.9167,
          81.1185,
          1.3862,
          32.0377,
          -70.1733,
          -22.4338,
          114.8794,
          -56.1381,
          135.8,
          -50.0119,
          125.3167,
          27.4618,
          33.9588,
          142.3475,
          34.1063,
          -124.1573,
          55.6167,
          -70.7581,
          151.2833,
          27.677,
          149.85,
          140.8333,
          110.2833,
          50.333,
          32.299,
          67.25,
          -0.1333,
          -159.775,
          121.9,
          -77.0636,
          27.9116,
          14.7726,
          13.84,
          13.4925,
          -71.3436,
          123.7228,
          145.575,
          141.3028,
          -52.95,
          12.6934,
          -66.8958,
          -61.7485,
          102.2655,
          -70.0995,
          145.9167,
          -106.5436,
          -72.3287,
          -121.978,
          -56.3167,
          63.6335,
          -65.1023,
          -49.1408,
          45.7852,
          14.1081,
          -1.353,
          100.3354,
          113.2792,
          -72.225,
          -42.0278,
          39.5131,
          93.45,
          -4.2167,
          21.9311,
          134.15,
          70.8333,
          83.6167,
          113.1536,
          55.4781,
          -113.5841,
          -59.1367,
          107.7896,
          72.2333,
          41.8661,
          147.8681,
          150.8552,
          -3.6708,
          161.9205,
          128.7333,
          12.1522,
          153.6167,
          -68.5044,
          -174.35,
          -99.8901,
          -40.2925,
          130.9889,
          80.5353,
          37.3822,
          -66.85,
          147.2712,
          69.6093,
          77.5833,
          10.7288,
          20.0403,
          -124.1637,
          35.262,
          135.6,
          39.2284,
          117.15,
          -88.4626,
          134.2667,
          123.3711,
          36.7167,
          -77.6156,
          71.7189,
          -6.3865,
          -70.027,
          138.95,
          134.0833,
          41.6375,
          13.0833,
          113.6333,
          166.4572,
          -38.9967,
          72.642,
          110.3967,
          119.9214,
          -120.4579,
          143.3,
          117.6319,
          -23.5087,
          127.4,
          -46.05,
          -5.0711,
          132.2667,
          121.0167,
          14.7059,
          -135.0107,
          55.5496,
          45.05,
          -77.3663,
          -119.1951,
          12.3689,
          -0.759,
          -62.9967,
          50.1667,
          127.6694,
          -58.0209,
          -152.4072,
          -147.8028,
          96.4667,
          -45.0711,
          -70.4,
          134.2556,
          -47.4833,
          37.1841,
          76.25,
          175.5153,
          52.4703,
          123.5031,
          170.5036,
          150.6667,
          23.3716,
          18.7333,
          -72.0662,
          -57.6017,
          128.9167,
          -8.733,
          -97.9298,
          118.5667,
          -71.2003,
          -69.2181,
          -60.7718,
          92.75,
          44.4521,
          27.4167,
          67.7144,
          36.4359,
          90.2201,
          9.4335,
          33.5306,
          132.4325,
          8.834,
          -72.4991,
          42.7506,
          56.4872,
          -75.4557,
          140.3,
          -49.6678,
          77.5889,
          11.549,
          -25.4333,
          -68.0591,
          -116.5635,
          1.0114,
          -123.1698,
          -15.8333,
          43.8894,
          78.7,
          -70.3042,
          122.6711,
          74.4859,
          115.2167,
          129.4833,
          -103.65,
          52.8,
          30.3491,
          -15.2082,
          77.2406,
          103.1106,
          -39.2481,
          153.6833,
          133.5136,
          24.6622,
          47.3707,
          73.1333,
          -79.9342,
          -79.1469,
          88.5333,
          38.0833,
          99.9357,
          -122.4869,
          135.9833,
          54.4348,
          44.0106,
          174.5,
          48.8989,
          21.4167,
          -59.5333,
          -52.3333,
          34.7642,
          57.5281,
          -71.6273,
          -94.8758,
          -121.9166,
          -57.6792,
          -60.6733,
          153.4167,
          66.3167,
          82.55,
          121.1414,
          -89.6,
          104.1469,
          -151.75,
          -4.6167,
          -62.3989,
          133.8833,
          36.8253,
          -93.8667,
          6.1333,
          96.1667,
          119.8978,
          14.2845,
          51.5667,
          103.8501,
          23.58,
          14.4283,
          43.2379,
          -46.3003,
          159.5921,
          49.1816,
          -53.7592,
          -9.2372,
          -97.6114,
          -122.6762,
          15.7392,
          42.9566,
          148.8833,
          160.7034,
          -35.4608,
          14.04,
          19.9348,
          45.3438,
          88.5333,
          106.9072,
          45.7622,
          1.4078,
          121.1114,
          152.35,
          -114.0611,
          115.8257,
          47.0699,
          103.8405,
          150.1667,
          -116.9172,
          135.315,
          -77.6139,
          -105.1667,
          108.1,
          167.55,
          114.3,
          15.1594,
          24.0653,
          147.1667,
          110.3333,
          -97.5169,
          88.2306,
          -73.1167,
          173.1667,
          100.7548,
          -96.667,
          55.2833,
          71.3581,
          -80.5164,
          -85.1797,
          -59.7968,
          22.05,
          146.4,
          -94.8803,
          -41.0511,
          147.1797,
          113.0333,
          20.2597,
          76.8667,
          92.0667,
          109.0897,
          151.35,
          27.0333,
          -12.4568,
          126.2833,
          -119.2781,
          31.1837,
          28.4117,
          141.4333,
          -35.2094,
          128.0489,
          158.6667,
          55.7833,
          -11.3686,
          -56.0861,
          111.6167,
          85.5333,
          112.4536,
          -74.6158,
          -106.4833,
          119.7848,
          -137.5108,
          -64.7296,
          -111.5833,
          164.0167,
          -1.0844,
          -40.0722,
          -54.3333,
          -34.8339,
          53.5765,
          41.5043,
          -151.0167,
          32.5165,
          149.2,
          59.2211,
          18.4834,
          16.5293,
          41.656,
          10.5839,
          -99.1403,
          1.3333,
          130.9833,
          83.9833,
          -131.6461,
          27.1907,
          53.087,
          -20.2734,
          10.7833,
          -80.7333,
          45.1594,
          -3.0833,
          -58.6167,
          82.0711,
          99.9167,
          106.2406,
          75.9667,
          114.9278,
          117.4831
         ],
         "xaxis": "x",
         "y": [
          -37.6167,
          42.975,
          -42.8794,
          -2.5744,
          -46.1927,
          22.9333,
          37.4592,
          -30.1811,
          65.6145,
          77.484,
          71.9167,
          39.1502,
          -46.6,
          -33.65,
          50.6789,
          -0.9492,
          55.2834,
          7.4167,
          66.6572,
          -38.0023,
          45.3167,
          -33.9258,
          6.189,
          39.9304,
          9.285,
          55.7435,
          5.5577,
          -21.2,
          -17.8,
          6.5789,
          14.6937,
          19.7297,
          71.9667,
          71.2906,
          -34.4187,
          -33.918,
          -20.4081,
          3.0707,
          -41.8697,
          4.375,
          -53.15,
          48.7555,
          -54.8,
          22.8909,
          43.5547,
          -35.3333,
          -16.9167,
          -23.1203,
          60.4667,
          -38.2667,
          69.3833,
          63.7506,
          46.7001,
          33.6103,
          -19.9842,
          60.34,
          28.0667,
          71.6872,
          64.3833,
          -22.6667,
          6.6486,
          42.097,
          -8.9266,
          24.4058,
          -37.8811,
          -0.6,
          30.4833,
          28.6585,
          63.8385,
          -18.9181,
          -21.3585,
          30.3,
          9.538,
          -0.9131,
          -33.5906,
          -20.5167,
          37.7333,
          73.5069,
          65.282,
          69.4865,
          18.5262,
          50,
          32.6667,
          -24.7859,
          22.2855,
          66.9395,
          62.2266,
          61.2056,
          69.4541,
          60.1432,
          42.3339,
          -9.8,
          64.75,
          65.5833,
          59.7035,
          22.0752,
          38.5167,
          60.8697,
          78.2186,
          54.6538,
          68.75,
          60.7167,
          3.0223,
          -46.1333,
          62.456,
          -37.8333,
          -45.8667,
          37.5683,
          21.1167,
          -46.2817,
          47.4874,
          37.8333,
          69.7008,
          14.9951,
          -34.6534,
          70.0311,
          -38.5473,
          -5.6667,
          -34.6833,
          59.4617,
          14.2,
          -28.7667,
          14.3,
          47.6666,
          -8.8368,
          64.8378,
          -20.0064,
          -6.2167,
          -34.0033,
          -42.7826,
          11.417,
          72.7868,
          31.6725,
          40.1629,
          63.2842,
          -20.2078,
          14.8961,
          51.4,
          -12.5211,
          14.1646,
          -8.13,
          42.6001,
          -19.55,
          6.7013,
          32.9833,
          7.9986,
          14.4833,
          -20.1,
          40.1948,
          25.25,
          -0.7393,
          13.9835,
          26.1842,
          -33.6971,
          -5.3582,
          55.3068,
          64.4743,
          50.1186,
          5.2052,
          -18.5067,
          69.2167,
          -8.7333,
          14.4,
          64.9225,
          4.7485,
          36.6167,
          33.8583,
          -33.0117,
          56.1128,
          9.4942,
          68.3499,
          40.5853,
          63.05,
          66,
          46.4333,
          68.0546,
          6.2262,
          -20.3428,
          57.0531,
          -0.8833,
          21.4612,
          66.1451,
          30.3658,
          17.0151,
          39.05,
          50.2334,
          26.7693,
          36.8197,
          -3.2033,
          -25.4,
          13.7796,
          41.3712,
          -1.195,
          69.3143,
          57.6804,
          18.2164,
          34.2257,
          -22.7464,
          55.3751,
          70.4692,
          70.6333,
          6.1241,
          51.3813,
          -28.783,
          1.1983,
          63.8424,
          56.3444,
          -21.4803,
          62.2167,
          -24.7911,
          45.6833,
          -17.2614,
          54.0095,
          -3.1374,
          -10.606,
          40.5982,
          -21.3667,
          -28.5708,
          59.5833,
          62.8924,
          -29.4667,
          35.7333,
          -7.95,
          40.4723,
          2.7746,
          32.25,
          41.05,
          -21.2078,
          -33.8667,
          26.5412,
          -33.0153,
          53.9685,
          -18.0607,
          -14.9172,
          -29.9533,
          11.1373,
          43.3236,
          -2.6741,
          5.3833,
          67.667,
          -4.8828,
          12.0564,
          -3.8004,
          41.2835,
          -41.0667,
          34.8014,
          42.1584,
          37.7799,
          5.8833,
          56.0852,
          -43.3002,
          -14.5247,
          57.4552,
          59.3098,
          60.3964,
          5.4112,
          46.6806,
          7.7669,
          -22.9661,
          68.0531,
          42.8,
          51.0333,
          55.7194,
          34.0667,
          66.8333,
          25.05,
          40.4394,
          -21.3393,
          37.1041,
          47.5702,
          36.652,
          25.8333,
          9.5931,
          -6.6024,
          -34.5833,
          16.4145,
          -10.4544,
          -15.7667,
          -15.1961,
          -28.65,
          -10.6517,
          -19.8,
          16.8634,
          -20.3297,
          -25.2406,
          5.9485,
          55.7028,
          -14.8167,
          -2.0226,
          21.6422,
          34.1667,
          10.3744,
          -34.5322,
          40.8021,
          -16.92,
          62.6667,
          41.052,
          -0.5,
          44.1858,
          -12.0667,
          66.7697,
          -8.6833,
          43.1548,
          40.4272,
          58.2093,
          12.524,
          34.6667,
          -0.8667,
          51.678,
          53.3667,
          -24.8667,
          -22.2763,
          -14.2775,
          10.5669,
          18.8003,
          37.1717,
          34.6391,
          59.3833,
          62.1444,
          14.9215,
          0.8,
          60.9167,
          50.1544,
          -14.4667,
          14.35,
          42.1243,
          68.2191,
          -20.8968,
          -25.1667,
          35.6127,
          34.1478,
          -6.1349,
          5.2618,
          -40.8135,
          -14.2667,
          26.1247,
          -31.393,
          57.79,
          64.8569,
          22.0333,
          -23.4339,
          -23.65,
          7.0419,
          -2.9667,
          35.3029,
          20.35,
          -41.4122,
          59.617,
          47.9147,
          -45.8742,
          -10.6167,
          -34.0527,
          -28.45,
          -45.5752,
          -19.0047,
          -3.3333,
          40.6181,
          38.0608,
          -20.3167,
          -30.5983,
          -51.6226,
          -19.9309,
          11.6667,
          39.2911,
          -7.3,
          47.8043,
          -0.7167,
          25.5198,
          45.0583,
          -24.6867,
          62.0025,
          63.7256,
          46.8168,
          0.0722,
          49.1447,
          43.2128,
          35.1333,
          61.994,
          60.7333,
          0.7821,
          37.7167,
          -38.9516,
          43.5407,
          20.1986,
          55.2999,
          11.2833,
          4.1213,
          67.4667,
          -18.475,
          10.9995,
          65.85,
          -8.65,
          28.3667,
          23.6333,
          43.3,
          66.9672,
          64.2539,
          38.4167,
          56.4088,
          -17.7125,
          67.45,
          45.0917,
          70.9963,
          45.3929,
          31.0333,
          -6.8367,
          -7.8447,
          27.1833,
          4.8833,
          9.5357,
          37.6138,
          33.7333,
          36.8387,
          36.1926,
          -35.6167,
          63.4564,
          -5.35,
          13.0667,
          4.9333,
          31.61,
          65.9939,
          -33.0393,
          32.3863,
          36.6177,
          -36.3132,
          2.8197,
          -28.9833,
          51.1,
          23.25,
          14.1079,
          -0.9,
          51.5058,
          -16.4833,
          48.3833,
          8.0086,
          -23.7,
          46.9136,
          16.0333,
          62.5833,
          27.9167,
          -2.9701,
          -22.116,
          31.4167,
          1.2897,
          39.9991,
          27.0377,
          50.06,
          -9.4467,
          -8.145,
          11.2842,
          -20.4431,
          32.2994,
          38.8403,
          45.5234,
          -12.7761,
          41.9563,
          -23.5833,
          -8.7676,
          -5.1989,
          57.186,
          60.0973,
          2.0371,
          27.5167,
          27.6867,
          64.8989,
          18.4411,
          14.3122,
          -24.85,
          27.9769,
          22.8134,
          38.4774,
          2.4312,
          59.7,
          32.22,
          54.7183,
          -11.0964,
          27.6667,
          10.9333,
          -13.8833,
          25.1167,
          -26.6481,
          60.2486,
          -41.45,
          1.55,
          28.017,
          22.3208,
          -36.7167,
          -35.1667,
          4.2954,
          40.8,
          -21.15,
          35.0333,
          43.4668,
          42.3212,
          3.3803,
          47.2167,
          -38.2333,
          47.4736,
          -21.6403,
          -9.4431,
          25.8,
          63.8284,
          14.7,
          49.9811,
          35.0806,
          -32.8333,
          48.1,
          14.905,
          45.35,
          47.1301,
          27.181,
          40.0353,
          -31.95,
          -5.795,
          50.0969,
          57.8,
          52.7667,
          6.7533,
          -9.8756,
          -2.6833,
          24.8833,
          34.6836,
          -15.4311,
          31.7333,
          -3.9443,
          60.7522,
          -21.5355,
          28.7167,
          -20.2333,
          13.0917,
          -19.3911,
          -34.4833,
          -6.9811,
          63.4354,
          52.937,
          -16.7,
          58.2452,
          -21.15,
          32.8663,
          -33.5667,
          68.799,
          64.2229,
          57.7209,
          30.0474,
          48.0833,
          -12.486,
          28.2333,
          55.3422,
          63.5592,
          67.6713,
          63.4427,
          45.1667,
          -0.95,
          43.3117,
          58.4333,
          6.4,
          57.0186,
          19.9167,
          50.9131,
          27.3833,
          60.7253,
          30.6578
         ],
         "yaxis": "y"
        }
       ],
       "layout": {
        "coloraxis": {
         "colorbar": {
          "title": {
           "text": "Max Temp"
          }
         },
         "colorscale": [
          [
           0,
           "#0d0887"
          ],
          [
           0.1111111111111111,
           "#46039f"
          ],
          [
           0.2222222222222222,
           "#7201a8"
          ],
          [
           0.3333333333333333,
           "#9c179e"
          ],
          [
           0.4444444444444444,
           "#bd3786"
          ],
          [
           0.5555555555555556,
           "#d8576b"
          ],
          [
           0.6666666666666666,
           "#ed7953"
          ],
          [
           0.7777777777777778,
           "#fb9f3a"
          ],
          [
           0.8888888888888888,
           "#fdca26"
          ],
          [
           1,
           "#f0f921"
          ]
         ]
        },
        "legend": {
         "itemsizing": "constant",
         "tracegroupgap": 0
        },
        "margin": {
         "t": 60
        },
        "template": {
         "data": {
          "bar": [
           {
            "error_x": {
             "color": "#2a3f5f"
            },
            "error_y": {
             "color": "#2a3f5f"
            },
            "marker": {
             "line": {
              "color": "#E5ECF6",
              "width": 0.5
             },
             "pattern": {
              "fillmode": "overlay",
              "size": 10,
              "solidity": 0.2
             }
            },
            "type": "bar"
           }
          ],
          "barpolar": [
           {
            "marker": {
             "line": {
              "color": "#E5ECF6",
              "width": 0.5
             },
             "pattern": {
              "fillmode": "overlay",
              "size": 10,
              "solidity": 0.2
             }
            },
            "type": "barpolar"
           }
          ],
          "carpet": [
           {
            "aaxis": {
             "endlinecolor": "#2a3f5f",
             "gridcolor": "white",
             "linecolor": "white",
             "minorgridcolor": "white",
             "startlinecolor": "#2a3f5f"
            },
            "baxis": {
             "endlinecolor": "#2a3f5f",
             "gridcolor": "white",
             "linecolor": "white",
             "minorgridcolor": "white",
             "startlinecolor": "#2a3f5f"
            },
            "type": "carpet"
           }
          ],
          "choropleth": [
           {
            "colorbar": {
             "outlinewidth": 0,
             "ticks": ""
            },
            "type": "choropleth"
           }
          ],
          "contour": [
           {
            "colorbar": {
             "outlinewidth": 0,
             "ticks": ""
            },
            "colorscale": [
             [
              0,
              "#0d0887"
             ],
             [
              0.1111111111111111,
              "#46039f"
             ],
             [
              0.2222222222222222,
              "#7201a8"
             ],
             [
              0.3333333333333333,
              "#9c179e"
             ],
             [
              0.4444444444444444,
              "#bd3786"
             ],
             [
              0.5555555555555556,
              "#d8576b"
             ],
             [
              0.6666666666666666,
              "#ed7953"
             ],
             [
              0.7777777777777778,
              "#fb9f3a"
             ],
             [
              0.8888888888888888,
              "#fdca26"
             ],
             [
              1,
              "#f0f921"
             ]
            ],
            "type": "contour"
           }
          ],
          "contourcarpet": [
           {
            "colorbar": {
             "outlinewidth": 0,
             "ticks": ""
            },
            "type": "contourcarpet"
           }
          ],
          "heatmap": [
           {
            "colorbar": {
             "outlinewidth": 0,
             "ticks": ""
            },
            "colorscale": [
             [
              0,
              "#0d0887"
             ],
             [
              0.1111111111111111,
              "#46039f"
             ],
             [
              0.2222222222222222,
              "#7201a8"
             ],
             [
              0.3333333333333333,
              "#9c179e"
             ],
             [
              0.4444444444444444,
              "#bd3786"
             ],
             [
              0.5555555555555556,
              "#d8576b"
             ],
             [
              0.6666666666666666,
              "#ed7953"
             ],
             [
              0.7777777777777778,
              "#fb9f3a"
             ],
             [
              0.8888888888888888,
              "#fdca26"
             ],
             [
              1,
              "#f0f921"
             ]
            ],
            "type": "heatmap"
           }
          ],
          "heatmapgl": [
           {
            "colorbar": {
             "outlinewidth": 0,
             "ticks": ""
            },
            "colorscale": [
             [
              0,
              "#0d0887"
             ],
             [
              0.1111111111111111,
              "#46039f"
             ],
             [
              0.2222222222222222,
              "#7201a8"
             ],
             [
              0.3333333333333333,
              "#9c179e"
             ],
             [
              0.4444444444444444,
              "#bd3786"
             ],
             [
              0.5555555555555556,
              "#d8576b"
             ],
             [
              0.6666666666666666,
              "#ed7953"
             ],
             [
              0.7777777777777778,
              "#fb9f3a"
             ],
             [
              0.8888888888888888,
              "#fdca26"
             ],
             [
              1,
              "#f0f921"
             ]
            ],
            "type": "heatmapgl"
           }
          ],
          "histogram": [
           {
            "marker": {
             "pattern": {
              "fillmode": "overlay",
              "size": 10,
              "solidity": 0.2
             }
            },
            "type": "histogram"
           }
          ],
          "histogram2d": [
           {
            "colorbar": {
             "outlinewidth": 0,
             "ticks": ""
            },
            "colorscale": [
             [
              0,
              "#0d0887"
             ],
             [
              0.1111111111111111,
              "#46039f"
             ],
             [
              0.2222222222222222,
              "#7201a8"
             ],
             [
              0.3333333333333333,
              "#9c179e"
             ],
             [
              0.4444444444444444,
              "#bd3786"
             ],
             [
              0.5555555555555556,
              "#d8576b"
             ],
             [
              0.6666666666666666,
              "#ed7953"
             ],
             [
              0.7777777777777778,
              "#fb9f3a"
             ],
             [
              0.8888888888888888,
              "#fdca26"
             ],
             [
              1,
              "#f0f921"
             ]
            ],
            "type": "histogram2d"
           }
          ],
          "histogram2dcontour": [
           {
            "colorbar": {
             "outlinewidth": 0,
             "ticks": ""
            },
            "colorscale": [
             [
              0,
              "#0d0887"
             ],
             [
              0.1111111111111111,
              "#46039f"
             ],
             [
              0.2222222222222222,
              "#7201a8"
             ],
             [
              0.3333333333333333,
              "#9c179e"
             ],
             [
              0.4444444444444444,
              "#bd3786"
             ],
             [
              0.5555555555555556,
              "#d8576b"
             ],
             [
              0.6666666666666666,
              "#ed7953"
             ],
             [
              0.7777777777777778,
              "#fb9f3a"
             ],
             [
              0.8888888888888888,
              "#fdca26"
             ],
             [
              1,
              "#f0f921"
             ]
            ],
            "type": "histogram2dcontour"
           }
          ],
          "mesh3d": [
           {
            "colorbar": {
             "outlinewidth": 0,
             "ticks": ""
            },
            "type": "mesh3d"
           }
          ],
          "parcoords": [
           {
            "line": {
             "colorbar": {
              "outlinewidth": 0,
              "ticks": ""
             }
            },
            "type": "parcoords"
           }
          ],
          "pie": [
           {
            "automargin": true,
            "type": "pie"
           }
          ],
          "scatter": [
           {
            "marker": {
             "colorbar": {
              "outlinewidth": 0,
              "ticks": ""
             }
            },
            "type": "scatter"
           }
          ],
          "scatter3d": [
           {
            "line": {
             "colorbar": {
              "outlinewidth": 0,
              "ticks": ""
             }
            },
            "marker": {
             "colorbar": {
              "outlinewidth": 0,
              "ticks": ""
             }
            },
            "type": "scatter3d"
           }
          ],
          "scattercarpet": [
           {
            "marker": {
             "colorbar": {
              "outlinewidth": 0,
              "ticks": ""
             }
            },
            "type": "scattercarpet"
           }
          ],
          "scattergeo": [
           {
            "marker": {
             "colorbar": {
              "outlinewidth": 0,
              "ticks": ""
             }
            },
            "type": "scattergeo"
           }
          ],
          "scattergl": [
           {
            "marker": {
             "colorbar": {
              "outlinewidth": 0,
              "ticks": ""
             }
            },
            "type": "scattergl"
           }
          ],
          "scattermapbox": [
           {
            "marker": {
             "colorbar": {
              "outlinewidth": 0,
              "ticks": ""
             }
            },
            "type": "scattermapbox"
           }
          ],
          "scatterpolar": [
           {
            "marker": {
             "colorbar": {
              "outlinewidth": 0,
              "ticks": ""
             }
            },
            "type": "scatterpolar"
           }
          ],
          "scatterpolargl": [
           {
            "marker": {
             "colorbar": {
              "outlinewidth": 0,
              "ticks": ""
             }
            },
            "type": "scatterpolargl"
           }
          ],
          "scatterternary": [
           {
            "marker": {
             "colorbar": {
              "outlinewidth": 0,
              "ticks": ""
             }
            },
            "type": "scatterternary"
           }
          ],
          "surface": [
           {
            "colorbar": {
             "outlinewidth": 0,
             "ticks": ""
            },
            "colorscale": [
             [
              0,
              "#0d0887"
             ],
             [
              0.1111111111111111,
              "#46039f"
             ],
             [
              0.2222222222222222,
              "#7201a8"
             ],
             [
              0.3333333333333333,
              "#9c179e"
             ],
             [
              0.4444444444444444,
              "#bd3786"
             ],
             [
              0.5555555555555556,
              "#d8576b"
             ],
             [
              0.6666666666666666,
              "#ed7953"
             ],
             [
              0.7777777777777778,
              "#fb9f3a"
             ],
             [
              0.8888888888888888,
              "#fdca26"
             ],
             [
              1,
              "#f0f921"
             ]
            ],
            "type": "surface"
           }
          ],
          "table": [
           {
            "cells": {
             "fill": {
              "color": "#EBF0F8"
             },
             "line": {
              "color": "white"
             }
            },
            "header": {
             "fill": {
              "color": "#C8D4E3"
             },
             "line": {
              "color": "white"
             }
            },
            "type": "table"
           }
          ]
         },
         "layout": {
          "annotationdefaults": {
           "arrowcolor": "#2a3f5f",
           "arrowhead": 0,
           "arrowwidth": 1
          },
          "autotypenumbers": "strict",
          "coloraxis": {
           "colorbar": {
            "outlinewidth": 0,
            "ticks": ""
           }
          },
          "colorscale": {
           "diverging": [
            [
             0,
             "#8e0152"
            ],
            [
             0.1,
             "#c51b7d"
            ],
            [
             0.2,
             "#de77ae"
            ],
            [
             0.3,
             "#f1b6da"
            ],
            [
             0.4,
             "#fde0ef"
            ],
            [
             0.5,
             "#f7f7f7"
            ],
            [
             0.6,
             "#e6f5d0"
            ],
            [
             0.7,
             "#b8e186"
            ],
            [
             0.8,
             "#7fbc41"
            ],
            [
             0.9,
             "#4d9221"
            ],
            [
             1,
             "#276419"
            ]
           ],
           "sequential": [
            [
             0,
             "#0d0887"
            ],
            [
             0.1111111111111111,
             "#46039f"
            ],
            [
             0.2222222222222222,
             "#7201a8"
            ],
            [
             0.3333333333333333,
             "#9c179e"
            ],
            [
             0.4444444444444444,
             "#bd3786"
            ],
            [
             0.5555555555555556,
             "#d8576b"
            ],
            [
             0.6666666666666666,
             "#ed7953"
            ],
            [
             0.7777777777777778,
             "#fb9f3a"
            ],
            [
             0.8888888888888888,
             "#fdca26"
            ],
            [
             1,
             "#f0f921"
            ]
           ],
           "sequentialminus": [
            [
             0,
             "#0d0887"
            ],
            [
             0.1111111111111111,
             "#46039f"
            ],
            [
             0.2222222222222222,
             "#7201a8"
            ],
            [
             0.3333333333333333,
             "#9c179e"
            ],
            [
             0.4444444444444444,
             "#bd3786"
            ],
            [
             0.5555555555555556,
             "#d8576b"
            ],
            [
             0.6666666666666666,
             "#ed7953"
            ],
            [
             0.7777777777777778,
             "#fb9f3a"
            ],
            [
             0.8888888888888888,
             "#fdca26"
            ],
            [
             1,
             "#f0f921"
            ]
           ]
          },
          "colorway": [
           "#636efa",
           "#EF553B",
           "#00cc96",
           "#ab63fa",
           "#FFA15A",
           "#19d3f3",
           "#FF6692",
           "#B6E880",
           "#FF97FF",
           "#FECB52"
          ],
          "font": {
           "color": "#2a3f5f"
          },
          "geo": {
           "bgcolor": "white",
           "lakecolor": "white",
           "landcolor": "#E5ECF6",
           "showlakes": true,
           "showland": true,
           "subunitcolor": "white"
          },
          "hoverlabel": {
           "align": "left"
          },
          "hovermode": "closest",
          "mapbox": {
           "style": "light"
          },
          "paper_bgcolor": "white",
          "plot_bgcolor": "#E5ECF6",
          "polar": {
           "angularaxis": {
            "gridcolor": "white",
            "linecolor": "white",
            "ticks": ""
           },
           "bgcolor": "#E5ECF6",
           "radialaxis": {
            "gridcolor": "white",
            "linecolor": "white",
            "ticks": ""
           }
          },
          "scene": {
           "xaxis": {
            "backgroundcolor": "#E5ECF6",
            "gridcolor": "white",
            "gridwidth": 2,
            "linecolor": "white",
            "showbackground": true,
            "ticks": "",
            "zerolinecolor": "white"
           },
           "yaxis": {
            "backgroundcolor": "#E5ECF6",
            "gridcolor": "white",
            "gridwidth": 2,
            "linecolor": "white",
            "showbackground": true,
            "ticks": "",
            "zerolinecolor": "white"
           },
           "zaxis": {
            "backgroundcolor": "#E5ECF6",
            "gridcolor": "white",
            "gridwidth": 2,
            "linecolor": "white",
            "showbackground": true,
            "ticks": "",
            "zerolinecolor": "white"
           }
          },
          "shapedefaults": {
           "line": {
            "color": "#2a3f5f"
           }
          },
          "ternary": {
           "aaxis": {
            "gridcolor": "white",
            "linecolor": "white",
            "ticks": ""
           },
           "baxis": {
            "gridcolor": "white",
            "linecolor": "white",
            "ticks": ""
           },
           "bgcolor": "#E5ECF6",
           "caxis": {
            "gridcolor": "white",
            "linecolor": "white",
            "ticks": ""
           }
          },
          "title": {
           "x": 0.05
          },
          "xaxis": {
           "automargin": true,
           "gridcolor": "white",
           "linecolor": "white",
           "ticks": "",
           "title": {
            "standoff": 15
           },
           "zerolinecolor": "white",
           "zerolinewidth": 2
          },
          "yaxis": {
           "automargin": true,
           "gridcolor": "white",
           "linecolor": "white",
           "ticks": "",
           "title": {
            "standoff": 15
           },
           "zerolinecolor": "white",
           "zerolinewidth": 2
          }
         }
        },
        "xaxis": {
         "anchor": "y",
         "domain": [
          0,
          1
         ],
         "title": {
          "text": "Longitude"
         }
        },
        "yaxis": {
         "anchor": "x",
         "domain": [
          0,
          1
         ],
         "title": {
          "text": "Latitude"
         }
        }
       }
      }
     },
     "metadata": {}
    }
   ],
   "metadata": {}
  },
  {
   "cell_type": "markdown",
   "source": [
    "Temperatures are generally highest between 0 and 20 latitude (corresponding to the equator and just north of the equator)."
   ],
   "metadata": {}
  },
  {
   "cell_type": "markdown",
   "source": [
    "## Latitude vs. Humidity Plot"
   ],
   "metadata": {}
  },
  {
   "cell_type": "code",
   "execution_count": 35,
   "source": [
    "plt.scatter(weather_df[\"Latitude\"], weather_df[\"Humidity\"], edgecolors = \"black\", facecolors = \"skyblue\", zorder = 3)\r\n",
    "plt.title(\"City Latitude vs. Humidity\")\r\n",
    "plt.xlabel(\"Latitude\")\r\n",
    "plt.ylabel(\"% Humidity\")\r\n",
    "plt.grid (which = \"major\", axis = \"both\", linestyle = \"-\", color = \"lightgrey\", zorder = -1)\r\n",
    "plt.savefig(\"Figures/latvhumid1.png\")\r\n",
    "plt.show()"
   ],
   "outputs": [
    {
     "output_type": "display_data",
     "data": {
      "image/png": "[encoded data removed]",
      "text/plain": [
       "<Figure size 432x288 with 1 Axes>"
      ]
     },
     "metadata": {
      "needs_background": "light"
     }
    }
   ],
   "metadata": {}
  },
  {
   "cell_type": "markdown",
   "source": [
    "Humidity is randomly distributed across the globe, with most cities having a percent humidity between 60 and 100%."
   ],
   "metadata": {}
  },
  {
   "cell_type": "markdown",
   "source": [
    "## Latitude vs. Cloudiness Plot"
   ],
   "metadata": {}
  },
  {
   "cell_type": "code",
   "execution_count": 36,
   "source": [
    "plt.scatter(weather_df[\"Latitude\"], weather_df[\"Cloudiness\"], edgecolors = \"black\", facecolors = \"skyblue\", zorder = 3)\r\n",
    "plt.title(\"City Latitude vs. Cloudiness\")\r\n",
    "plt.xlabel(\"Latitude\")\r\n",
    "plt.ylabel(\"% Cloudiness\")\r\n",
    "plt.grid (which = \"major\", axis = \"both\", linestyle = \"-\", color = \"lightgrey\", zorder = -1)\r\n",
    "plt.savefig(\"Figures/latvclouds.png\")\r\n",
    "plt.show()"
   ],
   "outputs": [
    {
     "output_type": "display_data",
     "data": {
      "image/png": "[encoded data removed]",
      "text/plain": [
       "<Figure size 432x288 with 1 Axes>"
      ]
     },
     "metadata": {
      "needs_background": "light"
     }
    }
   ],
   "metadata": {}
  },
  {
   "cell_type": "markdown",
   "source": [
    "Cloudiness is randomly distributed across the globe, with clusters of cities having either 100% coverage or 0% clouds."
   ],
   "metadata": {}
  },
  {
   "cell_type": "markdown",
   "source": [
    "## Latitude vs. Wind Speed Plot"
   ],
   "metadata": {}
  },
  {
   "cell_type": "code",
   "execution_count": 37,
   "source": [
    "plt.scatter(weather_df[\"Latitude\"], weather_df[\"Wind Speed\"], edgecolors = \"black\", facecolors = \"skyblue\", zorder = 3)\r\n",
    "plt.title(\"City Latitude vs. Wind Speed\")\r\n",
    "plt.xlabel(\"Latitude\")\r\n",
    "plt.ylabel(\"Wind Speed (mph)\")\r\n",
    "plt.grid (which = \"major\", axis = \"both\", linestyle = \"-\", color = \"lightgrey\", zorder = -1)\r\n",
    "plt.savefig(\"Figures/latvwind1.png\")\r\n",
    "plt.show()"
   ],
   "outputs": [
    {
     "output_type": "display_data",
     "data": {
      "image/png": "[encoded data removed]",
      "text/plain": [
       "<Figure size 432x288 with 1 Axes>"
      ]
     },
     "metadata": {
      "needs_background": "light"
     }
    }
   ],
   "metadata": {}
  },
  {
   "cell_type": "markdown",
   "source": [
    "Wind speed is randomly distributed across the globe, with most cities experiencing winds between 0 and 10 mph."
   ],
   "metadata": {}
  },
  {
   "cell_type": "markdown",
   "source": [
    "## Linear Regression"
   ],
   "metadata": {}
  },
  {
   "cell_type": "code",
   "execution_count": 40,
   "source": [
    "northern_df = weather_df.loc[pd.to_numeric(weather_df[\"Latitude\"]).astype(float) > 0, :]\r\n",
    "southern_df = weather_df.loc[pd.to_numeric(weather_df[\"Latitude\"]).astype(float) < 0, :]"
   ],
   "outputs": [],
   "metadata": {}
  },
  {
   "cell_type": "markdown",
   "source": [
    "####  Northern Hemisphere - Max Temp vs. Latitude Linear Regression"
   ],
   "metadata": {}
  },
  {
   "cell_type": "code",
   "execution_count": 50,
   "source": [
    "x_values = pd.to_numeric(northern_df['Latitude']).astype(float)\r\n",
    "y_values = pd.to_numeric(northern_df['Max Temp']).astype(float)\r\n",
    "(slopen, interceptn, rvaluen, pvaluen, stderrn) = linregress(x_values, y_values)\r\n",
    "rsqn = round(rvaluen**2,2)\r\n",
    "regress_values = x_values * slopen + interceptn\r\n",
    "line_eqn = \"y =\" + str(round(slopen,2)) + \"x + \" + str(round(interceptn,2))\r\n",
    "print(f\"Regression line equation is: {line_eqn}.\")\r\n",
    "plt.scatter(x_values,y_values)\r\n",
    "plt.plot(x_values,regress_values, \"r-\")\r\n",
    "plt.annotate(line_eqn,(0,30),fontsize=12,color=\"red\")\r\n",
    "plt.xlabel('Latitude')\r\n",
    "plt.ylabel('Max Temp (F)')\r\n",
    "plt.title('Northern Hemisphere - Max Temp vs. Latitude Linear Regression')\r\n",
    "print(f\"The r-squared is: {rsqn}\")"
   ],
   "outputs": [
    {
     "output_type": "stream",
     "name": "stdout",
     "text": [
      "Regression line equation is: y =-0.63x + 90.23.\n",
      "The r-squared is: 0.62\n"
     ]
    },
    {
     "output_type": "display_data",
     "data": {
      "image/png": "[encoded data removed]",
      "text/plain": [
       "<Figure size 432x288 with 1 Axes>"
      ]
     },
     "metadata": {
      "needs_background": "light"
     }
    }
   ],
   "metadata": {}
  },
  {
   "cell_type": "markdown",
   "source": [
    "####  Southern Hemisphere - Max Temp vs. Latitude Linear Regression"
   ],
   "metadata": {}
  },
  {
   "cell_type": "code",
   "execution_count": 55,
   "source": [
    "x_values = pd.to_numeric(southern_df['Latitude']).astype(float)\r\n",
    "y_values = pd.to_numeric(southern_df['Max Temp']).astype(float)\r\n",
    "(slopes, intercepts, rvalues, pvalues, stderrs) = linregress(x_values, y_values)\r\n",
    "rsqs = round(rvalues**2,2)\r\n",
    "regress_values = x_values * slopes + intercepts\r\n",
    "line_eq = \"y =\" + str(round(slopes,2)) + \"x + \" + str(round(intercepts,2))\r\n",
    "print(f\"Regression line equation is: {line_eq}.\")\r\n",
    "plt.scatter(x_values,y_values)\r\n",
    "plt.plot(x_values,regress_values, \"r-\")\r\n",
    "plt.annotate(line_eq,(-50,90),fontsize=12,color=\"red\")\r\n",
    "plt.xlabel('Latitude')\r\n",
    "plt.ylabel('Max Temp (F)')\r\n",
    "plt.title('Southern Hemisphere - Max Temp vs. Latitude Linear Regression')\r\n",
    "print(f\"The r-squared is: {rsqs}\")"
   ],
   "outputs": [
    {
     "output_type": "stream",
     "name": "stdout",
     "text": [
      "Regression line equation is: y =0.75x + 83.86.\n",
      "The r-squared is: 0.57\n"
     ]
    },
    {
     "output_type": "display_data",
     "data": {
      "image/png": "[encoded data removed]",
      "text/plain": [
       "<Figure size 432x288 with 1 Axes>"
      ]
     },
     "metadata": {
      "needs_background": "light"
     }
    }
   ],
   "metadata": {}
  },
  {
   "cell_type": "markdown",
   "source": [
    "In the Northern Hemisphere, there is a moderate ($R^{2}$ = 0.62), negative ($m$ = -0.63) correlation between latitude and temperature; generally, as you move from the north pole towards the equator, temperature rises. <br>\r\n",
    "<br>\r\n",
    "Conversely, in the Southern Hemisphere, there is a moderate ($R^{2}$ = 0.52), positive ($m$ = 0.75) correlation between latitude and temperature; generally, as you move from the equator towards the south pole, temperature falls."
   ],
   "metadata": {}
  },
  {
   "cell_type": "markdown",
   "source": [
    "####  Northern Hemisphere - Humidity (%) vs. Latitude Linear Regression"
   ],
   "metadata": {}
  },
  {
   "cell_type": "code",
   "execution_count": 58,
   "source": [
    "x_values = pd.to_numeric(northern_df['Latitude']).astype(float)\r\n",
    "y_values = pd.to_numeric(northern_df['Humidity']).astype(float)\r\n",
    "(slopen, interceptn, rvaluen, pvaluen, stderrn) = linregress(x_values, y_values)\r\n",
    "rsqn = round(rvaluen**2,2)\r\n",
    "regress_values = x_values * slopen + interceptn\r\n",
    "line_eqn = \"y =\" + str(round(slopen,2)) + \"x + \" + str(round(interceptn,2))\r\n",
    "print(f\"Regression line equation is: {line_eqn}.\")\r\n",
    "plt.scatter(x_values,y_values)\r\n",
    "plt.plot(x_values,regress_values, \"r-\")\r\n",
    "plt.annotate(line_eqn,(50,13),fontsize=12,color=\"red\")\r\n",
    "plt.xlabel('Latitude')\r\n",
    "plt.ylabel('% Humidity')\r\n",
    "plt.title('Northern Hemisphere - Humidity vs. Latitude Linear Regression')\r\n",
    "print(f\"The r-squared is: {rsqn}\")"
   ],
   "outputs": [
    {
     "output_type": "stream",
     "name": "stdout",
     "text": [
      "Regression line equation is: y =-0.05x + 75.24.\n",
      "The r-squared is: 0.0\n"
     ]
    },
    {
     "output_type": "display_data",
     "data": {
      "image/png": "[encoded data removed]",
      "text/plain": [
       "<Figure size 432x288 with 1 Axes>"
      ]
     },
     "metadata": {
      "needs_background": "light"
     }
    }
   ],
   "metadata": {}
  },
  {
   "cell_type": "markdown",
   "source": [
    "####  Southern Hemisphere - Humidity (%) vs. Latitude Linear Regression"
   ],
   "metadata": {}
  },
  {
   "cell_type": "code",
   "execution_count": 60,
   "source": [
    "x_values = pd.to_numeric(southern_df['Latitude']).astype(float)\r\n",
    "y_values = pd.to_numeric(southern_df['Humidity']).astype(float)\r\n",
    "(slopes, intercepts, rvalues, pvalues, stderrs) = linregress(x_values, y_values)\r\n",
    "rsqs = round(rvalues**2,2)\r\n",
    "regress_values = x_values * slopes + intercepts\r\n",
    "line_eq = \"y =\" + str(round(slopes,2)) + \"x + \" + str(round(intercepts,2))\r\n",
    "print(f\"Regression line equation is: {line_eq}.\")\r\n",
    "plt.scatter(x_values,y_values)\r\n",
    "plt.plot(x_values,regress_values, \"r-\")\r\n",
    "plt.annotate(line_eq,(-55,20),fontsize=12,color=\"red\")\r\n",
    "plt.xlabel('Latitude')\r\n",
    "plt.ylabel('% Humidity')\r\n",
    "plt.title('Southern Hemisphere - Humidity vs. Latitude Linear Regression')\r\n",
    "print(f\"The r-squared is: {rsqs}\")"
   ],
   "outputs": [
    {
     "output_type": "stream",
     "name": "stdout",
     "text": [
      "Regression line equation is: y =0.17x + 73.21.\n",
      "The r-squared is: 0.01\n"
     ]
    },
    {
     "output_type": "display_data",
     "data": {
      "image/png": "[encoded data removed]",
      "text/plain": [
       "<Figure size 432x288 with 1 Axes>"
      ]
     },
     "metadata": {
      "needs_background": "light"
     }
    }
   ],
   "metadata": {}
  },
  {
   "cell_type": "markdown",
   "source": [
    "In both the Northern and Southern Hemisphere, there no correlation between latitude and humidity ($R^{2}$ = 0 and 0.01, respectively). "
   ],
   "metadata": {}
  },
  {
   "cell_type": "markdown",
   "source": [
    "####  Northern Hemisphere - Cloudiness (%) vs. Latitude Linear Regression"
   ],
   "metadata": {}
  },
  {
   "cell_type": "code",
   "execution_count": 61,
   "source": [
    "x_values = pd.to_numeric(northern_df['Latitude']).astype(float)\r\n",
    "y_values = pd.to_numeric(northern_df['Cloudiness']).astype(float)\r\n",
    "(slopen, interceptn, rvaluen, pvaluen, stderrn) = linregress(x_values, y_values)\r\n",
    "rsqn = round(rvaluen**2,2)\r\n",
    "regress_values = x_values * slopen + interceptn\r\n",
    "line_eqn = \"y =\" + str(round(slopen,2)) + \"x + \" + str(round(interceptn,2))\r\n",
    "print(f\"Regression line equation is: {line_eqn}.\")\r\n",
    "plt.scatter(x_values,y_values)\r\n",
    "plt.plot(x_values,regress_values, \"r-\")\r\n",
    "plt.annotate(line_eqn,(50,13),fontsize=12,color=\"red\")\r\n",
    "plt.xlabel('Latitude')\r\n",
    "plt.ylabel('% Cloudiness')\r\n",
    "plt.title('Northern Hemisphere - Cloudiness vs. Latitude Linear Regression')\r\n",
    "print(f\"The r-squared is: {rsqn}\")"
   ],
   "outputs": [
    {
     "output_type": "stream",
     "name": "stdout",
     "text": [
      "Regression line equation is: y =0.11x + 53.81.\n",
      "The r-squared is: 0.0\n"
     ]
    },
    {
     "output_type": "display_data",
     "data": {
      "image/png": "[encoded data removed]",
      "text/plain": [
       "<Figure size 432x288 with 1 Axes>"
      ]
     },
     "metadata": {
      "needs_background": "light"
     }
    }
   ],
   "metadata": {}
  },
  {
   "cell_type": "markdown",
   "source": [
    "####  Southern Hemisphere - Cloudiness (%) vs. Latitude Linear Regression"
   ],
   "metadata": {}
  },
  {
   "cell_type": "code",
   "execution_count": 62,
   "source": [
    "x_values = pd.to_numeric(southern_df['Latitude']).astype(float)\r\n",
    "y_values = pd.to_numeric(southern_df['Cloudiness']).astype(float)\r\n",
    "(slopes, intercepts, rvalues, pvalues, stderrs) = linregress(x_values, y_values)\r\n",
    "rsqs = round(rvalues**2,2)\r\n",
    "regress_values = x_values * slopes + intercepts\r\n",
    "line_eq = \"y =\" + str(round(slopes,2)) + \"x + \" + str(round(intercepts,2))\r\n",
    "print(f\"Regression line equation is: {line_eq}.\")\r\n",
    "plt.scatter(x_values,y_values)\r\n",
    "plt.plot(x_values,regress_values, \"r-\")\r\n",
    "plt.annotate(line_eq,(-55,20),fontsize=12,color=\"red\")\r\n",
    "plt.xlabel('Latitude')\r\n",
    "plt.ylabel('% Cloudiness')\r\n",
    "plt.title('Southern Hemisphere - Cloudiness vs. Latitude Linear Regression')\r\n",
    "print(f\"The r-squared is: {rsqs}\")"
   ],
   "outputs": [
    {
     "output_type": "stream",
     "name": "stdout",
     "text": [
      "Regression line equation is: y =0.28x + 53.26.\n",
      "The r-squared is: 0.01\n"
     ]
    },
    {
     "output_type": "display_data",
     "data": {
      "image/png": "[encoded data removed]",
      "text/plain": [
       "<Figure size 432x288 with 1 Axes>"
      ]
     },
     "metadata": {
      "needs_background": "light"
     }
    }
   ],
   "metadata": {}
  },
  {
   "cell_type": "markdown",
   "source": [
    "In both the Northern and Southern Hemisphere, there no correlation between latitude and cloudiness ($R^{2}$ = 0 and 0.01, respectively). "
   ],
   "metadata": {}
  },
  {
   "cell_type": "markdown",
   "source": [
    "####  Northern Hemisphere - Wind Speed (mph) vs. Latitude Linear Regression"
   ],
   "metadata": {}
  },
  {
   "cell_type": "code",
   "execution_count": 64,
   "source": [
    "x_values = pd.to_numeric(northern_df['Latitude']).astype(float)\r\n",
    "y_values = pd.to_numeric(northern_df['Wind Speed']).astype(float)\r\n",
    "(slopen, interceptn, rvaluen, pvaluen, stderrn) = linregress(x_values, y_values)\r\n",
    "rsqn = round(rvaluen**2,2)\r\n",
    "regress_values = x_values * slopen + interceptn\r\n",
    "line_eqn = \"y =\" + str(round(slopen,2)) + \"x + \" + str(round(interceptn,2))\r\n",
    "print(f\"Regression line equation is: {line_eqn}.\")\r\n",
    "plt.scatter(x_values,y_values)\r\n",
    "plt.plot(x_values,regress_values, \"r-\")\r\n",
    "plt.annotate(line_eqn,(50,13),fontsize=12,color=\"red\")\r\n",
    "plt.xlabel('Latitude')\r\n",
    "plt.ylabel('Wind Speed (mph)')\r\n",
    "plt.title('Northern Hemisphere - Wind Speed vs. Latitude Linear Regression')\r\n",
    "print(f\"The r-squared is: {rsqn}\")"
   ],
   "outputs": [
    {
     "output_type": "stream",
     "name": "stdout",
     "text": [
      "Regression line equation is: y =0.03x + 6.42.\n",
      "The r-squared is: 0.01\n"
     ]
    },
    {
     "output_type": "display_data",
     "data": {
      "image/png": "[encoded data removed]",
      "text/plain": [
       "<Figure size 432x288 with 1 Axes>"
      ]
     },
     "metadata": {
      "needs_background": "light"
     }
    }
   ],
   "metadata": {}
  },
  {
   "cell_type": "markdown",
   "source": [
    "####  Southern Hemisphere - Wind Speed (mph) vs. Latitude Linear Regression"
   ],
   "metadata": {}
  },
  {
   "cell_type": "code",
   "execution_count": 63,
   "source": [
    "x_values = pd.to_numeric(southern_df['Latitude']).astype(float)\r\n",
    "y_values = pd.to_numeric(southern_df['Wind Speed']).astype(float)\r\n",
    "(slopes, intercepts, rvalues, pvalues, stderrs) = linregress(x_values, y_values)\r\n",
    "rsqs = round(rvalues**2,2)\r\n",
    "regress_values = x_values * slopes + intercepts\r\n",
    "line_eq = \"y =\" + str(round(slopes,2)) + \"x + \" + str(round(intercepts,2))\r\n",
    "print(f\"Regression line equation is: {line_eq}.\")\r\n",
    "plt.scatter(x_values,y_values)\r\n",
    "plt.plot(x_values,regress_values, \"r-\")\r\n",
    "plt.annotate(line_eq,(-55,20),fontsize=12,color=\"red\")\r\n",
    "plt.xlabel('Latitude')\r\n",
    "plt.ylabel('Wind Speed (mph)')\r\n",
    "plt.title('Southern Hemisphere - Wind Speed vs. Latitude Linear Regression')\r\n",
    "print(f\"The r-squared is: {rsqs}\")"
   ],
   "outputs": [
    {
     "output_type": "stream",
     "name": "stdout",
     "text": [
      "Regression line equation is: y =-0.04x + 6.76.\n",
      "The r-squared is: 0.01\n"
     ]
    },
    {
     "output_type": "display_data",
     "data": {
      "image/png": "[encoded data removed]",
      "text/plain": [
       "<Figure size 432x288 with 1 Axes>"
      ]
     },
     "metadata": {
      "needs_background": "light"
     }
    }
   ],
   "metadata": {}
  },
  {
   "cell_type": "markdown",
   "source": [
    "In both the Northern and Southern Hemisphere, there no correlation between latitude and wind speed ($R^{2}$ = 0 and 0.01, respectively). "
   ],
   "metadata": {}
  },
  {
   "cell_type": "markdown",
   "source": [
    "## Analysis and observations\r\n",
    "1. As expected, of the weather metrics assessed, latitude has the greatest determining effect on temperature.\r\n",
    "2. Wind speed, humidity, and cloudiness had no observable correlation with latitude.\r\n",
    "3. The hottest temperatures are found close to the equator."
   ],
   "metadata": {}
  }
 ],
 "metadata": {
  "anaconda-cloud": {},
  "kernel_info": {
   "name": "python3"
  },
  "kernelspec": {
   "name": "python3",
   "display_name": "Python 3.8.8 64-bit ('base': conda)"
  },
  "language_info": {
   "codemirror_mode": {
    "name": "ipython",
    "version": 3
   },
   "file_extension": ".py",
   "mimetype": "text/x-python",
   "name": "python",
   "nbconvert_exporter": "python",
   "pygments_lexer": "ipython3",
   "version": "3.8.8"
  },
  "latex_envs": {
   "LaTeX_envs_menu_present": true,
   "autoclose": false,
   "autocomplete": true,
   "bibliofile": "biblio.bib",
   "cite_by": "apalike",
   "current_citInitial": 1,
   "eqLabelWithNumbers": true,
   "eqNumInitial": 1,
   "hotkeys": {
    "equation": "Ctrl-E",
    "itemize": "Ctrl-I"
   },
   "labels_anchors": false,
   "latex_user_defs": false,
   "report_style_numbering": false,
   "user_envs_cfg": false
  },
  "nteract": {
   "version": "0.12.3"
  },
  "interpreter": {
   "hash": "a8894775e8aeee242aa6e141c386e0510b6f2108a9b3d20c3f118f8cb925642c"
  }
 },
 "nbformat": 4,
 "nbformat_minor": 2
}